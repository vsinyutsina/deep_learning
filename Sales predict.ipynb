{
 "cells": [
  {
   "cell_type": "markdown",
   "metadata": {},
   "source": [
    "# Прогнозирование продаж"
   ]
  },
  {
   "cell_type": "markdown",
   "metadata": {},
   "source": [
    "### *Подготовка данных*"
   ]
  },
  {
   "cell_type": "code",
   "execution_count": 1,
   "metadata": {},
   "outputs": [],
   "source": [
    "import pandas as pd\n",
    "import matplotlib.pyplot as plt\n",
    "import seaborn as sb\n",
    "import numpy as np"
   ]
  },
  {
   "cell_type": "code",
   "execution_count": 2,
   "metadata": {},
   "outputs": [],
   "source": [
    "train = pd.read_excel('Submarinos.xlsx')"
   ]
  },
  {
   "cell_type": "code",
   "execution_count": 3,
   "metadata": {
    "scrolled": true
   },
   "outputs": [
    {
     "data": {
      "text/html": [
       "<div>\n",
       "<style scoped>\n",
       "    .dataframe tbody tr th:only-of-type {\n",
       "        vertical-align: middle;\n",
       "    }\n",
       "\n",
       "    .dataframe tbody tr th {\n",
       "        vertical-align: top;\n",
       "    }\n",
       "\n",
       "    .dataframe thead th {\n",
       "        text-align: right;\n",
       "    }\n",
       "</style>\n",
       "<table border=\"1\" class=\"dataframe\">\n",
       "  <thead>\n",
       "    <tr style=\"text-align: right;\">\n",
       "      <th></th>\n",
       "      <th>Week</th>\n",
       "      <th>Storage_ID</th>\n",
       "      <th>Canal_ID</th>\n",
       "      <th>Route_ID</th>\n",
       "      <th>Submarinos</th>\n",
       "      <th>Shipped</th>\n",
       "      <th>Returned</th>\n",
       "    </tr>\n",
       "  </thead>\n",
       "  <tbody>\n",
       "    <tr>\n",
       "      <th>0</th>\n",
       "      <td>3</td>\n",
       "      <td>1110</td>\n",
       "      <td>7</td>\n",
       "      <td>3303</td>\n",
       "      <td>Chocolate</td>\n",
       "      <td>5</td>\n",
       "      <td>0</td>\n",
       "    </tr>\n",
       "    <tr>\n",
       "      <th>1</th>\n",
       "      <td>3</td>\n",
       "      <td>1110</td>\n",
       "      <td>7</td>\n",
       "      <td>3303</td>\n",
       "      <td>Fresa</td>\n",
       "      <td>5</td>\n",
       "      <td>0</td>\n",
       "    </tr>\n",
       "    <tr>\n",
       "      <th>2</th>\n",
       "      <td>3</td>\n",
       "      <td>1110</td>\n",
       "      <td>7</td>\n",
       "      <td>3303</td>\n",
       "      <td>Vainilla</td>\n",
       "      <td>5</td>\n",
       "      <td>0</td>\n",
       "    </tr>\n",
       "    <tr>\n",
       "      <th>3</th>\n",
       "      <td>3</td>\n",
       "      <td>1110</td>\n",
       "      <td>7</td>\n",
       "      <td>3305</td>\n",
       "      <td>Fresa</td>\n",
       "      <td>17</td>\n",
       "      <td>0</td>\n",
       "    </tr>\n",
       "    <tr>\n",
       "      <th>4</th>\n",
       "      <td>3</td>\n",
       "      <td>1110</td>\n",
       "      <td>7</td>\n",
       "      <td>3305</td>\n",
       "      <td>Vainilla</td>\n",
       "      <td>14</td>\n",
       "      <td>0</td>\n",
       "    </tr>\n",
       "  </tbody>\n",
       "</table>\n",
       "</div>"
      ],
      "text/plain": [
       "   Week  Storage_ID  Canal_ID  Route_ID Submarinos  Shipped  Returned\n",
       "0     3        1110         7      3303  Chocolate        5         0\n",
       "1     3        1110         7      3303      Fresa        5         0\n",
       "2     3        1110         7      3303   Vainilla        5         0\n",
       "3     3        1110         7      3305      Fresa       17         0\n",
       "4     3        1110         7      3305   Vainilla       14         0"
      ]
     },
     "execution_count": 3,
     "metadata": {},
     "output_type": "execute_result"
    }
   ],
   "source": [
    "train.head()"
   ]
  },
  {
   "cell_type": "code",
   "execution_count": 4,
   "metadata": {},
   "outputs": [
    {
     "data": {
      "text/plain": [
       "42.35143949716496"
      ]
     },
     "execution_count": 4,
     "metadata": {},
     "output_type": "execute_result"
    }
   ],
   "source": [
    "np.mean(train['Shipped'])"
   ]
  },
  {
   "cell_type": "code",
   "execution_count": 5,
   "metadata": {},
   "outputs": [],
   "source": [
    "week_count = len(train['Week'].unique())"
   ]
  },
  {
   "cell_type": "code",
   "execution_count": 6,
   "metadata": {},
   "outputs": [
    {
     "name": "stdout",
     "output_type": "stream",
     "text": [
      "There 7 weeks in data!\n"
     ]
    }
   ],
   "source": [
    "print('There %d weeks in data!' % week_count)"
   ]
  },
  {
   "cell_type": "code",
   "execution_count": 7,
   "metadata": {},
   "outputs": [
    {
     "data": {
      "text/plain": [
       "(113755, 7)"
      ]
     },
     "execution_count": 7,
     "metadata": {},
     "output_type": "execute_result"
    }
   ],
   "source": [
    "train.shape"
   ]
  },
  {
   "cell_type": "code",
   "execution_count": 8,
   "metadata": {},
   "outputs": [
    {
     "data": {
      "text/plain": [
       "25759"
      ]
     },
     "execution_count": 8,
     "metadata": {},
     "output_type": "execute_result"
    }
   ],
   "source": [
    "train['Storage_ID'].max()"
   ]
  },
  {
   "cell_type": "markdown",
   "metadata": {},
   "source": [
    "### Описание датасета"
   ]
  },
  {
   "cell_type": "code",
   "execution_count": 9,
   "metadata": {},
   "outputs": [],
   "source": [
    "Route = []\n",
    "for val, cnt in train.Route_ID.value_counts().to_dict().items():\n",
    "    Route.append('Значение %r встречается в колонке Route_ID обучающей выборки %d раз!' % (val, cnt))"
   ]
  },
  {
   "cell_type": "code",
   "execution_count": 10,
   "metadata": {},
   "outputs": [
    {
     "name": "stdout",
     "output_type": "stream",
     "text": [
      "Значение 2802 встречается в колонке Route_ID обучающей выборки 1434 раз!\n",
      "Значение 2801 встречается в колонке Route_ID обучающей выборки 1428 раз!\n",
      "Значение 2803 встречается в колонке Route_ID обучающей выборки 1256 раз!\n",
      "Значение 2804 встречается в колонке Route_ID обучающей выборки 1037 раз!\n",
      "Значение 6602 встречается в колонке Route_ID обучающей выборки 982 раз!\n"
     ]
    }
   ],
   "source": [
    "for i in range(5):\n",
    "    print(Route[i])"
   ]
  },
  {
   "cell_type": "code",
   "execution_count": 11,
   "metadata": {},
   "outputs": [
    {
     "name": "stdout",
     "output_type": "stream",
     "text": [
      "Значение 1 встречается в колонке Canal_ID обучающей выборки 79468 раз!\n",
      "Значение 4 встречается в колонке Canal_ID обучающей выборки 16382 раз!\n",
      "Значение 11 встречается в колонке Canal_ID обучающей выборки 7247 раз!\n",
      "Значение 2 встречается в колонке Canal_ID обучающей выборки 4172 раз!\n",
      "Значение 7 встречается в колонке Canal_ID обучающей выборки 3939 раз!\n",
      "Значение 6 встречается в колонке Canal_ID обучающей выборки 1837 раз!\n",
      "Значение 8 встречается в колонке Canal_ID обучающей выборки 574 раз!\n",
      "Значение 5 встречается в колонке Canal_ID обучающей выборки 136 раз!\n"
     ]
    }
   ],
   "source": [
    "for val, cnt in train.Canal_ID.value_counts().to_dict().items():\n",
    "    print('Значение %r встречается в колонке Canal_ID обучающей выборки %d раз!' % (val, cnt))"
   ]
  },
  {
   "cell_type": "code",
   "execution_count": 12,
   "metadata": {},
   "outputs": [
    {
     "name": "stdout",
     "output_type": "stream",
     "text": [
      "Значение 1614 встречается в колонке Storage_ID обучающей выборки 937 раз!\n",
      "Значение 1351 встречается в колонке Storage_ID обучающей выборки 933 раз!\n",
      "Значение 2013 встречается в колонке Storage_ID обучающей выборки 921 раз!\n",
      "Значение 1123 встречается в колонке Storage_ID обучающей выборки 832 раз!\n",
      "Значение 1911 встречается в колонке Storage_ID обучающей выборки 794 раз!\n"
     ]
    }
   ],
   "source": [
    "Storage = []\n",
    "for val, cnt in train.Storage_ID.value_counts().to_dict().items():\n",
    "    Storage.append('Значение %r встречается в колонке Storage_ID обучающей выборки %d раз!' % (val, cnt))\n",
    "\n",
    "for i in range(5):\n",
    "    print(Storage[i])"
   ]
  },
  {
   "cell_type": "code",
   "execution_count": 13,
   "metadata": {},
   "outputs": [
    {
     "data": {
      "text/plain": [
       "20746"
      ]
     },
     "execution_count": 13,
     "metadata": {},
     "output_type": "execute_result"
    }
   ],
   "source": [
    "np.sum(train[train['Submarinos'] == 'Chocolate'].Returned)"
   ]
  },
  {
   "cell_type": "code",
   "execution_count": 14,
   "metadata": {},
   "outputs": [
    {
     "data": {
      "text/plain": [
       "41485"
      ]
     },
     "execution_count": 14,
     "metadata": {},
     "output_type": "execute_result"
    }
   ],
   "source": [
    "np.sum(train[train['Submarinos'] == 'Vainilla'].Returned)"
   ]
  },
  {
   "cell_type": "code",
   "execution_count": 15,
   "metadata": {},
   "outputs": [
    {
     "data": {
      "text/plain": [
       "43244"
      ]
     },
     "execution_count": 15,
     "metadata": {},
     "output_type": "execute_result"
    }
   ],
   "source": [
    "np.sum(train[train['Submarinos'] == 'Fresa'].Returned)"
   ]
  },
  {
   "cell_type": "code",
   "execution_count": 16,
   "metadata": {},
   "outputs": [],
   "source": [
    "train.columns = ['Date', 'Warehouse','Canal_ID','Sales point', \n",
    "                 'Product_type', 'Returned', 'Sales_predict']\n"
   ]
  },
  {
   "cell_type": "code",
   "execution_count": 17,
   "metadata": {},
   "outputs": [
    {
     "data": {
      "text/plain": [
       "<matplotlib.axes._subplots.AxesSubplot at 0x18109effa20>"
      ]
     },
     "execution_count": 17,
     "metadata": {},
     "output_type": "execute_result"
    },
    {
     "data": {
      "image/png": "[encoded data removed]",
      "text/plain": [
       "<Figure size 432x288 with 2 Axes>"
      ]
     },
     "metadata": {
      "needs_background": "light"
     },
     "output_type": "display_data"
    }
   ],
   "source": [
    "sb.heatmap(train.corr())"
   ]
  },
  {
   "cell_type": "code",
   "execution_count": 27,
   "metadata": {},
   "outputs": [],
   "source": [
    "X = pd.get_dummies(train[['Date', 'Warehouse','Canal_ID','Sales point', \n",
    "                 'Product_type', 'Returned',]])\n",
    "y = train['Sales_predict']"
   ]
  },
  {
   "cell_type": "code",
   "execution_count": 28,
   "metadata": {},
   "outputs": [
    {
     "data": {
      "text/html": [
       "<div>\n",
       "<style scoped>\n",
       "    .dataframe tbody tr th:only-of-type {\n",
       "        vertical-align: middle;\n",
       "    }\n",
       "\n",
       "    .dataframe tbody tr th {\n",
       "        vertical-align: top;\n",
       "    }\n",
       "\n",
       "    .dataframe thead th {\n",
       "        text-align: right;\n",
       "    }\n",
       "</style>\n",
       "<table border=\"1\" class=\"dataframe\">\n",
       "  <thead>\n",
       "    <tr style=\"text-align: right;\">\n",
       "      <th></th>\n",
       "      <th>Date</th>\n",
       "      <th>Warehouse</th>\n",
       "      <th>Canal_ID</th>\n",
       "      <th>Sales point</th>\n",
       "      <th>Returned</th>\n",
       "      <th>Product_type_Chocolate</th>\n",
       "      <th>Product_type_Fresa</th>\n",
       "      <th>Product_type_Vainilla</th>\n",
       "    </tr>\n",
       "  </thead>\n",
       "  <tbody>\n",
       "    <tr>\n",
       "      <th>0</th>\n",
       "      <td>3</td>\n",
       "      <td>1110</td>\n",
       "      <td>7</td>\n",
       "      <td>3303</td>\n",
       "      <td>5</td>\n",
       "      <td>1</td>\n",
       "      <td>0</td>\n",
       "      <td>0</td>\n",
       "    </tr>\n",
       "    <tr>\n",
       "      <th>1</th>\n",
       "      <td>3</td>\n",
       "      <td>1110</td>\n",
       "      <td>7</td>\n",
       "      <td>3303</td>\n",
       "      <td>5</td>\n",
       "      <td>0</td>\n",
       "      <td>1</td>\n",
       "      <td>0</td>\n",
       "    </tr>\n",
       "    <tr>\n",
       "      <th>2</th>\n",
       "      <td>3</td>\n",
       "      <td>1110</td>\n",
       "      <td>7</td>\n",
       "      <td>3303</td>\n",
       "      <td>5</td>\n",
       "      <td>0</td>\n",
       "      <td>0</td>\n",
       "      <td>1</td>\n",
       "    </tr>\n",
       "    <tr>\n",
       "      <th>3</th>\n",
       "      <td>3</td>\n",
       "      <td>1110</td>\n",
       "      <td>7</td>\n",
       "      <td>3305</td>\n",
       "      <td>17</td>\n",
       "      <td>0</td>\n",
       "      <td>1</td>\n",
       "      <td>0</td>\n",
       "    </tr>\n",
       "    <tr>\n",
       "      <th>4</th>\n",
       "      <td>3</td>\n",
       "      <td>1110</td>\n",
       "      <td>7</td>\n",
       "      <td>3305</td>\n",
       "      <td>14</td>\n",
       "      <td>0</td>\n",
       "      <td>0</td>\n",
       "      <td>1</td>\n",
       "    </tr>\n",
       "  </tbody>\n",
       "</table>\n",
       "</div>"
      ],
      "text/plain": [
       "   Date  Warehouse  Canal_ID  Sales point  Returned  Product_type_Chocolate  \\\n",
       "0     3       1110         7         3303         5                       1   \n",
       "1     3       1110         7         3303         5                       0   \n",
       "2     3       1110         7         3303         5                       0   \n",
       "3     3       1110         7         3305        17                       0   \n",
       "4     3       1110         7         3305        14                       0   \n",
       "\n",
       "   Product_type_Fresa  Product_type_Vainilla  \n",
       "0                   0                      0  \n",
       "1                   1                      0  \n",
       "2                   0                      1  \n",
       "3                   1                      0  \n",
       "4                   0                      1  "
      ]
     },
     "execution_count": 28,
     "metadata": {},
     "output_type": "execute_result"
    }
   ],
   "source": [
    "X.head()"
   ]
  },
  {
   "cell_type": "code",
   "execution_count": 29,
   "metadata": {},
   "outputs": [
    {
     "data": {
      "text/plain": [
       "0    0\n",
       "1    0\n",
       "2    0\n",
       "3    0\n",
       "4    0\n",
       "Name: Sales_predict, dtype: int64"
      ]
     },
     "execution_count": 29,
     "metadata": {},
     "output_type": "execute_result"
    }
   ],
   "source": [
    "y.head()"
   ]
  },
  {
   "cell_type": "code",
   "execution_count": 30,
   "metadata": {},
   "outputs": [],
   "source": [
    "from sklearn.utils import shuffle"
   ]
  },
  {
   "cell_type": "code",
   "execution_count": 31,
   "metadata": {},
   "outputs": [],
   "source": [
    "X, y = shuffle(X, y, random_state=2)"
   ]
  },
  {
   "cell_type": "code",
   "execution_count": 32,
   "metadata": {},
   "outputs": [
    {
     "data": {
      "text/plain": [
       "113755"
      ]
     },
     "execution_count": 32,
     "metadata": {},
     "output_type": "execute_result"
    }
   ],
   "source": [
    "X.shape[0]"
   ]
  },
  {
   "cell_type": "code",
   "execution_count": 33,
   "metadata": {},
   "outputs": [
    {
     "data": {
      "text/plain": [
       "((37918, 8), (37918,))"
      ]
     },
     "execution_count": 33,
     "metadata": {},
     "output_type": "execute_result"
    }
   ],
   "source": [
    "x1, y1 = X[:37918], y[:37918]\n",
    "x1.shape, y1.shape"
   ]
  },
  {
   "cell_type": "code",
   "execution_count": 34,
   "metadata": {},
   "outputs": [
    {
     "data": {
      "text/plain": [
       "((37918, 8), (37918,))"
      ]
     },
     "execution_count": 34,
     "metadata": {},
     "output_type": "execute_result"
    }
   ],
   "source": [
    "x2, y2 = X[37918:75836], y[37918:75836]\n",
    "x2.shape, y2.shape"
   ]
  },
  {
   "cell_type": "code",
   "execution_count": 35,
   "metadata": {},
   "outputs": [
    {
     "data": {
      "text/plain": [
       "((37919, 8), (37919,))"
      ]
     },
     "execution_count": 35,
     "metadata": {},
     "output_type": "execute_result"
    }
   ],
   "source": [
    "x3, y3 = X[75836:113755], y[75836:113755]\n",
    "x3.shape, y3.shape"
   ]
  },
  {
   "cell_type": "code",
   "execution_count": 36,
   "metadata": {},
   "outputs": [
    {
     "data": {
      "text/html": [
       "<div>\n",
       "<style scoped>\n",
       "    .dataframe tbody tr th:only-of-type {\n",
       "        vertical-align: middle;\n",
       "    }\n",
       "\n",
       "    .dataframe tbody tr th {\n",
       "        vertical-align: top;\n",
       "    }\n",
       "\n",
       "    .dataframe thead th {\n",
       "        text-align: right;\n",
       "    }\n",
       "</style>\n",
       "<table border=\"1\" class=\"dataframe\">\n",
       "  <thead>\n",
       "    <tr style=\"text-align: right;\">\n",
       "      <th></th>\n",
       "      <th>Date</th>\n",
       "      <th>Warehouse</th>\n",
       "      <th>Canal_ID</th>\n",
       "      <th>Sales point</th>\n",
       "      <th>Returned</th>\n",
       "      <th>Product_type_Chocolate</th>\n",
       "      <th>Product_type_Fresa</th>\n",
       "      <th>Product_type_Vainilla</th>\n",
       "    </tr>\n",
       "  </thead>\n",
       "  <tbody>\n",
       "    <tr>\n",
       "      <th>91816</th>\n",
       "      <td>8</td>\n",
       "      <td>2011</td>\n",
       "      <td>4</td>\n",
       "      <td>6617</td>\n",
       "      <td>17</td>\n",
       "      <td>0</td>\n",
       "      <td>0</td>\n",
       "      <td>1</td>\n",
       "    </tr>\n",
       "    <tr>\n",
       "      <th>16792</th>\n",
       "      <td>4</td>\n",
       "      <td>1114</td>\n",
       "      <td>2</td>\n",
       "      <td>57</td>\n",
       "      <td>30</td>\n",
       "      <td>1</td>\n",
       "      <td>0</td>\n",
       "      <td>0</td>\n",
       "    </tr>\n",
       "  </tbody>\n",
       "</table>\n",
       "</div>"
      ],
      "text/plain": [
       "       Date  Warehouse  Canal_ID  Sales point  Returned  \\\n",
       "91816     8       2011         4         6617        17   \n",
       "16792     4       1114         2           57        30   \n",
       "\n",
       "       Product_type_Chocolate  Product_type_Fresa  Product_type_Vainilla  \n",
       "91816                       0                   0                      1  \n",
       "16792                       1                   0                      0  "
      ]
     },
     "metadata": {},
     "output_type": "display_data"
    },
    {
     "data": {
      "text/html": [
       "<div>\n",
       "<style scoped>\n",
       "    .dataframe tbody tr th:only-of-type {\n",
       "        vertical-align: middle;\n",
       "    }\n",
       "\n",
       "    .dataframe tbody tr th {\n",
       "        vertical-align: top;\n",
       "    }\n",
       "\n",
       "    .dataframe thead th {\n",
       "        text-align: right;\n",
       "    }\n",
       "</style>\n",
       "<table border=\"1\" class=\"dataframe\">\n",
       "  <thead>\n",
       "    <tr style=\"text-align: right;\">\n",
       "      <th></th>\n",
       "      <th>Date</th>\n",
       "      <th>Warehouse</th>\n",
       "      <th>Canal_ID</th>\n",
       "      <th>Sales point</th>\n",
       "      <th>Returned</th>\n",
       "      <th>Product_type_Chocolate</th>\n",
       "      <th>Product_type_Fresa</th>\n",
       "      <th>Product_type_Vainilla</th>\n",
       "    </tr>\n",
       "  </thead>\n",
       "  <tbody>\n",
       "    <tr>\n",
       "      <th>89158</th>\n",
       "      <td>8</td>\n",
       "      <td>1617</td>\n",
       "      <td>1</td>\n",
       "      <td>4402</td>\n",
       "      <td>33</td>\n",
       "      <td>0</td>\n",
       "      <td>1</td>\n",
       "      <td>0</td>\n",
       "    </tr>\n",
       "    <tr>\n",
       "      <th>10998</th>\n",
       "      <td>3</td>\n",
       "      <td>2014</td>\n",
       "      <td>1</td>\n",
       "      <td>2807</td>\n",
       "      <td>29</td>\n",
       "      <td>0</td>\n",
       "      <td>0</td>\n",
       "      <td>1</td>\n",
       "    </tr>\n",
       "  </tbody>\n",
       "</table>\n",
       "</div>"
      ],
      "text/plain": [
       "       Date  Warehouse  Canal_ID  Sales point  Returned  \\\n",
       "89158     8       1617         1         4402        33   \n",
       "10998     3       2014         1         2807        29   \n",
       "\n",
       "       Product_type_Chocolate  Product_type_Fresa  Product_type_Vainilla  \n",
       "89158                       0                   1                      0  \n",
       "10998                       0                   0                      1  "
      ]
     },
     "metadata": {},
     "output_type": "display_data"
    },
    {
     "data": {
      "text/html": [
       "<div>\n",
       "<style scoped>\n",
       "    .dataframe tbody tr th:only-of-type {\n",
       "        vertical-align: middle;\n",
       "    }\n",
       "\n",
       "    .dataframe tbody tr th {\n",
       "        vertical-align: top;\n",
       "    }\n",
       "\n",
       "    .dataframe thead th {\n",
       "        text-align: right;\n",
       "    }\n",
       "</style>\n",
       "<table border=\"1\" class=\"dataframe\">\n",
       "  <thead>\n",
       "    <tr style=\"text-align: right;\">\n",
       "      <th></th>\n",
       "      <th>Date</th>\n",
       "      <th>Warehouse</th>\n",
       "      <th>Canal_ID</th>\n",
       "      <th>Sales point</th>\n",
       "      <th>Returned</th>\n",
       "      <th>Product_type_Chocolate</th>\n",
       "      <th>Product_type_Fresa</th>\n",
       "      <th>Product_type_Vainilla</th>\n",
       "    </tr>\n",
       "  </thead>\n",
       "  <tbody>\n",
       "    <tr>\n",
       "      <th>59779</th>\n",
       "      <td>6</td>\n",
       "      <td>2014</td>\n",
       "      <td>1</td>\n",
       "      <td>4415</td>\n",
       "      <td>27</td>\n",
       "      <td>0</td>\n",
       "      <td>1</td>\n",
       "      <td>0</td>\n",
       "    </tr>\n",
       "    <tr>\n",
       "      <th>19385</th>\n",
       "      <td>4</td>\n",
       "      <td>1237</td>\n",
       "      <td>1</td>\n",
       "      <td>4463</td>\n",
       "      <td>26</td>\n",
       "      <td>0</td>\n",
       "      <td>1</td>\n",
       "      <td>0</td>\n",
       "    </tr>\n",
       "  </tbody>\n",
       "</table>\n",
       "</div>"
      ],
      "text/plain": [
       "       Date  Warehouse  Canal_ID  Sales point  Returned  \\\n",
       "59779     6       2014         1         4415        27   \n",
       "19385     4       1237         1         4463        26   \n",
       "\n",
       "       Product_type_Chocolate  Product_type_Fresa  Product_type_Vainilla  \n",
       "59779                       0                   1                      0  \n",
       "19385                       0                   1                      0  "
      ]
     },
     "metadata": {},
     "output_type": "display_data"
    }
   ],
   "source": [
    "display(x1.head(2))\n",
    "display(x2.head(2))\n",
    "display(x3.head(2))"
   ]
  },
  {
   "cell_type": "markdown",
   "metadata": {},
   "source": [
    "### *Обучение случайного леса*"
   ]
  },
  {
   "cell_type": "code",
   "execution_count": 47,
   "metadata": {},
   "outputs": [],
   "source": [
    "from sklearn.ensemble import RandomForestRegressor, GradientBoostingRegressor\n",
    "from sklearn.metrics import r2_score, make_scorer\n",
    "from sklearn.model_selection import GridSearchCV"
   ]
  },
  {
   "cell_type": "code",
   "execution_count": 48,
   "metadata": {},
   "outputs": [],
   "source": [
    "param_grid = {\"n_estimators\":2**np.arange(10)}\n",
    "N = 2**np.arange(10)"
   ]
  },
  {
   "cell_type": "code",
   "execution_count": 49,
   "metadata": {},
   "outputs": [
    {
     "name": "stdout",
     "output_type": "stream",
     "text": [
      "Fitting 3 folds for each of 10 candidates, totalling 30 fits\n",
      "[CV] n_estimators=1 ..................................................\n",
      "[CV] ........ n_estimators=1, score=0.33549881039743246, total=   0.0s\n",
      "[CV] n_estimators=1 ..................................................\n"
     ]
    },
    {
     "name": "stderr",
     "output_type": "stream",
     "text": [
      "[Parallel(n_jobs=1)]: Using backend SequentialBackend with 1 concurrent workers.\n",
      "[Parallel(n_jobs=1)]: Done   1 out of   1 | elapsed:    0.1s remaining:    0.0s\n"
     ]
    },
    {
     "name": "stdout",
     "output_type": "stream",
     "text": [
      "[CV] ......... n_estimators=1, score=0.4229330211222677, total=   0.0s\n",
      "[CV] n_estimators=1 ..................................................\n",
      "[CV] ........ n_estimators=1, score=0.37934150580144815, total=   0.0s\n",
      "[CV] n_estimators=2 ..................................................\n"
     ]
    },
    {
     "name": "stderr",
     "output_type": "stream",
     "text": [
      "[Parallel(n_jobs=1)]: Done   2 out of   2 | elapsed:    0.2s remaining:    0.0s\n"
     ]
    },
    {
     "name": "stdout",
     "output_type": "stream",
     "text": [
      "[CV] ......... n_estimators=2, score=0.5558457528979648, total=   0.1s\n",
      "[CV] n_estimators=2 ..................................................\n",
      "[CV] ......... n_estimators=2, score=0.5361753728648251, total=   0.1s\n",
      "[CV] n_estimators=2 ..................................................\n",
      "[CV] ......... n_estimators=2, score=0.4921825095598907, total=   0.1s\n",
      "[CV] n_estimators=4 ..................................................\n",
      "[CV] ......... n_estimators=4, score=0.6340614756485671, total=   0.3s\n",
      "[CV] n_estimators=4 ..................................................\n",
      "[CV] .......... n_estimators=4, score=0.609833325244009, total=   0.3s\n",
      "[CV] n_estimators=4 ..................................................\n",
      "[CV] ......... n_estimators=4, score=0.6155068376829774, total=   0.3s\n",
      "[CV] n_estimators=8 ..................................................\n",
      "[CV] ......... n_estimators=8, score=0.6502007450934439, total=   0.6s\n",
      "[CV] n_estimators=8 ..................................................\n",
      "[CV] ......... n_estimators=8, score=0.6299805439100976, total=   0.6s\n",
      "[CV] n_estimators=8 ..................................................\n",
      "[CV] ......... n_estimators=8, score=0.6761130844928522, total=   0.6s\n",
      "[CV] n_estimators=16 .................................................\n",
      "[CV] ........ n_estimators=16, score=0.6637585569914993, total=   1.3s\n",
      "[CV] n_estimators=16 .................................................\n",
      "[CV] ........ n_estimators=16, score=0.6672620912393618, total=   1.3s\n",
      "[CV] n_estimators=16 .................................................\n",
      "[CV] ........ n_estimators=16, score=0.6935696930183799, total=   1.3s\n",
      "[CV] n_estimators=32 .................................................\n",
      "[CV] ........ n_estimators=32, score=0.6953828689097132, total=   2.9s\n",
      "[CV] n_estimators=32 .................................................\n",
      "[CV] ........ n_estimators=32, score=0.6757103742125831, total=   2.7s\n",
      "[CV] n_estimators=32 .................................................\n",
      "[CV] ......... n_estimators=32, score=0.699826422655455, total=   2.7s\n",
      "[CV] n_estimators=64 .................................................\n",
      "[CV] ........ n_estimators=64, score=0.6955354723896648, total=   5.5s\n",
      "[CV] n_estimators=64 .................................................\n",
      "[CV] ........ n_estimators=64, score=0.6755629914355823, total=   5.4s\n",
      "[CV] n_estimators=64 .................................................\n",
      "[CV] ........ n_estimators=64, score=0.7113758798678489, total=   5.4s\n",
      "[CV] n_estimators=128 ................................................\n",
      "[CV] ....... n_estimators=128, score=0.6996690518232491, total=  11.0s\n",
      "[CV] n_estimators=128 ................................................\n",
      "[CV] ....... n_estimators=128, score=0.6749468740804438, total=  11.0s\n",
      "[CV] n_estimators=128 ................................................\n",
      "[CV] ....... n_estimators=128, score=0.7142774536183469, total=  11.0s\n",
      "[CV] n_estimators=256 ................................................\n",
      "[CV] ....... n_estimators=256, score=0.7033408543937802, total=  22.2s\n",
      "[CV] n_estimators=256 ................................................\n",
      "[CV] ....... n_estimators=256, score=0.6745109333422608, total=  21.9s\n",
      "[CV] n_estimators=256 ................................................\n",
      "[CV] ....... n_estimators=256, score=0.7151227122960595, total=  21.9s\n",
      "[CV] n_estimators=512 ................................................\n",
      "[CV] ....... n_estimators=512, score=0.7015993610058633, total=  44.8s\n",
      "[CV] n_estimators=512 ................................................\n",
      "[CV] ....... n_estimators=512, score=0.6761678604519106, total=  44.2s\n",
      "[CV] n_estimators=512 ................................................\n",
      "[CV] ....... n_estimators=512, score=0.7124696192668676, total=  44.8s\n"
     ]
    },
    {
     "name": "stderr",
     "output_type": "stream",
     "text": [
      "[Parallel(n_jobs=1)]: Done  30 out of  30 | elapsed:  4.9min finished\n"
     ]
    }
   ],
   "source": [
    "RFR = RandomForestRegressor()\n",
    "grd_srch = GridSearchCV(RFR, param_grid, cv = 3, verbose = 3)\n",
    "total = grd_srch.fit(x1, y1)"
   ]
  },
  {
   "cell_type": "code",
   "execution_count": 50,
   "metadata": {},
   "outputs": [
    {
     "data": {
      "text/plain": [
       "array([0.37925663, 0.52806861, 0.61980092, 0.65209807, 0.67486315,\n",
       "       0.69030669, 0.69415815, 0.69629788, 0.69765832, 0.69674574])"
      ]
     },
     "execution_count": 50,
     "metadata": {},
     "output_type": "execute_result"
    }
   ],
   "source": [
    "score = grd_srch.cv_results_['mean_test_score']\n",
    "score"
   ]
  },
  {
   "cell_type": "code",
   "execution_count": 51,
   "metadata": {},
   "outputs": [
    {
     "data": {
      "image/png": "[encoded data removed]",
      "text/plain": [
       "<Figure size 432x288 with 1 Axes>"
      ]
     },
     "metadata": {
      "needs_background": "light"
     },
     "output_type": "display_data"
    }
   ],
   "source": [
    "plt.plot(N, score)\n",
    "plt.xlabel(\"N\")\n",
    "plt.ylabel(\"quality\")\n",
    "plt.show()"
   ]
  },
  {
   "cell_type": "code",
   "execution_count": 52,
   "metadata": {},
   "outputs": [
    {
     "data": {
      "text/plain": [
       "256"
      ]
     },
     "execution_count": 52,
     "metadata": {},
     "output_type": "execute_result"
    }
   ],
   "source": [
    "estimator = grd_srch.best_estimator_.n_estimators\n",
    "estimator"
   ]
  },
  {
   "cell_type": "code",
   "execution_count": 53,
   "metadata": {},
   "outputs": [],
   "source": [
    "param_grid_2 = {\"max_features\":2**np.arange(1, 4)}\n",
    "N_2 = 2**np.arange(1, 4)"
   ]
  },
  {
   "cell_type": "code",
   "execution_count": 54,
   "metadata": {},
   "outputs": [
    {
     "name": "stdout",
     "output_type": "stream",
     "text": [
      "Fitting 3 folds for each of 3 candidates, totalling 9 fits\n",
      "[CV] max_features=2 ..................................................\n"
     ]
    },
    {
     "name": "stderr",
     "output_type": "stream",
     "text": [
      "[Parallel(n_jobs=1)]: Using backend SequentialBackend with 1 concurrent workers.\n"
     ]
    },
    {
     "name": "stdout",
     "output_type": "stream",
     "text": [
      "[CV] ......... max_features=2, score=0.5284949859061412, total=  11.6s\n",
      "[CV] max_features=2 ..................................................\n"
     ]
    },
    {
     "name": "stderr",
     "output_type": "stream",
     "text": [
      "[Parallel(n_jobs=1)]: Done   1 out of   1 | elapsed:   13.6s remaining:    0.0s\n"
     ]
    },
    {
     "name": "stdout",
     "output_type": "stream",
     "text": [
      "[CV] .......... max_features=2, score=0.503632053686619, total=  12.0s\n",
      "[CV] max_features=2 ..................................................\n"
     ]
    },
    {
     "name": "stderr",
     "output_type": "stream",
     "text": [
      "[Parallel(n_jobs=1)]: Done   2 out of   2 | elapsed:   28.4s remaining:    0.0s\n"
     ]
    },
    {
     "name": "stdout",
     "output_type": "stream",
     "text": [
      "[CV] .......... max_features=2, score=0.539442458545213, total=  12.9s\n",
      "[CV] max_features=4 ..................................................\n",
      "[CV] ......... max_features=4, score=0.6345413337545203, total=  20.3s\n",
      "[CV] max_features=4 ..................................................\n",
      "[CV] ......... max_features=4, score=0.6119448642953647, total=  16.0s\n",
      "[CV] max_features=4 ..................................................\n",
      "[CV] ......... max_features=4, score=0.6461465508302583, total=  14.4s\n",
      "[CV] max_features=8 ..................................................\n",
      "[CV] ........... max_features=8, score=0.70058633307578, total=  22.9s\n",
      "[CV] max_features=8 ..................................................\n",
      "[CV] ......... max_features=8, score=0.6770676325241609, total=  22.7s\n",
      "[CV] max_features=8 ..................................................\n",
      "[CV] ......... max_features=8, score=0.7124212702219943, total=  22.6s\n"
     ]
    },
    {
     "name": "stderr",
     "output_type": "stream",
     "text": [
      "[Parallel(n_jobs=1)]: Done   9 out of   9 | elapsed:  3.0min finished\n"
     ]
    }
   ],
   "source": [
    "RFR = RandomForestRegressor(n_estimators = estimator)\n",
    "grd_srch_2 = GridSearchCV(RFR, param_grid_2, cv = 3, verbose = 3)\n",
    "total = grd_srch_2.fit(x1, y1)"
   ]
  },
  {
   "cell_type": "code",
   "execution_count": 55,
   "metadata": {},
   "outputs": [
    {
     "data": {
      "text/plain": [
       "array([0.52385662, 0.63087768, 0.69669185])"
      ]
     },
     "execution_count": 55,
     "metadata": {},
     "output_type": "execute_result"
    }
   ],
   "source": [
    "score_2 = grd_srch_2.cv_results_['mean_test_score']\n",
    "score_2"
   ]
  },
  {
   "cell_type": "code",
   "execution_count": 56,
   "metadata": {},
   "outputs": [
    {
     "data": {
      "image/png": "[encoded data removed]",
      "text/plain": [
       "<Figure size 432x288 with 1 Axes>"
      ]
     },
     "metadata": {
      "needs_background": "light"
     },
     "output_type": "display_data"
    }
   ],
   "source": [
    "plt.plot(N_2, score_2)\n",
    "plt.xlabel(\"max_features\")\n",
    "plt.ylabel(\"quality\")\n",
    "plt.show()"
   ]
  },
  {
   "cell_type": "code",
   "execution_count": 57,
   "metadata": {},
   "outputs": [
    {
     "data": {
      "text/plain": [
       "8"
      ]
     },
     "execution_count": 57,
     "metadata": {},
     "output_type": "execute_result"
    }
   ],
   "source": [
    "features = grd_srch_2.best_estimator_.max_features\n",
    "features"
   ]
  },
  {
   "cell_type": "code",
   "execution_count": 58,
   "metadata": {},
   "outputs": [],
   "source": [
    "param_grid_3 = {\"max_depth\":np.arange(1, 9, 2), \"min_samples_leaf\":[1, 3, 9, 27], \"min_samples_split\":[3, 9, 27, 81]}"
   ]
  },
  {
   "cell_type": "code",
   "execution_count": 59,
   "metadata": {},
   "outputs": [
    {
     "name": "stdout",
     "output_type": "stream",
     "text": [
      "Fitting 3 folds for each of 64 candidates, totalling 192 fits\n",
      "[CV] max_depth=1, min_samples_leaf=1, min_samples_split=3 ............\n"
     ]
    },
    {
     "name": "stderr",
     "output_type": "stream",
     "text": [
      "[Parallel(n_jobs=1)]: Using backend SequentialBackend with 1 concurrent workers.\n"
     ]
    },
    {
     "name": "stdout",
     "output_type": "stream",
     "text": [
      "[CV]  max_depth=1, min_samples_leaf=1, min_samples_split=3, score=0.1422643918368417, total=   1.7s\n",
      "[CV] max_depth=1, min_samples_leaf=1, min_samples_split=3 ............\n"
     ]
    },
    {
     "name": "stderr",
     "output_type": "stream",
     "text": [
      "[Parallel(n_jobs=1)]: Done   1 out of   1 | elapsed:    1.8s remaining:    0.0s\n"
     ]
    },
    {
     "name": "stdout",
     "output_type": "stream",
     "text": [
      "[CV]  max_depth=1, min_samples_leaf=1, min_samples_split=3, score=0.11789857100824463, total=   1.6s\n",
      "[CV] max_depth=1, min_samples_leaf=1, min_samples_split=3 ............\n"
     ]
    },
    {
     "name": "stderr",
     "output_type": "stream",
     "text": [
      "[Parallel(n_jobs=1)]: Done   2 out of   2 | elapsed:    3.6s remaining:    0.0s\n"
     ]
    },
    {
     "name": "stdout",
     "output_type": "stream",
     "text": [
      "[CV]  max_depth=1, min_samples_leaf=1, min_samples_split=3, score=0.13099173082837068, total=   1.6s\n",
      "[CV] max_depth=1, min_samples_leaf=1, min_samples_split=9 ............\n",
      "[CV]  max_depth=1, min_samples_leaf=1, min_samples_split=9, score=0.14229089124147387, total=   1.6s\n",
      "[CV] max_depth=1, min_samples_leaf=1, min_samples_split=9 ............\n",
      "[CV]  max_depth=1, min_samples_leaf=1, min_samples_split=9, score=0.11791213859889349, total=   1.7s\n",
      "[CV] max_depth=1, min_samples_leaf=1, min_samples_split=9 ............\n",
      "[CV]  max_depth=1, min_samples_leaf=1, min_samples_split=9, score=0.13097673562857703, total=   1.6s\n",
      "[CV] max_depth=1, min_samples_leaf=1, min_samples_split=27 ...........\n",
      "[CV]  max_depth=1, min_samples_leaf=1, min_samples_split=27, score=0.14226697262077048, total=   1.5s\n",
      "[CV] max_depth=1, min_samples_leaf=1, min_samples_split=27 ...........\n",
      "[CV]  max_depth=1, min_samples_leaf=1, min_samples_split=27, score=0.11792360928895862, total=   1.5s\n",
      "[CV] max_depth=1, min_samples_leaf=1, min_samples_split=27 ...........\n",
      "[CV]  max_depth=1, min_samples_leaf=1, min_samples_split=27, score=0.13101879927314908, total=   1.5s\n",
      "[CV] max_depth=1, min_samples_leaf=1, min_samples_split=81 ...........\n",
      "[CV]  max_depth=1, min_samples_leaf=1, min_samples_split=81, score=0.14229655948483366, total=   1.6s\n",
      "[CV] max_depth=1, min_samples_leaf=1, min_samples_split=81 ...........\n",
      "[CV]  max_depth=1, min_samples_leaf=1, min_samples_split=81, score=0.11788598668865548, total=   1.5s\n",
      "[CV] max_depth=1, min_samples_leaf=1, min_samples_split=81 ...........\n",
      "[CV]  max_depth=1, min_samples_leaf=1, min_samples_split=81, score=0.13100620512270444, total=   1.5s\n",
      "[CV] max_depth=1, min_samples_leaf=3, min_samples_split=3 ............\n",
      "[CV]  max_depth=1, min_samples_leaf=3, min_samples_split=3, score=0.14225807222136977, total=   1.5s\n",
      "[CV] max_depth=1, min_samples_leaf=3, min_samples_split=3 ............\n",
      "[CV]  max_depth=1, min_samples_leaf=3, min_samples_split=3, score=0.11792336209149645, total=   1.5s\n",
      "[CV] max_depth=1, min_samples_leaf=3, min_samples_split=3 ............\n",
      "[CV]  max_depth=1, min_samples_leaf=3, min_samples_split=3, score=0.13105382911665253, total=   1.5s\n",
      "[CV] max_depth=1, min_samples_leaf=3, min_samples_split=9 ............\n",
      "[CV]  max_depth=1, min_samples_leaf=3, min_samples_split=9, score=0.142252820272312, total=   1.5s\n",
      "[CV] max_depth=1, min_samples_leaf=3, min_samples_split=9 ............\n",
      "[CV]  max_depth=1, min_samples_leaf=3, min_samples_split=9, score=0.11790769803465384, total=   1.5s\n",
      "[CV] max_depth=1, min_samples_leaf=3, min_samples_split=9 ............\n",
      "[CV]  max_depth=1, min_samples_leaf=3, min_samples_split=9, score=0.131001812458735, total=   1.5s\n",
      "[CV] max_depth=1, min_samples_leaf=3, min_samples_split=27 ...........\n",
      "[CV]  max_depth=1, min_samples_leaf=3, min_samples_split=27, score=0.14226799150300484, total=   1.5s\n",
      "[CV] max_depth=1, min_samples_leaf=3, min_samples_split=27 ...........\n",
      "[CV]  max_depth=1, min_samples_leaf=3, min_samples_split=27, score=0.11791501770163391, total=   1.5s\n",
      "[CV] max_depth=1, min_samples_leaf=3, min_samples_split=27 ...........\n",
      "[CV]  max_depth=1, min_samples_leaf=3, min_samples_split=27, score=0.130997845289604, total=   1.6s\n",
      "[CV] max_depth=1, min_samples_leaf=3, min_samples_split=81 ...........\n",
      "[CV]  max_depth=1, min_samples_leaf=3, min_samples_split=81, score=0.14225776432115544, total=   1.5s\n",
      "[CV] max_depth=1, min_samples_leaf=3, min_samples_split=81 ...........\n",
      "[CV]  max_depth=1, min_samples_leaf=3, min_samples_split=81, score=0.11789381311951597, total=   1.5s\n",
      "[CV] max_depth=1, min_samples_leaf=3, min_samples_split=81 ...........\n",
      "[CV]  max_depth=1, min_samples_leaf=3, min_samples_split=81, score=0.13100393688518008, total=   1.5s\n",
      "[CV] max_depth=1, min_samples_leaf=9, min_samples_split=3 ............\n",
      "[CV]  max_depth=1, min_samples_leaf=9, min_samples_split=3, score=0.14229391083880638, total=   1.5s\n",
      "[CV] max_depth=1, min_samples_leaf=9, min_samples_split=3 ............\n",
      "[CV]  max_depth=1, min_samples_leaf=9, min_samples_split=3, score=0.11792446942100865, total=   1.5s\n",
      "[CV] max_depth=1, min_samples_leaf=9, min_samples_split=3 ............\n",
      "[CV]  max_depth=1, min_samples_leaf=9, min_samples_split=3, score=0.1309904000338732, total=   1.5s\n",
      "[CV] max_depth=1, min_samples_leaf=9, min_samples_split=9 ............\n",
      "[CV]  max_depth=1, min_samples_leaf=9, min_samples_split=9, score=0.1422753952467387, total=   1.6s\n",
      "[CV] max_depth=1, min_samples_leaf=9, min_samples_split=9 ............\n",
      "[CV]  max_depth=1, min_samples_leaf=9, min_samples_split=9, score=0.11788938314519483, total=   1.5s\n",
      "[CV] max_depth=1, min_samples_leaf=9, min_samples_split=9 ............\n",
      "[CV]  max_depth=1, min_samples_leaf=9, min_samples_split=9, score=0.13098232498057039, total=   1.5s\n",
      "[CV] max_depth=1, min_samples_leaf=9, min_samples_split=27 ...........\n",
      "[CV]  max_depth=1, min_samples_leaf=9, min_samples_split=27, score=0.1422595478784202, total=   1.5s\n",
      "[CV] max_depth=1, min_samples_leaf=9, min_samples_split=27 ...........\n",
      "[CV]  max_depth=1, min_samples_leaf=9, min_samples_split=27, score=0.11788526037727531, total=   1.5s\n",
      "[CV] max_depth=1, min_samples_leaf=9, min_samples_split=27 ...........\n",
      "[CV]  max_depth=1, min_samples_leaf=9, min_samples_split=27, score=0.13099385205733316, total=   1.5s\n",
      "[CV] max_depth=1, min_samples_leaf=9, min_samples_split=81 ...........\n",
      "[CV]  max_depth=1, min_samples_leaf=9, min_samples_split=81, score=0.14227080993602292, total=   1.5s\n",
      "[CV] max_depth=1, min_samples_leaf=9, min_samples_split=81 ...........\n",
      "[CV]  max_depth=1, min_samples_leaf=9, min_samples_split=81, score=0.11788599584422821, total=   1.6s\n",
      "[CV] max_depth=1, min_samples_leaf=9, min_samples_split=81 ...........\n",
      "[CV]  max_depth=1, min_samples_leaf=9, min_samples_split=81, score=0.1310133797328309, total=   1.5s\n",
      "[CV] max_depth=1, min_samples_leaf=27, min_samples_split=3 ...........\n",
      "[CV]  max_depth=1, min_samples_leaf=27, min_samples_split=3, score=0.14220909574866902, total=   1.5s\n",
      "[CV] max_depth=1, min_samples_leaf=27, min_samples_split=3 ...........\n",
      "[CV]  max_depth=1, min_samples_leaf=27, min_samples_split=3, score=0.1178863449183023, total=   1.5s\n",
      "[CV] max_depth=1, min_samples_leaf=27, min_samples_split=3 ...........\n",
      "[CV]  max_depth=1, min_samples_leaf=27, min_samples_split=3, score=0.13099113175343147, total=   1.5s\n",
      "[CV] max_depth=1, min_samples_leaf=27, min_samples_split=9 ...........\n",
      "[CV]  max_depth=1, min_samples_leaf=27, min_samples_split=9, score=0.14227307644393727, total=   1.5s\n",
      "[CV] max_depth=1, min_samples_leaf=27, min_samples_split=9 ...........\n",
      "[CV]  max_depth=1, min_samples_leaf=27, min_samples_split=9, score=0.11788661629682884, total=   1.6s\n",
      "[CV] max_depth=1, min_samples_leaf=27, min_samples_split=9 ...........\n",
      "[CV]  max_depth=1, min_samples_leaf=27, min_samples_split=9, score=0.13100802692055047, total=   2.4s\n",
      "[CV] max_depth=1, min_samples_leaf=27, min_samples_split=27 ..........\n",
      "[CV]  max_depth=1, min_samples_leaf=27, min_samples_split=27, score=0.14226674230031233, total=   1.7s\n",
      "[CV] max_depth=1, min_samples_leaf=27, min_samples_split=27 ..........\n",
      "[CV]  max_depth=1, min_samples_leaf=27, min_samples_split=27, score=0.11791161413898388, total=   1.5s\n",
      "[CV] max_depth=1, min_samples_leaf=27, min_samples_split=27 ..........\n",
      "[CV]  max_depth=1, min_samples_leaf=27, min_samples_split=27, score=0.13100997303336415, total=   1.6s\n",
      "[CV] max_depth=1, min_samples_leaf=27, min_samples_split=81 ..........\n",
      "[CV]  max_depth=1, min_samples_leaf=27, min_samples_split=81, score=0.14226899250295222, total=   1.6s\n",
      "[CV] max_depth=1, min_samples_leaf=27, min_samples_split=81 ..........\n",
      "[CV]  max_depth=1, min_samples_leaf=27, min_samples_split=81, score=0.11788961947086496, total=   2.0s\n",
      "[CV] max_depth=1, min_samples_leaf=27, min_samples_split=81 ..........\n",
      "[CV]  max_depth=1, min_samples_leaf=27, min_samples_split=81, score=0.1310215874101296, total=   1.9s\n",
      "[CV] max_depth=3, min_samples_leaf=1, min_samples_split=3 ............\n",
      "[CV]  max_depth=3, min_samples_leaf=1, min_samples_split=3, score=0.3044957896906618, total=  14.1s\n",
      "[CV] max_depth=3, min_samples_leaf=1, min_samples_split=3 ............\n",
      "[CV]  max_depth=3, min_samples_leaf=1, min_samples_split=3, score=0.26828103957075966, total=   4.8s\n",
      "[CV] max_depth=3, min_samples_leaf=1, min_samples_split=3 ............\n"
     ]
    },
    {
     "name": "stdout",
     "output_type": "stream",
     "text": [
      "[CV]  max_depth=3, min_samples_leaf=1, min_samples_split=3, score=0.2927950937356174, total=   4.8s\n",
      "[CV] max_depth=3, min_samples_leaf=1, min_samples_split=9 ............\n",
      "[CV]  max_depth=3, min_samples_leaf=1, min_samples_split=9, score=0.30405169107961494, total=   3.8s\n",
      "[CV] max_depth=3, min_samples_leaf=1, min_samples_split=9 ............\n",
      "[CV]  max_depth=3, min_samples_leaf=1, min_samples_split=9, score=0.26681725942740164, total=   4.0s\n",
      "[CV] max_depth=3, min_samples_leaf=1, min_samples_split=9 ............\n",
      "[CV]  max_depth=3, min_samples_leaf=1, min_samples_split=9, score=0.2925009081135054, total=   3.7s\n",
      "[CV] max_depth=3, min_samples_leaf=1, min_samples_split=27 ...........\n",
      "[CV]  max_depth=3, min_samples_leaf=1, min_samples_split=27, score=0.30427852783082476, total=   3.7s\n",
      "[CV] max_depth=3, min_samples_leaf=1, min_samples_split=27 ...........\n",
      "[CV]  max_depth=3, min_samples_leaf=1, min_samples_split=27, score=0.267521153455184, total=   3.8s\n",
      "[CV] max_depth=3, min_samples_leaf=1, min_samples_split=27 ...........\n",
      "[CV]  max_depth=3, min_samples_leaf=1, min_samples_split=27, score=0.2923223537729758, total=   3.8s\n",
      "[CV] max_depth=3, min_samples_leaf=1, min_samples_split=81 ...........\n",
      "[CV]  max_depth=3, min_samples_leaf=1, min_samples_split=81, score=0.30504589056750586, total=   3.7s\n",
      "[CV] max_depth=3, min_samples_leaf=1, min_samples_split=81 ...........\n",
      "[CV]  max_depth=3, min_samples_leaf=1, min_samples_split=81, score=0.2668919931109036, total=   3.8s\n",
      "[CV] max_depth=3, min_samples_leaf=1, min_samples_split=81 ...........\n",
      "[CV]  max_depth=3, min_samples_leaf=1, min_samples_split=81, score=0.29181494244644046, total=   3.8s\n",
      "[CV] max_depth=3, min_samples_leaf=3, min_samples_split=3 ............\n",
      "[CV]  max_depth=3, min_samples_leaf=3, min_samples_split=3, score=0.3057970946548111, total=   3.7s\n",
      "[CV] max_depth=3, min_samples_leaf=3, min_samples_split=3 ............\n",
      "[CV]  max_depth=3, min_samples_leaf=3, min_samples_split=3, score=0.26780057031734816, total=   3.8s\n",
      "[CV] max_depth=3, min_samples_leaf=3, min_samples_split=3 ............\n",
      "[CV]  max_depth=3, min_samples_leaf=3, min_samples_split=3, score=0.2922756994725837, total=   3.8s\n",
      "[CV] max_depth=3, min_samples_leaf=3, min_samples_split=9 ............\n",
      "[CV]  max_depth=3, min_samples_leaf=3, min_samples_split=9, score=0.3060517475873251, total=   3.8s\n",
      "[CV] max_depth=3, min_samples_leaf=3, min_samples_split=9 ............\n",
      "[CV]  max_depth=3, min_samples_leaf=3, min_samples_split=9, score=0.26756354782821157, total=   3.8s\n",
      "[CV] max_depth=3, min_samples_leaf=3, min_samples_split=9 ............\n",
      "[CV]  max_depth=3, min_samples_leaf=3, min_samples_split=9, score=0.29253196975942786, total=   3.8s\n",
      "[CV] max_depth=3, min_samples_leaf=3, min_samples_split=27 ...........\n",
      "[CV]  max_depth=3, min_samples_leaf=3, min_samples_split=27, score=0.30462646776726443, total=   3.8s\n",
      "[CV] max_depth=3, min_samples_leaf=3, min_samples_split=27 ...........\n",
      "[CV]  max_depth=3, min_samples_leaf=3, min_samples_split=27, score=0.26783547206160885, total=   3.8s\n",
      "[CV] max_depth=3, min_samples_leaf=3, min_samples_split=27 ...........\n",
      "[CV]  max_depth=3, min_samples_leaf=3, min_samples_split=27, score=0.29281094866766644, total=   3.9s\n",
      "[CV] max_depth=3, min_samples_leaf=3, min_samples_split=81 ...........\n",
      "[CV]  max_depth=3, min_samples_leaf=3, min_samples_split=81, score=0.30477257701022065, total=   3.9s\n",
      "[CV] max_depth=3, min_samples_leaf=3, min_samples_split=81 ...........\n",
      "[CV]  max_depth=3, min_samples_leaf=3, min_samples_split=81, score=0.2678577866656038, total=   4.3s\n",
      "[CV] max_depth=3, min_samples_leaf=3, min_samples_split=81 ...........\n",
      "[CV]  max_depth=3, min_samples_leaf=3, min_samples_split=81, score=0.29175506742357105, total=   4.1s\n",
      "[CV] max_depth=3, min_samples_leaf=9, min_samples_split=3 ............\n",
      "[CV]  max_depth=3, min_samples_leaf=9, min_samples_split=3, score=0.304729904715237, total=   3.8s\n",
      "[CV] max_depth=3, min_samples_leaf=9, min_samples_split=3 ............\n",
      "[CV]  max_depth=3, min_samples_leaf=9, min_samples_split=3, score=0.2661327836631283, total=   4.0s\n",
      "[CV] max_depth=3, min_samples_leaf=9, min_samples_split=3 ............\n",
      "[CV]  max_depth=3, min_samples_leaf=9, min_samples_split=3, score=0.29268364250185364, total=   3.9s\n",
      "[CV] max_depth=3, min_samples_leaf=9, min_samples_split=9 ............\n",
      "[CV]  max_depth=3, min_samples_leaf=9, min_samples_split=9, score=0.3044521530744869, total=   4.1s\n",
      "[CV] max_depth=3, min_samples_leaf=9, min_samples_split=9 ............\n",
      "[CV]  max_depth=3, min_samples_leaf=9, min_samples_split=9, score=0.26682534453807394, total=   4.2s\n",
      "[CV] max_depth=3, min_samples_leaf=9, min_samples_split=9 ............\n",
      "[CV]  max_depth=3, min_samples_leaf=9, min_samples_split=9, score=0.29287025885298634, total=   3.7s\n",
      "[CV] max_depth=3, min_samples_leaf=9, min_samples_split=27 ...........\n",
      "[CV]  max_depth=3, min_samples_leaf=9, min_samples_split=27, score=0.30557522620662014, total=   3.9s\n",
      "[CV] max_depth=3, min_samples_leaf=9, min_samples_split=27 ...........\n",
      "[CV]  max_depth=3, min_samples_leaf=9, min_samples_split=27, score=0.2659097337714804, total=   3.7s\n",
      "[CV] max_depth=3, min_samples_leaf=9, min_samples_split=27 ...........\n",
      "[CV]  max_depth=3, min_samples_leaf=9, min_samples_split=27, score=0.29215074832955623, total=   3.8s\n",
      "[CV] max_depth=3, min_samples_leaf=9, min_samples_split=81 ...........\n",
      "[CV]  max_depth=3, min_samples_leaf=9, min_samples_split=81, score=0.30413763202665023, total=   3.7s\n",
      "[CV] max_depth=3, min_samples_leaf=9, min_samples_split=81 ...........\n",
      "[CV]  max_depth=3, min_samples_leaf=9, min_samples_split=81, score=0.2675338197331132, total=   3.8s\n",
      "[CV] max_depth=3, min_samples_leaf=9, min_samples_split=81 ...........\n",
      "[CV]  max_depth=3, min_samples_leaf=9, min_samples_split=81, score=0.2929488489812565, total=   3.7s\n",
      "[CV] max_depth=3, min_samples_leaf=27, min_samples_split=3 ...........\n",
      "[CV]  max_depth=3, min_samples_leaf=27, min_samples_split=3, score=0.30523176029093957, total=   3.7s\n",
      "[CV] max_depth=3, min_samples_leaf=27, min_samples_split=3 ...........\n",
      "[CV]  max_depth=3, min_samples_leaf=27, min_samples_split=3, score=0.26707107995144586, total=   3.8s\n",
      "[CV] max_depth=3, min_samples_leaf=27, min_samples_split=3 ...........\n",
      "[CV]  max_depth=3, min_samples_leaf=27, min_samples_split=3, score=0.2919493289846171, total=   3.7s\n",
      "[CV] max_depth=3, min_samples_leaf=27, min_samples_split=9 ...........\n",
      "[CV]  max_depth=3, min_samples_leaf=27, min_samples_split=9, score=0.3048917487545567, total=   3.7s\n",
      "[CV] max_depth=3, min_samples_leaf=27, min_samples_split=9 ...........\n",
      "[CV]  max_depth=3, min_samples_leaf=27, min_samples_split=9, score=0.2678243454640319, total=   3.7s\n",
      "[CV] max_depth=3, min_samples_leaf=27, min_samples_split=9 ...........\n",
      "[CV]  max_depth=3, min_samples_leaf=27, min_samples_split=9, score=0.2916158768406971, total=   3.7s\n",
      "[CV] max_depth=3, min_samples_leaf=27, min_samples_split=27 ..........\n",
      "[CV]  max_depth=3, min_samples_leaf=27, min_samples_split=27, score=0.30484794608381005, total=   3.9s\n",
      "[CV] max_depth=3, min_samples_leaf=27, min_samples_split=27 ..........\n",
      "[CV]  max_depth=3, min_samples_leaf=27, min_samples_split=27, score=0.26847128121378605, total=   3.9s\n",
      "[CV] max_depth=3, min_samples_leaf=27, min_samples_split=27 ..........\n",
      "[CV]  max_depth=3, min_samples_leaf=27, min_samples_split=27, score=0.29179224159316497, total=   4.0s\n",
      "[CV] max_depth=3, min_samples_leaf=27, min_samples_split=81 ..........\n",
      "[CV]  max_depth=3, min_samples_leaf=27, min_samples_split=81, score=0.3046433670529587, total=   3.8s\n",
      "[CV] max_depth=3, min_samples_leaf=27, min_samples_split=81 ..........\n",
      "[CV]  max_depth=3, min_samples_leaf=27, min_samples_split=81, score=0.26728348445710437, total=   3.7s\n",
      "[CV] max_depth=3, min_samples_leaf=27, min_samples_split=81 ..........\n",
      "[CV]  max_depth=3, min_samples_leaf=27, min_samples_split=81, score=0.2915637946108973, total=   3.8s\n",
      "[CV] max_depth=5, min_samples_leaf=1, min_samples_split=3 ............\n",
      "[CV]  max_depth=5, min_samples_leaf=1, min_samples_split=3, score=0.38286738355688765, total=   5.9s\n",
      "[CV] max_depth=5, min_samples_leaf=1, min_samples_split=3 ............\n",
      "[CV]  max_depth=5, min_samples_leaf=1, min_samples_split=3, score=0.3515236661515556, total=   5.9s\n",
      "[CV] max_depth=5, min_samples_leaf=1, min_samples_split=3 ............\n"
     ]
    },
    {
     "name": "stdout",
     "output_type": "stream",
     "text": [
      "[CV]  max_depth=5, min_samples_leaf=1, min_samples_split=3, score=0.37249621379746756, total=   6.3s\n",
      "[CV] max_depth=5, min_samples_leaf=1, min_samples_split=9 ............\n",
      "[CV]  max_depth=5, min_samples_leaf=1, min_samples_split=9, score=0.3800141350605434, total=   5.8s\n",
      "[CV] max_depth=5, min_samples_leaf=1, min_samples_split=9 ............\n",
      "[CV]  max_depth=5, min_samples_leaf=1, min_samples_split=9, score=0.3523876524102161, total=   5.7s\n",
      "[CV] max_depth=5, min_samples_leaf=1, min_samples_split=9 ............\n",
      "[CV]  max_depth=5, min_samples_leaf=1, min_samples_split=9, score=0.3707426364196558, total=   5.7s\n",
      "[CV] max_depth=5, min_samples_leaf=1, min_samples_split=27 ...........\n",
      "[CV]  max_depth=5, min_samples_leaf=1, min_samples_split=27, score=0.3747004534243181, total=   5.7s\n",
      "[CV] max_depth=5, min_samples_leaf=1, min_samples_split=27 ...........\n",
      "[CV]  max_depth=5, min_samples_leaf=1, min_samples_split=27, score=0.3466499911066034, total=   5.7s\n",
      "[CV] max_depth=5, min_samples_leaf=1, min_samples_split=27 ...........\n",
      "[CV]  max_depth=5, min_samples_leaf=1, min_samples_split=27, score=0.3710994694122295, total=   5.7s\n",
      "[CV] max_depth=5, min_samples_leaf=1, min_samples_split=81 ...........\n",
      "[CV]  max_depth=5, min_samples_leaf=1, min_samples_split=81, score=0.37340236249052094, total=   5.9s\n",
      "[CV] max_depth=5, min_samples_leaf=1, min_samples_split=81 ...........\n",
      "[CV]  max_depth=5, min_samples_leaf=1, min_samples_split=81, score=0.3335311103945677, total=   5.7s\n",
      "[CV] max_depth=5, min_samples_leaf=1, min_samples_split=81 ...........\n",
      "[CV]  max_depth=5, min_samples_leaf=1, min_samples_split=81, score=0.3556984116876615, total=   5.9s\n",
      "[CV] max_depth=5, min_samples_leaf=3, min_samples_split=3 ............\n",
      "[CV]  max_depth=5, min_samples_leaf=3, min_samples_split=3, score=0.38274218277123173, total=   5.9s\n",
      "[CV] max_depth=5, min_samples_leaf=3, min_samples_split=3 ............\n",
      "[CV]  max_depth=5, min_samples_leaf=3, min_samples_split=3, score=0.3507188819898196, total=   5.7s\n",
      "[CV] max_depth=5, min_samples_leaf=3, min_samples_split=3 ............\n",
      "[CV]  max_depth=5, min_samples_leaf=3, min_samples_split=3, score=0.36615827862438804, total=   5.7s\n",
      "[CV] max_depth=5, min_samples_leaf=3, min_samples_split=9 ............\n",
      "[CV]  max_depth=5, min_samples_leaf=3, min_samples_split=9, score=0.38119115483093735, total=   5.7s\n",
      "[CV] max_depth=5, min_samples_leaf=3, min_samples_split=9 ............\n",
      "[CV]  max_depth=5, min_samples_leaf=3, min_samples_split=9, score=0.3512325185560755, total=   5.7s\n",
      "[CV] max_depth=5, min_samples_leaf=3, min_samples_split=9 ............\n",
      "[CV]  max_depth=5, min_samples_leaf=3, min_samples_split=9, score=0.36879328885203155, total=   5.8s\n",
      "[CV] max_depth=5, min_samples_leaf=3, min_samples_split=27 ...........\n",
      "[CV]  max_depth=5, min_samples_leaf=3, min_samples_split=27, score=0.3750240539503574, total=   5.7s\n",
      "[CV] max_depth=5, min_samples_leaf=3, min_samples_split=27 ...........\n",
      "[CV]  max_depth=5, min_samples_leaf=3, min_samples_split=27, score=0.34659401422751057, total=   5.7s\n",
      "[CV] max_depth=5, min_samples_leaf=3, min_samples_split=27 ...........\n",
      "[CV]  max_depth=5, min_samples_leaf=3, min_samples_split=27, score=0.3664121040521493, total=   5.7s\n",
      "[CV] max_depth=5, min_samples_leaf=3, min_samples_split=81 ...........\n",
      "[CV]  max_depth=5, min_samples_leaf=3, min_samples_split=81, score=0.37297806085010476, total=   5.8s\n",
      "[CV] max_depth=5, min_samples_leaf=3, min_samples_split=81 ...........\n",
      "[CV]  max_depth=5, min_samples_leaf=3, min_samples_split=81, score=0.3337079454164206, total=   5.7s\n",
      "[CV] max_depth=5, min_samples_leaf=3, min_samples_split=81 ...........\n",
      "[CV]  max_depth=5, min_samples_leaf=3, min_samples_split=81, score=0.3569940006019172, total=   5.7s\n",
      "[CV] max_depth=5, min_samples_leaf=9, min_samples_split=3 ............\n",
      "[CV]  max_depth=5, min_samples_leaf=9, min_samples_split=3, score=0.3768599361720011, total=   5.7s\n",
      "[CV] max_depth=5, min_samples_leaf=9, min_samples_split=3 ............\n",
      "[CV]  max_depth=5, min_samples_leaf=9, min_samples_split=3, score=0.34861447066150486, total=   5.7s\n",
      "[CV] max_depth=5, min_samples_leaf=9, min_samples_split=3 ............\n",
      "[CV]  max_depth=5, min_samples_leaf=9, min_samples_split=3, score=0.3637556843746132, total=   5.7s\n",
      "[CV] max_depth=5, min_samples_leaf=9, min_samples_split=9 ............\n",
      "[CV]  max_depth=5, min_samples_leaf=9, min_samples_split=9, score=0.3773191356686354, total=   5.7s\n",
      "[CV] max_depth=5, min_samples_leaf=9, min_samples_split=9 ............\n",
      "[CV]  max_depth=5, min_samples_leaf=9, min_samples_split=9, score=0.34775519180635095, total=   5.9s\n",
      "[CV] max_depth=5, min_samples_leaf=9, min_samples_split=9 ............\n",
      "[CV]  max_depth=5, min_samples_leaf=9, min_samples_split=9, score=0.36337136093091543, total=   5.7s\n",
      "[CV] max_depth=5, min_samples_leaf=9, min_samples_split=27 ...........\n",
      "[CV]  max_depth=5, min_samples_leaf=9, min_samples_split=27, score=0.3757736285411595, total=   5.7s\n",
      "[CV] max_depth=5, min_samples_leaf=9, min_samples_split=27 ...........\n",
      "[CV]  max_depth=5, min_samples_leaf=9, min_samples_split=27, score=0.34609607418953364, total=   5.8s\n",
      "[CV] max_depth=5, min_samples_leaf=9, min_samples_split=27 ...........\n",
      "[CV]  max_depth=5, min_samples_leaf=9, min_samples_split=27, score=0.3637727114555267, total=   5.7s\n",
      "[CV] max_depth=5, min_samples_leaf=9, min_samples_split=81 ...........\n",
      "[CV]  max_depth=5, min_samples_leaf=9, min_samples_split=81, score=0.37402482412539517, total=   5.7s\n",
      "[CV] max_depth=5, min_samples_leaf=9, min_samples_split=81 ...........\n",
      "[CV]  max_depth=5, min_samples_leaf=9, min_samples_split=81, score=0.33361211399944396, total=   5.9s\n",
      "[CV] max_depth=5, min_samples_leaf=9, min_samples_split=81 ...........\n",
      "[CV]  max_depth=5, min_samples_leaf=9, min_samples_split=81, score=0.35481853115512063, total=   5.7s\n",
      "[CV] max_depth=5, min_samples_leaf=27, min_samples_split=3 ...........\n",
      "[CV]  max_depth=5, min_samples_leaf=27, min_samples_split=3, score=0.375293572539959, total=   5.7s\n",
      "[CV] max_depth=5, min_samples_leaf=27, min_samples_split=3 ...........\n",
      "[CV]  max_depth=5, min_samples_leaf=27, min_samples_split=3, score=0.3352940133685617, total=   5.8s\n",
      "[CV] max_depth=5, min_samples_leaf=27, min_samples_split=3 ...........\n",
      "[CV]  max_depth=5, min_samples_leaf=27, min_samples_split=3, score=0.35625982428830216, total=   5.7s\n",
      "[CV] max_depth=5, min_samples_leaf=27, min_samples_split=9 ...........\n",
      "[CV]  max_depth=5, min_samples_leaf=27, min_samples_split=9, score=0.37557944215035455, total=   5.7s\n",
      "[CV] max_depth=5, min_samples_leaf=27, min_samples_split=9 ...........\n",
      "[CV]  max_depth=5, min_samples_leaf=27, min_samples_split=9, score=0.33353901946243, total=   5.7s\n",
      "[CV] max_depth=5, min_samples_leaf=27, min_samples_split=9 ...........\n",
      "[CV]  max_depth=5, min_samples_leaf=27, min_samples_split=9, score=0.3557775955249166, total=   5.8s\n",
      "[CV] max_depth=5, min_samples_leaf=27, min_samples_split=27 ..........\n",
      "[CV]  max_depth=5, min_samples_leaf=27, min_samples_split=27, score=0.3745360311970909, total=   5.7s\n",
      "[CV] max_depth=5, min_samples_leaf=27, min_samples_split=27 ..........\n",
      "[CV]  max_depth=5, min_samples_leaf=27, min_samples_split=27, score=0.3339835162075664, total=   5.7s\n",
      "[CV] max_depth=5, min_samples_leaf=27, min_samples_split=27 ..........\n",
      "[CV]  max_depth=5, min_samples_leaf=27, min_samples_split=27, score=0.35630827310679514, total=   5.7s\n",
      "[CV] max_depth=5, min_samples_leaf=27, min_samples_split=81 ..........\n",
      "[CV]  max_depth=5, min_samples_leaf=27, min_samples_split=81, score=0.37434152139419863, total=   5.7s\n",
      "[CV] max_depth=5, min_samples_leaf=27, min_samples_split=81 ..........\n",
      "[CV]  max_depth=5, min_samples_leaf=27, min_samples_split=81, score=0.3335607832891457, total=   5.7s\n",
      "[CV] max_depth=5, min_samples_leaf=27, min_samples_split=81 ..........\n",
      "[CV]  max_depth=5, min_samples_leaf=27, min_samples_split=81, score=0.3564329159201455, total=   5.9s\n",
      "[CV] max_depth=7, min_samples_leaf=1, min_samples_split=3 ............\n",
      "[CV]  max_depth=7, min_samples_leaf=1, min_samples_split=3, score=0.48549489254815226, total=   7.7s\n",
      "[CV] max_depth=7, min_samples_leaf=1, min_samples_split=3 ............\n",
      "[CV]  max_depth=7, min_samples_leaf=1, min_samples_split=3, score=0.4480785147325019, total=   7.7s\n",
      "[CV] max_depth=7, min_samples_leaf=1, min_samples_split=3 ............\n"
     ]
    },
    {
     "name": "stdout",
     "output_type": "stream",
     "text": [
      "[CV]  max_depth=7, min_samples_leaf=1, min_samples_split=3, score=0.46506544434618946, total=   7.7s\n",
      "[CV] max_depth=7, min_samples_leaf=1, min_samples_split=9 ............\n",
      "[CV]  max_depth=7, min_samples_leaf=1, min_samples_split=9, score=0.48152271177211964, total=   7.7s\n",
      "[CV] max_depth=7, min_samples_leaf=1, min_samples_split=9 ............\n",
      "[CV]  max_depth=7, min_samples_leaf=1, min_samples_split=9, score=0.4500366207191638, total=   7.7s\n",
      "[CV] max_depth=7, min_samples_leaf=1, min_samples_split=9 ............\n",
      "[CV]  max_depth=7, min_samples_leaf=1, min_samples_split=9, score=0.465551115604316, total=   7.6s\n",
      "[CV] max_depth=7, min_samples_leaf=1, min_samples_split=27 ...........\n",
      "[CV]  max_depth=7, min_samples_leaf=1, min_samples_split=27, score=0.4696770115318017, total=   7.6s\n",
      "[CV] max_depth=7, min_samples_leaf=1, min_samples_split=27 ...........\n",
      "[CV]  max_depth=7, min_samples_leaf=1, min_samples_split=27, score=0.43343329963436755, total=   7.6s\n",
      "[CV] max_depth=7, min_samples_leaf=1, min_samples_split=27 ...........\n",
      "[CV]  max_depth=7, min_samples_leaf=1, min_samples_split=27, score=0.4612663808684101, total=   7.6s\n",
      "[CV] max_depth=7, min_samples_leaf=1, min_samples_split=81 ...........\n",
      "[CV]  max_depth=7, min_samples_leaf=1, min_samples_split=81, score=0.4645707588609087, total=   7.8s\n",
      "[CV] max_depth=7, min_samples_leaf=1, min_samples_split=81 ...........\n",
      "[CV]  max_depth=7, min_samples_leaf=1, min_samples_split=81, score=0.41444504011731254, total=   7.6s\n",
      "[CV] max_depth=7, min_samples_leaf=1, min_samples_split=81 ...........\n",
      "[CV]  max_depth=7, min_samples_leaf=1, min_samples_split=81, score=0.43998510005901326, total=   7.6s\n",
      "[CV] max_depth=7, min_samples_leaf=3, min_samples_split=3 ............\n",
      "[CV]  max_depth=7, min_samples_leaf=3, min_samples_split=3, score=0.4838593847579225, total=   7.6s\n",
      "[CV] max_depth=7, min_samples_leaf=3, min_samples_split=3 ............\n",
      "[CV]  max_depth=7, min_samples_leaf=3, min_samples_split=3, score=0.4452273477113331, total=   7.7s\n",
      "[CV] max_depth=7, min_samples_leaf=3, min_samples_split=3 ............\n",
      "[CV]  max_depth=7, min_samples_leaf=3, min_samples_split=3, score=0.45861947613206855, total=   7.8s\n",
      "[CV] max_depth=7, min_samples_leaf=3, min_samples_split=9 ............\n",
      "[CV]  max_depth=7, min_samples_leaf=3, min_samples_split=9, score=0.48233825304385686, total=   7.7s\n",
      "[CV] max_depth=7, min_samples_leaf=3, min_samples_split=9 ............\n",
      "[CV]  max_depth=7, min_samples_leaf=3, min_samples_split=9, score=0.44517434079204965, total=   7.7s\n",
      "[CV] max_depth=7, min_samples_leaf=3, min_samples_split=9 ............\n",
      "[CV]  max_depth=7, min_samples_leaf=3, min_samples_split=9, score=0.4618034289897689, total=   7.6s\n",
      "[CV] max_depth=7, min_samples_leaf=3, min_samples_split=27 ...........\n",
      "[CV]  max_depth=7, min_samples_leaf=3, min_samples_split=27, score=0.469158006145873, total=   7.6s\n",
      "[CV] max_depth=7, min_samples_leaf=3, min_samples_split=27 ...........\n",
      "[CV]  max_depth=7, min_samples_leaf=3, min_samples_split=27, score=0.43140855190841265, total=   7.6s\n",
      "[CV] max_depth=7, min_samples_leaf=3, min_samples_split=27 ...........\n",
      "[CV]  max_depth=7, min_samples_leaf=3, min_samples_split=27, score=0.45717941451872834, total=   7.7s\n",
      "[CV] max_depth=7, min_samples_leaf=3, min_samples_split=81 ...........\n",
      "[CV]  max_depth=7, min_samples_leaf=3, min_samples_split=81, score=0.46360476656114774, total=   7.6s\n",
      "[CV] max_depth=7, min_samples_leaf=3, min_samples_split=81 ...........\n",
      "[CV]  max_depth=7, min_samples_leaf=3, min_samples_split=81, score=0.4133873732889437, total=   7.6s\n",
      "[CV] max_depth=7, min_samples_leaf=3, min_samples_split=81 ...........\n",
      "[CV]  max_depth=7, min_samples_leaf=3, min_samples_split=81, score=0.4394089812421362, total=   7.7s\n",
      "[CV] max_depth=7, min_samples_leaf=9, min_samples_split=3 ............\n",
      "[CV]  max_depth=7, min_samples_leaf=9, min_samples_split=3, score=0.4717231355089897, total=   7.7s\n",
      "[CV] max_depth=7, min_samples_leaf=9, min_samples_split=3 ............\n",
      "[CV]  max_depth=7, min_samples_leaf=9, min_samples_split=3, score=0.43384508352505496, total=   7.6s\n",
      "[CV] max_depth=7, min_samples_leaf=9, min_samples_split=3 ............\n",
      "[CV]  max_depth=7, min_samples_leaf=9, min_samples_split=3, score=0.45336188392626825, total=   7.8s\n",
      "[CV] max_depth=7, min_samples_leaf=9, min_samples_split=9 ............\n",
      "[CV]  max_depth=7, min_samples_leaf=9, min_samples_split=9, score=0.4739093934145007, total=   7.6s\n",
      "[CV] max_depth=7, min_samples_leaf=9, min_samples_split=9 ............\n",
      "[CV]  max_depth=7, min_samples_leaf=9, min_samples_split=9, score=0.4359501724945364, total=   7.8s\n",
      "[CV] max_depth=7, min_samples_leaf=9, min_samples_split=9 ............\n",
      "[CV]  max_depth=7, min_samples_leaf=9, min_samples_split=9, score=0.4541586498688285, total=   7.6s\n",
      "[CV] max_depth=7, min_samples_leaf=9, min_samples_split=27 ...........\n",
      "[CV]  max_depth=7, min_samples_leaf=9, min_samples_split=27, score=0.47123630578016046, total=   7.7s\n",
      "[CV] max_depth=7, min_samples_leaf=9, min_samples_split=27 ...........\n",
      "[CV]  max_depth=7, min_samples_leaf=9, min_samples_split=27, score=0.43081637650495186, total=   7.7s\n",
      "[CV] max_depth=7, min_samples_leaf=9, min_samples_split=27 ...........\n",
      "[CV]  max_depth=7, min_samples_leaf=9, min_samples_split=27, score=0.4533107623046026, total=   7.6s\n",
      "[CV] max_depth=7, min_samples_leaf=9, min_samples_split=81 ...........\n",
      "[CV]  max_depth=7, min_samples_leaf=9, min_samples_split=81, score=0.4632789303532286, total=   7.6s\n",
      "[CV] max_depth=7, min_samples_leaf=9, min_samples_split=81 ...........\n",
      "[CV]  max_depth=7, min_samples_leaf=9, min_samples_split=81, score=0.41243221791949514, total=   7.6s\n",
      "[CV] max_depth=7, min_samples_leaf=9, min_samples_split=81 ...........\n",
      "[CV]  max_depth=7, min_samples_leaf=9, min_samples_split=81, score=0.43924672289307964, total=   7.5s\n",
      "[CV] max_depth=7, min_samples_leaf=27, min_samples_split=3 ...........\n",
      "[CV]  max_depth=7, min_samples_leaf=27, min_samples_split=3, score=0.4626140656139855, total=   7.6s\n",
      "[CV] max_depth=7, min_samples_leaf=27, min_samples_split=3 ...........\n",
      "[CV]  max_depth=7, min_samples_leaf=27, min_samples_split=3, score=0.41247701992789987, total=   7.6s\n",
      "[CV] max_depth=7, min_samples_leaf=27, min_samples_split=3 ...........\n",
      "[CV]  max_depth=7, min_samples_leaf=27, min_samples_split=3, score=0.4393759204147137, total=   7.6s\n",
      "[CV] max_depth=7, min_samples_leaf=27, min_samples_split=9 ...........\n",
      "[CV]  max_depth=7, min_samples_leaf=27, min_samples_split=9, score=0.46288849920260194, total=   7.6s\n",
      "[CV] max_depth=7, min_samples_leaf=27, min_samples_split=9 ...........\n",
      "[CV]  max_depth=7, min_samples_leaf=27, min_samples_split=9, score=0.4128064391696884, total=   7.6s\n",
      "[CV] max_depth=7, min_samples_leaf=27, min_samples_split=9 ...........\n",
      "[CV]  max_depth=7, min_samples_leaf=27, min_samples_split=9, score=0.4388226032005121, total=   7.5s\n",
      "[CV] max_depth=7, min_samples_leaf=27, min_samples_split=27 ..........\n",
      "[CV]  max_depth=7, min_samples_leaf=27, min_samples_split=27, score=0.46357136196745313, total=   7.5s\n",
      "[CV] max_depth=7, min_samples_leaf=27, min_samples_split=27 ..........\n",
      "[CV]  max_depth=7, min_samples_leaf=27, min_samples_split=27, score=0.4134317417373943, total=   7.8s\n",
      "[CV] max_depth=7, min_samples_leaf=27, min_samples_split=27 ..........\n",
      "[CV]  max_depth=7, min_samples_leaf=27, min_samples_split=27, score=0.43933287975812796, total=   7.6s\n",
      "[CV] max_depth=7, min_samples_leaf=27, min_samples_split=81 ..........\n",
      "[CV]  max_depth=7, min_samples_leaf=27, min_samples_split=81, score=0.46156893417172357, total=   7.6s\n",
      "[CV] max_depth=7, min_samples_leaf=27, min_samples_split=81 ..........\n",
      "[CV]  max_depth=7, min_samples_leaf=27, min_samples_split=81, score=0.4094747300273486, total=   7.5s\n",
      "[CV] max_depth=7, min_samples_leaf=27, min_samples_split=81 ..........\n",
      "[CV]  max_depth=7, min_samples_leaf=27, min_samples_split=81, score=0.43768328589119365, total=   7.5s\n"
     ]
    },
    {
     "name": "stderr",
     "output_type": "stream",
     "text": [
      "[Parallel(n_jobs=1)]: Done 192 out of 192 | elapsed: 16.6min finished\n"
     ]
    }
   ],
   "source": [
    "RFR = RandomForestRegressor(n_estimators = estimator, max_features = features)\n",
    "grd_srch_3 = GridSearchCV(RFR, param_grid_3, cv = 3, verbose = 3)\n",
    "total = grd_srch_3.fit(x1, y1)"
   ]
  },
  {
   "cell_type": "code",
   "execution_count": 60,
   "metadata": {},
   "outputs": [
    {
     "data": {
      "text/plain": [
       "(7, 1, 3)"
      ]
     },
     "execution_count": 60,
     "metadata": {},
     "output_type": "execute_result"
    }
   ],
   "source": [
    "depth = grd_srch_3.best_estimator_.max_depth\n",
    "leaf = grd_srch_3.best_estimator_.min_samples_leaf\n",
    "split = grd_srch_3.best_estimator_.min_samples_split\n",
    "depth, leaf, split"
   ]
  },
  {
   "cell_type": "code",
   "execution_count": 61,
   "metadata": {},
   "outputs": [
    {
     "data": {
      "text/plain": [
       "RandomForestRegressor(bootstrap=True, criterion='mse', max_depth=7,\n",
       "           max_features=8, max_leaf_nodes=None, min_impurity_decrease=0.0,\n",
       "           min_impurity_split=None, min_samples_leaf=1,\n",
       "           min_samples_split=3, min_weight_fraction_leaf=0.0,\n",
       "           n_estimators=256, n_jobs=None, oob_score=False,\n",
       "           random_state=None, verbose=0, warm_start=False)"
      ]
     },
     "execution_count": 61,
     "metadata": {},
     "output_type": "execute_result"
    }
   ],
   "source": [
    "RFR = RandomForestRegressor(n_estimators = estimator, max_features = features, max_depth = depth, \n",
    "                            min_samples_leaf = leaf, min_samples_split = split)\n",
    "RFR.fit(x1, y1)"
   ]
  },
  {
   "cell_type": "code",
   "execution_count": 62,
   "metadata": {},
   "outputs": [
    {
     "data": {
      "text/plain": [
       "0.451536642393099"
      ]
     },
     "execution_count": 62,
     "metadata": {},
     "output_type": "execute_result"
    }
   ],
   "source": [
    "y_pred_RFR = RFR.predict(x2)\n",
    "r2_score(y2, y_pred_RFR, multioutput='uniform_average')"
   ]
  },
  {
   "cell_type": "markdown",
   "metadata": {},
   "source": [
    "### *Обучение градиентного бустинга*"
   ]
  },
  {
   "cell_type": "code",
   "execution_count": 63,
   "metadata": {},
   "outputs": [],
   "source": [
    "param_grid_4 = {\"n_estimators\":2**np.arange(10), \"learning_rate\":0.1**np.arange(5)}\n",
    "ne = 2**np.arange(10)\n",
    "lr = 0.1**np.arange(5)"
   ]
  },
  {
   "cell_type": "code",
   "execution_count": 64,
   "metadata": {},
   "outputs": [
    {
     "name": "stdout",
     "output_type": "stream",
     "text": [
      "Fitting 3 folds for each of 50 candidates, totalling 150 fits\n",
      "[CV] learning_rate=1.0, n_estimators=1 ...............................\n",
      "[CV]  learning_rate=1.0, n_estimators=1, score=0.2896931508306877, total=   0.0s\n",
      "[CV] learning_rate=1.0, n_estimators=1 ...............................\n",
      "[CV]  learning_rate=1.0, n_estimators=1, score=0.25918108864752787, total=   0.0s\n",
      "[CV] learning_rate=1.0, n_estimators=1 ...............................\n",
      "[CV]  learning_rate=1.0, n_estimators=1, score=0.2815064245471727, total=   0.0s"
     ]
    },
    {
     "name": "stderr",
     "output_type": "stream",
     "text": [
      "[Parallel(n_jobs=1)]: Using backend SequentialBackend with 1 concurrent workers.\n",
      "[Parallel(n_jobs=1)]: Done   1 out of   1 | elapsed:    0.0s remaining:    0.0s\n",
      "[Parallel(n_jobs=1)]: Done   2 out of   2 | elapsed:    0.0s remaining:    0.0s\n"
     ]
    },
    {
     "name": "stdout",
     "output_type": "stream",
     "text": [
      "\n",
      "[CV] learning_rate=1.0, n_estimators=2 ...............................\n",
      "[CV]  learning_rate=1.0, n_estimators=2, score=0.36144400765375106, total=   0.0s\n",
      "[CV] learning_rate=1.0, n_estimators=2 ...............................\n",
      "[CV]  learning_rate=1.0, n_estimators=2, score=0.284330568848854, total=   0.0s\n",
      "[CV] learning_rate=1.0, n_estimators=2 ...............................\n",
      "[CV]  learning_rate=1.0, n_estimators=2, score=0.30720388884154126, total=   0.0s\n",
      "[CV] learning_rate=1.0, n_estimators=4 ...............................\n",
      "[CV]  learning_rate=1.0, n_estimators=4, score=0.39671589276521874, total=   0.0s\n",
      "[CV] learning_rate=1.0, n_estimators=4 ...............................\n",
      "[CV]  learning_rate=1.0, n_estimators=4, score=0.33701085459804947, total=   0.0s\n",
      "[CV] learning_rate=1.0, n_estimators=4 ...............................\n",
      "[CV]  learning_rate=1.0, n_estimators=4, score=0.36690580574122256, total=   0.0s\n",
      "[CV] learning_rate=1.0, n_estimators=8 ...............................\n",
      "[CV]  learning_rate=1.0, n_estimators=8, score=0.43936127701622346, total=   0.0s\n",
      "[CV] learning_rate=1.0, n_estimators=8 ...............................\n",
      "[CV]  learning_rate=1.0, n_estimators=8, score=0.37852890146936113, total=   0.0s\n",
      "[CV] learning_rate=1.0, n_estimators=8 ...............................\n",
      "[CV]  learning_rate=1.0, n_estimators=8, score=0.40534180309375095, total=   0.0s\n",
      "[CV] learning_rate=1.0, n_estimators=16 ..............................\n",
      "[CV]  learning_rate=1.0, n_estimators=16, score=0.47509611063703683, total=   0.2s\n",
      "[CV] learning_rate=1.0, n_estimators=16 ..............................\n",
      "[CV]  learning_rate=1.0, n_estimators=16, score=0.4236843154039617, total=   0.1s\n",
      "[CV] learning_rate=1.0, n_estimators=16 ..............................\n",
      "[CV]  learning_rate=1.0, n_estimators=16, score=0.4577348403502157, total=   0.2s\n",
      "[CV] learning_rate=1.0, n_estimators=32 ..............................\n",
      "[CV]  learning_rate=1.0, n_estimators=32, score=0.5163195317431938, total=   0.4s\n",
      "[CV] learning_rate=1.0, n_estimators=32 ..............................\n",
      "[CV]  learning_rate=1.0, n_estimators=32, score=0.5004701478636646, total=   0.4s\n",
      "[CV] learning_rate=1.0, n_estimators=32 ..............................\n",
      "[CV]  learning_rate=1.0, n_estimators=32, score=0.5014331383865619, total=   0.5s\n",
      "[CV] learning_rate=1.0, n_estimators=64 ..............................\n",
      "[CV]  learning_rate=1.0, n_estimators=64, score=0.554274243140312, total=   0.8s\n",
      "[CV] learning_rate=1.0, n_estimators=64 ..............................\n",
      "[CV]  learning_rate=1.0, n_estimators=64, score=0.5377215659964198, total=   0.7s\n",
      "[CV] learning_rate=1.0, n_estimators=64 ..............................\n",
      "[CV]  learning_rate=1.0, n_estimators=64, score=0.5367644449936715, total=   0.7s\n",
      "[CV] learning_rate=1.0, n_estimators=128 .............................\n",
      "[CV]  learning_rate=1.0, n_estimators=128, score=0.5913993035891585, total=   1.5s\n",
      "[CV] learning_rate=1.0, n_estimators=128 .............................\n",
      "[CV]  learning_rate=1.0, n_estimators=128, score=0.5688416288560731, total=   1.6s\n",
      "[CV] learning_rate=1.0, n_estimators=128 .............................\n",
      "[CV]  learning_rate=1.0, n_estimators=128, score=0.5691711755553601, total=   1.6s\n",
      "[CV] learning_rate=1.0, n_estimators=256 .............................\n",
      "[CV]  learning_rate=1.0, n_estimators=256, score=0.6205941961193003, total=   3.1s\n",
      "[CV] learning_rate=1.0, n_estimators=256 .............................\n",
      "[CV]  learning_rate=1.0, n_estimators=256, score=0.608418629410908, total=   3.1s\n",
      "[CV] learning_rate=1.0, n_estimators=256 .............................\n",
      "[CV]  learning_rate=1.0, n_estimators=256, score=0.6148844772754345, total=   3.1s\n",
      "[CV] learning_rate=1.0, n_estimators=512 .............................\n",
      "[CV]  learning_rate=1.0, n_estimators=512, score=0.6466907443099401, total=   6.2s\n",
      "[CV] learning_rate=1.0, n_estimators=512 .............................\n",
      "[CV]  learning_rate=1.0, n_estimators=512, score=0.6206688750026579, total=   6.2s\n",
      "[CV] learning_rate=1.0, n_estimators=512 .............................\n",
      "[CV]  learning_rate=1.0, n_estimators=512, score=0.6395867213059283, total=   6.2s\n",
      "[CV] learning_rate=0.1, n_estimators=1 ...............................\n",
      "[CV]  learning_rate=0.1, n_estimators=1, score=0.05695956291818827, total=   0.0s\n",
      "[CV] learning_rate=0.1, n_estimators=1 ...............................\n",
      "[CV]  learning_rate=0.1, n_estimators=1, score=0.04808209966148247, total=   0.0s\n",
      "[CV] learning_rate=0.1, n_estimators=1 ...............................\n",
      "[CV]  learning_rate=0.1, n_estimators=1, score=0.05315204357245184, total=   0.0s\n",
      "[CV] learning_rate=0.1, n_estimators=2 ...............................\n",
      "[CV]  learning_rate=0.1, n_estimators=2, score=0.10372285025970729, total=   0.0s\n",
      "[CV] learning_rate=0.1, n_estimators=2 ...............................\n",
      "[CV]  learning_rate=0.1, n_estimators=2, score=0.08805750242168843, total=   0.0s\n",
      "[CV] learning_rate=0.1, n_estimators=2 ...............................\n",
      "[CV]  learning_rate=0.1, n_estimators=2, score=0.09688708939708644, total=   0.0s\n",
      "[CV] learning_rate=0.1, n_estimators=4 ...............................\n",
      "[CV]  learning_rate=0.1, n_estimators=4, score=0.1715254684308506, total=   0.0s\n",
      "[CV] learning_rate=0.1, n_estimators=4 ...............................\n",
      "[CV]  learning_rate=0.1, n_estimators=4, score=0.14634357411166965, total=   0.0s\n",
      "[CV] learning_rate=0.1, n_estimators=4 ...............................\n",
      "[CV]  learning_rate=0.1, n_estimators=4, score=0.1598246106893092, total=   0.0s\n",
      "[CV] learning_rate=0.1, n_estimators=8 ...............................\n",
      "[CV]  learning_rate=0.1, n_estimators=8, score=0.2516633986690321, total=   0.0s\n",
      "[CV] learning_rate=0.1, n_estimators=8 ...............................\n",
      "[CV]  learning_rate=0.1, n_estimators=8, score=0.21445604858024395, total=   0.0s\n",
      "[CV] learning_rate=0.1, n_estimators=8 ...............................\n",
      "[CV]  learning_rate=0.1, n_estimators=8, score=0.235738285132329, total=   0.0s\n",
      "[CV] learning_rate=0.1, n_estimators=16 ..............................\n",
      "[CV]  learning_rate=0.1, n_estimators=16, score=0.31344247279083237, total=   0.1s\n",
      "[CV] learning_rate=0.1, n_estimators=16 ..............................\n",
      "[CV]  learning_rate=0.1, n_estimators=16, score=0.2704377009280736, total=   0.2s\n",
      "[CV] learning_rate=0.1, n_estimators=16 ..............................\n",
      "[CV]  learning_rate=0.1, n_estimators=16, score=0.29672532554460596, total=   0.1s\n",
      "[CV] learning_rate=0.1, n_estimators=32 ..............................\n",
      "[CV]  learning_rate=0.1, n_estimators=32, score=0.3677108917667786, total=   0.4s\n",
      "[CV] learning_rate=0.1, n_estimators=32 ..............................\n",
      "[CV]  learning_rate=0.1, n_estimators=32, score=0.3195400360469395, total=   0.4s\n",
      "[CV] learning_rate=0.1, n_estimators=32 ..............................\n",
      "[CV]  learning_rate=0.1, n_estimators=32, score=0.3467818553845551, total=   0.4s\n",
      "[CV] learning_rate=0.1, n_estimators=64 ..............................\n",
      "[CV]  learning_rate=0.1, n_estimators=64, score=0.4299841520787615, total=   0.8s\n",
      "[CV] learning_rate=0.1, n_estimators=64 ..............................\n",
      "[CV]  learning_rate=0.1, n_estimators=64, score=0.37660314057674027, total=   0.8s\n",
      "[CV] learning_rate=0.1, n_estimators=64 ..............................\n",
      "[CV]  learning_rate=0.1, n_estimators=64, score=0.4070174220191433, total=   0.8s\n",
      "[CV] learning_rate=0.1, n_estimators=128 .............................\n",
      "[CV]  learning_rate=0.1, n_estimators=128, score=0.4748330748382713, total=   1.6s\n",
      "[CV] learning_rate=0.1, n_estimators=128 .............................\n",
      "[CV]  learning_rate=0.1, n_estimators=128, score=0.4253311035719415, total=   1.6s\n",
      "[CV] learning_rate=0.1, n_estimators=128 .............................\n",
      "[CV]  learning_rate=0.1, n_estimators=128, score=0.45267977375210955, total=   1.7s\n",
      "[CV] learning_rate=0.1, n_estimators=256 .............................\n",
      "[CV]  learning_rate=0.1, n_estimators=256, score=0.5186428294434067, total=   3.2s\n",
      "[CV] learning_rate=0.1, n_estimators=256 .............................\n",
      "[CV]  learning_rate=0.1, n_estimators=256, score=0.4680421881405642, total=   3.2s\n",
      "[CV] learning_rate=0.1, n_estimators=256 .............................\n",
      "[CV]  learning_rate=0.1, n_estimators=256, score=0.495158947802127, total=   3.2s\n",
      "[CV] learning_rate=0.1, n_estimators=512 .............................\n"
     ]
    },
    {
     "name": "stdout",
     "output_type": "stream",
     "text": [
      "[CV]  learning_rate=0.1, n_estimators=512, score=0.5696223771986342, total=   6.4s\n",
      "[CV] learning_rate=0.1, n_estimators=512 .............................\n",
      "[CV]  learning_rate=0.1, n_estimators=512, score=0.524426442512208, total=   6.4s\n",
      "[CV] learning_rate=0.1, n_estimators=512 .............................\n",
      "[CV]  learning_rate=0.1, n_estimators=512, score=0.545296823458822, total=   6.5s\n",
      "[CV] learning_rate=0.010000000000000002, n_estimators=1 ..............\n",
      "[CV]  learning_rate=0.010000000000000002, n_estimators=1, score=0.005624199031254884, total=   0.0s\n",
      "[CV] learning_rate=0.010000000000000002, n_estimators=1 ..............\n",
      "[CV]  learning_rate=0.010000000000000002, n_estimators=1, score=0.004882346052563991, total=   0.0s\n",
      "[CV] learning_rate=0.010000000000000002, n_estimators=1 ..............\n",
      "[CV]  learning_rate=0.010000000000000002, n_estimators=1, score=0.005538800458133153, total=   0.0s\n",
      "[CV] learning_rate=0.010000000000000002, n_estimators=2 ..............\n",
      "[CV]  learning_rate=0.010000000000000002, n_estimators=2, score=0.011520840904168828, total=   0.0s\n",
      "[CV] learning_rate=0.010000000000000002, n_estimators=2 ..............\n",
      "[CV]  learning_rate=0.010000000000000002, n_estimators=2, score=0.009830918656466237, total=   0.0s\n",
      "[CV] learning_rate=0.010000000000000002, n_estimators=2 ..............\n",
      "[CV]  learning_rate=0.010000000000000002, n_estimators=2, score=0.010996779665357947, total=   0.0s\n",
      "[CV] learning_rate=0.010000000000000002, n_estimators=4 ..............\n",
      "[CV]  learning_rate=0.010000000000000002, n_estimators=4, score=0.022930408709022965, total=   0.0s\n",
      "[CV] learning_rate=0.010000000000000002, n_estimators=4 ..............\n",
      "[CV]  learning_rate=0.010000000000000002, n_estimators=4, score=0.019437919455528085, total=   0.0s\n",
      "[CV] learning_rate=0.010000000000000002, n_estimators=4 ..............\n",
      "[CV]  learning_rate=0.010000000000000002, n_estimators=4, score=0.02158336247201631, total=   0.0s\n",
      "[CV] learning_rate=0.010000000000000002, n_estimators=8 ..............\n",
      "[CV]  learning_rate=0.010000000000000002, n_estimators=8, score=0.044457535633840695, total=   0.0s\n",
      "[CV] learning_rate=0.010000000000000002, n_estimators=8 ..............\n",
      "[CV]  learning_rate=0.010000000000000002, n_estimators=8, score=0.03759748096914228, total=   0.0s\n",
      "[CV] learning_rate=0.010000000000000002, n_estimators=8 ..............\n",
      "[CV]  learning_rate=0.010000000000000002, n_estimators=8, score=0.04158546423189091, total=   0.1s\n",
      "[CV] learning_rate=0.010000000000000002, n_estimators=16 .............\n",
      "[CV]  learning_rate=0.010000000000000002, n_estimators=16, score=0.08279251051002334, total=   0.2s\n",
      "[CV] learning_rate=0.010000000000000002, n_estimators=16 .............\n",
      "[CV]  learning_rate=0.010000000000000002, n_estimators=16, score=0.07013183325955896, total=   0.2s\n",
      "[CV] learning_rate=0.010000000000000002, n_estimators=16 .............\n",
      "[CV]  learning_rate=0.010000000000000002, n_estimators=16, score=0.07722590464519297, total=   0.2s\n",
      "[CV] learning_rate=0.010000000000000002, n_estimators=32 .............\n",
      "[CV]  learning_rate=0.010000000000000002, n_estimators=32, score=0.14316544963526456, total=   0.4s\n",
      "[CV] learning_rate=0.010000000000000002, n_estimators=32 .............\n",
      "[CV]  learning_rate=0.010000000000000002, n_estimators=32, score=0.12080448648379072, total=   0.4s\n",
      "[CV] learning_rate=0.010000000000000002, n_estimators=32 .............\n",
      "[CV]  learning_rate=0.010000000000000002, n_estimators=32, score=0.1332705679215942, total=   0.4s\n",
      "[CV] learning_rate=0.010000000000000002, n_estimators=64 .............\n",
      "[CV]  learning_rate=0.010000000000000002, n_estimators=64, score=0.22092267407329488, total=   0.8s\n",
      "[CV] learning_rate=0.010000000000000002, n_estimators=64 .............\n",
      "[CV]  learning_rate=0.010000000000000002, n_estimators=64, score=0.18676991293586065, total=   0.8s\n",
      "[CV] learning_rate=0.010000000000000002, n_estimators=64 .............\n",
      "[CV]  learning_rate=0.010000000000000002, n_estimators=64, score=0.20579776532771185, total=   0.9s\n",
      "[CV] learning_rate=0.010000000000000002, n_estimators=128 ............\n",
      "[CV]  learning_rate=0.010000000000000002, n_estimators=128, score=0.29264735709831124, total=   1.7s\n",
      "[CV] learning_rate=0.010000000000000002, n_estimators=128 ............\n",
      "[CV]  learning_rate=0.010000000000000002, n_estimators=128, score=0.25232239465504547, total=   2.0s\n",
      "[CV] learning_rate=0.010000000000000002, n_estimators=128 ............\n",
      "[CV]  learning_rate=0.010000000000000002, n_estimators=128, score=0.2749020674502872, total=   1.9s\n",
      "[CV] learning_rate=0.010000000000000002, n_estimators=256 ............\n",
      "[CV]  learning_rate=0.010000000000000002, n_estimators=256, score=0.3518581228235024, total=   3.3s\n",
      "[CV] learning_rate=0.010000000000000002, n_estimators=256 ............\n",
      "[CV]  learning_rate=0.010000000000000002, n_estimators=256, score=0.30369566607853216, total=   3.3s\n",
      "[CV] learning_rate=0.010000000000000002, n_estimators=256 ............\n",
      "[CV]  learning_rate=0.010000000000000002, n_estimators=256, score=0.3311041626393173, total=   3.3s\n",
      "[CV] learning_rate=0.010000000000000002, n_estimators=512 ............\n",
      "[CV]  learning_rate=0.010000000000000002, n_estimators=512, score=0.4060265832950931, total=   6.6s\n",
      "[CV] learning_rate=0.010000000000000002, n_estimators=512 ............\n",
      "[CV]  learning_rate=0.010000000000000002, n_estimators=512, score=0.3539572545153712, total=   6.7s\n",
      "[CV] learning_rate=0.010000000000000002, n_estimators=512 ............\n",
      "[CV]  learning_rate=0.010000000000000002, n_estimators=512, score=0.38015612524972364, total=   6.7s\n",
      "[CV] learning_rate=0.0010000000000000002, n_estimators=1 .............\n",
      "[CV]  learning_rate=0.0010000000000000002, n_estimators=1, score=0.00021004259160484204, total=   0.0s\n",
      "[CV] learning_rate=0.0010000000000000002, n_estimators=1 .............\n",
      "[CV]  learning_rate=0.0010000000000000002, n_estimators=1, score=0.00034147214456903274, total=   0.0s\n",
      "[CV] learning_rate=0.0010000000000000002, n_estimators=1 .............\n",
      "[CV]  learning_rate=0.0010000000000000002, n_estimators=1, score=0.0005296980965328046, total=   0.0s\n",
      "[CV] learning_rate=0.0010000000000000002, n_estimators=2 .............\n",
      "[CV]  learning_rate=0.0010000000000000002, n_estimators=2, score=0.0008135313478612183, total=   0.0s\n",
      "[CV] learning_rate=0.0010000000000000002, n_estimators=2 .............\n",
      "[CV]  learning_rate=0.0010000000000000002, n_estimators=2, score=0.0008474907890591021, total=   0.0s\n",
      "[CV] learning_rate=0.0010000000000000002, n_estimators=2 .............\n",
      "[CV]  learning_rate=0.0010000000000000002, n_estimators=2, score=0.001087931230507988, total=   0.0s\n",
      "[CV] learning_rate=0.0010000000000000002, n_estimators=4 .............\n",
      "[CV]  learning_rate=0.0010000000000000002, n_estimators=4, score=0.0020168177881871863, total=   0.0s\n",
      "[CV] learning_rate=0.0010000000000000002, n_estimators=4 .............\n",
      "[CV]  learning_rate=0.0010000000000000002, n_estimators=4, score=0.0018565296773321858, total=   0.0s\n",
      "[CV] learning_rate=0.0010000000000000002, n_estimators=4 .............\n",
      "[CV]  learning_rate=0.0010000000000000002, n_estimators=4, score=0.0022010623127659557, total=   0.0s\n",
      "[CV] learning_rate=0.0010000000000000002, n_estimators=8 .............\n",
      "[CV]  learning_rate=0.0010000000000000002, n_estimators=8, score=0.004408695812184837, total=   0.1s\n",
      "[CV] learning_rate=0.0010000000000000002, n_estimators=8 .............\n",
      "[CV]  learning_rate=0.0010000000000000002, n_estimators=8, score=0.00386266937253521, total=   0.0s\n",
      "[CV] learning_rate=0.0010000000000000002, n_estimators=8 .............\n",
      "[CV]  learning_rate=0.0010000000000000002, n_estimators=8, score=0.004414045750266049, total=   0.0s\n",
      "[CV] learning_rate=0.0010000000000000002, n_estimators=16 ............\n",
      "[CV]  learning_rate=0.0010000000000000002, n_estimators=16, score=0.009134223721965484, total=   0.1s\n",
      "[CV] learning_rate=0.0010000000000000002, n_estimators=16 ............\n",
      "[CV]  learning_rate=0.0010000000000000002, n_estimators=16, score=0.007827637302279422, total=   0.2s\n",
      "[CV] learning_rate=0.0010000000000000002, n_estimators=16 ............\n",
      "[CV]  learning_rate=0.0010000000000000002, n_estimators=16, score=0.008787390141469564, total=   0.1s\n",
      "[CV] learning_rate=0.0010000000000000002, n_estimators=32 ............\n",
      "[CV]  learning_rate=0.0010000000000000002, n_estimators=32, score=0.01834824019491732, total=   0.4s\n",
      "[CV] learning_rate=0.0010000000000000002, n_estimators=32 ............\n"
     ]
    },
    {
     "name": "stdout",
     "output_type": "stream",
     "text": [
      "[CV]  learning_rate=0.0010000000000000002, n_estimators=32, score=0.01557180197202601, total=   0.4s\n",
      "[CV] learning_rate=0.0010000000000000002, n_estimators=32 ............\n",
      "[CV]  learning_rate=0.0010000000000000002, n_estimators=32, score=0.017322470882389918, total=   0.4s\n",
      "[CV] learning_rate=0.0010000000000000002, n_estimators=64 ............\n",
      "[CV]  learning_rate=0.0010000000000000002, n_estimators=64, score=0.03590332085647463, total=   0.8s\n",
      "[CV] learning_rate=0.0010000000000000002, n_estimators=64 ............\n",
      "[CV]  learning_rate=0.0010000000000000002, n_estimators=64, score=0.030365856408110067, total=   0.8s\n",
      "[CV] learning_rate=0.0010000000000000002, n_estimators=64 ............\n",
      "[CV]  learning_rate=0.0010000000000000002, n_estimators=64, score=0.03362495685051903, total=   0.8s\n",
      "[CV] learning_rate=0.0010000000000000002, n_estimators=128 ...........\n",
      "[CV]  learning_rate=0.0010000000000000002, n_estimators=128, score=0.06790782680740104, total=   1.7s\n",
      "[CV] learning_rate=0.0010000000000000002, n_estimators=128 ...........\n",
      "[CV]  learning_rate=0.0010000000000000002, n_estimators=128, score=0.05748217542659207, total=   1.7s\n",
      "[CV] learning_rate=0.0010000000000000002, n_estimators=128 ...........\n",
      "[CV]  learning_rate=0.0010000000000000002, n_estimators=128, score=0.06340438980627028, total=   1.7s\n",
      "[CV] learning_rate=0.0010000000000000002, n_estimators=256 ...........\n",
      "[CV]  learning_rate=0.0010000000000000002, n_estimators=256, score=0.1210600568008362, total=   3.4s\n",
      "[CV] learning_rate=0.0010000000000000002, n_estimators=256 ...........\n",
      "[CV]  learning_rate=0.0010000000000000002, n_estimators=256, score=0.10235909139820333, total=   3.4s\n",
      "[CV] learning_rate=0.0010000000000000002, n_estimators=256 ...........\n",
      "[CV]  learning_rate=0.0010000000000000002, n_estimators=256, score=0.11252168826586152, total=   3.5s\n",
      "[CV] learning_rate=0.0010000000000000002, n_estimators=512 ...........\n",
      "[CV]  learning_rate=0.0010000000000000002, n_estimators=512, score=0.19448310339481334, total=   7.6s\n",
      "[CV] learning_rate=0.0010000000000000002, n_estimators=512 ...........\n",
      "[CV]  learning_rate=0.0010000000000000002, n_estimators=512, score=0.16393691095915472, total=   6.9s\n",
      "[CV] learning_rate=0.0010000000000000002, n_estimators=512 ...........\n",
      "[CV]  learning_rate=0.0010000000000000002, n_estimators=512, score=0.18099842234404784, total=   7.2s\n",
      "[CV] learning_rate=0.00010000000000000002, n_estimators=1 ............\n",
      "[CV]  learning_rate=0.00010000000000000002, n_estimators=1, score=-0.0003341792528699372, total=   0.0s\n",
      "[CV] learning_rate=0.00010000000000000002, n_estimators=1 ............\n",
      "[CV]  learning_rate=0.00010000000000000002, n_estimators=1, score=-0.00011482423170172672, total=   0.0s\n",
      "[CV] learning_rate=0.00010000000000000002, n_estimators=1 ............\n",
      "[CV]  learning_rate=0.00010000000000000002, n_estimators=1, score=2.6310079870972558e-05, total=   0.0s\n",
      "[CV] learning_rate=0.00010000000000000002, n_estimators=2 ............\n",
      "[CV]  learning_rate=0.00010000000000000002, n_estimators=2, score=-0.00027369101218921443, total=   0.0s\n",
      "[CV] learning_rate=0.00010000000000000002, n_estimators=2 ............\n",
      "[CV]  learning_rate=0.00010000000000000002, n_estimators=2, score=-6.410987226934672e-05, total=   0.0s\n",
      "[CV] learning_rate=0.00010000000000000002, n_estimators=2 ............\n",
      "[CV]  learning_rate=0.00010000000000000002, n_estimators=2, score=8.22587337628855e-05, total=   0.0s\n",
      "[CV] learning_rate=0.00010000000000000002, n_estimators=4 ............\n",
      "[CV]  learning_rate=0.00010000000000000002, n_estimators=4, score=-0.0001527515651664757, total=   0.0s\n",
      "[CV] learning_rate=0.00010000000000000002, n_estimators=4 ............\n",
      "[CV]  learning_rate=0.00010000000000000002, n_estimators=4, score=3.728876416397853e-05, total=   0.0s\n",
      "[CV] learning_rate=0.00010000000000000002, n_estimators=4 ............\n",
      "[CV]  learning_rate=0.00010000000000000002, n_estimators=4, score=0.00019412257962647672, total=   0.0s\n",
      "[CV] learning_rate=0.00010000000000000002, n_estimators=8 ............\n",
      "[CV]  learning_rate=0.00010000000000000002, n_estimators=8, score=8.897926133610845e-05, total=   0.1s\n",
      "[CV] learning_rate=0.00010000000000000002, n_estimators=8 ............\n",
      "[CV]  learning_rate=0.00010000000000000002, n_estimators=8, score=0.00023996576312756976, total=   0.1s\n",
      "[CV] learning_rate=0.00010000000000000002, n_estimators=8 ............\n",
      "[CV]  learning_rate=0.00010000000000000002, n_estimators=8, score=0.0004177164860240667, total=   0.0s\n",
      "[CV] learning_rate=0.00010000000000000002, n_estimators=16 ...........\n",
      "[CV]  learning_rate=0.00010000000000000002, n_estimators=16, score=0.0005718492022314114, total=   0.2s\n",
      "[CV] learning_rate=0.00010000000000000002, n_estimators=16 ...........\n",
      "[CV]  learning_rate=0.00010000000000000002, n_estimators=16, score=0.0006448391116762321, total=   0.2s\n",
      "[CV] learning_rate=0.00010000000000000002, n_estimators=16 ...........\n",
      "[CV]  learning_rate=0.00010000000000000002, n_estimators=16, score=0.0008643696559365033, total=   0.2s\n",
      "[CV] learning_rate=0.00010000000000000002, n_estimators=32 ...........\n",
      "[CV]  learning_rate=0.00010000000000000002, n_estimators=32, score=0.0015352266933579273, total=   0.4s\n",
      "[CV] learning_rate=0.00010000000000000002, n_estimators=32 ...........\n",
      "[CV]  learning_rate=0.00010000000000000002, n_estimators=32, score=0.0014526667758023581, total=   0.4s\n",
      "[CV] learning_rate=0.00010000000000000002, n_estimators=32 ...........\n",
      "[CV]  learning_rate=0.00010000000000000002, n_estimators=32, score=0.0017555414057499605, total=   0.4s\n",
      "[CV] learning_rate=0.00010000000000000002, n_estimators=64 ...........\n",
      "[CV]  learning_rate=0.00010000000000000002, n_estimators=64, score=0.0034525676678515134, total=   1.0s\n",
      "[CV] learning_rate=0.00010000000000000002, n_estimators=64 ...........\n",
      "[CV]  learning_rate=0.00010000000000000002, n_estimators=64, score=0.0030606744033604416, total=   0.9s\n",
      "[CV] learning_rate=0.00010000000000000002, n_estimators=64 ...........\n",
      "[CV]  learning_rate=0.00010000000000000002, n_estimators=64, score=0.0035293783021799197, total=   0.9s\n",
      "[CV] learning_rate=0.00010000000000000002, n_estimators=128 ..........\n",
      "[CV]  learning_rate=0.00010000000000000002, n_estimators=128, score=0.007249876316437809, total=   1.9s\n",
      "[CV] learning_rate=0.00010000000000000002, n_estimators=128 ..........\n",
      "[CV]  learning_rate=0.00010000000000000002, n_estimators=128, score=0.006246324949713888, total=   1.9s\n",
      "[CV] learning_rate=0.00010000000000000002, n_estimators=128 ..........\n",
      "[CV]  learning_rate=0.00010000000000000002, n_estimators=128, score=0.00704327821977091, total=   1.8s\n",
      "[CV] learning_rate=0.00010000000000000002, n_estimators=256 ..........\n",
      "[CV]  learning_rate=0.00010000000000000002, n_estimators=256, score=0.01469723519060473, total=   3.5s\n",
      "[CV] learning_rate=0.00010000000000000002, n_estimators=256 ..........\n",
      "[CV]  learning_rate=0.00010000000000000002, n_estimators=256, score=0.01249795448427038, total=   3.5s\n",
      "[CV] learning_rate=0.00010000000000000002, n_estimators=256 ..........\n",
      "[CV]  learning_rate=0.00010000000000000002, n_estimators=256, score=0.013935711964473406, total=   3.5s\n",
      "[CV] learning_rate=0.00010000000000000002, n_estimators=512 ..........\n",
      "[CV]  learning_rate=0.00010000000000000002, n_estimators=512, score=0.028999533130841134, total=   7.1s\n",
      "[CV] learning_rate=0.00010000000000000002, n_estimators=512 ..........\n",
      "[CV]  learning_rate=0.00010000000000000002, n_estimators=512, score=0.02453648864809388, total=   7.5s\n",
      "[CV] learning_rate=0.00010000000000000002, n_estimators=512 ..........\n",
      "[CV]  learning_rate=0.00010000000000000002, n_estimators=512, score=0.02721074721757266, total=   7.2s\n"
     ]
    },
    {
     "name": "stderr",
     "output_type": "stream",
     "text": [
      "[Parallel(n_jobs=1)]: Done 150 out of 150 | elapsed:  3.7min finished\n"
     ]
    },
    {
     "data": {
      "text/plain": [
       "GridSearchCV(cv=3, error_score='raise-deprecating',\n",
       "       estimator=GradientBoostingRegressor(alpha=0.9, criterion='friedman_mse', init=None,\n",
       "             learning_rate=0.1, loss='ls', max_depth=3, max_features=None,\n",
       "             max_leaf_nodes=None, min_impurity_decrease=0.0,\n",
       "             min_impurity_split=None, min_samples_leaf=1,\n",
       "             min_sampl...=None, subsample=1.0, tol=0.0001,\n",
       "             validation_fraction=0.1, verbose=0, warm_start=False),\n",
       "       fit_params=None, iid='warn', n_jobs=None,\n",
       "       param_grid={'n_estimators': array([  1,   2,   4,   8,  16,  32,  64, 128, 256, 512], dtype=int32), 'learning_rate': array([1.e+00, 1.e-01, 1.e-02, 1.e-03, 1.e-04])},\n",
       "       pre_dispatch='2*n_jobs', refit=True, return_train_score='warn',\n",
       "       scoring=None, verbose=3)"
      ]
     },
     "execution_count": 64,
     "metadata": {},
     "output_type": "execute_result"
    }
   ],
   "source": [
    "GBR = GradientBoostingRegressor()\n",
    "grdsearch = GridSearchCV(GBR, param_grid_4, cv = 3, verbose = 3)\n",
    "grdsearch.fit(x1, y1)"
   ]
  },
  {
   "cell_type": "code",
   "execution_count": 65,
   "metadata": {},
   "outputs": [],
   "source": [
    "scoregbr = grdsearch.cv_results_['mean_test_score']"
   ]
  },
  {
   "cell_type": "code",
   "execution_count": 66,
   "metadata": {},
   "outputs": [
    {
     "data": {
      "text/plain": [
       "<mpl_toolkits.mplot3d.art3d.Poly3DCollection at 0x170a57e3b70>"
      ]
     },
     "execution_count": 66,
     "metadata": {},
     "output_type": "execute_result"
    },
    {
     "data": {
      "image/png": "[encoded data removed]",
      "text/plain": [
       "<Figure size 432x288 with 1 Axes>"
      ]
     },
     "metadata": {
      "needs_background": "light"
     },
     "output_type": "display_data"
    }
   ],
   "source": [
    "import matplotlib.pyplot as plt\n",
    "from mpl_toolkits.mplot3d import Axes3D\n",
    "fig = plt.figure()\n",
    "ax = fig.add_subplot(111, projection='3d')\n",
    "X = list(ne) * lr.shape[0]\n",
    "Y = list(lr) * ne.shape[0]\n",
    "ax.plot_trisurf(X, Y, scoregbr, color = '#00FFFF', edgecolor = 'black')"
   ]
  },
  {
   "cell_type": "code",
   "execution_count": 67,
   "metadata": {},
   "outputs": [
    {
     "data": {
      "text/plain": [
       "(512, 1.0)"
      ]
     },
     "execution_count": 67,
     "metadata": {},
     "output_type": "execute_result"
    }
   ],
   "source": [
    "estimatorgbr = grdsearch.best_estimator_.n_estimators\n",
    "lr = grdsearch.best_estimator_.learning_rate\n",
    "estimatorgbr, lr"
   ]
  },
  {
   "cell_type": "code",
   "execution_count": 68,
   "metadata": {},
   "outputs": [],
   "source": [
    "param_grid = {\"max_depth\":np.arange(1, 9)}"
   ]
  },
  {
   "cell_type": "code",
   "execution_count": 69,
   "metadata": {},
   "outputs": [
    {
     "name": "stdout",
     "output_type": "stream",
     "text": [
      "Fitting 3 folds for each of 8 candidates, totalling 24 fits\n",
      "[CV] max_depth=1 .....................................................\n"
     ]
    },
    {
     "name": "stderr",
     "output_type": "stream",
     "text": [
      "[Parallel(n_jobs=1)]: Using backend SequentialBackend with 1 concurrent workers.\n"
     ]
    },
    {
     "name": "stdout",
     "output_type": "stream",
     "text": [
      "[CV] ........... max_depth=1, score=0.44110902406367347, total=   2.2s\n",
      "[CV] max_depth=1 .....................................................\n"
     ]
    },
    {
     "name": "stderr",
     "output_type": "stream",
     "text": [
      "[Parallel(n_jobs=1)]: Done   1 out of   1 | elapsed:    2.4s remaining:    0.0s\n"
     ]
    },
    {
     "name": "stdout",
     "output_type": "stream",
     "text": [
      "[CV] ............ max_depth=1, score=0.3702896793972734, total=   2.3s\n",
      "[CV] max_depth=1 .....................................................\n"
     ]
    },
    {
     "name": "stderr",
     "output_type": "stream",
     "text": [
      "[Parallel(n_jobs=1)]: Done   2 out of   2 | elapsed:    4.9s remaining:    0.0s\n"
     ]
    },
    {
     "name": "stdout",
     "output_type": "stream",
     "text": [
      "[CV] ........... max_depth=1, score=0.41623716174598696, total=   2.3s\n",
      "[CV] max_depth=2 .....................................................\n",
      "[CV] ............ max_depth=2, score=0.5663997173217679, total=   4.1s\n",
      "[CV] max_depth=2 .....................................................\n",
      "[CV] ............ max_depth=2, score=0.5422211472942642, total=   4.1s\n",
      "[CV] max_depth=2 .....................................................\n",
      "[CV] ............ max_depth=2, score=0.5627926518526059, total=   4.0s\n",
      "[CV] max_depth=3 .....................................................\n",
      "[CV] ............ max_depth=3, score=0.6479371891115602, total=   6.5s\n",
      "[CV] max_depth=3 .....................................................\n",
      "[CV] ............ max_depth=3, score=0.6204550611385888, total=   6.5s\n",
      "[CV] max_depth=3 .....................................................\n",
      "[CV] ............ max_depth=3, score=0.6397770158429429, total=   6.8s\n",
      "[CV] max_depth=4 .....................................................\n",
      "[CV] ............ max_depth=4, score=0.6318614837631771, total=  10.1s\n",
      "[CV] max_depth=4 .....................................................\n",
      "[CV] ............ max_depth=4, score=0.6578386710238285, total=   9.4s\n",
      "[CV] max_depth=4 .....................................................\n",
      "[CV] ............ max_depth=4, score=0.6492558946525786, total=   9.7s\n",
      "[CV] max_depth=5 .....................................................\n",
      "[CV] ............ max_depth=5, score=0.5947671708252091, total=  13.6s\n",
      "[CV] max_depth=5 .....................................................\n",
      "[CV] ............ max_depth=5, score=0.6019753126755709, total=  14.1s\n",
      "[CV] max_depth=5 .....................................................\n",
      "[CV] ............ max_depth=5, score=0.6100995889019164, total=  14.1s\n",
      "[CV] max_depth=6 .....................................................\n",
      "[CV] ............ max_depth=6, score=0.5107902439906966, total=  20.2s\n",
      "[CV] max_depth=6 .....................................................\n",
      "[CV] ............ max_depth=6, score=0.6089876590270902, total=  20.4s\n",
      "[CV] max_depth=6 .....................................................\n",
      "[CV] ............ max_depth=6, score=0.5640540055626306, total=  20.4s\n",
      "[CV] max_depth=7 .....................................................\n",
      "[CV] ............ max_depth=7, score=0.5986847003306195, total=  29.3s\n",
      "[CV] max_depth=7 .....................................................\n",
      "[CV] ............ max_depth=7, score=0.5249588193403747, total=  28.6s\n",
      "[CV] max_depth=7 .....................................................\n",
      "[CV] ............ max_depth=7, score=0.5506789448589413, total=  28.7s\n",
      "[CV] max_depth=8 .....................................................\n",
      "[CV] ............ max_depth=8, score=0.5161844862899958, total=  42.7s\n",
      "[CV] max_depth=8 .....................................................\n",
      "[CV] ........... max_depth=8, score=0.49281697554101267, total=  42.5s\n",
      "[CV] max_depth=8 .....................................................\n",
      "[CV] ............ max_depth=8, score=0.5205998573966925, total=  42.1s\n"
     ]
    },
    {
     "name": "stderr",
     "output_type": "stream",
     "text": [
      "[Parallel(n_jobs=1)]: Done  24 out of  24 | elapsed:  6.6min finished\n"
     ]
    },
    {
     "data": {
      "text/plain": [
       "GridSearchCV(cv=3, error_score='raise-deprecating',\n",
       "       estimator=GradientBoostingRegressor(alpha=0.9, criterion='friedman_mse', init=None,\n",
       "             learning_rate=1.0, loss='ls', max_depth=3, max_features=None,\n",
       "             max_leaf_nodes=None, min_impurity_decrease=0.0,\n",
       "             min_impurity_split=None, min_samples_leaf=1,\n",
       "             min_sampl...=None, subsample=1.0, tol=0.0001,\n",
       "             validation_fraction=0.1, verbose=0, warm_start=False),\n",
       "       fit_params=None, iid='warn', n_jobs=None,\n",
       "       param_grid={'max_depth': array([1, 2, 3, 4, 5, 6, 7, 8])},\n",
       "       pre_dispatch='2*n_jobs', refit=True, return_train_score='warn',\n",
       "       scoring=None, verbose=3)"
      ]
     },
     "execution_count": 69,
     "metadata": {},
     "output_type": "execute_result"
    }
   ],
   "source": [
    "GBR = GradientBoostingRegressor(n_estimators = estimatorgbr, learning_rate = lr)\n",
    "grdsearch = GridSearchCV(GBR, param_grid, cv = 3, verbose = 3)\n",
    "grdsearch.fit(x1, y1)"
   ]
  },
  {
   "cell_type": "code",
   "execution_count": 70,
   "metadata": {},
   "outputs": [],
   "source": [
    "scoregbr_2 = grdsearch.cv_results_['mean_test_score']"
   ]
  },
  {
   "cell_type": "code",
   "execution_count": 71,
   "metadata": {},
   "outputs": [
    {
     "data": {
      "text/plain": [
       "[<matplotlib.lines.Line2D at 0x170a43b5588>]"
      ]
     },
     "execution_count": 71,
     "metadata": {},
     "output_type": "execute_result"
    },
    {
     "data": {
      "image/png": "[encoded data removed]",
      "text/plain": [
       "<Figure size 432x288 with 1 Axes>"
      ]
     },
     "metadata": {
      "needs_background": "light"
     },
     "output_type": "display_data"
    }
   ],
   "source": [
    "plt.plot(np.arange(1, 9), scoregbr_2)"
   ]
  },
  {
   "cell_type": "code",
   "execution_count": 72,
   "metadata": {},
   "outputs": [
    {
     "data": {
      "text/plain": [
       "4"
      ]
     },
     "execution_count": 72,
     "metadata": {},
     "output_type": "execute_result"
    }
   ],
   "source": [
    "depthgbr = grdsearch.best_estimator_.max_depth\n",
    "depthgbr"
   ]
  },
  {
   "cell_type": "code",
   "execution_count": 73,
   "metadata": {},
   "outputs": [],
   "source": [
    "param_grid = {\"max_features\":2**np.arange(1, 4), \"min_samples_leaf\":[1, 3, 9, 27], \n",
    "              \"min_samples_split\":[3, 9, 27, 81]}"
   ]
  },
  {
   "cell_type": "code",
   "execution_count": 74,
   "metadata": {},
   "outputs": [
    {
     "name": "stdout",
     "output_type": "stream",
     "text": [
      "Fitting 3 folds for each of 48 candidates, totalling 144 fits\n",
      "[CV] max_features=2, min_samples_leaf=1, min_samples_split=3 .........\n"
     ]
    },
    {
     "name": "stderr",
     "output_type": "stream",
     "text": [
      "[Parallel(n_jobs=1)]: Using backend SequentialBackend with 1 concurrent workers.\n"
     ]
    },
    {
     "name": "stdout",
     "output_type": "stream",
     "text": [
      "[CV]  max_features=2, min_samples_leaf=1, min_samples_split=3, score=0.6019220427113596, total=   4.3s\n",
      "[CV] max_features=2, min_samples_leaf=1, min_samples_split=3 .........\n"
     ]
    },
    {
     "name": "stderr",
     "output_type": "stream",
     "text": [
      "[Parallel(n_jobs=1)]: Done   1 out of   1 | elapsed:    4.7s remaining:    0.0s\n"
     ]
    },
    {
     "name": "stdout",
     "output_type": "stream",
     "text": [
      "[CV]  max_features=2, min_samples_leaf=1, min_samples_split=3, score=0.59027752635167, total=   4.3s\n",
      "[CV] max_features=2, min_samples_leaf=1, min_samples_split=3 .........\n"
     ]
    },
    {
     "name": "stderr",
     "output_type": "stream",
     "text": [
      "[Parallel(n_jobs=1)]: Done   2 out of   2 | elapsed:    9.4s remaining:    0.0s\n"
     ]
    },
    {
     "name": "stdout",
     "output_type": "stream",
     "text": [
      "[CV]  max_features=2, min_samples_leaf=1, min_samples_split=3, score=0.5981820343673822, total=   4.3s\n",
      "[CV] max_features=2, min_samples_leaf=1, min_samples_split=9 .........\n",
      "[CV]  max_features=2, min_samples_leaf=1, min_samples_split=9, score=0.572707105322871, total=   4.3s\n",
      "[CV] max_features=2, min_samples_leaf=1, min_samples_split=9 .........\n",
      "[CV]  max_features=2, min_samples_leaf=1, min_samples_split=9, score=0.6049582623781119, total=   4.2s\n",
      "[CV] max_features=2, min_samples_leaf=1, min_samples_split=9 .........\n",
      "[CV]  max_features=2, min_samples_leaf=1, min_samples_split=9, score=0.6039391621623178, total=   4.2s\n",
      "[CV] max_features=2, min_samples_leaf=1, min_samples_split=27 ........\n",
      "[CV]  max_features=2, min_samples_leaf=1, min_samples_split=27, score=0.5836681917550199, total=   4.3s\n",
      "[CV] max_features=2, min_samples_leaf=1, min_samples_split=27 ........\n",
      "[CV]  max_features=2, min_samples_leaf=1, min_samples_split=27, score=0.5748520440786009, total=   4.2s\n",
      "[CV] max_features=2, min_samples_leaf=1, min_samples_split=27 ........\n",
      "[CV]  max_features=2, min_samples_leaf=1, min_samples_split=27, score=0.5988581273366012, total=   4.4s\n",
      "[CV] max_features=2, min_samples_leaf=1, min_samples_split=81 ........\n",
      "[CV]  max_features=2, min_samples_leaf=1, min_samples_split=81, score=0.5798738157080456, total=   4.1s\n",
      "[CV] max_features=2, min_samples_leaf=1, min_samples_split=81 ........\n",
      "[CV]  max_features=2, min_samples_leaf=1, min_samples_split=81, score=0.5836133155333711, total=   4.1s\n",
      "[CV] max_features=2, min_samples_leaf=1, min_samples_split=81 ........\n",
      "[CV]  max_features=2, min_samples_leaf=1, min_samples_split=81, score=0.586635197941105, total=   4.1s\n",
      "[CV] max_features=2, min_samples_leaf=3, min_samples_split=3 .........\n",
      "[CV]  max_features=2, min_samples_leaf=3, min_samples_split=3, score=0.5703203191544706, total=   4.2s\n",
      "[CV] max_features=2, min_samples_leaf=3, min_samples_split=3 .........\n",
      "[CV]  max_features=2, min_samples_leaf=3, min_samples_split=3, score=0.5747734082810091, total=   4.2s\n",
      "[CV] max_features=2, min_samples_leaf=3, min_samples_split=3 .........\n",
      "[CV]  max_features=2, min_samples_leaf=3, min_samples_split=3, score=0.576161749763396, total=   4.2s\n",
      "[CV] max_features=2, min_samples_leaf=3, min_samples_split=9 .........\n",
      "[CV]  max_features=2, min_samples_leaf=3, min_samples_split=9, score=0.580664728255226, total=   4.2s\n",
      "[CV] max_features=2, min_samples_leaf=3, min_samples_split=9 .........\n",
      "[CV]  max_features=2, min_samples_leaf=3, min_samples_split=9, score=0.5761884951844702, total=   4.2s\n",
      "[CV] max_features=2, min_samples_leaf=3, min_samples_split=9 .........\n",
      "[CV]  max_features=2, min_samples_leaf=3, min_samples_split=9, score=0.5996399432022437, total=   4.2s\n",
      "[CV] max_features=2, min_samples_leaf=3, min_samples_split=27 ........\n",
      "[CV]  max_features=2, min_samples_leaf=3, min_samples_split=27, score=0.5774512752361682, total=   4.2s\n",
      "[CV] max_features=2, min_samples_leaf=3, min_samples_split=27 ........\n",
      "[CV]  max_features=2, min_samples_leaf=3, min_samples_split=27, score=0.5716800447787292, total=   4.2s\n",
      "[CV] max_features=2, min_samples_leaf=3, min_samples_split=27 ........\n",
      "[CV]  max_features=2, min_samples_leaf=3, min_samples_split=27, score=0.6072062870387274, total=   4.1s\n",
      "[CV] max_features=2, min_samples_leaf=3, min_samples_split=81 ........\n",
      "[CV]  max_features=2, min_samples_leaf=3, min_samples_split=81, score=0.5838066669386948, total=   4.1s\n",
      "[CV] max_features=2, min_samples_leaf=3, min_samples_split=81 ........\n",
      "[CV]  max_features=2, min_samples_leaf=3, min_samples_split=81, score=0.5668824058381283, total=   4.1s\n",
      "[CV] max_features=2, min_samples_leaf=3, min_samples_split=81 ........\n",
      "[CV]  max_features=2, min_samples_leaf=3, min_samples_split=81, score=0.5889786976815492, total=   4.1s\n",
      "[CV] max_features=2, min_samples_leaf=9, min_samples_split=3 .........\n",
      "[CV]  max_features=2, min_samples_leaf=9, min_samples_split=3, score=0.5730424664175349, total=   4.2s\n",
      "[CV] max_features=2, min_samples_leaf=9, min_samples_split=3 .........\n",
      "[CV]  max_features=2, min_samples_leaf=9, min_samples_split=3, score=0.5798057326534599, total=   4.2s\n",
      "[CV] max_features=2, min_samples_leaf=9, min_samples_split=3 .........\n",
      "[CV]  max_features=2, min_samples_leaf=9, min_samples_split=3, score=0.5910196885281412, total=   4.2s\n",
      "[CV] max_features=2, min_samples_leaf=9, min_samples_split=9 .........\n",
      "[CV]  max_features=2, min_samples_leaf=9, min_samples_split=9, score=0.573941876064741, total=   4.2s\n",
      "[CV] max_features=2, min_samples_leaf=9, min_samples_split=9 .........\n",
      "[CV]  max_features=2, min_samples_leaf=9, min_samples_split=9, score=0.5577886328967971, total=   4.2s\n",
      "[CV] max_features=2, min_samples_leaf=9, min_samples_split=9 .........\n",
      "[CV]  max_features=2, min_samples_leaf=9, min_samples_split=9, score=0.5843400779649672, total=   4.2s\n",
      "[CV] max_features=2, min_samples_leaf=9, min_samples_split=27 ........\n",
      "[CV]  max_features=2, min_samples_leaf=9, min_samples_split=27, score=0.5744333163484174, total=   4.2s\n",
      "[CV] max_features=2, min_samples_leaf=9, min_samples_split=27 ........\n",
      "[CV]  max_features=2, min_samples_leaf=9, min_samples_split=27, score=0.5874338644106267, total=   4.2s\n",
      "[CV] max_features=2, min_samples_leaf=9, min_samples_split=27 ........\n",
      "[CV]  max_features=2, min_samples_leaf=9, min_samples_split=27, score=0.581460927462419, total=   4.2s\n",
      "[CV] max_features=2, min_samples_leaf=9, min_samples_split=81 ........\n",
      "[CV]  max_features=2, min_samples_leaf=9, min_samples_split=81, score=0.5723118159154899, total=   4.1s\n",
      "[CV] max_features=2, min_samples_leaf=9, min_samples_split=81 ........\n",
      "[CV]  max_features=2, min_samples_leaf=9, min_samples_split=81, score=0.5796056421699947, total=   4.1s\n",
      "[CV] max_features=2, min_samples_leaf=9, min_samples_split=81 ........\n",
      "[CV]  max_features=2, min_samples_leaf=9, min_samples_split=81, score=0.5947502188674418, total=   4.1s\n",
      "[CV] max_features=2, min_samples_leaf=27, min_samples_split=3 ........\n",
      "[CV]  max_features=2, min_samples_leaf=27, min_samples_split=3, score=0.5764575904298228, total=   4.1s\n",
      "[CV] max_features=2, min_samples_leaf=27, min_samples_split=3 ........\n",
      "[CV]  max_features=2, min_samples_leaf=27, min_samples_split=3, score=0.5679662443178745, total=   4.1s\n",
      "[CV] max_features=2, min_samples_leaf=27, min_samples_split=3 ........\n",
      "[CV]  max_features=2, min_samples_leaf=27, min_samples_split=3, score=0.5861815587849711, total=   4.1s\n",
      "[CV] max_features=2, min_samples_leaf=27, min_samples_split=9 ........\n",
      "[CV]  max_features=2, min_samples_leaf=27, min_samples_split=9, score=0.5809324256201701, total=   4.1s\n",
      "[CV] max_features=2, min_samples_leaf=27, min_samples_split=9 ........\n",
      "[CV]  max_features=2, min_samples_leaf=27, min_samples_split=9, score=0.5670436961657166, total=   4.2s\n",
      "[CV] max_features=2, min_samples_leaf=27, min_samples_split=9 ........\n",
      "[CV]  max_features=2, min_samples_leaf=27, min_samples_split=9, score=0.5854558741018803, total=   4.2s\n",
      "[CV] max_features=2, min_samples_leaf=27, min_samples_split=27 .......\n",
      "[CV]  max_features=2, min_samples_leaf=27, min_samples_split=27, score=0.5797511358507832, total=   4.3s\n",
      "[CV] max_features=2, min_samples_leaf=27, min_samples_split=27 .......\n",
      "[CV]  max_features=2, min_samples_leaf=27, min_samples_split=27, score=0.5701018457574394, total=   4.2s\n",
      "[CV] max_features=2, min_samples_leaf=27, min_samples_split=27 .......\n",
      "[CV]  max_features=2, min_samples_leaf=27, min_samples_split=27, score=0.5823738025913061, total=   4.1s\n",
      "[CV] max_features=2, min_samples_leaf=27, min_samples_split=81 .......\n",
      "[CV]  max_features=2, min_samples_leaf=27, min_samples_split=81, score=0.5752651881786894, total=   4.1s\n",
      "[CV] max_features=2, min_samples_leaf=27, min_samples_split=81 .......\n",
      "[CV]  max_features=2, min_samples_leaf=27, min_samples_split=81, score=0.5658291205226906, total=   4.1s\n",
      "[CV] max_features=2, min_samples_leaf=27, min_samples_split=81 .......\n",
      "[CV]  max_features=2, min_samples_leaf=27, min_samples_split=81, score=0.5876965267396812, total=   4.1s\n",
      "[CV] max_features=4, min_samples_leaf=1, min_samples_split=3 .........\n",
      "[CV]  max_features=4, min_samples_leaf=1, min_samples_split=3, score=0.6148945751966185, total=   5.9s\n",
      "[CV] max_features=4, min_samples_leaf=1, min_samples_split=3 .........\n"
     ]
    },
    {
     "name": "stdout",
     "output_type": "stream",
     "text": [
      "[CV]  max_features=4, min_samples_leaf=1, min_samples_split=3, score=0.6125248948160573, total=   6.0s\n",
      "[CV] max_features=4, min_samples_leaf=1, min_samples_split=3 .........\n",
      "[CV]  max_features=4, min_samples_leaf=1, min_samples_split=3, score=0.661462147159712, total=   5.9s\n",
      "[CV] max_features=4, min_samples_leaf=1, min_samples_split=9 .........\n",
      "[CV]  max_features=4, min_samples_leaf=1, min_samples_split=9, score=0.6275982511116529, total=   5.9s\n",
      "[CV] max_features=4, min_samples_leaf=1, min_samples_split=9 .........\n",
      "[CV]  max_features=4, min_samples_leaf=1, min_samples_split=9, score=0.6213356064722195, total=   6.0s\n",
      "[CV] max_features=4, min_samples_leaf=1, min_samples_split=9 .........\n",
      "[CV]  max_features=4, min_samples_leaf=1, min_samples_split=9, score=0.6254342339468146, total=   5.9s\n",
      "[CV] max_features=4, min_samples_leaf=1, min_samples_split=27 ........\n",
      "[CV]  max_features=4, min_samples_leaf=1, min_samples_split=27, score=0.6291293100303372, total=   5.9s\n",
      "[CV] max_features=4, min_samples_leaf=1, min_samples_split=27 ........\n",
      "[CV]  max_features=4, min_samples_leaf=1, min_samples_split=27, score=0.6290105374053736, total=   5.9s\n",
      "[CV] max_features=4, min_samples_leaf=1, min_samples_split=27 ........\n",
      "[CV]  max_features=4, min_samples_leaf=1, min_samples_split=27, score=0.6475876983767003, total=   6.0s\n",
      "[CV] max_features=4, min_samples_leaf=1, min_samples_split=81 ........\n",
      "[CV]  max_features=4, min_samples_leaf=1, min_samples_split=81, score=0.6347061333425698, total=   5.8s\n",
      "[CV] max_features=4, min_samples_leaf=1, min_samples_split=81 ........\n",
      "[CV]  max_features=4, min_samples_leaf=1, min_samples_split=81, score=0.59905258913593, total=   5.6s\n",
      "[CV] max_features=4, min_samples_leaf=1, min_samples_split=81 ........\n",
      "[CV]  max_features=4, min_samples_leaf=1, min_samples_split=81, score=0.6174971419924729, total=   5.7s\n",
      "[CV] max_features=4, min_samples_leaf=3, min_samples_split=3 .........\n",
      "[CV]  max_features=4, min_samples_leaf=3, min_samples_split=3, score=0.6045590325943502, total=   5.9s\n",
      "[CV] max_features=4, min_samples_leaf=3, min_samples_split=3 .........\n",
      "[CV]  max_features=4, min_samples_leaf=3, min_samples_split=3, score=0.6415837501707524, total=   5.9s\n",
      "[CV] max_features=4, min_samples_leaf=3, min_samples_split=3 .........\n",
      "[CV]  max_features=4, min_samples_leaf=3, min_samples_split=3, score=0.6422252684602383, total=   5.9s\n",
      "[CV] max_features=4, min_samples_leaf=3, min_samples_split=9 .........\n",
      "[CV]  max_features=4, min_samples_leaf=3, min_samples_split=9, score=0.6102468124849949, total=   5.8s\n",
      "[CV] max_features=4, min_samples_leaf=3, min_samples_split=9 .........\n",
      "[CV]  max_features=4, min_samples_leaf=3, min_samples_split=9, score=0.6277279303937087, total=   5.8s\n",
      "[CV] max_features=4, min_samples_leaf=3, min_samples_split=9 .........\n",
      "[CV]  max_features=4, min_samples_leaf=3, min_samples_split=9, score=0.6179204590447815, total=   5.8s\n",
      "[CV] max_features=4, min_samples_leaf=3, min_samples_split=27 ........\n",
      "[CV]  max_features=4, min_samples_leaf=3, min_samples_split=27, score=0.6267029490765569, total=   5.7s\n",
      "[CV] max_features=4, min_samples_leaf=3, min_samples_split=27 ........\n",
      "[CV]  max_features=4, min_samples_leaf=3, min_samples_split=27, score=0.6163906375420121, total=   5.8s\n",
      "[CV] max_features=4, min_samples_leaf=3, min_samples_split=27 ........\n",
      "[CV]  max_features=4, min_samples_leaf=3, min_samples_split=27, score=0.6387904374852251, total=   5.7s\n",
      "[CV] max_features=4, min_samples_leaf=3, min_samples_split=81 ........\n",
      "[CV]  max_features=4, min_samples_leaf=3, min_samples_split=81, score=0.6237025546991442, total=   5.6s\n",
      "[CV] max_features=4, min_samples_leaf=3, min_samples_split=81 ........\n",
      "[CV]  max_features=4, min_samples_leaf=3, min_samples_split=81, score=0.616226196337947, total=   5.6s\n",
      "[CV] max_features=4, min_samples_leaf=3, min_samples_split=81 ........\n",
      "[CV]  max_features=4, min_samples_leaf=3, min_samples_split=81, score=0.6357824476265368, total=   5.7s\n",
      "[CV] max_features=4, min_samples_leaf=9, min_samples_split=3 .........\n",
      "[CV]  max_features=4, min_samples_leaf=9, min_samples_split=3, score=0.6302158787676699, total=   5.8s\n",
      "[CV] max_features=4, min_samples_leaf=9, min_samples_split=3 .........\n",
      "[CV]  max_features=4, min_samples_leaf=9, min_samples_split=3, score=0.6216833877244243, total=   5.8s\n",
      "[CV] max_features=4, min_samples_leaf=9, min_samples_split=3 .........\n",
      "[CV]  max_features=4, min_samples_leaf=9, min_samples_split=3, score=0.6394042939613517, total=   5.8s\n",
      "[CV] max_features=4, min_samples_leaf=9, min_samples_split=9 .........\n",
      "[CV]  max_features=4, min_samples_leaf=9, min_samples_split=9, score=0.6237195734047634, total=   5.8s\n",
      "[CV] max_features=4, min_samples_leaf=9, min_samples_split=9 .........\n",
      "[CV]  max_features=4, min_samples_leaf=9, min_samples_split=9, score=0.6323616558503847, total=   5.9s\n",
      "[CV] max_features=4, min_samples_leaf=9, min_samples_split=9 .........\n",
      "[CV]  max_features=4, min_samples_leaf=9, min_samples_split=9, score=0.6333425446561858, total=   5.8s\n",
      "[CV] max_features=4, min_samples_leaf=9, min_samples_split=27 ........\n",
      "[CV]  max_features=4, min_samples_leaf=9, min_samples_split=27, score=0.6303958594811618, total=   5.8s\n",
      "[CV] max_features=4, min_samples_leaf=9, min_samples_split=27 ........\n",
      "[CV]  max_features=4, min_samples_leaf=9, min_samples_split=27, score=0.6272127954109703, total=   5.8s\n",
      "[CV] max_features=4, min_samples_leaf=9, min_samples_split=27 ........\n",
      "[CV]  max_features=4, min_samples_leaf=9, min_samples_split=27, score=0.6269544619534784, total=   5.7s\n",
      "[CV] max_features=4, min_samples_leaf=9, min_samples_split=81 ........\n",
      "[CV]  max_features=4, min_samples_leaf=9, min_samples_split=81, score=0.6186706041745456, total=   5.6s\n",
      "[CV] max_features=4, min_samples_leaf=9, min_samples_split=81 ........\n",
      "[CV]  max_features=4, min_samples_leaf=9, min_samples_split=81, score=0.6280179870410347, total=   5.5s\n",
      "[CV] max_features=4, min_samples_leaf=9, min_samples_split=81 ........\n",
      "[CV]  max_features=4, min_samples_leaf=9, min_samples_split=81, score=0.6290468439818571, total=   5.6s\n",
      "[CV] max_features=4, min_samples_leaf=27, min_samples_split=3 ........\n",
      "[CV]  max_features=4, min_samples_leaf=27, min_samples_split=3, score=0.6268758019215923, total=   5.6s\n",
      "[CV] max_features=4, min_samples_leaf=27, min_samples_split=3 ........\n",
      "[CV]  max_features=4, min_samples_leaf=27, min_samples_split=3, score=0.6099254068842004, total=   5.7s\n",
      "[CV] max_features=4, min_samples_leaf=27, min_samples_split=3 ........\n",
      "[CV]  max_features=4, min_samples_leaf=27, min_samples_split=3, score=0.6222151054547839, total=   5.6s\n",
      "[CV] max_features=4, min_samples_leaf=27, min_samples_split=9 ........\n",
      "[CV]  max_features=4, min_samples_leaf=27, min_samples_split=9, score=0.627263300138027, total=   5.7s\n",
      "[CV] max_features=4, min_samples_leaf=27, min_samples_split=9 ........\n",
      "[CV]  max_features=4, min_samples_leaf=27, min_samples_split=9, score=0.6074491724401236, total=   5.7s\n",
      "[CV] max_features=4, min_samples_leaf=27, min_samples_split=9 ........\n",
      "[CV]  max_features=4, min_samples_leaf=27, min_samples_split=9, score=0.6235336907552008, total=   5.7s\n",
      "[CV] max_features=4, min_samples_leaf=27, min_samples_split=27 .......\n",
      "[CV]  max_features=4, min_samples_leaf=27, min_samples_split=27, score=0.6241389667992727, total=   5.8s\n",
      "[CV] max_features=4, min_samples_leaf=27, min_samples_split=27 .......\n",
      "[CV]  max_features=4, min_samples_leaf=27, min_samples_split=27, score=0.6139013637966091, total=   5.6s\n",
      "[CV] max_features=4, min_samples_leaf=27, min_samples_split=27 .......\n",
      "[CV]  max_features=4, min_samples_leaf=27, min_samples_split=27, score=0.631897662188413, total=   6.0s\n",
      "[CV] max_features=4, min_samples_leaf=27, min_samples_split=81 .......\n",
      "[CV]  max_features=4, min_samples_leaf=27, min_samples_split=81, score=0.619838606857758, total=   5.8s\n",
      "[CV] max_features=4, min_samples_leaf=27, min_samples_split=81 .......\n",
      "[CV]  max_features=4, min_samples_leaf=27, min_samples_split=81, score=0.6141729587303157, total=   5.6s\n",
      "[CV] max_features=4, min_samples_leaf=27, min_samples_split=81 .......\n",
      "[CV]  max_features=4, min_samples_leaf=27, min_samples_split=81, score=0.6240451039505652, total=   5.8s\n",
      "[CV] max_features=8, min_samples_leaf=1, min_samples_split=3 .........\n"
     ]
    },
    {
     "name": "stdout",
     "output_type": "stream",
     "text": [
      "[CV]  max_features=8, min_samples_leaf=1, min_samples_split=3, score=0.6349226638274208, total=   9.2s\n",
      "[CV] max_features=8, min_samples_leaf=1, min_samples_split=3 .........\n",
      "[CV]  max_features=8, min_samples_leaf=1, min_samples_split=3, score=0.649441926931172, total=   9.2s\n",
      "[CV] max_features=8, min_samples_leaf=1, min_samples_split=3 .........\n",
      "[CV]  max_features=8, min_samples_leaf=1, min_samples_split=3, score=0.6576551526039695, total=   9.2s\n",
      "[CV] max_features=8, min_samples_leaf=1, min_samples_split=9 .........\n",
      "[CV]  max_features=8, min_samples_leaf=1, min_samples_split=9, score=0.6720135770620401, total=   9.4s\n",
      "[CV] max_features=8, min_samples_leaf=1, min_samples_split=9 .........\n",
      "[CV]  max_features=8, min_samples_leaf=1, min_samples_split=9, score=0.6588989093343351, total=   9.9s\n",
      "[CV] max_features=8, min_samples_leaf=1, min_samples_split=9 .........\n",
      "[CV]  max_features=8, min_samples_leaf=1, min_samples_split=9, score=0.6394176746999441, total=   9.1s\n",
      "[CV] max_features=8, min_samples_leaf=1, min_samples_split=27 ........\n",
      "[CV]  max_features=8, min_samples_leaf=1, min_samples_split=27, score=0.6424889356562422, total=   8.8s\n",
      "[CV] max_features=8, min_samples_leaf=1, min_samples_split=27 ........\n",
      "[CV]  max_features=8, min_samples_leaf=1, min_samples_split=27, score=0.6578939087300604, total=   8.8s\n",
      "[CV] max_features=8, min_samples_leaf=1, min_samples_split=27 ........\n",
      "[CV]  max_features=8, min_samples_leaf=1, min_samples_split=27, score=0.6609481807221039, total=   8.8s\n",
      "[CV] max_features=8, min_samples_leaf=1, min_samples_split=81 ........\n",
      "[CV]  max_features=8, min_samples_leaf=1, min_samples_split=81, score=0.6188141276947345, total=   8.5s\n",
      "[CV] max_features=8, min_samples_leaf=1, min_samples_split=81 ........\n",
      "[CV]  max_features=8, min_samples_leaf=1, min_samples_split=81, score=0.6522555335789105, total=   8.4s\n",
      "[CV] max_features=8, min_samples_leaf=1, min_samples_split=81 ........\n",
      "[CV]  max_features=8, min_samples_leaf=1, min_samples_split=81, score=0.657266783352499, total=   8.4s\n",
      "[CV] max_features=8, min_samples_leaf=3, min_samples_split=3 .........\n",
      "[CV]  max_features=8, min_samples_leaf=3, min_samples_split=3, score=0.6660442220920005, total=   9.2s\n",
      "[CV] max_features=8, min_samples_leaf=3, min_samples_split=3 .........\n",
      "[CV]  max_features=8, min_samples_leaf=3, min_samples_split=3, score=0.6626596485507918, total=   9.1s\n",
      "[CV] max_features=8, min_samples_leaf=3, min_samples_split=3 .........\n",
      "[CV]  max_features=8, min_samples_leaf=3, min_samples_split=3, score=0.681320894194038, total=   9.1s\n",
      "[CV] max_features=8, min_samples_leaf=3, min_samples_split=9 .........\n",
      "[CV]  max_features=8, min_samples_leaf=3, min_samples_split=9, score=0.6250969176438776, total=   9.1s\n",
      "[CV] max_features=8, min_samples_leaf=3, min_samples_split=9 .........\n",
      "[CV]  max_features=8, min_samples_leaf=3, min_samples_split=9, score=0.6582924014421884, total=   9.0s\n",
      "[CV] max_features=8, min_samples_leaf=3, min_samples_split=9 .........\n",
      "[CV]  max_features=8, min_samples_leaf=3, min_samples_split=9, score=0.6657097169748045, total=   9.0s\n",
      "[CV] max_features=8, min_samples_leaf=3, min_samples_split=27 ........\n",
      "[CV]  max_features=8, min_samples_leaf=3, min_samples_split=27, score=0.6709198740760276, total=   8.7s\n",
      "[CV] max_features=8, min_samples_leaf=3, min_samples_split=27 ........\n",
      "[CV]  max_features=8, min_samples_leaf=3, min_samples_split=27, score=0.6570738867049385, total=   8.7s\n",
      "[CV] max_features=8, min_samples_leaf=3, min_samples_split=27 ........\n",
      "[CV]  max_features=8, min_samples_leaf=3, min_samples_split=27, score=0.6718416252933548, total=   8.8s\n",
      "[CV] max_features=8, min_samples_leaf=3, min_samples_split=81 ........\n",
      "[CV]  max_features=8, min_samples_leaf=3, min_samples_split=81, score=0.6436218335645789, total=   8.4s\n",
      "[CV] max_features=8, min_samples_leaf=3, min_samples_split=81 ........\n",
      "[CV]  max_features=8, min_samples_leaf=3, min_samples_split=81, score=0.6511207811168707, total=   8.5s\n",
      "[CV] max_features=8, min_samples_leaf=3, min_samples_split=81 ........\n",
      "[CV]  max_features=8, min_samples_leaf=3, min_samples_split=81, score=0.6606329572001558, total=   8.9s\n",
      "[CV] max_features=8, min_samples_leaf=9, min_samples_split=3 .........\n",
      "[CV]  max_features=8, min_samples_leaf=9, min_samples_split=3, score=0.6472052255048856, total=   8.9s\n",
      "[CV] max_features=8, min_samples_leaf=9, min_samples_split=3 .........\n",
      "[CV]  max_features=8, min_samples_leaf=9, min_samples_split=3, score=0.6545850145353764, total=   9.0s\n",
      "[CV] max_features=8, min_samples_leaf=9, min_samples_split=3 .........\n",
      "[CV]  max_features=8, min_samples_leaf=9, min_samples_split=3, score=0.65692979872369, total=   8.9s\n",
      "[CV] max_features=8, min_samples_leaf=9, min_samples_split=9 .........\n",
      "[CV]  max_features=8, min_samples_leaf=9, min_samples_split=9, score=0.6472283981456803, total=   8.9s\n",
      "[CV] max_features=8, min_samples_leaf=9, min_samples_split=9 .........\n",
      "[CV]  max_features=8, min_samples_leaf=9, min_samples_split=9, score=0.6545850145353764, total=   9.0s\n",
      "[CV] max_features=8, min_samples_leaf=9, min_samples_split=9 .........\n",
      "[CV]  max_features=8, min_samples_leaf=9, min_samples_split=9, score=0.6569498467444491, total=   9.3s\n",
      "[CV] max_features=8, min_samples_leaf=9, min_samples_split=27 ........\n",
      "[CV]  max_features=8, min_samples_leaf=9, min_samples_split=27, score=0.6451454965416186, total=   8.8s\n",
      "[CV] max_features=8, min_samples_leaf=9, min_samples_split=27 ........\n",
      "[CV]  max_features=8, min_samples_leaf=9, min_samples_split=27, score=0.6604818366441525, total=   8.8s\n",
      "[CV] max_features=8, min_samples_leaf=9, min_samples_split=27 ........\n",
      "[CV]  max_features=8, min_samples_leaf=9, min_samples_split=27, score=0.6535291384287785, total=   8.8s\n",
      "[CV] max_features=8, min_samples_leaf=9, min_samples_split=81 ........\n",
      "[CV]  max_features=8, min_samples_leaf=9, min_samples_split=81, score=0.6529064368484581, total=   8.4s\n",
      "[CV] max_features=8, min_samples_leaf=9, min_samples_split=81 ........\n",
      "[CV]  max_features=8, min_samples_leaf=9, min_samples_split=81, score=0.6434307932939226, total=   8.3s\n",
      "[CV] max_features=8, min_samples_leaf=9, min_samples_split=81 ........\n",
      "[CV]  max_features=8, min_samples_leaf=9, min_samples_split=81, score=0.6522774395016941, total=   8.5s\n",
      "[CV] max_features=8, min_samples_leaf=27, min_samples_split=3 ........\n",
      "[CV]  max_features=8, min_samples_leaf=27, min_samples_split=3, score=0.653979268162061, total=   8.6s\n",
      "[CV] max_features=8, min_samples_leaf=27, min_samples_split=3 ........\n",
      "[CV]  max_features=8, min_samples_leaf=27, min_samples_split=3, score=0.6422171464489681, total=   8.6s\n",
      "[CV] max_features=8, min_samples_leaf=27, min_samples_split=3 ........\n",
      "[CV]  max_features=8, min_samples_leaf=27, min_samples_split=3, score=0.640214337951282, total=   8.8s\n",
      "[CV] max_features=8, min_samples_leaf=27, min_samples_split=9 ........\n",
      "[CV]  max_features=8, min_samples_leaf=27, min_samples_split=9, score=0.6540013381006013, total=   8.6s\n",
      "[CV] max_features=8, min_samples_leaf=27, min_samples_split=9 ........\n",
      "[CV]  max_features=8, min_samples_leaf=27, min_samples_split=9, score=0.6422171464489681, total=   8.6s\n",
      "[CV] max_features=8, min_samples_leaf=27, min_samples_split=9 ........\n",
      "[CV]  max_features=8, min_samples_leaf=27, min_samples_split=9, score=0.6402170161009506, total=   8.8s\n",
      "[CV] max_features=8, min_samples_leaf=27, min_samples_split=27 .......\n",
      "[CV]  max_features=8, min_samples_leaf=27, min_samples_split=27, score=0.6539621107662147, total=   8.6s\n",
      "[CV] max_features=8, min_samples_leaf=27, min_samples_split=27 .......\n",
      "[CV]  max_features=8, min_samples_leaf=27, min_samples_split=27, score=0.6422171464489681, total=   8.6s\n",
      "[CV] max_features=8, min_samples_leaf=27, min_samples_split=27 .......\n",
      "[CV]  max_features=8, min_samples_leaf=27, min_samples_split=27, score=0.640214337951282, total=   8.7s\n",
      "[CV] max_features=8, min_samples_leaf=27, min_samples_split=81 .......\n",
      "[CV]  max_features=8, min_samples_leaf=27, min_samples_split=81, score=0.650413212207441, total=   8.5s\n",
      "[CV] max_features=8, min_samples_leaf=27, min_samples_split=81 .......\n",
      "[CV]  max_features=8, min_samples_leaf=27, min_samples_split=81, score=0.6369256560937822, total=   8.5s\n",
      "[CV] max_features=8, min_samples_leaf=27, min_samples_split=81 .......\n"
     ]
    },
    {
     "name": "stdout",
     "output_type": "stream",
     "text": [
      "[CV]  max_features=8, min_samples_leaf=27, min_samples_split=81, score=0.6452255252212529, total=   8.5s\n"
     ]
    },
    {
     "name": "stderr",
     "output_type": "stream",
     "text": [
      "[Parallel(n_jobs=1)]: Done 144 out of 144 | elapsed: 16.1min finished\n"
     ]
    },
    {
     "data": {
      "text/plain": [
       "GridSearchCV(cv=3, error_score='raise-deprecating',\n",
       "       estimator=GradientBoostingRegressor(alpha=0.9, criterion='friedman_mse', init=None,\n",
       "             learning_rate=1.0, loss='ls', max_depth=4, max_features=None,\n",
       "             max_leaf_nodes=None, min_impurity_decrease=0.0,\n",
       "             min_impurity_split=None, min_samples_leaf=1,\n",
       "             min_sampl...=None, subsample=1.0, tol=0.0001,\n",
       "             validation_fraction=0.1, verbose=0, warm_start=False),\n",
       "       fit_params=None, iid='warn', n_jobs=None,\n",
       "       param_grid={'max_features': array([2, 4, 8], dtype=int32), 'min_samples_leaf': [1, 3, 9, 27], 'min_samples_split': [3, 9, 27, 81]},\n",
       "       pre_dispatch='2*n_jobs', refit=True, return_train_score='warn',\n",
       "       scoring=None, verbose=3)"
      ]
     },
     "execution_count": 74,
     "metadata": {},
     "output_type": "execute_result"
    }
   ],
   "source": [
    "GBR = GradientBoostingRegressor(n_estimators = estimatorgbr, learning_rate = lr, max_depth = depthgbr)\n",
    "grdsearch = GridSearchCV(GBR, param_grid, cv = 3, verbose = 3)\n",
    "grdsearch.fit(x1, y1)"
   ]
  },
  {
   "cell_type": "code",
   "execution_count": 75,
   "metadata": {},
   "outputs": [
    {
     "data": {
      "text/plain": [
       "(8, 3, 3)"
      ]
     },
     "execution_count": 75,
     "metadata": {},
     "output_type": "execute_result"
    }
   ],
   "source": [
    "featuresgbr = grdsearch.best_estimator_.max_features\n",
    "leafgbr = grdsearch.best_estimator_.min_samples_leaf\n",
    "splitgbr = grdsearch.best_estimator_.min_samples_split\n",
    "featuresgbr, leafgbr, splitgbr"
   ]
  },
  {
   "cell_type": "code",
   "execution_count": 76,
   "metadata": {},
   "outputs": [
    {
     "data": {
      "text/plain": [
       "GradientBoostingRegressor(alpha=0.9, criterion='friedman_mse', init=None,\n",
       "             learning_rate=1.0, loss='ls', max_depth=4, max_features=8,\n",
       "             max_leaf_nodes=None, min_impurity_decrease=0.0,\n",
       "             min_impurity_split=None, min_samples_leaf=3,\n",
       "             min_samples_split=3, min_weight_fraction_leaf=0.0,\n",
       "             n_estimators=512, n_iter_no_change=None, presort='auto',\n",
       "             random_state=None, subsample=1.0, tol=0.0001,\n",
       "             validation_fraction=0.1, verbose=0, warm_start=False)"
      ]
     },
     "execution_count": 76,
     "metadata": {},
     "output_type": "execute_result"
    }
   ],
   "source": [
    "GBR = GradientBoostingRegressor(n_estimators = estimatorgbr, learning_rate = lr, max_depth = depthgbr, \n",
    "                                max_features = featuresgbr, min_samples_leaf = leafgbr, min_samples_split = splitgbr)\n",
    "GBR.fit(x1, y1)"
   ]
  },
  {
   "cell_type": "code",
   "execution_count": 77,
   "metadata": {},
   "outputs": [
    {
     "data": {
      "text/plain": [
       "0.680514853480782"
      ]
     },
     "execution_count": 77,
     "metadata": {},
     "output_type": "execute_result"
    }
   ],
   "source": [
    "y_pred_GBR = GBR.predict(x2)\n",
    "r2_score(y2, y_pred_GBR, multioutput='uniform_average')"
   ]
  },
  {
   "cell_type": "markdown",
   "metadata": {},
   "source": [
    "### Блендинг"
   ]
  },
  {
   "cell_type": "code",
   "execution_count": 78,
   "metadata": {},
   "outputs": [],
   "source": [
    "from sklearn.linear_model import LinearRegression\n",
    "import lightgbm as lgb\n",
    "from sklearn.metrics import roc_auc_score\n",
    "from sklearn.neighbors import KNeighborsRegressor\n",
    "from sklearn.linear_model import Ridge\n",
    "from sklearn.ensemble import RandomForestRegressor"
   ]
  },
  {
   "cell_type": "code",
   "execution_count": 79,
   "metadata": {},
   "outputs": [],
   "source": [
    "KNN1 = KNeighborsRegressor(n_neighbors=3)\n",
    "KNN1.fit(x1, y1)\n",
    "KNN1_pred_x2 = KNN1.predict(x2)\n",
    "KNN1_pred_x3 = KNN1.predict(x3)\n",
    "\n",
    "KNN2 = KNeighborsRegressor(n_neighbors=10)\n",
    "KNN2.fit(x1, y1)\n",
    "KNN2_pred_x2 = KNN2.predict(x2)\n",
    "KNN2_pred_x3 = KNN2.predict(x3)\n",
    "\n",
    "RG0 = Ridge(alpha=0.01)\n",
    "RG0.fit(x1, y1)\n",
    "RG0_pred_x2 = RG0.predict(x2)\n",
    "RG0_pred_x3 = RG0.predict(x3)\n",
    "\n",
    "RG1 = Ridge(alpha=1.1)\n",
    "RG1.fit(x1, y1)\n",
    "RG1_pred_x2 = RG1.predict(x2)\n",
    "RG1_pred_x3 = RG1.predict(x3)\n",
    "\n",
    "RG2 = Ridge(alpha=100.1)\n",
    "RG2.fit(x1, y1)\n",
    "RG2_pred_x2 = RG1.predict(x2)\n",
    "RG2_pred_x3 = RG1.predict(x3)\n",
    "\n",
    "RFR1 = RandomForestRegressor(n_estimators = estimator, max_features = features, max_depth = depth, \n",
    "                            min_samples_leaf = leaf, min_samples_split = split)\n",
    "RFR1.fit(x1, y1)\n",
    "RFR1_pred_x2 = RFR1.predict(x2)\n",
    "RFR1_pred_x3 = RFR1.predict(x3)\n",
    "\n",
    "RFR2 = RandomForestRegressor(n_estimators=100, max_depth=5)\n",
    "RFR2.fit(x1, y1)\n",
    "RFR2_pred_x2 = RFR2.predict(x2)\n",
    "RFR2_pred_x3 = RFR2.predict(x3)\n",
    "\n",
    "GBR1 = GradientBoostingRegressor(n_estimators = estimatorgbr, learning_rate = lr, max_depth = depthgbr, \n",
    "                                max_features = featuresgbr, min_samples_leaf = leafgbr, min_samples_split = splitgbr)\n",
    "GBR1.fit(x1, y1)\n",
    "GBR1_pred_x2 = GBR1.predict(x2)\n",
    "GBR1_pred_x3 = GBR1.predict(x3)\n",
    "\n",
    "LGBM1 = lgb.LGBMRegressor(boosting_type='gbdt', learning_rate=0.05, max_depth=2,\n",
    "                         n_estimators=200, nthread=-1, objective='regression')    \n",
    "LGBM1.fit(x1, y1)\n",
    "LGBM1_pred_x2 = LGBM1.predict(x2)\n",
    "LGBM1_pred_x3 = LGBM1.predict(x3)\n",
    "\n",
    "LGBM2 = lgb.LGBMRegressor(boosting_type='gbdt', learning_rate=0.05, max_depth=5, \n",
    "                         n_estimators=200, nthread=-1, objective='regression')    \n",
    "LGBM2.fit(x1, y1)\n",
    "LGBM2_pred_x2 = LGBM2.predict(x2)\n",
    "LGBM2_pred_x3 = LGBM2.predict(x3)"
   ]
  },
  {
   "cell_type": "code",
   "execution_count": 80,
   "metadata": {},
   "outputs": [],
   "source": [
    "Y_pred_x2 = pd.DataFrame(KNN1_pred_x2)\n",
    "Y_pred_x2.loc[:, 'KNN2_pred'], Y_pred_x2.loc[:,'RG0_pred'], Y_pred_x2.loc[:, 'RG1_pred'] = KNN2_pred_x2, RG0_pred_x2, RG1_pred_x2\n",
    "Y_pred_x2.loc[:, 'RG2_pred'], Y_pred_x2.loc[:,'RFR1_pred'], Y_pred_x2.loc[:, 'RFR2_pred'] = RG2_pred_x2, RFR1_pred_x2, RFR2_pred_x2\n",
    "Y_pred_x2.loc[:, 'LGBM12_pred'], Y_pred_x2.loc[:,'LGBM2_pred'], Y_pred_x2.loc[:, 'GBR_pred'] = LGBM1_pred_x2, LGBM2_pred_x2, GBR1_pred_x2"
   ]
  },
  {
   "cell_type": "code",
   "execution_count": 81,
   "metadata": {},
   "outputs": [],
   "source": [
    "Y_pred_x3 = pd.DataFrame(KNN1_pred_x3)\n",
    "Y_pred_x3.loc[:, 'KNN2_pred'], Y_pred_x3.loc[:,'RG0_pred'], Y_pred_x3.loc[:, 'RG1_pred'] = KNN2_pred_x3, RG0_pred_x3, RG1_pred_x3\n",
    "Y_pred_x3.loc[:, 'RG2_pred'], Y_pred_x3.loc[:,'RFR1_pred'], Y_pred_x3.loc[:, 'RFR2_pred'] = RG2_pred_x3, RFR1_pred_x3, RFR2_pred_x3\n",
    "Y_pred_x3.loc[:, 'LGBM12_pred'], Y_pred_x3.loc[:,'LGBM2_pred'], Y_pred_x3.loc[:, 'GBR_pred']  = LGBM1_pred_x3, LGBM2_pred_x3, GBR1_pred_x3"
   ]
  },
  {
   "cell_type": "code",
   "execution_count": 82,
   "metadata": {},
   "outputs": [],
   "source": [
    "LR = LinearRegression()\n",
    "LR.fit(Y_pred_x2, y2)\n",
    "LR_pred = LR.predict(Y_pred_x3)"
   ]
  },
  {
   "cell_type": "code",
   "execution_count": 83,
   "metadata": {},
   "outputs": [
    {
     "data": {
      "text/plain": [
       "0.6831220778199154"
      ]
     },
     "execution_count": 83,
     "metadata": {},
     "output_type": "execute_result"
    }
   ],
   "source": [
    "r2_score(y3, LR_pred, multioutput='uniform_average')"
   ]
  },
  {
   "cell_type": "code",
   "execution_count": 85,
   "metadata": {},
   "outputs": [
    {
     "data": {
      "text/plain": [
       "650.0475628921878"
      ]
     },
     "execution_count": 85,
     "metadata": {},
     "output_type": "execute_result"
    }
   ],
   "source": [
    "MSE = sklearn.metrics.mean_squared_error(y3, LR_pred)\n",
    "MSE"
   ]
  },
  {
   "cell_type": "code",
   "execution_count": 86,
   "metadata": {},
   "outputs": [
    {
     "data": {
      "text/plain": [
       "14.420634086445952"
      ]
     },
     "execution_count": 86,
     "metadata": {},
     "output_type": "execute_result"
    }
   ],
   "source": [
    "MAE = sklearn.metrics.mean_absolute_error(y3, LR_pred)\n",
    "MAE"
   ]
  },
  {
   "cell_type": "markdown",
   "metadata": {},
   "source": [
    "### Прогноз запасов"
   ]
  },
  {
   "cell_type": "code",
   "execution_count": 88,
   "metadata": {},
   "outputs": [],
   "source": [
    "x3['Shipped_pred'] = LR_pred"
   ]
  },
  {
   "cell_type": "code",
   "execution_count": 94,
   "metadata": {},
   "outputs": [
    {
     "data": {
      "text/html": [
       "<div>\n",
       "<style scoped>\n",
       "    .dataframe tbody tr th:only-of-type {\n",
       "        vertical-align: middle;\n",
       "    }\n",
       "\n",
       "    .dataframe tbody tr th {\n",
       "        vertical-align: top;\n",
       "    }\n",
       "\n",
       "    .dataframe thead th {\n",
       "        text-align: right;\n",
       "    }\n",
       "</style>\n",
       "<table border=\"1\" class=\"dataframe\">\n",
       "  <thead>\n",
       "    <tr style=\"text-align: right;\">\n",
       "      <th></th>\n",
       "      <th>Week</th>\n",
       "      <th>Storage_ID</th>\n",
       "      <th>Canal_ID</th>\n",
       "      <th>Route_ID</th>\n",
       "      <th>Returned</th>\n",
       "      <th>Submarinos_Chocolate</th>\n",
       "      <th>Submarinos_Fresa</th>\n",
       "      <th>Submarinos_Vainilla</th>\n",
       "      <th>Shipped_pred</th>\n",
       "    </tr>\n",
       "  </thead>\n",
       "  <tbody>\n",
       "    <tr>\n",
       "      <th>59779</th>\n",
       "      <td>6</td>\n",
       "      <td>2014</td>\n",
       "      <td>1</td>\n",
       "      <td>4415</td>\n",
       "      <td>0</td>\n",
       "      <td>0</td>\n",
       "      <td>1</td>\n",
       "      <td>0</td>\n",
       "      <td>47.322599</td>\n",
       "    </tr>\n",
       "    <tr>\n",
       "      <th>19385</th>\n",
       "      <td>4</td>\n",
       "      <td>1237</td>\n",
       "      <td>1</td>\n",
       "      <td>4463</td>\n",
       "      <td>0</td>\n",
       "      <td>0</td>\n",
       "      <td>1</td>\n",
       "      <td>0</td>\n",
       "      <td>27.781611</td>\n",
       "    </tr>\n",
       "    <tr>\n",
       "      <th>52758</th>\n",
       "      <td>6</td>\n",
       "      <td>1333</td>\n",
       "      <td>1</td>\n",
       "      <td>2023</td>\n",
       "      <td>4</td>\n",
       "      <td>0</td>\n",
       "      <td>0</td>\n",
       "      <td>1</td>\n",
       "      <td>62.815371</td>\n",
       "    </tr>\n",
       "    <tr>\n",
       "      <th>31443</th>\n",
       "      <td>4</td>\n",
       "      <td>3213</td>\n",
       "      <td>1</td>\n",
       "      <td>4416</td>\n",
       "      <td>0</td>\n",
       "      <td>1</td>\n",
       "      <td>0</td>\n",
       "      <td>0</td>\n",
       "      <td>49.088015</td>\n",
       "    </tr>\n",
       "    <tr>\n",
       "      <th>70226</th>\n",
       "      <td>7</td>\n",
       "      <td>1384</td>\n",
       "      <td>1</td>\n",
       "      <td>2822</td>\n",
       "      <td>0</td>\n",
       "      <td>0</td>\n",
       "      <td>0</td>\n",
       "      <td>1</td>\n",
       "      <td>56.055807</td>\n",
       "    </tr>\n",
       "  </tbody>\n",
       "</table>\n",
       "</div>"
      ],
      "text/plain": [
       "       Week  Storage_ID  Canal_ID  Route_ID  Returned  Submarinos_Chocolate  \\\n",
       "59779     6        2014         1      4415         0                     0   \n",
       "19385     4        1237         1      4463         0                     0   \n",
       "52758     6        1333         1      2023         4                     0   \n",
       "31443     4        3213         1      4416         0                     1   \n",
       "70226     7        1384         1      2822         0                     0   \n",
       "\n",
       "       Submarinos_Fresa  Submarinos_Vainilla  Shipped_pred  \n",
       "59779                 1                    0     47.322599  \n",
       "19385                 1                    0     27.781611  \n",
       "52758                 0                    1     62.815371  \n",
       "31443                 0                    0     49.088015  \n",
       "70226                 0                    1     56.055807  "
      ]
     },
     "execution_count": 94,
     "metadata": {},
     "output_type": "execute_result"
    }
   ],
   "source": [
    "x3.head()"
   ]
  },
  {
   "cell_type": "code",
   "execution_count": 99,
   "metadata": {},
   "outputs": [
    {
     "name": "stdout",
     "output_type": "stream",
     "text": [
      "Значение 1 встречается в колонке Canal_ID обучающей выборки 26492 раз!\n",
      "Значение 4 встречается в колонке Canal_ID обучающей выборки 5550 раз!\n",
      "Значение 11 встречается в колонке Canal_ID обучающей выборки 2362 раз!\n",
      "Значение 2 встречается в колонке Canal_ID обучающей выборки 1420 раз!\n",
      "Значение 7 встречается в колонке Canal_ID обучающей выборки 1290 раз!\n",
      "Значение 6 встречается в колонке Canal_ID обучающей выборки 586 раз!\n",
      "Значение 8 встречается в колонке Canal_ID обучающей выборки 177 раз!\n",
      "Значение 5 встречается в колонке Canal_ID обучающей выборки 42 раз!\n"
     ]
    }
   ],
   "source": [
    "for val, cnt in x3.Canal_ID.value_counts().to_dict().items():\n",
    "    print('Значение %r встречается в колонке Canal_ID обучающей выборки %d раз!' % (val, cnt))"
   ]
  },
  {
   "cell_type": "code",
   "execution_count": 90,
   "metadata": {},
   "outputs": [],
   "source": [
    "x3.to_csv('Prediction.csv')"
   ]
  },
  {
   "cell_type": "code",
   "execution_count": 105,
   "metadata": {},
   "outputs": [],
   "source": [
    "df = pd.read_excel('Prediction.xlsx')"
   ]
  },
  {
   "cell_type": "code",
   "execution_count": 106,
   "metadata": {},
   "outputs": [
    {
     "data": {
      "text/html": [
       "<div>\n",
       "<style scoped>\n",
       "    .dataframe tbody tr th:only-of-type {\n",
       "        vertical-align: middle;\n",
       "    }\n",
       "\n",
       "    .dataframe tbody tr th {\n",
       "        vertical-align: top;\n",
       "    }\n",
       "\n",
       "    .dataframe thead th {\n",
       "        text-align: right;\n",
       "    }\n",
       "</style>\n",
       "<table border=\"1\" class=\"dataframe\">\n",
       "  <thead>\n",
       "    <tr style=\"text-align: right;\">\n",
       "      <th></th>\n",
       "      <th>Date</th>\n",
       "      <th>Week</th>\n",
       "      <th>Storage_ID</th>\n",
       "      <th>Canal_ID</th>\n",
       "      <th>Route_ID</th>\n",
       "      <th>Submarinos</th>\n",
       "      <th>Returned</th>\n",
       "      <th>Shipped_pred</th>\n",
       "    </tr>\n",
       "  </thead>\n",
       "  <tbody>\n",
       "    <tr>\n",
       "      <th>0</th>\n",
       "      <td>2019-06-01 00:00:00</td>\n",
       "      <td>3</td>\n",
       "      <td>2653</td>\n",
       "      <td>1</td>\n",
       "      <td>2016</td>\n",
       "      <td>Chocolate</td>\n",
       "      <td>0</td>\n",
       "      <td>122.983387</td>\n",
       "    </tr>\n",
       "    <tr>\n",
       "      <th>1</th>\n",
       "      <td>2019-06-01 00:00:00</td>\n",
       "      <td>3</td>\n",
       "      <td>1632</td>\n",
       "      <td>1</td>\n",
       "      <td>4402</td>\n",
       "      <td>Fresa</td>\n",
       "      <td>2</td>\n",
       "      <td>47.711823</td>\n",
       "    </tr>\n",
       "    <tr>\n",
       "      <th>2</th>\n",
       "      <td>2019-06-01 00:00:00</td>\n",
       "      <td>3</td>\n",
       "      <td>1628</td>\n",
       "      <td>1</td>\n",
       "      <td>4456</td>\n",
       "      <td>Vainilla</td>\n",
       "      <td>1</td>\n",
       "      <td>38.578049</td>\n",
       "    </tr>\n",
       "    <tr>\n",
       "      <th>3</th>\n",
       "      <td>2019-06-02 00:00:00</td>\n",
       "      <td>3</td>\n",
       "      <td>2267</td>\n",
       "      <td>7</td>\n",
       "      <td>3304</td>\n",
       "      <td>Chocolate</td>\n",
       "      <td>0</td>\n",
       "      <td>13.309024</td>\n",
       "    </tr>\n",
       "    <tr>\n",
       "      <th>4</th>\n",
       "      <td>2019-06-02 00:00:00</td>\n",
       "      <td>3</td>\n",
       "      <td>1114</td>\n",
       "      <td>2</td>\n",
       "      <td>58</td>\n",
       "      <td>Fresa</td>\n",
       "      <td>1</td>\n",
       "      <td>34.431077</td>\n",
       "    </tr>\n",
       "  </tbody>\n",
       "</table>\n",
       "</div>"
      ],
      "text/plain": [
       "                  Date  Week  Storage_ID  Canal_ID  Route_ID Submarinos  \\\n",
       "0  2019-06-01 00:00:00     3        2653         1      2016  Chocolate   \n",
       "1  2019-06-01 00:00:00     3        1632         1      4402      Fresa   \n",
       "2  2019-06-01 00:00:00     3        1628         1      4456   Vainilla   \n",
       "3  2019-06-02 00:00:00     3        2267         7      3304  Chocolate   \n",
       "4  2019-06-02 00:00:00     3        1114         2        58      Fresa   \n",
       "\n",
       "   Returned  Shipped_pred  \n",
       "0         0    122.983387  \n",
       "1         2     47.711823  \n",
       "2         1     38.578049  \n",
       "3         0     13.309024  \n",
       "4         1     34.431077  "
      ]
     },
     "execution_count": 106,
     "metadata": {},
     "output_type": "execute_result"
    }
   ],
   "source": [
    "df.head()"
   ]
  },
  {
   "cell_type": "code",
   "execution_count": 108,
   "metadata": {},
   "outputs": [
    {
     "data": {
      "text/plain": [
       "619745.6647925307"
      ]
     },
     "execution_count": 108,
     "metadata": {},
     "output_type": "execute_result"
    }
   ],
   "source": [
    "np.sum(df[df['Submarinos'] == 'Fresa'].Shipped_pred)"
   ]
  },
  {
   "cell_type": "code",
   "execution_count": 109,
   "metadata": {},
   "outputs": [
    {
     "data": {
      "text/plain": [
       "394822.45306015876"
      ]
     },
     "execution_count": 109,
     "metadata": {},
     "output_type": "execute_result"
    }
   ],
   "source": [
    "np.sum(df[df['Submarinos'] == 'Chocolate'].Shipped_pred)"
   ]
  },
  {
   "cell_type": "code",
   "execution_count": 110,
   "metadata": {},
   "outputs": [
    {
     "data": {
      "text/plain": [
       "597793.5247586182"
      ]
     },
     "execution_count": 110,
     "metadata": {},
     "output_type": "execute_result"
    }
   ],
   "source": [
    "np.sum(df[df['Submarinos'] == 'Vainilla'].Shipped_pred)"
   ]
  },
  {
   "cell_type": "code",
   "execution_count": 114,
   "metadata": {},
   "outputs": [
    {
     "name": "stdout",
     "output_type": "stream",
     "text": [
      "Значение 1 встречается в колонке Canal_ID обучающей выборки 6455 раз!\n",
      "Значение 4 встречается в колонке Canal_ID обучающей выборки 1375 раз!\n",
      "Значение 11 встречается в колонке Canal_ID обучающей выборки 590 раз!\n",
      "Значение 2 встречается в колонке Canal_ID обучающей выборки 368 раз!\n",
      "Значение 7 встречается в колонке Canal_ID обучающей выборки 323 раз!\n",
      "Значение 6 встречается в колонке Canal_ID обучающей выборки 141 раз!\n",
      "Значение 8 встречается в колонке Canal_ID обучающей выборки 44 раз!\n",
      "Значение 5 встречается в колонке Canal_ID обучающей выборки 6 раз!\n"
     ]
    }
   ],
   "source": [
    "for val, cnt in df[df['Submarinos'] == 'Chocolate'].Canal_ID.value_counts().to_dict().items():\n",
    "    print('Значение %r встречается в колонке Canal_ID обучающей выборки %d раз!' % (val, cnt))"
   ]
  },
  {
   "cell_type": "code",
   "execution_count": null,
   "metadata": {},
   "outputs": [],
   "source": []
  }
 ],
 "metadata": {
  "kernelspec": {
   "display_name": "Python 3",
   "language": "python",
   "name": "python3"
  },
  "language_info": {
   "codemirror_mode": {
    "name": "ipython",
    "version": 3
   },
   "file_extension": ".py",
   "mimetype": "text/x-python",
   "name": "python",
   "nbconvert_exporter": "python",
   "pygments_lexer": "ipython3",
   "version": "3.7.3"
  }
 },
 "nbformat": 4,
 "nbformat_minor": 2
}

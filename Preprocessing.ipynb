{
  "nbformat": 4,
  "nbformat_minor": 0,
  "metadata": {
    "colab": {
      "name": "Untitled7.ipynb",
      "provenance": [],
      "mount_file_id": "1-zPdjxBisF7e_cOYYk_TL1lNbsR6vnnv",
      "authorship_tag": "ABX9TyNu1xAzyhFZPkCMYahlhrKM",
      "include_colab_link": true
    },
    "kernelspec": {
      "name": "python3",
      "display_name": "Python 3"
    }
  },
  "cells": [
    {
      "cell_type": "markdown",
      "metadata": {
        "id": "view-in-github",
        "colab_type": "text"
      },
      "source": [
        "<a href=\"https://colab.research.google.com/github/vsinyutsina/deep_learning/blob/master/Preprocessing.ipynb\" target=\"_parent\"><img src=\"https://colab.research.google.com/assets/colab-badge.svg\" alt=\"Open In Colab\"/></a>"
      ]
    },
    {
      "cell_type": "code",
      "metadata": {
        "id": "LMWCEH96ROQm",
        "colab_type": "code",
        "colab": {}
      },
      "source": [
        "import pandas as pd\n",
        "import numpy as np\n",
        "import sklearn as sl\n",
        "import matplotlib.pyplot as plt"
      ],
      "execution_count": 0,
      "outputs": []
    },
    {
      "cell_type": "markdown",
      "metadata": {
        "id": "WmDsh3FuVmIc",
        "colab_type": "text"
      },
      "source": [
        "### Загрузка файлов"
      ]
    },
    {
      "cell_type": "code",
      "metadata": {
        "id": "ujqxiOr6TqoB",
        "colab_type": "code",
        "colab": {}
      },
      "source": [
        "train_data = pd.read_csv(\"/content/drive/My Drive/school-21-student-expulsion-prediction/train.csv\")"
      ],
      "execution_count": 0,
      "outputs": []
    },
    {
      "cell_type": "code",
      "metadata": {
        "id": "l6SnEQn1UoQ8",
        "colab_type": "code",
        "colab": {
          "base_uri": "https://localhost:8080/",
          "height": 360
        },
        "outputId": "6abed4da-e817-494b-b6b2-5d3a318a32cd"
      },
      "source": [
        "train_data.head()"
      ],
      "execution_count": 3,
      "outputs": [
        {
          "output_type": "execute_result",
          "data": {
            "text/html": [
              "<div>\n",
              "<style scoped>\n",
              "    .dataframe tbody tr th:only-of-type {\n",
              "        vertical-align: middle;\n",
              "    }\n",
              "\n",
              "    .dataframe tbody tr th {\n",
              "        vertical-align: top;\n",
              "    }\n",
              "\n",
              "    .dataframe thead th {\n",
              "        text-align: right;\n",
              "    }\n",
              "</style>\n",
              "<table border=\"1\" class=\"dataframe\">\n",
              "  <thead>\n",
              "    <tr style=\"text-align: right;\">\n",
              "      <th></th>\n",
              "      <th>id</th>\n",
              "      <th>Birth date</th>\n",
              "      <th>Native city</th>\n",
              "      <th>Gender</th>\n",
              "      <th>Wave id</th>\n",
              "      <th>Level</th>\n",
              "      <th>Heard about school from</th>\n",
              "      <th>Life status</th>\n",
              "      <th>day_00</th>\n",
              "      <th>day_01</th>\n",
              "      <th>day_02</th>\n",
              "      <th>day_03</th>\n",
              "      <th>day_04</th>\n",
              "      <th>day_05</th>\n",
              "      <th>day_06</th>\n",
              "      <th>day_07</th>\n",
              "      <th>day_08</th>\n",
              "      <th>day_09</th>\n",
              "      <th>day_10</th>\n",
              "      <th>day_11</th>\n",
              "      <th>day_12</th>\n",
              "      <th>day_13</th>\n",
              "      <th>evalexpr</th>\n",
              "      <th>match_n_match</th>\n",
              "      <th>bsq</th>\n",
              "      <th>rush_00</th>\n",
              "      <th>rush_01</th>\n",
              "      <th>rush_02</th>\n",
              "      <th>exam_00</th>\n",
              "      <th>exam_01</th>\n",
              "      <th>exam_02</th>\n",
              "      <th>exam_final</th>\n",
              "      <th>Contract termination date</th>\n",
              "      <th>Memory entrance game</th>\n",
              "      <th>Logic entrance game</th>\n",
              "      <th>contract_status</th>\n",
              "    </tr>\n",
              "  </thead>\n",
              "  <tbody>\n",
              "    <tr>\n",
              "      <th>0</th>\n",
              "      <td>129212391</td>\n",
              "      <td>1990-01-18</td>\n",
              "      <td>Пермь</td>\n",
              "      <td>male</td>\n",
              "      <td>3</td>\n",
              "      <td>7.463235</td>\n",
              "      <td>google_ads</td>\n",
              "      <td>work</td>\n",
              "      <td>5</td>\n",
              "      <td>NaN</td>\n",
              "      <td>0.0</td>\n",
              "      <td>80.0</td>\n",
              "      <td>0.0</td>\n",
              "      <td>1.0</td>\n",
              "      <td>0.0</td>\n",
              "      <td>15.0</td>\n",
              "      <td>10.0</td>\n",
              "      <td>0.0</td>\n",
              "      <td>50.0</td>\n",
              "      <td>21.0</td>\n",
              "      <td>20.0</td>\n",
              "      <td>55.0</td>\n",
              "      <td>81.0</td>\n",
              "      <td>0.0</td>\n",
              "      <td>0.0</td>\n",
              "      <td>0.0</td>\n",
              "      <td>0.0</td>\n",
              "      <td>0.0</td>\n",
              "      <td>75.0</td>\n",
              "      <td>43.0</td>\n",
              "      <td>100.0</td>\n",
              "      <td>44.0</td>\n",
              "      <td>NaN</td>\n",
              "      <td>9</td>\n",
              "      <td>11</td>\n",
              "      <td>1</td>\n",
              "    </tr>\n",
              "    <tr>\n",
              "      <th>1</th>\n",
              "      <td>566688420</td>\n",
              "      <td>1996-07-31</td>\n",
              "      <td>Волгоград</td>\n",
              "      <td>female</td>\n",
              "      <td>1</td>\n",
              "      <td>8.785714</td>\n",
              "      <td>NaN</td>\n",
              "      <td>NaN</td>\n",
              "      <td>0</td>\n",
              "      <td>NaN</td>\n",
              "      <td>10.0</td>\n",
              "      <td>45.0</td>\n",
              "      <td>5.0</td>\n",
              "      <td>1.0</td>\n",
              "      <td>35.0</td>\n",
              "      <td>0.0</td>\n",
              "      <td>5.0</td>\n",
              "      <td>16.0</td>\n",
              "      <td>0.0</td>\n",
              "      <td>9.0</td>\n",
              "      <td>0.0</td>\n",
              "      <td>10.0</td>\n",
              "      <td>0.0</td>\n",
              "      <td>0.0</td>\n",
              "      <td>0.0</td>\n",
              "      <td>110.0</td>\n",
              "      <td>0.0</td>\n",
              "      <td>0.0</td>\n",
              "      <td>0.0</td>\n",
              "      <td>16.0</td>\n",
              "      <td>22.0</td>\n",
              "      <td>22.0</td>\n",
              "      <td>NaN</td>\n",
              "      <td>7</td>\n",
              "      <td>10</td>\n",
              "      <td>1</td>\n",
              "    </tr>\n",
              "    <tr>\n",
              "      <th>2</th>\n",
              "      <td>242300495</td>\n",
              "      <td>1992-06-27</td>\n",
              "      <td>Новосибирск</td>\n",
              "      <td>female</td>\n",
              "      <td>2</td>\n",
              "      <td>6.775000</td>\n",
              "      <td>other</td>\n",
              "      <td>work</td>\n",
              "      <td>0</td>\n",
              "      <td>NaN</td>\n",
              "      <td>20.0</td>\n",
              "      <td>2.0</td>\n",
              "      <td>0.0</td>\n",
              "      <td>0.0</td>\n",
              "      <td>0.0</td>\n",
              "      <td>0.0</td>\n",
              "      <td>0.0</td>\n",
              "      <td>0.0</td>\n",
              "      <td>15.0</td>\n",
              "      <td>0.0</td>\n",
              "      <td>0.0</td>\n",
              "      <td>NaN</td>\n",
              "      <td>NaN</td>\n",
              "      <td>NaN</td>\n",
              "      <td>0.0</td>\n",
              "      <td>NaN</td>\n",
              "      <td>NaN</td>\n",
              "      <td>NaN</td>\n",
              "      <td>0.0</td>\n",
              "      <td>0.0</td>\n",
              "      <td>16.0</td>\n",
              "      <td>27.0</td>\n",
              "      <td>NaN</td>\n",
              "      <td>7</td>\n",
              "      <td>11</td>\n",
              "      <td>1</td>\n",
              "    </tr>\n",
              "    <tr>\n",
              "      <th>3</th>\n",
              "      <td>715424753</td>\n",
              "      <td>1996-06-15</td>\n",
              "      <td>Тула</td>\n",
              "      <td>female</td>\n",
              "      <td>1</td>\n",
              "      <td>8.146104</td>\n",
              "      <td>NaN</td>\n",
              "      <td>NaN</td>\n",
              "      <td>5</td>\n",
              "      <td>0.0</td>\n",
              "      <td>35.0</td>\n",
              "      <td>25.0</td>\n",
              "      <td>20.0</td>\n",
              "      <td>2.0</td>\n",
              "      <td>70.0</td>\n",
              "      <td>0.0</td>\n",
              "      <td>0.0</td>\n",
              "      <td>0.0</td>\n",
              "      <td>0.0</td>\n",
              "      <td>7.0</td>\n",
              "      <td>0.0</td>\n",
              "      <td>0.0</td>\n",
              "      <td>0.0</td>\n",
              "      <td>0.0</td>\n",
              "      <td>0.0</td>\n",
              "      <td>0.0</td>\n",
              "      <td>0.0</td>\n",
              "      <td>0.0</td>\n",
              "      <td>0.0</td>\n",
              "      <td>0.0</td>\n",
              "      <td>27.0</td>\n",
              "      <td>27.0</td>\n",
              "      <td>NaN</td>\n",
              "      <td>9</td>\n",
              "      <td>6</td>\n",
              "      <td>1</td>\n",
              "    </tr>\n",
              "    <tr>\n",
              "      <th>4</th>\n",
              "      <td>382884118</td>\n",
              "      <td>1968-07-18</td>\n",
              "      <td>Голицыно</td>\n",
              "      <td>male</td>\n",
              "      <td>3</td>\n",
              "      <td>4.272727</td>\n",
              "      <td>other</td>\n",
              "      <td>other</td>\n",
              "      <td>0</td>\n",
              "      <td>0.0</td>\n",
              "      <td>NaN</td>\n",
              "      <td>5.0</td>\n",
              "      <td>85.0</td>\n",
              "      <td>3.0</td>\n",
              "      <td>50.0</td>\n",
              "      <td>40.0</td>\n",
              "      <td>0.0</td>\n",
              "      <td>12.0</td>\n",
              "      <td>40.0</td>\n",
              "      <td>5.0</td>\n",
              "      <td>0.0</td>\n",
              "      <td>0.0</td>\n",
              "      <td>0.0</td>\n",
              "      <td>60.0</td>\n",
              "      <td>0.0</td>\n",
              "      <td>120.0</td>\n",
              "      <td>0.0</td>\n",
              "      <td>0.0</td>\n",
              "      <td>80.0</td>\n",
              "      <td>38.0</td>\n",
              "      <td>0.0</td>\n",
              "      <td>45.0</td>\n",
              "      <td>NaN</td>\n",
              "      <td>7</td>\n",
              "      <td>12</td>\n",
              "      <td>1</td>\n",
              "    </tr>\n",
              "  </tbody>\n",
              "</table>\n",
              "</div>"
            ],
            "text/plain": [
              "          id  Birth date  ... Logic entrance game contract_status\n",
              "0  129212391  1990-01-18  ...                  11               1\n",
              "1  566688420  1996-07-31  ...                  10               1\n",
              "2  242300495  1992-06-27  ...                  11               1\n",
              "3  715424753  1996-06-15  ...                   6               1\n",
              "4  382884118  1968-07-18  ...                  12               1\n",
              "\n",
              "[5 rows x 36 columns]"
            ]
          },
          "metadata": {
            "tags": []
          },
          "execution_count": 3
        }
      ]
    },
    {
      "cell_type": "code",
      "metadata": {
        "id": "c1W2p_E8VGNr",
        "colab_type": "code",
        "colab": {}
      },
      "source": [
        "test_data = pd.read_csv(\"/content/drive/My Drive/school-21-student-expulsion-prediction/test.csv\")"
      ],
      "execution_count": 0,
      "outputs": []
    },
    {
      "cell_type": "code",
      "metadata": {
        "id": "-89i8edSVQxg",
        "colab_type": "code",
        "colab": {
          "base_uri": "https://localhost:8080/",
          "height": 343
        },
        "outputId": "8610a1d6-8b80-40dd-c3fe-8ce848b52d1f"
      },
      "source": [
        "test_data.head()"
      ],
      "execution_count": 60,
      "outputs": [
        {
          "output_type": "execute_result",
          "data": {
            "text/html": [
              "<div>\n",
              "<style scoped>\n",
              "    .dataframe tbody tr th:only-of-type {\n",
              "        vertical-align: middle;\n",
              "    }\n",
              "\n",
              "    .dataframe tbody tr th {\n",
              "        vertical-align: top;\n",
              "    }\n",
              "\n",
              "    .dataframe thead th {\n",
              "        text-align: right;\n",
              "    }\n",
              "</style>\n",
              "<table border=\"1\" class=\"dataframe\">\n",
              "  <thead>\n",
              "    <tr style=\"text-align: right;\">\n",
              "      <th></th>\n",
              "      <th>id</th>\n",
              "      <th>Birth date</th>\n",
              "      <th>Native city</th>\n",
              "      <th>Gender</th>\n",
              "      <th>Wave id</th>\n",
              "      <th>Level</th>\n",
              "      <th>Heard about school from</th>\n",
              "      <th>Life status</th>\n",
              "      <th>day_00</th>\n",
              "      <th>day_01</th>\n",
              "      <th>day_02</th>\n",
              "      <th>day_03</th>\n",
              "      <th>day_04</th>\n",
              "      <th>day_05</th>\n",
              "      <th>day_06</th>\n",
              "      <th>day_07</th>\n",
              "      <th>day_08</th>\n",
              "      <th>day_09</th>\n",
              "      <th>day_10</th>\n",
              "      <th>day_11</th>\n",
              "      <th>day_12</th>\n",
              "      <th>day_13</th>\n",
              "      <th>evalexpr</th>\n",
              "      <th>match_n_match</th>\n",
              "      <th>bsq</th>\n",
              "      <th>rush_00</th>\n",
              "      <th>rush_01</th>\n",
              "      <th>rush_02</th>\n",
              "      <th>exam_00</th>\n",
              "      <th>exam_01</th>\n",
              "      <th>exam_02</th>\n",
              "      <th>exam_final</th>\n",
              "      <th>Contract termination date</th>\n",
              "      <th>Memory entrance game</th>\n",
              "      <th>Logic entrance game</th>\n",
              "    </tr>\n",
              "  </thead>\n",
              "  <tbody>\n",
              "    <tr>\n",
              "      <th>0</th>\n",
              "      <td>685512434</td>\n",
              "      <td>1992-09-08</td>\n",
              "      <td>г. Тюмень</td>\n",
              "      <td>male</td>\n",
              "      <td>3</td>\n",
              "      <td>8.834416</td>\n",
              "      <td>google_ads</td>\n",
              "      <td>work</td>\n",
              "      <td>10</td>\n",
              "      <td>NaN</td>\n",
              "      <td>80.0</td>\n",
              "      <td>40.0</td>\n",
              "      <td>30.0</td>\n",
              "      <td>5.0</td>\n",
              "      <td>70.0</td>\n",
              "      <td>10.0</td>\n",
              "      <td>40.0</td>\n",
              "      <td>0.0</td>\n",
              "      <td>85.0</td>\n",
              "      <td>21.0</td>\n",
              "      <td>0.0</td>\n",
              "      <td>20.0</td>\n",
              "      <td>100.0</td>\n",
              "      <td>0.0</td>\n",
              "      <td>100.0</td>\n",
              "      <td>120.0</td>\n",
              "      <td>0.0</td>\n",
              "      <td>0.0</td>\n",
              "      <td>75.0</td>\n",
              "      <td>43.0</td>\n",
              "      <td>64.0</td>\n",
              "      <td>45.0</td>\n",
              "      <td>NaN</td>\n",
              "      <td>10</td>\n",
              "      <td>12</td>\n",
              "    </tr>\n",
              "    <tr>\n",
              "      <th>1</th>\n",
              "      <td>157712083</td>\n",
              "      <td>1993-12-02</td>\n",
              "      <td>Москва</td>\n",
              "      <td>male</td>\n",
              "      <td>2</td>\n",
              "      <td>2.172414</td>\n",
              "      <td>from_21_student</td>\n",
              "      <td>work</td>\n",
              "      <td>7</td>\n",
              "      <td>0.0</td>\n",
              "      <td>0.0</td>\n",
              "      <td>50.0</td>\n",
              "      <td>0.0</td>\n",
              "      <td>5.0</td>\n",
              "      <td>20.0</td>\n",
              "      <td>0.0</td>\n",
              "      <td>0.0</td>\n",
              "      <td>0.0</td>\n",
              "      <td>25.0</td>\n",
              "      <td>0.0</td>\n",
              "      <td>0.0</td>\n",
              "      <td>0.0</td>\n",
              "      <td>0.0</td>\n",
              "      <td>0.0</td>\n",
              "      <td>0.0</td>\n",
              "      <td>0.0</td>\n",
              "      <td>0.0</td>\n",
              "      <td>NaN</td>\n",
              "      <td>80.0</td>\n",
              "      <td>22.0</td>\n",
              "      <td>33.0</td>\n",
              "      <td>36.0</td>\n",
              "      <td>NaN</td>\n",
              "      <td>7</td>\n",
              "      <td>6</td>\n",
              "    </tr>\n",
              "    <tr>\n",
              "      <th>2</th>\n",
              "      <td>672158583</td>\n",
              "      <td>1989-02-16</td>\n",
              "      <td>Москва</td>\n",
              "      <td>male</td>\n",
              "      <td>3</td>\n",
              "      <td>4.310160</td>\n",
              "      <td>from_friends</td>\n",
              "      <td>other</td>\n",
              "      <td>5</td>\n",
              "      <td>0.0</td>\n",
              "      <td>0.0</td>\n",
              "      <td>5.0</td>\n",
              "      <td>10.0</td>\n",
              "      <td>-42.0</td>\n",
              "      <td>35.0</td>\n",
              "      <td>20.0</td>\n",
              "      <td>5.0</td>\n",
              "      <td>9.0</td>\n",
              "      <td>35.0</td>\n",
              "      <td>21.0</td>\n",
              "      <td>10.0</td>\n",
              "      <td>10.0</td>\n",
              "      <td>0.0</td>\n",
              "      <td>60.0</td>\n",
              "      <td>0.0</td>\n",
              "      <td>0.0</td>\n",
              "      <td>0.0</td>\n",
              "      <td>75.0</td>\n",
              "      <td>0.0</td>\n",
              "      <td>6.0</td>\n",
              "      <td>33.0</td>\n",
              "      <td>9.0</td>\n",
              "      <td>NaN</td>\n",
              "      <td>7</td>\n",
              "      <td>10</td>\n",
              "    </tr>\n",
              "    <tr>\n",
              "      <th>3</th>\n",
              "      <td>1205321261</td>\n",
              "      <td>1997-07-16</td>\n",
              "      <td>Дзержинский</td>\n",
              "      <td>female</td>\n",
              "      <td>2</td>\n",
              "      <td>6.295833</td>\n",
              "      <td>other</td>\n",
              "      <td>study</td>\n",
              "      <td>20</td>\n",
              "      <td>0.0</td>\n",
              "      <td>30.0</td>\n",
              "      <td>0.0</td>\n",
              "      <td>10.0</td>\n",
              "      <td>0.0</td>\n",
              "      <td>20.0</td>\n",
              "      <td>0.0</td>\n",
              "      <td>0.0</td>\n",
              "      <td>NaN</td>\n",
              "      <td>10.0</td>\n",
              "      <td>0.0</td>\n",
              "      <td>0.0</td>\n",
              "      <td>0.0</td>\n",
              "      <td>0.0</td>\n",
              "      <td>0.0</td>\n",
              "      <td>0.0</td>\n",
              "      <td>100.0</td>\n",
              "      <td>0.0</td>\n",
              "      <td>0.0</td>\n",
              "      <td>15.0</td>\n",
              "      <td>1.0</td>\n",
              "      <td>16.0</td>\n",
              "      <td>22.0</td>\n",
              "      <td>NaN</td>\n",
              "      <td>9</td>\n",
              "      <td>8</td>\n",
              "    </tr>\n",
              "    <tr>\n",
              "      <th>4</th>\n",
              "      <td>621191476</td>\n",
              "      <td>1997-02-22</td>\n",
              "      <td>Москва</td>\n",
              "      <td>male</td>\n",
              "      <td>1</td>\n",
              "      <td>7.110294</td>\n",
              "      <td>NaN</td>\n",
              "      <td>NaN</td>\n",
              "      <td>100</td>\n",
              "      <td>100.0</td>\n",
              "      <td>80.0</td>\n",
              "      <td>30.0</td>\n",
              "      <td>0.0</td>\n",
              "      <td>2.0</td>\n",
              "      <td>0.0</td>\n",
              "      <td>40.0</td>\n",
              "      <td>10.0</td>\n",
              "      <td>6.0</td>\n",
              "      <td>0.0</td>\n",
              "      <td>-42.0</td>\n",
              "      <td>0.0</td>\n",
              "      <td>15.0</td>\n",
              "      <td>0.0</td>\n",
              "      <td>60.0</td>\n",
              "      <td>100.0</td>\n",
              "      <td>0.0</td>\n",
              "      <td>0.0</td>\n",
              "      <td>0.0</td>\n",
              "      <td>65.0</td>\n",
              "      <td>65.0</td>\n",
              "      <td>54.0</td>\n",
              "      <td>36.0</td>\n",
              "      <td>NaN</td>\n",
              "      <td>9</td>\n",
              "      <td>15</td>\n",
              "    </tr>\n",
              "  </tbody>\n",
              "</table>\n",
              "</div>"
            ],
            "text/plain": [
              "           id  Birth date  ... Memory entrance game Logic entrance game\n",
              "0   685512434  1992-09-08  ...                   10                  12\n",
              "1   157712083  1993-12-02  ...                    7                   6\n",
              "2   672158583  1989-02-16  ...                    7                  10\n",
              "3  1205321261  1997-07-16  ...                    9                   8\n",
              "4   621191476  1997-02-22  ...                    9                  15\n",
              "\n",
              "[5 rows x 35 columns]"
            ]
          },
          "metadata": {
            "tags": []
          },
          "execution_count": 60
        }
      ]
    },
    {
      "cell_type": "code",
      "metadata": {
        "id": "8ogbtjPkVU9t",
        "colab_type": "code",
        "colab": {}
      },
      "source": [
        "sample_submission = pd.read_csv(\"/content/drive/My Drive/school-21-student-expulsion-prediction/sample_submission.csv\")"
      ],
      "execution_count": 0,
      "outputs": []
    },
    {
      "cell_type": "code",
      "metadata": {
        "id": "sDp4jZ1eVfpl",
        "colab_type": "code",
        "colab": {
          "base_uri": "https://localhost:8080/",
          "height": 204
        },
        "outputId": "da6c480f-e89a-4f6f-9853-d25383880772"
      },
      "source": [
        "sample_submission.head()"
      ],
      "execution_count": 7,
      "outputs": [
        {
          "output_type": "execute_result",
          "data": {
            "text/html": [
              "<div>\n",
              "<style scoped>\n",
              "    .dataframe tbody tr th:only-of-type {\n",
              "        vertical-align: middle;\n",
              "    }\n",
              "\n",
              "    .dataframe tbody tr th {\n",
              "        vertical-align: top;\n",
              "    }\n",
              "\n",
              "    .dataframe thead th {\n",
              "        text-align: right;\n",
              "    }\n",
              "</style>\n",
              "<table border=\"1\" class=\"dataframe\">\n",
              "  <thead>\n",
              "    <tr style=\"text-align: right;\">\n",
              "      <th></th>\n",
              "      <th>id</th>\n",
              "      <th>contract_status</th>\n",
              "    </tr>\n",
              "  </thead>\n",
              "  <tbody>\n",
              "    <tr>\n",
              "      <th>0</th>\n",
              "      <td>685512434</td>\n",
              "      <td>0</td>\n",
              "    </tr>\n",
              "    <tr>\n",
              "      <th>1</th>\n",
              "      <td>157712083</td>\n",
              "      <td>0</td>\n",
              "    </tr>\n",
              "    <tr>\n",
              "      <th>2</th>\n",
              "      <td>672158583</td>\n",
              "      <td>0</td>\n",
              "    </tr>\n",
              "    <tr>\n",
              "      <th>3</th>\n",
              "      <td>1205321261</td>\n",
              "      <td>0</td>\n",
              "    </tr>\n",
              "    <tr>\n",
              "      <th>4</th>\n",
              "      <td>621191476</td>\n",
              "      <td>0</td>\n",
              "    </tr>\n",
              "  </tbody>\n",
              "</table>\n",
              "</div>"
            ],
            "text/plain": [
              "           id  contract_status\n",
              "0   685512434                0\n",
              "1   157712083                0\n",
              "2   672158583                0\n",
              "3  1205321261                0\n",
              "4   621191476                0"
            ]
          },
          "metadata": {
            "tags": []
          },
          "execution_count": 7
        }
      ]
    },
    {
      "cell_type": "markdown",
      "metadata": {
        "id": "HmIbeIUKVpG0",
        "colab_type": "text"
      },
      "source": [
        "### Обработка пропусков"
      ]
    },
    {
      "cell_type": "code",
      "metadata": {
        "id": "kgUk76kVdf21",
        "colab_type": "code",
        "colab": {
          "base_uri": "https://localhost:8080/",
          "height": 714
        },
        "outputId": "ada72df6-50cf-4767-b75f-e74a661093cc"
      },
      "source": [
        "train_data.info()"
      ],
      "execution_count": 8,
      "outputs": [
        {
          "output_type": "stream",
          "text": [
            "<class 'pandas.core.frame.DataFrame'>\n",
            "RangeIndex: 1060 entries, 0 to 1059\n",
            "Data columns (total 36 columns):\n",
            "id                           1060 non-null int64\n",
            "Birth date                   1060 non-null object\n",
            "Native city                  1047 non-null object\n",
            "Gender                       1060 non-null object\n",
            "Wave id                      1060 non-null int64\n",
            "Level                        1060 non-null float64\n",
            "Heard about school from      653 non-null object\n",
            "Life status                  655 non-null object\n",
            "day_00                       1060 non-null int64\n",
            "day_01                       646 non-null float64\n",
            "day_02                       1044 non-null float64\n",
            "day_03                       1045 non-null float64\n",
            "day_04                       1037 non-null float64\n",
            "day_05                       1056 non-null float64\n",
            "day_06                       1048 non-null float64\n",
            "day_07                       1046 non-null float64\n",
            "day_08                       1045 non-null float64\n",
            "day_09                       1047 non-null float64\n",
            "day_10                       1028 non-null float64\n",
            "day_11                       1047 non-null float64\n",
            "day_12                       1050 non-null float64\n",
            "day_13                       1029 non-null float64\n",
            "evalexpr                     1003 non-null float64\n",
            "match_n_match                951 non-null float64\n",
            "bsq                          1027 non-null float64\n",
            "rush_00                      996 non-null float64\n",
            "rush_01                      944 non-null float64\n",
            "rush_02                      902 non-null float64\n",
            "exam_00                      1047 non-null float64\n",
            "exam_01                      1041 non-null float64\n",
            "exam_02                      1047 non-null float64\n",
            "exam_final                   1056 non-null float64\n",
            "Contract termination date    78 non-null object\n",
            "Memory entrance game         1060 non-null int64\n",
            "Logic entrance game          1060 non-null int64\n",
            "contract_status              1060 non-null int64\n",
            "dtypes: float64(24), int64(6), object(6)\n",
            "memory usage: 298.2+ KB\n"
          ],
          "name": "stdout"
        }
      ]
    },
    {
      "cell_type": "code",
      "metadata": {
        "id": "tW5cI026Vfz5",
        "colab_type": "code",
        "colab": {
          "base_uri": "https://localhost:8080/",
          "height": 646
        },
        "outputId": "071e6e5d-315c-4565-e0fb-74a33d839191"
      },
      "source": [
        "train_data.isnull().sum() # количество пропусков в данных"
      ],
      "execution_count": 9,
      "outputs": [
        {
          "output_type": "execute_result",
          "data": {
            "text/plain": [
              "id                             0\n",
              "Birth date                     0\n",
              "Native city                   13\n",
              "Gender                         0\n",
              "Wave id                        0\n",
              "Level                          0\n",
              "Heard about school from      407\n",
              "Life status                  405\n",
              "day_00                         0\n",
              "day_01                       414\n",
              "day_02                        16\n",
              "day_03                        15\n",
              "day_04                        23\n",
              "day_05                         4\n",
              "day_06                        12\n",
              "day_07                        14\n",
              "day_08                        15\n",
              "day_09                        13\n",
              "day_10                        32\n",
              "day_11                        13\n",
              "day_12                        10\n",
              "day_13                        31\n",
              "evalexpr                      57\n",
              "match_n_match                109\n",
              "bsq                           33\n",
              "rush_00                       64\n",
              "rush_01                      116\n",
              "rush_02                      158\n",
              "exam_00                       13\n",
              "exam_01                       19\n",
              "exam_02                       13\n",
              "exam_final                     4\n",
              "Contract termination date    982\n",
              "Memory entrance game           0\n",
              "Logic entrance game            0\n",
              "contract_status                0\n",
              "dtype: int64"
            ]
          },
          "metadata": {
            "tags": []
          },
          "execution_count": 9
        }
      ]
    },
    {
      "cell_type": "code",
      "metadata": {
        "id": "Jseg2z1sWOlf",
        "colab_type": "code",
        "colab": {
          "base_uri": "https://localhost:8080/",
          "height": 34
        },
        "outputId": "4d381504-25c3-43ed-f2cc-d251a713b674"
      },
      "source": [
        "train_data.shape[0] # Количество наблюдений"
      ],
      "execution_count": 10,
      "outputs": [
        {
          "output_type": "execute_result",
          "data": {
            "text/plain": [
              "1060"
            ]
          },
          "metadata": {
            "tags": []
          },
          "execution_count": 10
        }
      ]
    },
    {
      "cell_type": "markdown",
      "metadata": {
        "id": "aflKvNJEV-w-",
        "colab_type": "text"
      },
      "source": [
        "Все пропуски в днях и проектах будут заполнены 0.\n",
        "Life status и heard about school from содержат больше половины пропусков. Необходимо определить их значимость. Предполагаю, что они никак не влияют на таргет."
      ]
    },
    {
      "cell_type": "code",
      "metadata": {
        "id": "7_BBpyuJX8Sg",
        "colab_type": "code",
        "colab": {}
      },
      "source": [
        "train_data['Life status'].fillna('No info', inplace=True)"
      ],
      "execution_count": 0,
      "outputs": []
    },
    {
      "cell_type": "code",
      "metadata": {
        "id": "FIivKf9HV924",
        "colab_type": "code",
        "colab": {
          "base_uri": "https://localhost:8080/",
          "height": 1000
        },
        "outputId": "3ef318b1-b3e4-4efa-8f2e-3e8fc62a830a"
      },
      "source": [
        "for status in train_data['Life status'].unique():\n",
        "    current_data = train_data[train_data['Life status'] == status]\n",
        "    plt.title('Life status: %s!' % status)\n",
        "    plt.hist(current_data['contract_status'], bins=np.linspace(0, 1))\n",
        "    plt.show()"
      ],
      "execution_count": 12,
      "outputs": [
        {
          "output_type": "display_data",
          "data": {
            "image/png": "[encoded data removed]",
            "text/plain": [
              "<Figure size 432x288 with 1 Axes>"
            ]
          },
          "metadata": {
            "tags": []
          }
        },
        {
          "output_type": "display_data",
          "data": {
            "image/png": "[encoded data removed]",
            "text/plain": [
              "<Figure size 432x288 with 1 Axes>"
            ]
          },
          "metadata": {
            "tags": []
          }
        },
        {
          "output_type": "display_data",
          "data": {
            "image/png": "[encoded data removed]",
            "text/plain": [
              "<Figure size 432x288 with 1 Axes>"
            ]
          },
          "metadata": {
            "tags": []
          }
        },
        {
          "output_type": "display_data",
          "data": {
            "image/png": "[encoded data removed]",
            "text/plain": [
              "<Figure size 432x288 with 1 Axes>"
            ]
          },
          "metadata": {
            "tags": []
          }
        }
      ]
    },
    {
      "cell_type": "markdown",
      "metadata": {
        "id": "mrFIwfBwZuCA",
        "colab_type": "text"
      },
      "source": [
        "Кажется, life status оказывал влияние на то, взяли человека или нет."
      ]
    },
    {
      "cell_type": "code",
      "metadata": {
        "id": "dOnojTu1Vu9R",
        "colab_type": "code",
        "colab": {}
      },
      "source": [
        "train_data['Heard about school from'].fillna('No info', inplace=True)"
      ],
      "execution_count": 0,
      "outputs": []
    },
    {
      "cell_type": "code",
      "metadata": {
        "id": "4G8LeL5qamba",
        "colab_type": "code",
        "colab": {
          "base_uri": "https://localhost:8080/",
          "height": 1000
        },
        "outputId": "d720bc63-9eab-4f7b-e2a9-109bd91baf37"
      },
      "source": [
        "for status in train_data['Heard about school from'].unique():\n",
        "    current_data = train_data[train_data['Heard about school from'] == status]\n",
        "    plt.title('Heard about school from: %s!' % status)\n",
        "    plt.hist(current_data['contract_status'], bins=np.linspace(0, 1))\n",
        "    plt.show()"
      ],
      "execution_count": 14,
      "outputs": [
        {
          "output_type": "display_data",
          "data": {
            "image/png": "[encoded data removed]",
            "text/plain": [
              "<Figure size 432x288 with 1 Axes>"
            ]
          },
          "metadata": {
            "tags": []
          }
        },
        {
          "output_type": "display_data",
          "data": {
            "image/png": "[encoded data removed]",
            "text/plain": [
              "<Figure size 432x288 with 1 Axes>"
            ]
          },
          "metadata": {
            "tags": []
          }
        },
        {
          "output_type": "display_data",
          "data": {
            "image/png": "[encoded data removed]",
            "text/plain": [
              "<Figure size 432x288 with 1 Axes>"
            ]
          },
          "metadata": {
            "tags": []
          }
        },
        {
          "output_type": "display_data",
          "data": {
            "image/png": "[encoded data removed]",
            "text/plain": [
              "<Figure size 432x288 with 1 Axes>"
            ]
          },
          "metadata": {
            "tags": []
          }
        },
        {
          "output_type": "display_data",
          "data": {
            "image/png": "[encoded data removed]",
            "text/plain": [
              "<Figure size 432x288 with 1 Axes>"
            ]
          },
          "metadata": {
            "tags": []
          }
        },
        {
          "output_type": "display_data",
          "data": {
            "image/png": "[encoded data removed]",
            "text/plain": [
              "<Figure size 432x288 with 1 Axes>"
            ]
          },
          "metadata": {
            "tags": []
          }
        },
        {
          "output_type": "display_data",
          "data": {
            "image/png": "[encoded data removed]",
            "text/plain": [
              "<Figure size 432x288 with 1 Axes>"
            ]
          },
          "metadata": {
            "tags": []
          }
        },
        {
          "output_type": "display_data",
          "data": {
            "image/png": "[encoded data removed]",
            "text/plain": [
              "<Figure size 432x288 with 1 Axes>"
            ]
          },
          "metadata": {
            "tags": []
          }
        },
        {
          "output_type": "display_data",
          "data": {
            "image/png": "[encoded data removed]",
            "text/plain": [
              "<Figure size 432x288 with 1 Axes>"
            ]
          },
          "metadata": {
            "tags": []
          }
        },
        {
          "output_type": "display_data",
          "data": {
            "image/png": "[encoded data removed]",
            "text/plain": [
              "<Figure size 432x288 with 1 Axes>"
            ]
          },
          "metadata": {
            "tags": []
          }
        }
      ]
    },
    {
      "cell_type": "code",
      "metadata": {
        "id": "AP6JorXsatot",
        "colab_type": "code",
        "colab": {}
      },
      "source": [
        "for i in np.arange(8, train_data.shape[1]):\n",
        "  train_data.iloc[:,i].fillna(0, inplace=True)"
      ],
      "execution_count": 0,
      "outputs": []
    },
    {
      "cell_type": "code",
      "metadata": {
        "id": "H7cSk4SydrFI",
        "colab_type": "code",
        "colab": {}
      },
      "source": [
        "del train_data['Contract termination date'] # ваще самый бесполезный признак"
      ],
      "execution_count": 0,
      "outputs": []
    },
    {
      "cell_type": "code",
      "metadata": {
        "id": "f91W7pyhgQUa",
        "colab_type": "code",
        "colab": {}
      },
      "source": [
        "del train_data['Native city'] # предполагаю, что это не самый важный признак и его можно удалить. "
      ],
      "execution_count": 0,
      "outputs": []
    },
    {
      "cell_type": "code",
      "metadata": {
        "id": "avfsn88wdrdO",
        "colab_type": "code",
        "colab": {
          "base_uri": "https://localhost:8080/",
          "height": 612
        },
        "outputId": "3b3ede1f-d0f0-46b4-9b62-169872071eb0"
      },
      "source": [
        "train_data.isnull().sum()"
      ],
      "execution_count": 18,
      "outputs": [
        {
          "output_type": "execute_result",
          "data": {
            "text/plain": [
              "id                         0\n",
              "Birth date                 0\n",
              "Gender                     0\n",
              "Wave id                    0\n",
              "Level                      0\n",
              "Heard about school from    0\n",
              "Life status                0\n",
              "day_00                     0\n",
              "day_01                     0\n",
              "day_02                     0\n",
              "day_03                     0\n",
              "day_04                     0\n",
              "day_05                     0\n",
              "day_06                     0\n",
              "day_07                     0\n",
              "day_08                     0\n",
              "day_09                     0\n",
              "day_10                     0\n",
              "day_11                     0\n",
              "day_12                     0\n",
              "day_13                     0\n",
              "evalexpr                   0\n",
              "match_n_match              0\n",
              "bsq                        0\n",
              "rush_00                    0\n",
              "rush_01                    0\n",
              "rush_02                    0\n",
              "exam_00                    0\n",
              "exam_01                    0\n",
              "exam_02                    0\n",
              "exam_final                 0\n",
              "Memory entrance game       0\n",
              "Logic entrance game        0\n",
              "contract_status            0\n",
              "dtype: int64"
            ]
          },
          "metadata": {
            "tags": []
          },
          "execution_count": 18
        }
      ]
    },
    {
      "cell_type": "code",
      "metadata": {
        "id": "G5MY_ZzOgK79",
        "colab_type": "code",
        "colab": {}
      },
      "source": [
        "train_data['contract_status'] = [str(train_data['contract_status'][i]) for i in np.arange(train_data.shape[0])] # приведение таргета к str"
      ],
      "execution_count": 0,
      "outputs": []
    },
    {
      "cell_type": "code",
      "metadata": {
        "id": "rWZmc90lm22j",
        "colab_type": "code",
        "colab": {
          "base_uri": "https://localhost:8080/",
          "height": 680
        },
        "outputId": "e04d03ef-f9e7-40de-9ba5-6bba414fafa7"
      },
      "source": [
        "train_data.info()"
      ],
      "execution_count": 20,
      "outputs": [
        {
          "output_type": "stream",
          "text": [
            "<class 'pandas.core.frame.DataFrame'>\n",
            "RangeIndex: 1060 entries, 0 to 1059\n",
            "Data columns (total 34 columns):\n",
            "id                         1060 non-null int64\n",
            "Birth date                 1060 non-null object\n",
            "Gender                     1060 non-null object\n",
            "Wave id                    1060 non-null int64\n",
            "Level                      1060 non-null float64\n",
            "Heard about school from    1060 non-null object\n",
            "Life status                1060 non-null object\n",
            "day_00                     1060 non-null int64\n",
            "day_01                     1060 non-null float64\n",
            "day_02                     1060 non-null float64\n",
            "day_03                     1060 non-null float64\n",
            "day_04                     1060 non-null float64\n",
            "day_05                     1060 non-null float64\n",
            "day_06                     1060 non-null float64\n",
            "day_07                     1060 non-null float64\n",
            "day_08                     1060 non-null float64\n",
            "day_09                     1060 non-null float64\n",
            "day_10                     1060 non-null float64\n",
            "day_11                     1060 non-null float64\n",
            "day_12                     1060 non-null float64\n",
            "day_13                     1060 non-null float64\n",
            "evalexpr                   1060 non-null float64\n",
            "match_n_match              1060 non-null float64\n",
            "bsq                        1060 non-null float64\n",
            "rush_00                    1060 non-null float64\n",
            "rush_01                    1060 non-null float64\n",
            "rush_02                    1060 non-null float64\n",
            "exam_00                    1060 non-null float64\n",
            "exam_01                    1060 non-null float64\n",
            "exam_02                    1060 non-null float64\n",
            "exam_final                 1060 non-null float64\n",
            "Memory entrance game       1060 non-null int64\n",
            "Logic entrance game        1060 non-null int64\n",
            "contract_status            1060 non-null object\n",
            "dtypes: float64(24), int64(5), object(5)\n",
            "memory usage: 281.7+ KB\n"
          ],
          "name": "stdout"
        }
      ]
    },
    {
      "cell_type": "code",
      "metadata": {
        "id": "NSU18OvWr3Id",
        "colab_type": "code",
        "colab": {}
      },
      "source": [
        "gender = {\n",
        "    'male': 1,\n",
        "    'female':0\n",
        "}"
      ],
      "execution_count": 0,
      "outputs": []
    },
    {
      "cell_type": "code",
      "metadata": {
        "id": "rkBBzra2ruex",
        "colab_type": "code",
        "colab": {}
      },
      "source": [
        "del train_data['Heard about school from']\n",
        "del train_data['Life status']"
      ],
      "execution_count": 0,
      "outputs": []
    },
    {
      "cell_type": "code",
      "metadata": {
        "id": "j_9BoGe4tw4r",
        "colab_type": "code",
        "colab": {}
      },
      "source": [
        "del train_data['id']"
      ],
      "execution_count": 0,
      "outputs": []
    },
    {
      "cell_type": "code",
      "metadata": {
        "id": "rjar0zYFsCi0",
        "colab_type": "code",
        "colab": {
          "base_uri": "https://localhost:8080/",
          "height": 122
        },
        "outputId": "3f2335f0-783a-448d-f430-a582e1ff024c"
      },
      "source": [
        "for i in np.arange(train_data.shape[0]):\n",
        "  train_data['Gender'][i] = gender[train_data['Gender'][i]]"
      ],
      "execution_count": 24,
      "outputs": [
        {
          "output_type": "stream",
          "text": [
            "/usr/local/lib/python3.6/dist-packages/ipykernel_launcher.py:2: SettingWithCopyWarning: \n",
            "A value is trying to be set on a copy of a slice from a DataFrame\n",
            "\n",
            "See the caveats in the documentation: http://pandas.pydata.org/pandas-docs/stable/user_guide/indexing.html#returning-a-view-versus-a-copy\n",
            "  \n"
          ],
          "name": "stderr"
        }
      ]
    },
    {
      "cell_type": "markdown",
      "metadata": {
        "id": "6HM92uaynBJs",
        "colab_type": "text"
      },
      "source": [
        "### Обучение"
      ]
    },
    {
      "cell_type": "code",
      "metadata": {
        "id": "nIzdZEuLm5tF",
        "colab_type": "code",
        "colab": {}
      },
      "source": [
        "from sklearn.model_selection import train_test_split"
      ],
      "execution_count": 0,
      "outputs": []
    },
    {
      "cell_type": "code",
      "metadata": {
        "id": "ybf-SS39nZz0",
        "colab_type": "code",
        "colab": {}
      },
      "source": [
        "y_pred = train_data['contract_status']\n",
        "del train_data['contract_status']\n",
        "del train_data['Birth date']\n",
        "\n",
        "X_train, X_val, y_train, y_val = train_test_split(train_data, y_pred, train_size=0.7, random_state=42)"
      ],
      "execution_count": 0,
      "outputs": []
    },
    {
      "cell_type": "code",
      "metadata": {
        "id": "-EqmPoy5pDUW",
        "colab_type": "code",
        "colab": {}
      },
      "source": [
        "try:\n",
        "  from catboost import CatBoostClassifier, Pool\n",
        "except ModuleNotFoundError:\n",
        "  !pip install catboost"
      ],
      "execution_count": 0,
      "outputs": []
    },
    {
      "cell_type": "code",
      "metadata": {
        "id": "Jaz8rSf_pVH1",
        "colab_type": "code",
        "colab": {}
      },
      "source": [
        "cat_boost_params = {\n",
        "    'task_type': 'CPU',\n",
        "    'loss_function': 'CrossEntropy',\n",
        "    'eval_metric': 'AUC',\n",
        "    'iterations': 300,\n",
        "    'od_pval': 1e-5\n",
        "}"
      ],
      "execution_count": 0,
      "outputs": []
    },
    {
      "cell_type": "code",
      "metadata": {
        "id": "pD2OfSMRtMij",
        "colab_type": "code",
        "colab": {
          "base_uri": "https://localhost:8080/",
          "height": 258
        },
        "outputId": "0fa21b1a-12e3-48bd-ab47-a5a001af122a"
      },
      "source": [
        "train_data.head()"
      ],
      "execution_count": 34,
      "outputs": [
        {
          "output_type": "execute_result",
          "data": {
            "text/html": [
              "<div>\n",
              "<style scoped>\n",
              "    .dataframe tbody tr th:only-of-type {\n",
              "        vertical-align: middle;\n",
              "    }\n",
              "\n",
              "    .dataframe tbody tr th {\n",
              "        vertical-align: top;\n",
              "    }\n",
              "\n",
              "    .dataframe thead th {\n",
              "        text-align: right;\n",
              "    }\n",
              "</style>\n",
              "<table border=\"1\" class=\"dataframe\">\n",
              "  <thead>\n",
              "    <tr style=\"text-align: right;\">\n",
              "      <th></th>\n",
              "      <th>Gender</th>\n",
              "      <th>Wave id</th>\n",
              "      <th>Level</th>\n",
              "      <th>day_00</th>\n",
              "      <th>day_01</th>\n",
              "      <th>day_02</th>\n",
              "      <th>day_03</th>\n",
              "      <th>day_04</th>\n",
              "      <th>day_05</th>\n",
              "      <th>day_06</th>\n",
              "      <th>day_07</th>\n",
              "      <th>day_08</th>\n",
              "      <th>day_09</th>\n",
              "      <th>day_10</th>\n",
              "      <th>day_11</th>\n",
              "      <th>day_12</th>\n",
              "      <th>day_13</th>\n",
              "      <th>evalexpr</th>\n",
              "      <th>match_n_match</th>\n",
              "      <th>bsq</th>\n",
              "      <th>rush_00</th>\n",
              "      <th>rush_01</th>\n",
              "      <th>rush_02</th>\n",
              "      <th>exam_00</th>\n",
              "      <th>exam_01</th>\n",
              "      <th>exam_02</th>\n",
              "      <th>exam_final</th>\n",
              "      <th>Memory entrance game</th>\n",
              "      <th>Logic entrance game</th>\n",
              "    </tr>\n",
              "  </thead>\n",
              "  <tbody>\n",
              "    <tr>\n",
              "      <th>0</th>\n",
              "      <td>1</td>\n",
              "      <td>3</td>\n",
              "      <td>7.463235</td>\n",
              "      <td>5</td>\n",
              "      <td>0.0</td>\n",
              "      <td>0.0</td>\n",
              "      <td>80.0</td>\n",
              "      <td>0.0</td>\n",
              "      <td>1.0</td>\n",
              "      <td>0.0</td>\n",
              "      <td>15.0</td>\n",
              "      <td>10.0</td>\n",
              "      <td>0.0</td>\n",
              "      <td>50.0</td>\n",
              "      <td>21.0</td>\n",
              "      <td>20.0</td>\n",
              "      <td>55.0</td>\n",
              "      <td>81.0</td>\n",
              "      <td>0.0</td>\n",
              "      <td>0.0</td>\n",
              "      <td>0.0</td>\n",
              "      <td>0.0</td>\n",
              "      <td>0.0</td>\n",
              "      <td>75.0</td>\n",
              "      <td>43.0</td>\n",
              "      <td>100.0</td>\n",
              "      <td>44.0</td>\n",
              "      <td>9</td>\n",
              "      <td>11</td>\n",
              "    </tr>\n",
              "    <tr>\n",
              "      <th>1</th>\n",
              "      <td>0</td>\n",
              "      <td>1</td>\n",
              "      <td>8.785714</td>\n",
              "      <td>0</td>\n",
              "      <td>0.0</td>\n",
              "      <td>10.0</td>\n",
              "      <td>45.0</td>\n",
              "      <td>5.0</td>\n",
              "      <td>1.0</td>\n",
              "      <td>35.0</td>\n",
              "      <td>0.0</td>\n",
              "      <td>5.0</td>\n",
              "      <td>16.0</td>\n",
              "      <td>0.0</td>\n",
              "      <td>9.0</td>\n",
              "      <td>0.0</td>\n",
              "      <td>10.0</td>\n",
              "      <td>0.0</td>\n",
              "      <td>0.0</td>\n",
              "      <td>0.0</td>\n",
              "      <td>110.0</td>\n",
              "      <td>0.0</td>\n",
              "      <td>0.0</td>\n",
              "      <td>0.0</td>\n",
              "      <td>16.0</td>\n",
              "      <td>22.0</td>\n",
              "      <td>22.0</td>\n",
              "      <td>7</td>\n",
              "      <td>10</td>\n",
              "    </tr>\n",
              "    <tr>\n",
              "      <th>2</th>\n",
              "      <td>0</td>\n",
              "      <td>2</td>\n",
              "      <td>6.775000</td>\n",
              "      <td>0</td>\n",
              "      <td>0.0</td>\n",
              "      <td>20.0</td>\n",
              "      <td>2.0</td>\n",
              "      <td>0.0</td>\n",
              "      <td>0.0</td>\n",
              "      <td>0.0</td>\n",
              "      <td>0.0</td>\n",
              "      <td>0.0</td>\n",
              "      <td>0.0</td>\n",
              "      <td>15.0</td>\n",
              "      <td>0.0</td>\n",
              "      <td>0.0</td>\n",
              "      <td>0.0</td>\n",
              "      <td>0.0</td>\n",
              "      <td>0.0</td>\n",
              "      <td>0.0</td>\n",
              "      <td>0.0</td>\n",
              "      <td>0.0</td>\n",
              "      <td>0.0</td>\n",
              "      <td>0.0</td>\n",
              "      <td>0.0</td>\n",
              "      <td>16.0</td>\n",
              "      <td>27.0</td>\n",
              "      <td>7</td>\n",
              "      <td>11</td>\n",
              "    </tr>\n",
              "    <tr>\n",
              "      <th>3</th>\n",
              "      <td>0</td>\n",
              "      <td>1</td>\n",
              "      <td>8.146104</td>\n",
              "      <td>5</td>\n",
              "      <td>0.0</td>\n",
              "      <td>35.0</td>\n",
              "      <td>25.0</td>\n",
              "      <td>20.0</td>\n",
              "      <td>2.0</td>\n",
              "      <td>70.0</td>\n",
              "      <td>0.0</td>\n",
              "      <td>0.0</td>\n",
              "      <td>0.0</td>\n",
              "      <td>0.0</td>\n",
              "      <td>7.0</td>\n",
              "      <td>0.0</td>\n",
              "      <td>0.0</td>\n",
              "      <td>0.0</td>\n",
              "      <td>0.0</td>\n",
              "      <td>0.0</td>\n",
              "      <td>0.0</td>\n",
              "      <td>0.0</td>\n",
              "      <td>0.0</td>\n",
              "      <td>0.0</td>\n",
              "      <td>0.0</td>\n",
              "      <td>27.0</td>\n",
              "      <td>27.0</td>\n",
              "      <td>9</td>\n",
              "      <td>6</td>\n",
              "    </tr>\n",
              "    <tr>\n",
              "      <th>4</th>\n",
              "      <td>1</td>\n",
              "      <td>3</td>\n",
              "      <td>4.272727</td>\n",
              "      <td>0</td>\n",
              "      <td>0.0</td>\n",
              "      <td>0.0</td>\n",
              "      <td>5.0</td>\n",
              "      <td>85.0</td>\n",
              "      <td>3.0</td>\n",
              "      <td>50.0</td>\n",
              "      <td>40.0</td>\n",
              "      <td>0.0</td>\n",
              "      <td>12.0</td>\n",
              "      <td>40.0</td>\n",
              "      <td>5.0</td>\n",
              "      <td>0.0</td>\n",
              "      <td>0.0</td>\n",
              "      <td>0.0</td>\n",
              "      <td>60.0</td>\n",
              "      <td>0.0</td>\n",
              "      <td>120.0</td>\n",
              "      <td>0.0</td>\n",
              "      <td>0.0</td>\n",
              "      <td>80.0</td>\n",
              "      <td>38.0</td>\n",
              "      <td>0.0</td>\n",
              "      <td>45.0</td>\n",
              "      <td>7</td>\n",
              "      <td>12</td>\n",
              "    </tr>\n",
              "  </tbody>\n",
              "</table>\n",
              "</div>"
            ],
            "text/plain": [
              "  Gender  Wave id  ...  Memory entrance game  Logic entrance game\n",
              "0      1        3  ...                     9                   11\n",
              "1      0        1  ...                     7                   10\n",
              "2      0        2  ...                     7                   11\n",
              "3      0        1  ...                     9                    6\n",
              "4      1        3  ...                     7                   12\n",
              "\n",
              "[5 rows x 29 columns]"
            ]
          },
          "metadata": {
            "tags": []
          },
          "execution_count": 34
        }
      ]
    },
    {
      "cell_type": "code",
      "metadata": {
        "id": "yz98kf3ipvzA",
        "colab_type": "code",
        "colab": {
          "base_uri": "https://localhost:8080/",
          "height": 1000
        },
        "outputId": "4f0a2fc3-eed1-477a-bc46-513232b5a2a1"
      },
      "source": [
        "train = Pool(X_train, y_train)\n",
        "val = Pool(X_val, y_val)\n",
        "\n",
        "classifier = CatBoostClassifier(**cat_boost_params)\n",
        "\n",
        "basemodel = classifier.fit(train, use_best_model=True, eval_set=val)"
      ],
      "execution_count": 39,
      "outputs": [
        {
          "output_type": "stream",
          "text": [
            "0:\ttest: 0.8388049\tbest: 0.8388049 (0)\ttotal: 1.75ms\tremaining: 522ms\n",
            "1:\ttest: 0.8246168\tbest: 0.8388049 (0)\ttotal: 3.49ms\tremaining: 520ms\n",
            "2:\ttest: 0.8361123\tbest: 0.8388049 (0)\ttotal: 5.25ms\tremaining: 520ms\n",
            "3:\ttest: 0.8296396\tbest: 0.8388049 (0)\ttotal: 6.86ms\tremaining: 508ms\n",
            "4:\ttest: 0.8513877\tbest: 0.8513877 (4)\ttotal: 9.28ms\tremaining: 548ms\n",
            "5:\ttest: 0.8789354\tbest: 0.8789354 (5)\ttotal: 12.7ms\tremaining: 624ms\n",
            "6:\ttest: 0.8846313\tbest: 0.8846313 (6)\ttotal: 14.2ms\tremaining: 596ms\n",
            "7:\ttest: 0.8885667\tbest: 0.8885667 (7)\ttotal: 15.9ms\tremaining: 580ms\n",
            "8:\ttest: 0.9000621\tbest: 0.9000621 (8)\ttotal: 17.6ms\tremaining: 570ms\n",
            "9:\ttest: 0.9076222\tbest: 0.9076222 (9)\ttotal: 19.2ms\tremaining: 558ms\n",
            "10:\ttest: 0.9027548\tbest: 0.9076222 (9)\ttotal: 20.9ms\tremaining: 549ms\n",
            "11:\ttest: 0.9262635\tbest: 0.9262635 (11)\ttotal: 22.5ms\tremaining: 541ms\n",
            "12:\ttest: 0.9365162\tbest: 0.9365162 (12)\ttotal: 24.3ms\tremaining: 535ms\n",
            "13:\ttest: 0.9333057\tbest: 0.9365162 (12)\ttotal: 25.8ms\tremaining: 527ms\n",
            "14:\ttest: 0.9329950\tbest: 0.9365162 (12)\ttotal: 27.4ms\tremaining: 520ms\n",
            "15:\ttest: 0.9334093\tbest: 0.9365162 (12)\ttotal: 29.1ms\tremaining: 516ms\n",
            "16:\ttest: 0.9363090\tbest: 0.9365162 (12)\ttotal: 31.1ms\tremaining: 518ms\n",
            "17:\ttest: 0.9398819\tbest: 0.9398819 (17)\ttotal: 33.2ms\tremaining: 520ms\n",
            "18:\ttest: 0.9521023\tbest: 0.9521023 (18)\ttotal: 34.9ms\tremaining: 517ms\n",
            "19:\ttest: 0.9529308\tbest: 0.9529308 (19)\ttotal: 36.8ms\tremaining: 516ms\n",
            "20:\ttest: 0.9514809\tbest: 0.9529308 (19)\ttotal: 38.4ms\tremaining: 511ms\n",
            "21:\ttest: 0.9498757\tbest: 0.9529308 (19)\ttotal: 40.2ms\tremaining: 508ms\n",
            "22:\ttest: 0.9460439\tbest: 0.9529308 (19)\ttotal: 42ms\tremaining: 506ms\n",
            "23:\ttest: 0.9462510\tbest: 0.9529308 (19)\ttotal: 43.8ms\tremaining: 504ms\n",
            "24:\ttest: 0.9445940\tbest: 0.9529308 (19)\ttotal: 45.4ms\tremaining: 500ms\n",
            "25:\ttest: 0.9442833\tbest: 0.9529308 (19)\ttotal: 47.2ms\tremaining: 498ms\n",
            "26:\ttest: 0.9490472\tbest: 0.9529308 (19)\ttotal: 49ms\tremaining: 496ms\n",
            "27:\ttest: 0.9464582\tbest: 0.9529308 (19)\ttotal: 51ms\tremaining: 495ms\n",
            "28:\ttest: 0.9482187\tbest: 0.9529308 (19)\ttotal: 52.9ms\tremaining: 494ms\n",
            "29:\ttest: 0.9533969\tbest: 0.9533969 (29)\ttotal: 54.8ms\tremaining: 493ms\n",
            "30:\ttest: 0.9574358\tbest: 0.9574358 (30)\ttotal: 56.5ms\tremaining: 490ms\n",
            "31:\ttest: 0.9548467\tbest: 0.9574358 (30)\ttotal: 58.1ms\tremaining: 487ms\n",
            "32:\ttest: 0.9567109\tbest: 0.9574358 (30)\ttotal: 59.8ms\tremaining: 484ms\n",
            "33:\ttest: 0.9581607\tbest: 0.9581607 (33)\ttotal: 61.6ms\tremaining: 482ms\n",
            "34:\ttest: 0.9585750\tbest: 0.9585750 (34)\ttotal: 63.3ms\tremaining: 480ms\n",
            "35:\ttest: 0.9595070\tbest: 0.9595070 (35)\ttotal: 65ms\tremaining: 477ms\n",
            "36:\ttest: 0.9616819\tbest: 0.9616819 (36)\ttotal: 66.7ms\tremaining: 474ms\n",
            "37:\ttest: 0.9630282\tbest: 0.9630282 (37)\ttotal: 68.4ms\tremaining: 471ms\n",
            "38:\ttest: 0.9635460\tbest: 0.9635460 (38)\ttotal: 70ms\tremaining: 469ms\n",
            "39:\ttest: 0.9645816\tbest: 0.9645816 (39)\ttotal: 71.7ms\tremaining: 466ms\n",
            "40:\ttest: 0.9640638\tbest: 0.9645816 (39)\ttotal: 73.3ms\tremaining: 463ms\n",
            "41:\ttest: 0.9648923\tbest: 0.9648923 (41)\ttotal: 75.1ms\tremaining: 462ms\n",
            "42:\ttest: 0.9655137\tbest: 0.9655137 (42)\ttotal: 77ms\tremaining: 460ms\n",
            "43:\ttest: 0.9654101\tbest: 0.9655137 (42)\ttotal: 78.8ms\tremaining: 459ms\n",
            "44:\ttest: 0.9689312\tbest: 0.9689312 (44)\ttotal: 80.4ms\tremaining: 456ms\n",
            "45:\ttest: 0.9696562\tbest: 0.9696562 (45)\ttotal: 82.1ms\tremaining: 453ms\n",
            "46:\ttest: 0.9696562\tbest: 0.9696562 (45)\ttotal: 83.7ms\tremaining: 451ms\n",
            "47:\ttest: 0.9693455\tbest: 0.9696562 (45)\ttotal: 85.6ms\tremaining: 449ms\n",
            "48:\ttest: 0.9703811\tbest: 0.9703811 (48)\ttotal: 87.2ms\tremaining: 446ms\n",
            "49:\ttest: 0.9699669\tbest: 0.9703811 (48)\ttotal: 88.9ms\tremaining: 444ms\n",
            "50:\ttest: 0.9710025\tbest: 0.9710025 (50)\ttotal: 90.6ms\tremaining: 442ms\n",
            "51:\ttest: 0.9716239\tbest: 0.9716239 (51)\ttotal: 92.3ms\tremaining: 440ms\n",
            "52:\ttest: 0.9707954\tbest: 0.9716239 (51)\ttotal: 94.1ms\tremaining: 438ms\n",
            "53:\ttest: 0.9712096\tbest: 0.9716239 (51)\ttotal: 95.7ms\tremaining: 436ms\n",
            "54:\ttest: 0.9705882\tbest: 0.9716239 (51)\ttotal: 97.4ms\tremaining: 434ms\n",
            "55:\ttest: 0.9707954\tbest: 0.9716239 (51)\ttotal: 99.2ms\tremaining: 432ms\n",
            "56:\ttest: 0.9714167\tbest: 0.9716239 (51)\ttotal: 101ms\tremaining: 431ms\n",
            "57:\ttest: 0.9715203\tbest: 0.9716239 (51)\ttotal: 103ms\tremaining: 428ms\n",
            "58:\ttest: 0.9720381\tbest: 0.9720381 (58)\ttotal: 104ms\tremaining: 426ms\n",
            "59:\ttest: 0.9718310\tbest: 0.9720381 (58)\ttotal: 106ms\tremaining: 425ms\n",
            "60:\ttest: 0.9719345\tbest: 0.9720381 (58)\ttotal: 108ms\tremaining: 423ms\n",
            "61:\ttest: 0.9728666\tbest: 0.9728666 (61)\ttotal: 110ms\tremaining: 421ms\n",
            "62:\ttest: 0.9732809\tbest: 0.9732809 (62)\ttotal: 111ms\tremaining: 419ms\n",
            "63:\ttest: 0.9729702\tbest: 0.9732809 (62)\ttotal: 113ms\tremaining: 417ms\n",
            "64:\ttest: 0.9728666\tbest: 0.9732809 (62)\ttotal: 115ms\tremaining: 414ms\n",
            "65:\ttest: 0.9732809\tbest: 0.9732809 (62)\ttotal: 116ms\tremaining: 412ms\n",
            "66:\ttest: 0.9730737\tbest: 0.9732809 (62)\ttotal: 118ms\tremaining: 410ms\n",
            "67:\ttest: 0.9729702\tbest: 0.9732809 (62)\ttotal: 120ms\tremaining: 408ms\n",
            "68:\ttest: 0.9724524\tbest: 0.9732809 (62)\ttotal: 121ms\tremaining: 406ms\n",
            "69:\ttest: 0.9719345\tbest: 0.9732809 (62)\ttotal: 123ms\tremaining: 404ms\n",
            "70:\ttest: 0.9728666\tbest: 0.9732809 (62)\ttotal: 125ms\tremaining: 402ms\n",
            "71:\ttest: 0.9737987\tbest: 0.9737987 (71)\ttotal: 126ms\tremaining: 401ms\n",
            "72:\ttest: 0.9735915\tbest: 0.9737987 (71)\ttotal: 128ms\tremaining: 399ms\n",
            "73:\ttest: 0.9742129\tbest: 0.9742129 (73)\ttotal: 130ms\tremaining: 397ms\n",
            "74:\ttest: 0.9750414\tbest: 0.9750414 (74)\ttotal: 132ms\tremaining: 395ms\n",
            "75:\ttest: 0.9752486\tbest: 0.9752486 (75)\ttotal: 134ms\tremaining: 394ms\n",
            "76:\ttest: 0.9753521\tbest: 0.9753521 (76)\ttotal: 135ms\tremaining: 392ms\n",
            "77:\ttest: 0.9744200\tbest: 0.9753521 (76)\ttotal: 137ms\tremaining: 390ms\n",
            "78:\ttest: 0.9739022\tbest: 0.9753521 (76)\ttotal: 139ms\tremaining: 388ms\n",
            "79:\ttest: 0.9741094\tbest: 0.9753521 (76)\ttotal: 140ms\tremaining: 386ms\n",
            "80:\ttest: 0.9751450\tbest: 0.9753521 (76)\ttotal: 142ms\tremaining: 384ms\n",
            "81:\ttest: 0.9754557\tbest: 0.9754557 (81)\ttotal: 144ms\tremaining: 383ms\n",
            "82:\ttest: 0.9757664\tbest: 0.9757664 (82)\ttotal: 146ms\tremaining: 381ms\n",
            "83:\ttest: 0.9750414\tbest: 0.9757664 (82)\ttotal: 148ms\tremaining: 380ms\n",
            "84:\ttest: 0.9753521\tbest: 0.9757664 (82)\ttotal: 149ms\tremaining: 378ms\n",
            "85:\ttest: 0.9754557\tbest: 0.9757664 (82)\ttotal: 151ms\tremaining: 376ms\n",
            "86:\ttest: 0.9757664\tbest: 0.9757664 (82)\ttotal: 153ms\tremaining: 375ms\n",
            "87:\ttest: 0.9762842\tbest: 0.9762842 (87)\ttotal: 155ms\tremaining: 374ms\n",
            "88:\ttest: 0.9761806\tbest: 0.9762842 (87)\ttotal: 157ms\tremaining: 372ms\n",
            "89:\ttest: 0.9770091\tbest: 0.9770091 (89)\ttotal: 159ms\tremaining: 371ms\n",
            "90:\ttest: 0.9772162\tbest: 0.9772162 (90)\ttotal: 161ms\tremaining: 369ms\n",
            "91:\ttest: 0.9775269\tbest: 0.9775269 (91)\ttotal: 163ms\tremaining: 368ms\n",
            "92:\ttest: 0.9771127\tbest: 0.9775269 (91)\ttotal: 164ms\tremaining: 366ms\n",
            "93:\ttest: 0.9769056\tbest: 0.9775269 (91)\ttotal: 166ms\tremaining: 364ms\n",
            "94:\ttest: 0.9773198\tbest: 0.9775269 (91)\ttotal: 168ms\tremaining: 362ms\n",
            "95:\ttest: 0.9766984\tbest: 0.9775269 (91)\ttotal: 170ms\tremaining: 361ms\n",
            "96:\ttest: 0.9764913\tbest: 0.9775269 (91)\ttotal: 171ms\tremaining: 359ms\n",
            "97:\ttest: 0.9773198\tbest: 0.9775269 (91)\ttotal: 173ms\tremaining: 357ms\n",
            "98:\ttest: 0.9771127\tbest: 0.9775269 (91)\ttotal: 175ms\tremaining: 355ms\n",
            "99:\ttest: 0.9768020\tbest: 0.9775269 (91)\ttotal: 176ms\tremaining: 353ms\n",
            "100:\ttest: 0.9765949\tbest: 0.9775269 (91)\ttotal: 178ms\tremaining: 351ms\n",
            "101:\ttest: 0.9764913\tbest: 0.9775269 (91)\ttotal: 180ms\tremaining: 349ms\n",
            "102:\ttest: 0.9764913\tbest: 0.9775269 (91)\ttotal: 182ms\tremaining: 348ms\n",
            "103:\ttest: 0.9768020\tbest: 0.9775269 (91)\ttotal: 184ms\tremaining: 346ms\n",
            "104:\ttest: 0.9772162\tbest: 0.9775269 (91)\ttotal: 185ms\tremaining: 344ms\n",
            "105:\ttest: 0.9772162\tbest: 0.9775269 (91)\ttotal: 187ms\tremaining: 342ms\n",
            "106:\ttest: 0.9768020\tbest: 0.9775269 (91)\ttotal: 193ms\tremaining: 348ms\n",
            "107:\ttest: 0.9780447\tbest: 0.9780447 (107)\ttotal: 194ms\tremaining: 346ms\n",
            "108:\ttest: 0.9763877\tbest: 0.9780447 (107)\ttotal: 196ms\tremaining: 343ms\n",
            "109:\ttest: 0.9766984\tbest: 0.9780447 (107)\ttotal: 198ms\tremaining: 341ms\n",
            "110:\ttest: 0.9765949\tbest: 0.9780447 (107)\ttotal: 199ms\tremaining: 339ms\n",
            "111:\ttest: 0.9765949\tbest: 0.9780447 (107)\ttotal: 201ms\tremaining: 337ms\n",
            "112:\ttest: 0.9768020\tbest: 0.9780447 (107)\ttotal: 202ms\tremaining: 335ms\n",
            "113:\ttest: 0.9774234\tbest: 0.9780447 (107)\ttotal: 204ms\tremaining: 333ms\n",
            "114:\ttest: 0.9773198\tbest: 0.9780447 (107)\ttotal: 206ms\tremaining: 331ms\n",
            "115:\ttest: 0.9761806\tbest: 0.9780447 (107)\ttotal: 207ms\tremaining: 329ms\n",
            "116:\ttest: 0.9758699\tbest: 0.9780447 (107)\ttotal: 209ms\tremaining: 327ms\n",
            "117:\ttest: 0.9757664\tbest: 0.9780447 (107)\ttotal: 211ms\tremaining: 325ms\n",
            "118:\ttest: 0.9759735\tbest: 0.9780447 (107)\ttotal: 213ms\tremaining: 324ms\n",
            "119:\ttest: 0.9762842\tbest: 0.9780447 (107)\ttotal: 215ms\tremaining: 322ms\n",
            "120:\ttest: 0.9759735\tbest: 0.9780447 (107)\ttotal: 216ms\tremaining: 320ms\n",
            "121:\ttest: 0.9759735\tbest: 0.9780447 (107)\ttotal: 218ms\tremaining: 318ms\n",
            "122:\ttest: 0.9756628\tbest: 0.9780447 (107)\ttotal: 219ms\tremaining: 316ms\n",
            "123:\ttest: 0.9758699\tbest: 0.9780447 (107)\ttotal: 221ms\tremaining: 314ms\n",
            "124:\ttest: 0.9758699\tbest: 0.9780447 (107)\ttotal: 223ms\tremaining: 312ms\n",
            "125:\ttest: 0.9755592\tbest: 0.9780447 (107)\ttotal: 225ms\tremaining: 310ms\n",
            "126:\ttest: 0.9751450\tbest: 0.9780447 (107)\ttotal: 227ms\tremaining: 309ms\n",
            "127:\ttest: 0.9754557\tbest: 0.9780447 (107)\ttotal: 228ms\tremaining: 307ms\n",
            "128:\ttest: 0.9757664\tbest: 0.9780447 (107)\ttotal: 230ms\tremaining: 305ms\n",
            "129:\ttest: 0.9752486\tbest: 0.9780447 (107)\ttotal: 232ms\tremaining: 303ms\n",
            "130:\ttest: 0.9750414\tbest: 0.9780447 (107)\ttotal: 233ms\tremaining: 301ms\n",
            "131:\ttest: 0.9750414\tbest: 0.9780447 (107)\ttotal: 235ms\tremaining: 299ms\n",
            "132:\ttest: 0.9748343\tbest: 0.9780447 (107)\ttotal: 236ms\tremaining: 297ms\n",
            "133:\ttest: 0.9749379\tbest: 0.9780447 (107)\ttotal: 238ms\tremaining: 295ms\n",
            "134:\ttest: 0.9757664\tbest: 0.9780447 (107)\ttotal: 240ms\tremaining: 293ms\n",
            "135:\ttest: 0.9755592\tbest: 0.9780447 (107)\ttotal: 241ms\tremaining: 291ms\n",
            "136:\ttest: 0.9754557\tbest: 0.9780447 (107)\ttotal: 243ms\tremaining: 289ms\n",
            "137:\ttest: 0.9754557\tbest: 0.9780447 (107)\ttotal: 245ms\tremaining: 287ms\n",
            "138:\ttest: 0.9755592\tbest: 0.9780447 (107)\ttotal: 246ms\tremaining: 285ms\n",
            "139:\ttest: 0.9757664\tbest: 0.9780447 (107)\ttotal: 248ms\tremaining: 284ms\n",
            "140:\ttest: 0.9758699\tbest: 0.9780447 (107)\ttotal: 250ms\tremaining: 282ms\n",
            "141:\ttest: 0.9761806\tbest: 0.9780447 (107)\ttotal: 251ms\tremaining: 280ms\n",
            "142:\ttest: 0.9759735\tbest: 0.9780447 (107)\ttotal: 253ms\tremaining: 278ms\n",
            "143:\ttest: 0.9754557\tbest: 0.9780447 (107)\ttotal: 255ms\tremaining: 276ms\n",
            "144:\ttest: 0.9754557\tbest: 0.9780447 (107)\ttotal: 256ms\tremaining: 274ms\n",
            "145:\ttest: 0.9752486\tbest: 0.9780447 (107)\ttotal: 258ms\tremaining: 272ms\n",
            "146:\ttest: 0.9752486\tbest: 0.9780447 (107)\ttotal: 259ms\tremaining: 270ms\n",
            "147:\ttest: 0.9751450\tbest: 0.9780447 (107)\ttotal: 261ms\tremaining: 268ms\n",
            "148:\ttest: 0.9751450\tbest: 0.9780447 (107)\ttotal: 263ms\tremaining: 266ms\n",
            "149:\ttest: 0.9752486\tbest: 0.9780447 (107)\ttotal: 264ms\tremaining: 264ms\n",
            "150:\ttest: 0.9753521\tbest: 0.9780447 (107)\ttotal: 266ms\tremaining: 262ms\n",
            "151:\ttest: 0.9754557\tbest: 0.9780447 (107)\ttotal: 268ms\tremaining: 261ms\n",
            "152:\ttest: 0.9754557\tbest: 0.9780447 (107)\ttotal: 270ms\tremaining: 259ms\n",
            "153:\ttest: 0.9753521\tbest: 0.9780447 (107)\ttotal: 271ms\tremaining: 257ms\n",
            "154:\ttest: 0.9754557\tbest: 0.9780447 (107)\ttotal: 273ms\tremaining: 255ms\n",
            "155:\ttest: 0.9754557\tbest: 0.9780447 (107)\ttotal: 275ms\tremaining: 254ms\n",
            "156:\ttest: 0.9751450\tbest: 0.9780447 (107)\ttotal: 276ms\tremaining: 252ms\n",
            "157:\ttest: 0.9752486\tbest: 0.9780447 (107)\ttotal: 278ms\tremaining: 250ms\n",
            "158:\ttest: 0.9745236\tbest: 0.9780447 (107)\ttotal: 280ms\tremaining: 248ms\n",
            "159:\ttest: 0.9742129\tbest: 0.9780447 (107)\ttotal: 281ms\tremaining: 246ms\n",
            "160:\ttest: 0.9747307\tbest: 0.9780447 (107)\ttotal: 283ms\tremaining: 244ms\n",
            "161:\ttest: 0.9751450\tbest: 0.9780447 (107)\ttotal: 285ms\tremaining: 243ms\n",
            "162:\ttest: 0.9752486\tbest: 0.9780447 (107)\ttotal: 287ms\tremaining: 241ms\n",
            "163:\ttest: 0.9751450\tbest: 0.9780447 (107)\ttotal: 288ms\tremaining: 239ms\n",
            "164:\ttest: 0.9751450\tbest: 0.9780447 (107)\ttotal: 290ms\tremaining: 237ms\n",
            "165:\ttest: 0.9749379\tbest: 0.9780447 (107)\ttotal: 292ms\tremaining: 236ms\n",
            "166:\ttest: 0.9754557\tbest: 0.9780447 (107)\ttotal: 293ms\tremaining: 234ms\n",
            "167:\ttest: 0.9752486\tbest: 0.9780447 (107)\ttotal: 295ms\tremaining: 232ms\n",
            "168:\ttest: 0.9755592\tbest: 0.9780447 (107)\ttotal: 297ms\tremaining: 230ms\n",
            "169:\ttest: 0.9755592\tbest: 0.9780447 (107)\ttotal: 299ms\tremaining: 228ms\n",
            "170:\ttest: 0.9753521\tbest: 0.9780447 (107)\ttotal: 300ms\tremaining: 227ms\n",
            "171:\ttest: 0.9749379\tbest: 0.9780447 (107)\ttotal: 302ms\tremaining: 225ms\n",
            "172:\ttest: 0.9755592\tbest: 0.9780447 (107)\ttotal: 304ms\tremaining: 223ms\n",
            "173:\ttest: 0.9755592\tbest: 0.9780447 (107)\ttotal: 305ms\tremaining: 221ms\n",
            "174:\ttest: 0.9756628\tbest: 0.9780447 (107)\ttotal: 307ms\tremaining: 219ms\n",
            "175:\ttest: 0.9758699\tbest: 0.9780447 (107)\ttotal: 309ms\tremaining: 217ms\n",
            "176:\ttest: 0.9761806\tbest: 0.9780447 (107)\ttotal: 310ms\tremaining: 216ms\n",
            "177:\ttest: 0.9765949\tbest: 0.9780447 (107)\ttotal: 312ms\tremaining: 214ms\n",
            "178:\ttest: 0.9757664\tbest: 0.9780447 (107)\ttotal: 314ms\tremaining: 212ms\n",
            "179:\ttest: 0.9761806\tbest: 0.9780447 (107)\ttotal: 316ms\tremaining: 210ms\n",
            "180:\ttest: 0.9761806\tbest: 0.9780447 (107)\ttotal: 317ms\tremaining: 209ms\n",
            "181:\ttest: 0.9757664\tbest: 0.9780447 (107)\ttotal: 319ms\tremaining: 207ms\n",
            "182:\ttest: 0.9749379\tbest: 0.9780447 (107)\ttotal: 321ms\tremaining: 205ms\n",
            "183:\ttest: 0.9752486\tbest: 0.9780447 (107)\ttotal: 323ms\tremaining: 203ms\n",
            "184:\ttest: 0.9754557\tbest: 0.9780447 (107)\ttotal: 324ms\tremaining: 202ms\n",
            "185:\ttest: 0.9755592\tbest: 0.9780447 (107)\ttotal: 326ms\tremaining: 200ms\n",
            "186:\ttest: 0.9752486\tbest: 0.9780447 (107)\ttotal: 328ms\tremaining: 198ms\n",
            "187:\ttest: 0.9756628\tbest: 0.9780447 (107)\ttotal: 329ms\tremaining: 196ms\n",
            "188:\ttest: 0.9752486\tbest: 0.9780447 (107)\ttotal: 331ms\tremaining: 194ms\n",
            "189:\ttest: 0.9748343\tbest: 0.9780447 (107)\ttotal: 332ms\tremaining: 192ms\n",
            "190:\ttest: 0.9750414\tbest: 0.9780447 (107)\ttotal: 334ms\tremaining: 191ms\n",
            "191:\ttest: 0.9753521\tbest: 0.9780447 (107)\ttotal: 336ms\tremaining: 189ms\n",
            "192:\ttest: 0.9753521\tbest: 0.9780447 (107)\ttotal: 337ms\tremaining: 187ms\n",
            "193:\ttest: 0.9758699\tbest: 0.9780447 (107)\ttotal: 339ms\tremaining: 185ms\n",
            "194:\ttest: 0.9757664\tbest: 0.9780447 (107)\ttotal: 341ms\tremaining: 183ms\n",
            "195:\ttest: 0.9761806\tbest: 0.9780447 (107)\ttotal: 342ms\tremaining: 182ms\n",
            "196:\ttest: 0.9755592\tbest: 0.9780447 (107)\ttotal: 344ms\tremaining: 180ms\n",
            "197:\ttest: 0.9756628\tbest: 0.9780447 (107)\ttotal: 346ms\tremaining: 178ms\n",
            "198:\ttest: 0.9752486\tbest: 0.9780447 (107)\ttotal: 347ms\tremaining: 176ms\n",
            "199:\ttest: 0.9751450\tbest: 0.9780447 (107)\ttotal: 349ms\tremaining: 174ms\n",
            "200:\ttest: 0.9755592\tbest: 0.9780447 (107)\ttotal: 351ms\tremaining: 173ms\n",
            "201:\ttest: 0.9755592\tbest: 0.9780447 (107)\ttotal: 352ms\tremaining: 171ms\n",
            "202:\ttest: 0.9754557\tbest: 0.9780447 (107)\ttotal: 354ms\tremaining: 169ms\n",
            "203:\ttest: 0.9751450\tbest: 0.9780447 (107)\ttotal: 355ms\tremaining: 167ms\n",
            "204:\ttest: 0.9752486\tbest: 0.9780447 (107)\ttotal: 357ms\tremaining: 166ms\n",
            "205:\ttest: 0.9753521\tbest: 0.9780447 (107)\ttotal: 359ms\tremaining: 164ms\n",
            "206:\ttest: 0.9751450\tbest: 0.9780447 (107)\ttotal: 361ms\tremaining: 162ms\n",
            "207:\ttest: 0.9752486\tbest: 0.9780447 (107)\ttotal: 362ms\tremaining: 160ms\n",
            "208:\ttest: 0.9749379\tbest: 0.9780447 (107)\ttotal: 364ms\tremaining: 159ms\n",
            "209:\ttest: 0.9749379\tbest: 0.9780447 (107)\ttotal: 366ms\tremaining: 157ms\n",
            "210:\ttest: 0.9756628\tbest: 0.9780447 (107)\ttotal: 368ms\tremaining: 155ms\n",
            "211:\ttest: 0.9751450\tbest: 0.9780447 (107)\ttotal: 369ms\tremaining: 153ms\n",
            "212:\ttest: 0.9755592\tbest: 0.9780447 (107)\ttotal: 371ms\tremaining: 152ms\n",
            "213:\ttest: 0.9751450\tbest: 0.9780447 (107)\ttotal: 379ms\tremaining: 152ms\n",
            "214:\ttest: 0.9756628\tbest: 0.9780447 (107)\ttotal: 380ms\tremaining: 150ms\n",
            "215:\ttest: 0.9752486\tbest: 0.9780447 (107)\ttotal: 382ms\tremaining: 149ms\n",
            "216:\ttest: 0.9751450\tbest: 0.9780447 (107)\ttotal: 384ms\tremaining: 147ms\n",
            "217:\ttest: 0.9750414\tbest: 0.9780447 (107)\ttotal: 385ms\tremaining: 145ms\n",
            "218:\ttest: 0.9756628\tbest: 0.9780447 (107)\ttotal: 387ms\tremaining: 143ms\n",
            "219:\ttest: 0.9760771\tbest: 0.9780447 (107)\ttotal: 389ms\tremaining: 142ms\n",
            "220:\ttest: 0.9760771\tbest: 0.9780447 (107)\ttotal: 391ms\tremaining: 140ms\n",
            "221:\ttest: 0.9760771\tbest: 0.9780447 (107)\ttotal: 393ms\tremaining: 138ms\n",
            "222:\ttest: 0.9761806\tbest: 0.9780447 (107)\ttotal: 395ms\tremaining: 136ms\n",
            "223:\ttest: 0.9761806\tbest: 0.9780447 (107)\ttotal: 396ms\tremaining: 134ms\n",
            "224:\ttest: 0.9761806\tbest: 0.9780447 (107)\ttotal: 398ms\tremaining: 133ms\n",
            "225:\ttest: 0.9759735\tbest: 0.9780447 (107)\ttotal: 400ms\tremaining: 131ms\n",
            "226:\ttest: 0.9759735\tbest: 0.9780447 (107)\ttotal: 402ms\tremaining: 129ms\n",
            "227:\ttest: 0.9753521\tbest: 0.9780447 (107)\ttotal: 403ms\tremaining: 127ms\n",
            "228:\ttest: 0.9751450\tbest: 0.9780447 (107)\ttotal: 405ms\tremaining: 126ms\n",
            "229:\ttest: 0.9749379\tbest: 0.9780447 (107)\ttotal: 407ms\tremaining: 124ms\n",
            "230:\ttest: 0.9751450\tbest: 0.9780447 (107)\ttotal: 409ms\tremaining: 122ms\n",
            "231:\ttest: 0.9756628\tbest: 0.9780447 (107)\ttotal: 410ms\tremaining: 120ms\n",
            "232:\ttest: 0.9758699\tbest: 0.9780447 (107)\ttotal: 413ms\tremaining: 119ms\n",
            "233:\ttest: 0.9747307\tbest: 0.9780447 (107)\ttotal: 415ms\tremaining: 117ms\n",
            "234:\ttest: 0.9748343\tbest: 0.9780447 (107)\ttotal: 416ms\tremaining: 115ms\n",
            "235:\ttest: 0.9751450\tbest: 0.9780447 (107)\ttotal: 418ms\tremaining: 113ms\n",
            "236:\ttest: 0.9752486\tbest: 0.9780447 (107)\ttotal: 420ms\tremaining: 112ms\n",
            "237:\ttest: 0.9753521\tbest: 0.9780447 (107)\ttotal: 422ms\tremaining: 110ms\n",
            "238:\ttest: 0.9751450\tbest: 0.9780447 (107)\ttotal: 423ms\tremaining: 108ms\n",
            "239:\ttest: 0.9755592\tbest: 0.9780447 (107)\ttotal: 425ms\tremaining: 106ms\n",
            "240:\ttest: 0.9752486\tbest: 0.9780447 (107)\ttotal: 427ms\tremaining: 104ms\n",
            "241:\ttest: 0.9753521\tbest: 0.9780447 (107)\ttotal: 429ms\tremaining: 103ms\n",
            "242:\ttest: 0.9750414\tbest: 0.9780447 (107)\ttotal: 430ms\tremaining: 101ms\n",
            "243:\ttest: 0.9752486\tbest: 0.9780447 (107)\ttotal: 432ms\tremaining: 99.2ms\n",
            "244:\ttest: 0.9750414\tbest: 0.9780447 (107)\ttotal: 434ms\tremaining: 97.4ms\n",
            "245:\ttest: 0.9754557\tbest: 0.9780447 (107)\ttotal: 436ms\tremaining: 95.7ms\n",
            "246:\ttest: 0.9749379\tbest: 0.9780447 (107)\ttotal: 437ms\tremaining: 93.9ms\n",
            "247:\ttest: 0.9751450\tbest: 0.9780447 (107)\ttotal: 439ms\tremaining: 92.1ms\n",
            "248:\ttest: 0.9747307\tbest: 0.9780447 (107)\ttotal: 441ms\tremaining: 90.3ms\n",
            "249:\ttest: 0.9751450\tbest: 0.9780447 (107)\ttotal: 443ms\tremaining: 88.5ms\n",
            "250:\ttest: 0.9750414\tbest: 0.9780447 (107)\ttotal: 445ms\tremaining: 86.8ms\n",
            "251:\ttest: 0.9748343\tbest: 0.9780447 (107)\ttotal: 446ms\tremaining: 85ms\n",
            "252:\ttest: 0.9752486\tbest: 0.9780447 (107)\ttotal: 448ms\tremaining: 83.2ms\n",
            "253:\ttest: 0.9753521\tbest: 0.9780447 (107)\ttotal: 450ms\tremaining: 81.5ms\n",
            "254:\ttest: 0.9757664\tbest: 0.9780447 (107)\ttotal: 452ms\tremaining: 79.7ms\n",
            "255:\ttest: 0.9756628\tbest: 0.9780447 (107)\ttotal: 453ms\tremaining: 77.9ms\n",
            "256:\ttest: 0.9754557\tbest: 0.9780447 (107)\ttotal: 455ms\tremaining: 76.2ms\n",
            "257:\ttest: 0.9750414\tbest: 0.9780447 (107)\ttotal: 457ms\tremaining: 74.4ms\n",
            "258:\ttest: 0.9748343\tbest: 0.9780447 (107)\ttotal: 459ms\tremaining: 72.7ms\n",
            "259:\ttest: 0.9747307\tbest: 0.9780447 (107)\ttotal: 461ms\tremaining: 70.9ms\n",
            "260:\ttest: 0.9746272\tbest: 0.9780447 (107)\ttotal: 463ms\tremaining: 69.1ms\n",
            "261:\ttest: 0.9750414\tbest: 0.9780447 (107)\ttotal: 464ms\tremaining: 67.3ms\n",
            "262:\ttest: 0.9749379\tbest: 0.9780447 (107)\ttotal: 466ms\tremaining: 65.6ms\n",
            "263:\ttest: 0.9753521\tbest: 0.9780447 (107)\ttotal: 468ms\tremaining: 63.8ms\n",
            "264:\ttest: 0.9753521\tbest: 0.9780447 (107)\ttotal: 469ms\tremaining: 62ms\n",
            "265:\ttest: 0.9755592\tbest: 0.9780447 (107)\ttotal: 471ms\tremaining: 60.2ms\n",
            "266:\ttest: 0.9755592\tbest: 0.9780447 (107)\ttotal: 473ms\tremaining: 58.4ms\n",
            "267:\ttest: 0.9757664\tbest: 0.9780447 (107)\ttotal: 475ms\tremaining: 56.7ms\n",
            "268:\ttest: 0.9758699\tbest: 0.9780447 (107)\ttotal: 476ms\tremaining: 54.9ms\n",
            "269:\ttest: 0.9754557\tbest: 0.9780447 (107)\ttotal: 478ms\tremaining: 53.1ms\n",
            "270:\ttest: 0.9753521\tbest: 0.9780447 (107)\ttotal: 480ms\tremaining: 51.4ms\n",
            "271:\ttest: 0.9753521\tbest: 0.9780447 (107)\ttotal: 482ms\tremaining: 49.6ms\n",
            "272:\ttest: 0.9751450\tbest: 0.9780447 (107)\ttotal: 483ms\tremaining: 47.8ms\n",
            "273:\ttest: 0.9753521\tbest: 0.9780447 (107)\ttotal: 485ms\tremaining: 46ms\n",
            "274:\ttest: 0.9749379\tbest: 0.9780447 (107)\ttotal: 486ms\tremaining: 44.2ms\n",
            "275:\ttest: 0.9750414\tbest: 0.9780447 (107)\ttotal: 488ms\tremaining: 42.4ms\n",
            "276:\ttest: 0.9752486\tbest: 0.9780447 (107)\ttotal: 490ms\tremaining: 40.7ms\n",
            "277:\ttest: 0.9755592\tbest: 0.9780447 (107)\ttotal: 491ms\tremaining: 38.9ms\n",
            "278:\ttest: 0.9747307\tbest: 0.9780447 (107)\ttotal: 493ms\tremaining: 37.1ms\n",
            "279:\ttest: 0.9748343\tbest: 0.9780447 (107)\ttotal: 494ms\tremaining: 35.3ms\n",
            "280:\ttest: 0.9750414\tbest: 0.9780447 (107)\ttotal: 496ms\tremaining: 33.6ms\n",
            "281:\ttest: 0.9747307\tbest: 0.9780447 (107)\ttotal: 498ms\tremaining: 31.8ms\n",
            "282:\ttest: 0.9747307\tbest: 0.9780447 (107)\ttotal: 500ms\tremaining: 30ms\n",
            "283:\ttest: 0.9744200\tbest: 0.9780447 (107)\ttotal: 501ms\tremaining: 28.2ms\n",
            "284:\ttest: 0.9743165\tbest: 0.9780447 (107)\ttotal: 503ms\tremaining: 26.5ms\n",
            "285:\ttest: 0.9745236\tbest: 0.9780447 (107)\ttotal: 504ms\tremaining: 24.7ms\n",
            "286:\ttest: 0.9747307\tbest: 0.9780447 (107)\ttotal: 506ms\tremaining: 22.9ms\n",
            "287:\ttest: 0.9748343\tbest: 0.9780447 (107)\ttotal: 508ms\tremaining: 21.1ms\n",
            "288:\ttest: 0.9751450\tbest: 0.9780447 (107)\ttotal: 509ms\tremaining: 19.4ms\n",
            "289:\ttest: 0.9749379\tbest: 0.9780447 (107)\ttotal: 511ms\tremaining: 17.6ms\n",
            "290:\ttest: 0.9748343\tbest: 0.9780447 (107)\ttotal: 513ms\tremaining: 15.9ms\n",
            "291:\ttest: 0.9748343\tbest: 0.9780447 (107)\ttotal: 514ms\tremaining: 14.1ms\n",
            "292:\ttest: 0.9744200\tbest: 0.9780447 (107)\ttotal: 516ms\tremaining: 12.3ms\n",
            "293:\ttest: 0.9743165\tbest: 0.9780447 (107)\ttotal: 518ms\tremaining: 10.6ms\n",
            "294:\ttest: 0.9742129\tbest: 0.9780447 (107)\ttotal: 519ms\tremaining: 8.8ms\n",
            "295:\ttest: 0.9741094\tbest: 0.9780447 (107)\ttotal: 521ms\tremaining: 7.04ms\n",
            "296:\ttest: 0.9740058\tbest: 0.9780447 (107)\ttotal: 522ms\tremaining: 5.28ms\n",
            "297:\ttest: 0.9740058\tbest: 0.9780447 (107)\ttotal: 524ms\tremaining: 3.52ms\n",
            "298:\ttest: 0.9742129\tbest: 0.9780447 (107)\ttotal: 526ms\tremaining: 1.76ms\n",
            "299:\ttest: 0.9745236\tbest: 0.9780447 (107)\ttotal: 527ms\tremaining: 0us\n",
            "\n",
            "bestTest = 0.978044739\n",
            "bestIteration = 107\n",
            "\n",
            "Shrink model to first 108 iterations.\n"
          ],
          "name": "stdout"
        }
      ]
    },
    {
      "cell_type": "code",
      "metadata": {
        "id": "TUwDhBFnzkfw",
        "colab_type": "code",
        "colab": {}
      },
      "source": [
        "predict_proba = basemodel.predict_proba(X_train)"
      ],
      "execution_count": 0,
      "outputs": []
    },
    {
      "cell_type": "code",
      "metadata": {
        "id": "6HNcYo1Azun9",
        "colab_type": "code",
        "colab": {
          "base_uri": "https://localhost:8080/",
          "height": 102
        },
        "outputId": "de56e3c4-f2dc-4ecd-a277-b915c24fa7c8"
      },
      "source": [
        "for i in range(len(predict_proba)):\n",
        "  "
      ],
      "execution_count": 62,
      "outputs": [
        {
          "output_type": "execute_result",
          "data": {
            "text/plain": [
              "array([[0.63787912, 0.36212088],\n",
              "       [0.21054469, 0.78945531],\n",
              "       [0.04548972, 0.95451028],\n",
              "       [0.02589604, 0.97410396],\n",
              "       [0.04674388, 0.95325612]])"
            ]
          },
          "metadata": {
            "tags": []
          },
          "execution_count": 62
        }
      ]
    },
    {
      "cell_type": "markdown",
      "metadata": {
        "id": "Xw2JNCsVw1TL",
        "colab_type": "text"
      },
      "source": [
        "### Предсказание"
      ]
    },
    {
      "cell_type": "code",
      "metadata": {
        "id": "lw3rxV2drMyZ",
        "colab_type": "code",
        "colab": {
          "base_uri": "https://localhost:8080/",
          "height": 343
        },
        "outputId": "905e832a-5363-4b76-b0a3-826b576281b2"
      },
      "source": [
        "test_data.head()"
      ],
      "execution_count": 53,
      "outputs": [
        {
          "output_type": "execute_result",
          "data": {
            "text/html": [
              "<div>\n",
              "<style scoped>\n",
              "    .dataframe tbody tr th:only-of-type {\n",
              "        vertical-align: middle;\n",
              "    }\n",
              "\n",
              "    .dataframe tbody tr th {\n",
              "        vertical-align: top;\n",
              "    }\n",
              "\n",
              "    .dataframe thead th {\n",
              "        text-align: right;\n",
              "    }\n",
              "</style>\n",
              "<table border=\"1\" class=\"dataframe\">\n",
              "  <thead>\n",
              "    <tr style=\"text-align: right;\">\n",
              "      <th></th>\n",
              "      <th>id</th>\n",
              "      <th>Birth date</th>\n",
              "      <th>Native city</th>\n",
              "      <th>Gender</th>\n",
              "      <th>Wave id</th>\n",
              "      <th>Level</th>\n",
              "      <th>Heard about school from</th>\n",
              "      <th>Life status</th>\n",
              "      <th>day_00</th>\n",
              "      <th>day_01</th>\n",
              "      <th>day_02</th>\n",
              "      <th>day_03</th>\n",
              "      <th>day_04</th>\n",
              "      <th>day_05</th>\n",
              "      <th>day_06</th>\n",
              "      <th>day_07</th>\n",
              "      <th>day_08</th>\n",
              "      <th>day_09</th>\n",
              "      <th>day_10</th>\n",
              "      <th>day_11</th>\n",
              "      <th>day_12</th>\n",
              "      <th>day_13</th>\n",
              "      <th>evalexpr</th>\n",
              "      <th>match_n_match</th>\n",
              "      <th>bsq</th>\n",
              "      <th>rush_00</th>\n",
              "      <th>rush_01</th>\n",
              "      <th>rush_02</th>\n",
              "      <th>exam_00</th>\n",
              "      <th>exam_01</th>\n",
              "      <th>exam_02</th>\n",
              "      <th>exam_final</th>\n",
              "      <th>Contract termination date</th>\n",
              "      <th>Memory entrance game</th>\n",
              "      <th>Logic entrance game</th>\n",
              "    </tr>\n",
              "  </thead>\n",
              "  <tbody>\n",
              "    <tr>\n",
              "      <th>0</th>\n",
              "      <td>685512434</td>\n",
              "      <td>1992-09-08</td>\n",
              "      <td>г. Тюмень</td>\n",
              "      <td>male</td>\n",
              "      <td>3</td>\n",
              "      <td>8.834416</td>\n",
              "      <td>google_ads</td>\n",
              "      <td>work</td>\n",
              "      <td>10</td>\n",
              "      <td>NaN</td>\n",
              "      <td>80.0</td>\n",
              "      <td>40.0</td>\n",
              "      <td>30.0</td>\n",
              "      <td>5.0</td>\n",
              "      <td>70.0</td>\n",
              "      <td>10.0</td>\n",
              "      <td>40.0</td>\n",
              "      <td>0.0</td>\n",
              "      <td>85.0</td>\n",
              "      <td>21.0</td>\n",
              "      <td>0.0</td>\n",
              "      <td>20.0</td>\n",
              "      <td>100.0</td>\n",
              "      <td>0.0</td>\n",
              "      <td>100.0</td>\n",
              "      <td>120.0</td>\n",
              "      <td>0.0</td>\n",
              "      <td>0.0</td>\n",
              "      <td>75.0</td>\n",
              "      <td>43.0</td>\n",
              "      <td>64.0</td>\n",
              "      <td>45.0</td>\n",
              "      <td>NaN</td>\n",
              "      <td>10</td>\n",
              "      <td>12</td>\n",
              "    </tr>\n",
              "    <tr>\n",
              "      <th>1</th>\n",
              "      <td>157712083</td>\n",
              "      <td>1993-12-02</td>\n",
              "      <td>Москва</td>\n",
              "      <td>male</td>\n",
              "      <td>2</td>\n",
              "      <td>2.172414</td>\n",
              "      <td>from_21_student</td>\n",
              "      <td>work</td>\n",
              "      <td>7</td>\n",
              "      <td>0.0</td>\n",
              "      <td>0.0</td>\n",
              "      <td>50.0</td>\n",
              "      <td>0.0</td>\n",
              "      <td>5.0</td>\n",
              "      <td>20.0</td>\n",
              "      <td>0.0</td>\n",
              "      <td>0.0</td>\n",
              "      <td>0.0</td>\n",
              "      <td>25.0</td>\n",
              "      <td>0.0</td>\n",
              "      <td>0.0</td>\n",
              "      <td>0.0</td>\n",
              "      <td>0.0</td>\n",
              "      <td>0.0</td>\n",
              "      <td>0.0</td>\n",
              "      <td>0.0</td>\n",
              "      <td>0.0</td>\n",
              "      <td>NaN</td>\n",
              "      <td>80.0</td>\n",
              "      <td>22.0</td>\n",
              "      <td>33.0</td>\n",
              "      <td>36.0</td>\n",
              "      <td>NaN</td>\n",
              "      <td>7</td>\n",
              "      <td>6</td>\n",
              "    </tr>\n",
              "    <tr>\n",
              "      <th>2</th>\n",
              "      <td>672158583</td>\n",
              "      <td>1989-02-16</td>\n",
              "      <td>Москва</td>\n",
              "      <td>male</td>\n",
              "      <td>3</td>\n",
              "      <td>4.310160</td>\n",
              "      <td>from_friends</td>\n",
              "      <td>other</td>\n",
              "      <td>5</td>\n",
              "      <td>0.0</td>\n",
              "      <td>0.0</td>\n",
              "      <td>5.0</td>\n",
              "      <td>10.0</td>\n",
              "      <td>-42.0</td>\n",
              "      <td>35.0</td>\n",
              "      <td>20.0</td>\n",
              "      <td>5.0</td>\n",
              "      <td>9.0</td>\n",
              "      <td>35.0</td>\n",
              "      <td>21.0</td>\n",
              "      <td>10.0</td>\n",
              "      <td>10.0</td>\n",
              "      <td>0.0</td>\n",
              "      <td>60.0</td>\n",
              "      <td>0.0</td>\n",
              "      <td>0.0</td>\n",
              "      <td>0.0</td>\n",
              "      <td>75.0</td>\n",
              "      <td>0.0</td>\n",
              "      <td>6.0</td>\n",
              "      <td>33.0</td>\n",
              "      <td>9.0</td>\n",
              "      <td>NaN</td>\n",
              "      <td>7</td>\n",
              "      <td>10</td>\n",
              "    </tr>\n",
              "    <tr>\n",
              "      <th>3</th>\n",
              "      <td>1205321261</td>\n",
              "      <td>1997-07-16</td>\n",
              "      <td>Дзержинский</td>\n",
              "      <td>female</td>\n",
              "      <td>2</td>\n",
              "      <td>6.295833</td>\n",
              "      <td>other</td>\n",
              "      <td>study</td>\n",
              "      <td>20</td>\n",
              "      <td>0.0</td>\n",
              "      <td>30.0</td>\n",
              "      <td>0.0</td>\n",
              "      <td>10.0</td>\n",
              "      <td>0.0</td>\n",
              "      <td>20.0</td>\n",
              "      <td>0.0</td>\n",
              "      <td>0.0</td>\n",
              "      <td>NaN</td>\n",
              "      <td>10.0</td>\n",
              "      <td>0.0</td>\n",
              "      <td>0.0</td>\n",
              "      <td>0.0</td>\n",
              "      <td>0.0</td>\n",
              "      <td>0.0</td>\n",
              "      <td>0.0</td>\n",
              "      <td>100.0</td>\n",
              "      <td>0.0</td>\n",
              "      <td>0.0</td>\n",
              "      <td>15.0</td>\n",
              "      <td>1.0</td>\n",
              "      <td>16.0</td>\n",
              "      <td>22.0</td>\n",
              "      <td>NaN</td>\n",
              "      <td>9</td>\n",
              "      <td>8</td>\n",
              "    </tr>\n",
              "    <tr>\n",
              "      <th>4</th>\n",
              "      <td>621191476</td>\n",
              "      <td>1997-02-22</td>\n",
              "      <td>Москва</td>\n",
              "      <td>male</td>\n",
              "      <td>1</td>\n",
              "      <td>7.110294</td>\n",
              "      <td>NaN</td>\n",
              "      <td>NaN</td>\n",
              "      <td>100</td>\n",
              "      <td>100.0</td>\n",
              "      <td>80.0</td>\n",
              "      <td>30.0</td>\n",
              "      <td>0.0</td>\n",
              "      <td>2.0</td>\n",
              "      <td>0.0</td>\n",
              "      <td>40.0</td>\n",
              "      <td>10.0</td>\n",
              "      <td>6.0</td>\n",
              "      <td>0.0</td>\n",
              "      <td>-42.0</td>\n",
              "      <td>0.0</td>\n",
              "      <td>15.0</td>\n",
              "      <td>0.0</td>\n",
              "      <td>60.0</td>\n",
              "      <td>100.0</td>\n",
              "      <td>0.0</td>\n",
              "      <td>0.0</td>\n",
              "      <td>0.0</td>\n",
              "      <td>65.0</td>\n",
              "      <td>65.0</td>\n",
              "      <td>54.0</td>\n",
              "      <td>36.0</td>\n",
              "      <td>NaN</td>\n",
              "      <td>9</td>\n",
              "      <td>15</td>\n",
              "    </tr>\n",
              "  </tbody>\n",
              "</table>\n",
              "</div>"
            ],
            "text/plain": [
              "           id  Birth date  ... Memory entrance game Logic entrance game\n",
              "0   685512434  1992-09-08  ...                   10                  12\n",
              "1   157712083  1993-12-02  ...                    7                   6\n",
              "2   672158583  1989-02-16  ...                    7                  10\n",
              "3  1205321261  1997-07-16  ...                    9                   8\n",
              "4   621191476  1997-02-22  ...                    9                  15\n",
              "\n",
              "[5 rows x 35 columns]"
            ]
          },
          "metadata": {
            "tags": []
          },
          "execution_count": 53
        }
      ]
    },
    {
      "cell_type": "code",
      "metadata": {
        "id": "Eiw6mmpvxWFw",
        "colab_type": "code",
        "colab": {}
      },
      "source": [
        "for i in ['id', 'Birth date', 'Native city', 'Heard about school from', 'Life status', 'Contract termination date']:\n",
        "  del test_data[i]"
      ],
      "execution_count": 0,
      "outputs": []
    },
    {
      "cell_type": "code",
      "metadata": {
        "id": "nhBu5UJFxpC0",
        "colab_type": "code",
        "colab": {}
      },
      "source": [
        "test_data['Gender'] = [gender[test_data['Gender'][i]] for i in np.arange(test_data.shape[0])]"
      ],
      "execution_count": 0,
      "outputs": []
    },
    {
      "cell_type": "code",
      "metadata": {
        "id": "YvehYvCLyKW0",
        "colab_type": "code",
        "colab": {}
      },
      "source": [
        "for i in np.arange(test_data.shape[1]):\n",
        "  test_data.iloc[:, i].fillna(0, inplace=True)"
      ],
      "execution_count": 0,
      "outputs": []
    },
    {
      "cell_type": "code",
      "metadata": {
        "id": "K3FaNs_lyXNq",
        "colab_type": "code",
        "colab": {
          "base_uri": "https://localhost:8080/",
          "height": 258
        },
        "outputId": "a99a0499-5e0d-4b86-8061-aa896ee62023"
      },
      "source": [
        "test_data.head()"
      ],
      "execution_count": 57,
      "outputs": [
        {
          "output_type": "execute_result",
          "data": {
            "text/html": [
              "<div>\n",
              "<style scoped>\n",
              "    .dataframe tbody tr th:only-of-type {\n",
              "        vertical-align: middle;\n",
              "    }\n",
              "\n",
              "    .dataframe tbody tr th {\n",
              "        vertical-align: top;\n",
              "    }\n",
              "\n",
              "    .dataframe thead th {\n",
              "        text-align: right;\n",
              "    }\n",
              "</style>\n",
              "<table border=\"1\" class=\"dataframe\">\n",
              "  <thead>\n",
              "    <tr style=\"text-align: right;\">\n",
              "      <th></th>\n",
              "      <th>Gender</th>\n",
              "      <th>Wave id</th>\n",
              "      <th>Level</th>\n",
              "      <th>day_00</th>\n",
              "      <th>day_01</th>\n",
              "      <th>day_02</th>\n",
              "      <th>day_03</th>\n",
              "      <th>day_04</th>\n",
              "      <th>day_05</th>\n",
              "      <th>day_06</th>\n",
              "      <th>day_07</th>\n",
              "      <th>day_08</th>\n",
              "      <th>day_09</th>\n",
              "      <th>day_10</th>\n",
              "      <th>day_11</th>\n",
              "      <th>day_12</th>\n",
              "      <th>day_13</th>\n",
              "      <th>evalexpr</th>\n",
              "      <th>match_n_match</th>\n",
              "      <th>bsq</th>\n",
              "      <th>rush_00</th>\n",
              "      <th>rush_01</th>\n",
              "      <th>rush_02</th>\n",
              "      <th>exam_00</th>\n",
              "      <th>exam_01</th>\n",
              "      <th>exam_02</th>\n",
              "      <th>exam_final</th>\n",
              "      <th>Memory entrance game</th>\n",
              "      <th>Logic entrance game</th>\n",
              "    </tr>\n",
              "  </thead>\n",
              "  <tbody>\n",
              "    <tr>\n",
              "      <th>0</th>\n",
              "      <td>1</td>\n",
              "      <td>3</td>\n",
              "      <td>8.834416</td>\n",
              "      <td>10</td>\n",
              "      <td>0.0</td>\n",
              "      <td>80.0</td>\n",
              "      <td>40.0</td>\n",
              "      <td>30.0</td>\n",
              "      <td>5.0</td>\n",
              "      <td>70.0</td>\n",
              "      <td>10.0</td>\n",
              "      <td>40.0</td>\n",
              "      <td>0.0</td>\n",
              "      <td>85.0</td>\n",
              "      <td>21.0</td>\n",
              "      <td>0.0</td>\n",
              "      <td>20.0</td>\n",
              "      <td>100.0</td>\n",
              "      <td>0.0</td>\n",
              "      <td>100.0</td>\n",
              "      <td>120.0</td>\n",
              "      <td>0.0</td>\n",
              "      <td>0.0</td>\n",
              "      <td>75.0</td>\n",
              "      <td>43.0</td>\n",
              "      <td>64.0</td>\n",
              "      <td>45.0</td>\n",
              "      <td>10</td>\n",
              "      <td>12</td>\n",
              "    </tr>\n",
              "    <tr>\n",
              "      <th>1</th>\n",
              "      <td>1</td>\n",
              "      <td>2</td>\n",
              "      <td>2.172414</td>\n",
              "      <td>7</td>\n",
              "      <td>0.0</td>\n",
              "      <td>0.0</td>\n",
              "      <td>50.0</td>\n",
              "      <td>0.0</td>\n",
              "      <td>5.0</td>\n",
              "      <td>20.0</td>\n",
              "      <td>0.0</td>\n",
              "      <td>0.0</td>\n",
              "      <td>0.0</td>\n",
              "      <td>25.0</td>\n",
              "      <td>0.0</td>\n",
              "      <td>0.0</td>\n",
              "      <td>0.0</td>\n",
              "      <td>0.0</td>\n",
              "      <td>0.0</td>\n",
              "      <td>0.0</td>\n",
              "      <td>0.0</td>\n",
              "      <td>0.0</td>\n",
              "      <td>0.0</td>\n",
              "      <td>80.0</td>\n",
              "      <td>22.0</td>\n",
              "      <td>33.0</td>\n",
              "      <td>36.0</td>\n",
              "      <td>7</td>\n",
              "      <td>6</td>\n",
              "    </tr>\n",
              "    <tr>\n",
              "      <th>2</th>\n",
              "      <td>1</td>\n",
              "      <td>3</td>\n",
              "      <td>4.310160</td>\n",
              "      <td>5</td>\n",
              "      <td>0.0</td>\n",
              "      <td>0.0</td>\n",
              "      <td>5.0</td>\n",
              "      <td>10.0</td>\n",
              "      <td>-42.0</td>\n",
              "      <td>35.0</td>\n",
              "      <td>20.0</td>\n",
              "      <td>5.0</td>\n",
              "      <td>9.0</td>\n",
              "      <td>35.0</td>\n",
              "      <td>21.0</td>\n",
              "      <td>10.0</td>\n",
              "      <td>10.0</td>\n",
              "      <td>0.0</td>\n",
              "      <td>60.0</td>\n",
              "      <td>0.0</td>\n",
              "      <td>0.0</td>\n",
              "      <td>0.0</td>\n",
              "      <td>75.0</td>\n",
              "      <td>0.0</td>\n",
              "      <td>6.0</td>\n",
              "      <td>33.0</td>\n",
              "      <td>9.0</td>\n",
              "      <td>7</td>\n",
              "      <td>10</td>\n",
              "    </tr>\n",
              "    <tr>\n",
              "      <th>3</th>\n",
              "      <td>0</td>\n",
              "      <td>2</td>\n",
              "      <td>6.295833</td>\n",
              "      <td>20</td>\n",
              "      <td>0.0</td>\n",
              "      <td>30.0</td>\n",
              "      <td>0.0</td>\n",
              "      <td>10.0</td>\n",
              "      <td>0.0</td>\n",
              "      <td>20.0</td>\n",
              "      <td>0.0</td>\n",
              "      <td>0.0</td>\n",
              "      <td>0.0</td>\n",
              "      <td>10.0</td>\n",
              "      <td>0.0</td>\n",
              "      <td>0.0</td>\n",
              "      <td>0.0</td>\n",
              "      <td>0.0</td>\n",
              "      <td>0.0</td>\n",
              "      <td>0.0</td>\n",
              "      <td>100.0</td>\n",
              "      <td>0.0</td>\n",
              "      <td>0.0</td>\n",
              "      <td>15.0</td>\n",
              "      <td>1.0</td>\n",
              "      <td>16.0</td>\n",
              "      <td>22.0</td>\n",
              "      <td>9</td>\n",
              "      <td>8</td>\n",
              "    </tr>\n",
              "    <tr>\n",
              "      <th>4</th>\n",
              "      <td>1</td>\n",
              "      <td>1</td>\n",
              "      <td>7.110294</td>\n",
              "      <td>100</td>\n",
              "      <td>100.0</td>\n",
              "      <td>80.0</td>\n",
              "      <td>30.0</td>\n",
              "      <td>0.0</td>\n",
              "      <td>2.0</td>\n",
              "      <td>0.0</td>\n",
              "      <td>40.0</td>\n",
              "      <td>10.0</td>\n",
              "      <td>6.0</td>\n",
              "      <td>0.0</td>\n",
              "      <td>-42.0</td>\n",
              "      <td>0.0</td>\n",
              "      <td>15.0</td>\n",
              "      <td>0.0</td>\n",
              "      <td>60.0</td>\n",
              "      <td>100.0</td>\n",
              "      <td>0.0</td>\n",
              "      <td>0.0</td>\n",
              "      <td>0.0</td>\n",
              "      <td>65.0</td>\n",
              "      <td>65.0</td>\n",
              "      <td>54.0</td>\n",
              "      <td>36.0</td>\n",
              "      <td>9</td>\n",
              "      <td>15</td>\n",
              "    </tr>\n",
              "  </tbody>\n",
              "</table>\n",
              "</div>"
            ],
            "text/plain": [
              "   Gender  Wave id  ...  Memory entrance game  Logic entrance game\n",
              "0       1        3  ...                    10                   12\n",
              "1       1        2  ...                     7                    6\n",
              "2       1        3  ...                     7                   10\n",
              "3       0        2  ...                     9                    8\n",
              "4       1        1  ...                     9                   15\n",
              "\n",
              "[5 rows x 29 columns]"
            ]
          },
          "metadata": {
            "tags": []
          },
          "execution_count": 57
        }
      ]
    },
    {
      "cell_type": "code",
      "metadata": {
        "id": "sCKzbcywybc9",
        "colab_type": "code",
        "colab": {}
      },
      "source": [
        "pred = basemodel.predict(test_data)"
      ],
      "execution_count": 0,
      "outputs": []
    },
    {
      "cell_type": "code",
      "metadata": {
        "id": "_v97fid_zS1a",
        "colab_type": "code",
        "colab": {}
      },
      "source": [
        ""
      ],
      "execution_count": 0,
      "outputs": []
    }
  ]
}
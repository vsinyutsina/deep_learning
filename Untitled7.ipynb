{
  "nbformat": 4,
  "nbformat_minor": 0,
  "metadata": {
    "colab": {
      "name": "Untitled7.ipynb",
      "provenance": [],
      "toc_visible": true,
      "mount_file_id": "1-zPdjxBisF7e_cOYYk_TL1lNbsR6vnnv",
      "authorship_tag": "ABX9TyMf2+wJvQqhELNDFW9Z7qhb",
      "include_colab_link": true
    },
    "kernelspec": {
      "name": "python3",
      "display_name": "Python 3"
    }
  },
  "cells": [
    {
      "cell_type": "markdown",
      "metadata": {
        "id": "view-in-github",
        "colab_type": "text"
      },
      "source": [
        "<a href=\"https://colab.research.google.com/github/vsinyutsina/deep_learning/blob/master/Untitled7.ipynb\" target=\"_parent\"><img src=\"https://colab.research.google.com/assets/colab-badge.svg\" alt=\"Open In Colab\"/></a>"
      ]
    },
    {
      "cell_type": "code",
      "metadata": {
        "id": "LMWCEH96ROQm",
        "colab_type": "code",
        "colab": {}
      },
      "source": [
        "import pandas as pd\n",
        "import numpy as np\n",
        "import sklearn as sl\n",
        "import matplotlib.pyplot as plt"
      ],
      "execution_count": 0,
      "outputs": []
    },
    {
      "cell_type": "markdown",
      "metadata": {
        "id": "WmDsh3FuVmIc",
        "colab_type": "text"
      },
      "source": [
        "### Загрузка файлов"
      ]
    },
    {
      "cell_type": "code",
      "metadata": {
        "id": "ujqxiOr6TqoB",
        "colab_type": "code",
        "colab": {}
      },
      "source": [
        "train_data = pd.read_csv(\"/content/drive/My Drive/school-21-student-expulsion-prediction/train.csv\")"
      ],
      "execution_count": 0,
      "outputs": []
    },
    {
      "cell_type": "code",
      "metadata": {
        "id": "l6SnEQn1UoQ8",
        "colab_type": "code",
        "colab": {
          "base_uri": "https://localhost:8080/",
          "height": 360
        },
        "outputId": "335bb55e-8ac4-4977-ffb8-34703e79a02b"
      },
      "source": [
        "train_data.head()"
      ],
      "execution_count": 3,
      "outputs": [
        {
          "output_type": "execute_result",
          "data": {
            "text/html": [
              "<div>\n",
              "<style scoped>\n",
              "    .dataframe tbody tr th:only-of-type {\n",
              "        vertical-align: middle;\n",
              "    }\n",
              "\n",
              "    .dataframe tbody tr th {\n",
              "        vertical-align: top;\n",
              "    }\n",
              "\n",
              "    .dataframe thead th {\n",
              "        text-align: right;\n",
              "    }\n",
              "</style>\n",
              "<table border=\"1\" class=\"dataframe\">\n",
              "  <thead>\n",
              "    <tr style=\"text-align: right;\">\n",
              "      <th></th>\n",
              "      <th>id</th>\n",
              "      <th>Birth date</th>\n",
              "      <th>Native city</th>\n",
              "      <th>Gender</th>\n",
              "      <th>Wave id</th>\n",
              "      <th>Level</th>\n",
              "      <th>Heard about school from</th>\n",
              "      <th>Life status</th>\n",
              "      <th>day_00</th>\n",
              "      <th>day_01</th>\n",
              "      <th>day_02</th>\n",
              "      <th>day_03</th>\n",
              "      <th>day_04</th>\n",
              "      <th>day_05</th>\n",
              "      <th>day_06</th>\n",
              "      <th>day_07</th>\n",
              "      <th>day_08</th>\n",
              "      <th>day_09</th>\n",
              "      <th>day_10</th>\n",
              "      <th>day_11</th>\n",
              "      <th>day_12</th>\n",
              "      <th>day_13</th>\n",
              "      <th>evalexpr</th>\n",
              "      <th>match_n_match</th>\n",
              "      <th>bsq</th>\n",
              "      <th>rush_00</th>\n",
              "      <th>rush_01</th>\n",
              "      <th>rush_02</th>\n",
              "      <th>exam_00</th>\n",
              "      <th>exam_01</th>\n",
              "      <th>exam_02</th>\n",
              "      <th>exam_final</th>\n",
              "      <th>Contract termination date</th>\n",
              "      <th>Memory entrance game</th>\n",
              "      <th>Logic entrance game</th>\n",
              "      <th>contract_status</th>\n",
              "    </tr>\n",
              "  </thead>\n",
              "  <tbody>\n",
              "    <tr>\n",
              "      <th>0</th>\n",
              "      <td>129212391</td>\n",
              "      <td>1990-01-18</td>\n",
              "      <td>Пермь</td>\n",
              "      <td>male</td>\n",
              "      <td>3</td>\n",
              "      <td>7.463235</td>\n",
              "      <td>google_ads</td>\n",
              "      <td>work</td>\n",
              "      <td>5</td>\n",
              "      <td>NaN</td>\n",
              "      <td>0.0</td>\n",
              "      <td>80.0</td>\n",
              "      <td>0.0</td>\n",
              "      <td>1.0</td>\n",
              "      <td>0.0</td>\n",
              "      <td>15.0</td>\n",
              "      <td>10.0</td>\n",
              "      <td>0.0</td>\n",
              "      <td>50.0</td>\n",
              "      <td>21.0</td>\n",
              "      <td>20.0</td>\n",
              "      <td>55.0</td>\n",
              "      <td>81.0</td>\n",
              "      <td>0.0</td>\n",
              "      <td>0.0</td>\n",
              "      <td>0.0</td>\n",
              "      <td>0.0</td>\n",
              "      <td>0.0</td>\n",
              "      <td>75.0</td>\n",
              "      <td>43.0</td>\n",
              "      <td>100.0</td>\n",
              "      <td>44.0</td>\n",
              "      <td>NaN</td>\n",
              "      <td>9</td>\n",
              "      <td>11</td>\n",
              "      <td>1</td>\n",
              "    </tr>\n",
              "    <tr>\n",
              "      <th>1</th>\n",
              "      <td>566688420</td>\n",
              "      <td>1996-07-31</td>\n",
              "      <td>Волгоград</td>\n",
              "      <td>female</td>\n",
              "      <td>1</td>\n",
              "      <td>8.785714</td>\n",
              "      <td>NaN</td>\n",
              "      <td>NaN</td>\n",
              "      <td>0</td>\n",
              "      <td>NaN</td>\n",
              "      <td>10.0</td>\n",
              "      <td>45.0</td>\n",
              "      <td>5.0</td>\n",
              "      <td>1.0</td>\n",
              "      <td>35.0</td>\n",
              "      <td>0.0</td>\n",
              "      <td>5.0</td>\n",
              "      <td>16.0</td>\n",
              "      <td>0.0</td>\n",
              "      <td>9.0</td>\n",
              "      <td>0.0</td>\n",
              "      <td>10.0</td>\n",
              "      <td>0.0</td>\n",
              "      <td>0.0</td>\n",
              "      <td>0.0</td>\n",
              "      <td>110.0</td>\n",
              "      <td>0.0</td>\n",
              "      <td>0.0</td>\n",
              "      <td>0.0</td>\n",
              "      <td>16.0</td>\n",
              "      <td>22.0</td>\n",
              "      <td>22.0</td>\n",
              "      <td>NaN</td>\n",
              "      <td>7</td>\n",
              "      <td>10</td>\n",
              "      <td>1</td>\n",
              "    </tr>\n",
              "    <tr>\n",
              "      <th>2</th>\n",
              "      <td>242300495</td>\n",
              "      <td>1992-06-27</td>\n",
              "      <td>Новосибирск</td>\n",
              "      <td>female</td>\n",
              "      <td>2</td>\n",
              "      <td>6.775000</td>\n",
              "      <td>other</td>\n",
              "      <td>work</td>\n",
              "      <td>0</td>\n",
              "      <td>NaN</td>\n",
              "      <td>20.0</td>\n",
              "      <td>2.0</td>\n",
              "      <td>0.0</td>\n",
              "      <td>0.0</td>\n",
              "      <td>0.0</td>\n",
              "      <td>0.0</td>\n",
              "      <td>0.0</td>\n",
              "      <td>0.0</td>\n",
              "      <td>15.0</td>\n",
              "      <td>0.0</td>\n",
              "      <td>0.0</td>\n",
              "      <td>NaN</td>\n",
              "      <td>NaN</td>\n",
              "      <td>NaN</td>\n",
              "      <td>0.0</td>\n",
              "      <td>NaN</td>\n",
              "      <td>NaN</td>\n",
              "      <td>NaN</td>\n",
              "      <td>0.0</td>\n",
              "      <td>0.0</td>\n",
              "      <td>16.0</td>\n",
              "      <td>27.0</td>\n",
              "      <td>NaN</td>\n",
              "      <td>7</td>\n",
              "      <td>11</td>\n",
              "      <td>1</td>\n",
              "    </tr>\n",
              "    <tr>\n",
              "      <th>3</th>\n",
              "      <td>715424753</td>\n",
              "      <td>1996-06-15</td>\n",
              "      <td>Тула</td>\n",
              "      <td>female</td>\n",
              "      <td>1</td>\n",
              "      <td>8.146104</td>\n",
              "      <td>NaN</td>\n",
              "      <td>NaN</td>\n",
              "      <td>5</td>\n",
              "      <td>0.0</td>\n",
              "      <td>35.0</td>\n",
              "      <td>25.0</td>\n",
              "      <td>20.0</td>\n",
              "      <td>2.0</td>\n",
              "      <td>70.0</td>\n",
              "      <td>0.0</td>\n",
              "      <td>0.0</td>\n",
              "      <td>0.0</td>\n",
              "      <td>0.0</td>\n",
              "      <td>7.0</td>\n",
              "      <td>0.0</td>\n",
              "      <td>0.0</td>\n",
              "      <td>0.0</td>\n",
              "      <td>0.0</td>\n",
              "      <td>0.0</td>\n",
              "      <td>0.0</td>\n",
              "      <td>0.0</td>\n",
              "      <td>0.0</td>\n",
              "      <td>0.0</td>\n",
              "      <td>0.0</td>\n",
              "      <td>27.0</td>\n",
              "      <td>27.0</td>\n",
              "      <td>NaN</td>\n",
              "      <td>9</td>\n",
              "      <td>6</td>\n",
              "      <td>1</td>\n",
              "    </tr>\n",
              "    <tr>\n",
              "      <th>4</th>\n",
              "      <td>382884118</td>\n",
              "      <td>1968-07-18</td>\n",
              "      <td>Голицыно</td>\n",
              "      <td>male</td>\n",
              "      <td>3</td>\n",
              "      <td>4.272727</td>\n",
              "      <td>other</td>\n",
              "      <td>other</td>\n",
              "      <td>0</td>\n",
              "      <td>0.0</td>\n",
              "      <td>NaN</td>\n",
              "      <td>5.0</td>\n",
              "      <td>85.0</td>\n",
              "      <td>3.0</td>\n",
              "      <td>50.0</td>\n",
              "      <td>40.0</td>\n",
              "      <td>0.0</td>\n",
              "      <td>12.0</td>\n",
              "      <td>40.0</td>\n",
              "      <td>5.0</td>\n",
              "      <td>0.0</td>\n",
              "      <td>0.0</td>\n",
              "      <td>0.0</td>\n",
              "      <td>60.0</td>\n",
              "      <td>0.0</td>\n",
              "      <td>120.0</td>\n",
              "      <td>0.0</td>\n",
              "      <td>0.0</td>\n",
              "      <td>80.0</td>\n",
              "      <td>38.0</td>\n",
              "      <td>0.0</td>\n",
              "      <td>45.0</td>\n",
              "      <td>NaN</td>\n",
              "      <td>7</td>\n",
              "      <td>12</td>\n",
              "      <td>1</td>\n",
              "    </tr>\n",
              "  </tbody>\n",
              "</table>\n",
              "</div>"
            ],
            "text/plain": [
              "          id  Birth date  ... Logic entrance game contract_status\n",
              "0  129212391  1990-01-18  ...                  11               1\n",
              "1  566688420  1996-07-31  ...                  10               1\n",
              "2  242300495  1992-06-27  ...                  11               1\n",
              "3  715424753  1996-06-15  ...                   6               1\n",
              "4  382884118  1968-07-18  ...                  12               1\n",
              "\n",
              "[5 rows x 36 columns]"
            ]
          },
          "metadata": {
            "tags": []
          },
          "execution_count": 3
        }
      ]
    },
    {
      "cell_type": "code",
      "metadata": {
        "id": "c1W2p_E8VGNr",
        "colab_type": "code",
        "colab": {}
      },
      "source": [
        "test_data = pd.read_csv(\"/content/drive/My Drive/school-21-student-expulsion-prediction/test.csv\")"
      ],
      "execution_count": 0,
      "outputs": []
    },
    {
      "cell_type": "code",
      "metadata": {
        "id": "-89i8edSVQxg",
        "colab_type": "code",
        "colab": {
          "base_uri": "https://localhost:8080/",
          "height": 343
        },
        "outputId": "7504ff48-0c54-4750-90a6-11c8ea14e6b3"
      },
      "source": [
        "test_data.head()"
      ],
      "execution_count": 5,
      "outputs": [
        {
          "output_type": "execute_result",
          "data": {
            "text/html": [
              "<div>\n",
              "<style scoped>\n",
              "    .dataframe tbody tr th:only-of-type {\n",
              "        vertical-align: middle;\n",
              "    }\n",
              "\n",
              "    .dataframe tbody tr th {\n",
              "        vertical-align: top;\n",
              "    }\n",
              "\n",
              "    .dataframe thead th {\n",
              "        text-align: right;\n",
              "    }\n",
              "</style>\n",
              "<table border=\"1\" class=\"dataframe\">\n",
              "  <thead>\n",
              "    <tr style=\"text-align: right;\">\n",
              "      <th></th>\n",
              "      <th>id</th>\n",
              "      <th>Birth date</th>\n",
              "      <th>Native city</th>\n",
              "      <th>Gender</th>\n",
              "      <th>Wave id</th>\n",
              "      <th>Level</th>\n",
              "      <th>Heard about school from</th>\n",
              "      <th>Life status</th>\n",
              "      <th>day_00</th>\n",
              "      <th>day_01</th>\n",
              "      <th>day_02</th>\n",
              "      <th>day_03</th>\n",
              "      <th>day_04</th>\n",
              "      <th>day_05</th>\n",
              "      <th>day_06</th>\n",
              "      <th>day_07</th>\n",
              "      <th>day_08</th>\n",
              "      <th>day_09</th>\n",
              "      <th>day_10</th>\n",
              "      <th>day_11</th>\n",
              "      <th>day_12</th>\n",
              "      <th>day_13</th>\n",
              "      <th>evalexpr</th>\n",
              "      <th>match_n_match</th>\n",
              "      <th>bsq</th>\n",
              "      <th>rush_00</th>\n",
              "      <th>rush_01</th>\n",
              "      <th>rush_02</th>\n",
              "      <th>exam_00</th>\n",
              "      <th>exam_01</th>\n",
              "      <th>exam_02</th>\n",
              "      <th>exam_final</th>\n",
              "      <th>Contract termination date</th>\n",
              "      <th>Memory entrance game</th>\n",
              "      <th>Logic entrance game</th>\n",
              "    </tr>\n",
              "  </thead>\n",
              "  <tbody>\n",
              "    <tr>\n",
              "      <th>0</th>\n",
              "      <td>685512434</td>\n",
              "      <td>1992-09-08</td>\n",
              "      <td>г. Тюмень</td>\n",
              "      <td>male</td>\n",
              "      <td>3</td>\n",
              "      <td>8.834416</td>\n",
              "      <td>google_ads</td>\n",
              "      <td>work</td>\n",
              "      <td>10</td>\n",
              "      <td>NaN</td>\n",
              "      <td>80.0</td>\n",
              "      <td>40.0</td>\n",
              "      <td>30.0</td>\n",
              "      <td>5.0</td>\n",
              "      <td>70.0</td>\n",
              "      <td>10.0</td>\n",
              "      <td>40.0</td>\n",
              "      <td>0.0</td>\n",
              "      <td>85.0</td>\n",
              "      <td>21.0</td>\n",
              "      <td>0.0</td>\n",
              "      <td>20.0</td>\n",
              "      <td>100.0</td>\n",
              "      <td>0.0</td>\n",
              "      <td>100.0</td>\n",
              "      <td>120.0</td>\n",
              "      <td>0.0</td>\n",
              "      <td>0.0</td>\n",
              "      <td>75.0</td>\n",
              "      <td>43.0</td>\n",
              "      <td>64.0</td>\n",
              "      <td>45.0</td>\n",
              "      <td>NaN</td>\n",
              "      <td>10</td>\n",
              "      <td>12</td>\n",
              "    </tr>\n",
              "    <tr>\n",
              "      <th>1</th>\n",
              "      <td>157712083</td>\n",
              "      <td>1993-12-02</td>\n",
              "      <td>Москва</td>\n",
              "      <td>male</td>\n",
              "      <td>2</td>\n",
              "      <td>2.172414</td>\n",
              "      <td>from_21_student</td>\n",
              "      <td>work</td>\n",
              "      <td>7</td>\n",
              "      <td>0.0</td>\n",
              "      <td>0.0</td>\n",
              "      <td>50.0</td>\n",
              "      <td>0.0</td>\n",
              "      <td>5.0</td>\n",
              "      <td>20.0</td>\n",
              "      <td>0.0</td>\n",
              "      <td>0.0</td>\n",
              "      <td>0.0</td>\n",
              "      <td>25.0</td>\n",
              "      <td>0.0</td>\n",
              "      <td>0.0</td>\n",
              "      <td>0.0</td>\n",
              "      <td>0.0</td>\n",
              "      <td>0.0</td>\n",
              "      <td>0.0</td>\n",
              "      <td>0.0</td>\n",
              "      <td>0.0</td>\n",
              "      <td>NaN</td>\n",
              "      <td>80.0</td>\n",
              "      <td>22.0</td>\n",
              "      <td>33.0</td>\n",
              "      <td>36.0</td>\n",
              "      <td>NaN</td>\n",
              "      <td>7</td>\n",
              "      <td>6</td>\n",
              "    </tr>\n",
              "    <tr>\n",
              "      <th>2</th>\n",
              "      <td>672158583</td>\n",
              "      <td>1989-02-16</td>\n",
              "      <td>Москва</td>\n",
              "      <td>male</td>\n",
              "      <td>3</td>\n",
              "      <td>4.310160</td>\n",
              "      <td>from_friends</td>\n",
              "      <td>other</td>\n",
              "      <td>5</td>\n",
              "      <td>0.0</td>\n",
              "      <td>0.0</td>\n",
              "      <td>5.0</td>\n",
              "      <td>10.0</td>\n",
              "      <td>-42.0</td>\n",
              "      <td>35.0</td>\n",
              "      <td>20.0</td>\n",
              "      <td>5.0</td>\n",
              "      <td>9.0</td>\n",
              "      <td>35.0</td>\n",
              "      <td>21.0</td>\n",
              "      <td>10.0</td>\n",
              "      <td>10.0</td>\n",
              "      <td>0.0</td>\n",
              "      <td>60.0</td>\n",
              "      <td>0.0</td>\n",
              "      <td>0.0</td>\n",
              "      <td>0.0</td>\n",
              "      <td>75.0</td>\n",
              "      <td>0.0</td>\n",
              "      <td>6.0</td>\n",
              "      <td>33.0</td>\n",
              "      <td>9.0</td>\n",
              "      <td>NaN</td>\n",
              "      <td>7</td>\n",
              "      <td>10</td>\n",
              "    </tr>\n",
              "    <tr>\n",
              "      <th>3</th>\n",
              "      <td>1205321261</td>\n",
              "      <td>1997-07-16</td>\n",
              "      <td>Дзержинский</td>\n",
              "      <td>female</td>\n",
              "      <td>2</td>\n",
              "      <td>6.295833</td>\n",
              "      <td>other</td>\n",
              "      <td>study</td>\n",
              "      <td>20</td>\n",
              "      <td>0.0</td>\n",
              "      <td>30.0</td>\n",
              "      <td>0.0</td>\n",
              "      <td>10.0</td>\n",
              "      <td>0.0</td>\n",
              "      <td>20.0</td>\n",
              "      <td>0.0</td>\n",
              "      <td>0.0</td>\n",
              "      <td>NaN</td>\n",
              "      <td>10.0</td>\n",
              "      <td>0.0</td>\n",
              "      <td>0.0</td>\n",
              "      <td>0.0</td>\n",
              "      <td>0.0</td>\n",
              "      <td>0.0</td>\n",
              "      <td>0.0</td>\n",
              "      <td>100.0</td>\n",
              "      <td>0.0</td>\n",
              "      <td>0.0</td>\n",
              "      <td>15.0</td>\n",
              "      <td>1.0</td>\n",
              "      <td>16.0</td>\n",
              "      <td>22.0</td>\n",
              "      <td>NaN</td>\n",
              "      <td>9</td>\n",
              "      <td>8</td>\n",
              "    </tr>\n",
              "    <tr>\n",
              "      <th>4</th>\n",
              "      <td>621191476</td>\n",
              "      <td>1997-02-22</td>\n",
              "      <td>Москва</td>\n",
              "      <td>male</td>\n",
              "      <td>1</td>\n",
              "      <td>7.110294</td>\n",
              "      <td>NaN</td>\n",
              "      <td>NaN</td>\n",
              "      <td>100</td>\n",
              "      <td>100.0</td>\n",
              "      <td>80.0</td>\n",
              "      <td>30.0</td>\n",
              "      <td>0.0</td>\n",
              "      <td>2.0</td>\n",
              "      <td>0.0</td>\n",
              "      <td>40.0</td>\n",
              "      <td>10.0</td>\n",
              "      <td>6.0</td>\n",
              "      <td>0.0</td>\n",
              "      <td>-42.0</td>\n",
              "      <td>0.0</td>\n",
              "      <td>15.0</td>\n",
              "      <td>0.0</td>\n",
              "      <td>60.0</td>\n",
              "      <td>100.0</td>\n",
              "      <td>0.0</td>\n",
              "      <td>0.0</td>\n",
              "      <td>0.0</td>\n",
              "      <td>65.0</td>\n",
              "      <td>65.0</td>\n",
              "      <td>54.0</td>\n",
              "      <td>36.0</td>\n",
              "      <td>NaN</td>\n",
              "      <td>9</td>\n",
              "      <td>15</td>\n",
              "    </tr>\n",
              "  </tbody>\n",
              "</table>\n",
              "</div>"
            ],
            "text/plain": [
              "           id  Birth date  ... Memory entrance game Logic entrance game\n",
              "0   685512434  1992-09-08  ...                   10                  12\n",
              "1   157712083  1993-12-02  ...                    7                   6\n",
              "2   672158583  1989-02-16  ...                    7                  10\n",
              "3  1205321261  1997-07-16  ...                    9                   8\n",
              "4   621191476  1997-02-22  ...                    9                  15\n",
              "\n",
              "[5 rows x 35 columns]"
            ]
          },
          "metadata": {
            "tags": []
          },
          "execution_count": 5
        }
      ]
    },
    {
      "cell_type": "code",
      "metadata": {
        "id": "8ogbtjPkVU9t",
        "colab_type": "code",
        "colab": {}
      },
      "source": [
        "sample_submission = pd.read_csv(\"/content/drive/My Drive/school-21-student-expulsion-prediction/sample_submission.csv\")"
      ],
      "execution_count": 0,
      "outputs": []
    },
    {
      "cell_type": "code",
      "metadata": {
        "id": "sDp4jZ1eVfpl",
        "colab_type": "code",
        "colab": {
          "base_uri": "https://localhost:8080/",
          "height": 204
        },
        "outputId": "e31a7d6a-61b0-4d5c-80ff-5a5ef999c917"
      },
      "source": [
        "sample_submission.head()"
      ],
      "execution_count": 7,
      "outputs": [
        {
          "output_type": "execute_result",
          "data": {
            "text/html": [
              "<div>\n",
              "<style scoped>\n",
              "    .dataframe tbody tr th:only-of-type {\n",
              "        vertical-align: middle;\n",
              "    }\n",
              "\n",
              "    .dataframe tbody tr th {\n",
              "        vertical-align: top;\n",
              "    }\n",
              "\n",
              "    .dataframe thead th {\n",
              "        text-align: right;\n",
              "    }\n",
              "</style>\n",
              "<table border=\"1\" class=\"dataframe\">\n",
              "  <thead>\n",
              "    <tr style=\"text-align: right;\">\n",
              "      <th></th>\n",
              "      <th>id</th>\n",
              "      <th>contract_status</th>\n",
              "    </tr>\n",
              "  </thead>\n",
              "  <tbody>\n",
              "    <tr>\n",
              "      <th>0</th>\n",
              "      <td>685512434</td>\n",
              "      <td>0</td>\n",
              "    </tr>\n",
              "    <tr>\n",
              "      <th>1</th>\n",
              "      <td>157712083</td>\n",
              "      <td>0</td>\n",
              "    </tr>\n",
              "    <tr>\n",
              "      <th>2</th>\n",
              "      <td>672158583</td>\n",
              "      <td>0</td>\n",
              "    </tr>\n",
              "    <tr>\n",
              "      <th>3</th>\n",
              "      <td>1205321261</td>\n",
              "      <td>0</td>\n",
              "    </tr>\n",
              "    <tr>\n",
              "      <th>4</th>\n",
              "      <td>621191476</td>\n",
              "      <td>0</td>\n",
              "    </tr>\n",
              "  </tbody>\n",
              "</table>\n",
              "</div>"
            ],
            "text/plain": [
              "           id  contract_status\n",
              "0   685512434                0\n",
              "1   157712083                0\n",
              "2   672158583                0\n",
              "3  1205321261                0\n",
              "4   621191476                0"
            ]
          },
          "metadata": {
            "tags": []
          },
          "execution_count": 7
        }
      ]
    },
    {
      "cell_type": "markdown",
      "metadata": {
        "id": "HmIbeIUKVpG0",
        "colab_type": "text"
      },
      "source": [
        "### Обработка пропусков"
      ]
    },
    {
      "cell_type": "code",
      "metadata": {
        "id": "kgUk76kVdf21",
        "colab_type": "code",
        "colab": {
          "base_uri": "https://localhost:8080/",
          "height": 714
        },
        "outputId": "70e55f0b-835e-4d8f-895c-f06b4c512fff"
      },
      "source": [
        "train_data.info()"
      ],
      "execution_count": 8,
      "outputs": [
        {
          "output_type": "stream",
          "text": [
            "<class 'pandas.core.frame.DataFrame'>\n",
            "RangeIndex: 1060 entries, 0 to 1059\n",
            "Data columns (total 36 columns):\n",
            "id                           1060 non-null int64\n",
            "Birth date                   1060 non-null object\n",
            "Native city                  1047 non-null object\n",
            "Gender                       1060 non-null object\n",
            "Wave id                      1060 non-null int64\n",
            "Level                        1060 non-null float64\n",
            "Heard about school from      653 non-null object\n",
            "Life status                  655 non-null object\n",
            "day_00                       1060 non-null int64\n",
            "day_01                       646 non-null float64\n",
            "day_02                       1044 non-null float64\n",
            "day_03                       1045 non-null float64\n",
            "day_04                       1037 non-null float64\n",
            "day_05                       1056 non-null float64\n",
            "day_06                       1048 non-null float64\n",
            "day_07                       1046 non-null float64\n",
            "day_08                       1045 non-null float64\n",
            "day_09                       1047 non-null float64\n",
            "day_10                       1028 non-null float64\n",
            "day_11                       1047 non-null float64\n",
            "day_12                       1050 non-null float64\n",
            "day_13                       1029 non-null float64\n",
            "evalexpr                     1003 non-null float64\n",
            "match_n_match                951 non-null float64\n",
            "bsq                          1027 non-null float64\n",
            "rush_00                      996 non-null float64\n",
            "rush_01                      944 non-null float64\n",
            "rush_02                      902 non-null float64\n",
            "exam_00                      1047 non-null float64\n",
            "exam_01                      1041 non-null float64\n",
            "exam_02                      1047 non-null float64\n",
            "exam_final                   1056 non-null float64\n",
            "Contract termination date    78 non-null object\n",
            "Memory entrance game         1060 non-null int64\n",
            "Logic entrance game          1060 non-null int64\n",
            "contract_status              1060 non-null int64\n",
            "dtypes: float64(24), int64(6), object(6)\n",
            "memory usage: 298.2+ KB\n"
          ],
          "name": "stdout"
        }
      ]
    },
    {
      "cell_type": "code",
      "metadata": {
        "id": "tW5cI026Vfz5",
        "colab_type": "code",
        "colab": {
          "base_uri": "https://localhost:8080/",
          "height": 646
        },
        "outputId": "29dd1625-50ed-4b5e-96cb-6a197c947979"
      },
      "source": [
        "train_data.isnull().sum() # количество пропусков в данных"
      ],
      "execution_count": 9,
      "outputs": [
        {
          "output_type": "execute_result",
          "data": {
            "text/plain": [
              "id                             0\n",
              "Birth date                     0\n",
              "Native city                   13\n",
              "Gender                         0\n",
              "Wave id                        0\n",
              "Level                          0\n",
              "Heard about school from      407\n",
              "Life status                  405\n",
              "day_00                         0\n",
              "day_01                       414\n",
              "day_02                        16\n",
              "day_03                        15\n",
              "day_04                        23\n",
              "day_05                         4\n",
              "day_06                        12\n",
              "day_07                        14\n",
              "day_08                        15\n",
              "day_09                        13\n",
              "day_10                        32\n",
              "day_11                        13\n",
              "day_12                        10\n",
              "day_13                        31\n",
              "evalexpr                      57\n",
              "match_n_match                109\n",
              "bsq                           33\n",
              "rush_00                       64\n",
              "rush_01                      116\n",
              "rush_02                      158\n",
              "exam_00                       13\n",
              "exam_01                       19\n",
              "exam_02                       13\n",
              "exam_final                     4\n",
              "Contract termination date    982\n",
              "Memory entrance game           0\n",
              "Logic entrance game            0\n",
              "contract_status                0\n",
              "dtype: int64"
            ]
          },
          "metadata": {
            "tags": []
          },
          "execution_count": 9
        }
      ]
    },
    {
      "cell_type": "code",
      "metadata": {
        "id": "Jseg2z1sWOlf",
        "colab_type": "code",
        "colab": {
          "base_uri": "https://localhost:8080/",
          "height": 34
        },
        "outputId": "82c96418-2a60-4a6c-81eb-d5561ad75e7b"
      },
      "source": [
        "train_data.shape[0] # Количество наблюдений"
      ],
      "execution_count": 10,
      "outputs": [
        {
          "output_type": "execute_result",
          "data": {
            "text/plain": [
              "1060"
            ]
          },
          "metadata": {
            "tags": []
          },
          "execution_count": 10
        }
      ]
    },
    {
      "cell_type": "markdown",
      "metadata": {
        "id": "aflKvNJEV-w-",
        "colab_type": "text"
      },
      "source": [
        "Все пропуски в днях и проектах будут заполнены 0.\n",
        "Life status и heard about school from содержат больше половины пропусков. Необходимо определить их значимость. Предполагаю, что они никак не влияют на таргет."
      ]
    },
    {
      "cell_type": "code",
      "metadata": {
        "id": "7_BBpyuJX8Sg",
        "colab_type": "code",
        "colab": {}
      },
      "source": [
        "train_data['Life status'].fillna('No info', inplace=True)"
      ],
      "execution_count": 0,
      "outputs": []
    },
    {
      "cell_type": "code",
      "metadata": {
        "id": "FIivKf9HV924",
        "colab_type": "code",
        "colab": {
          "base_uri": "https://localhost:8080/",
          "height": 1000
        },
        "outputId": "e84ae8fe-14a0-465c-834c-cfed2058897c"
      },
      "source": [
        "for status in train_data['Life status'].unique():\n",
        "    current_data = train_data[train_data['Life status'] == status]\n",
        "    plt.title('Life status: %s!' % status)\n",
        "    plt.hist(current_data['contract_status'], bins=np.linspace(0, 1))\n",
        "    plt.show()"
      ],
      "execution_count": 12,
      "outputs": [
        {
          "output_type": "display_data",
          "data": {
            "image/png": "[encoded data removed]",
            "text/plain": [
              "<Figure size 432x288 with 1 Axes>"
            ]
          },
          "metadata": {
            "tags": []
          }
        },
        {
          "output_type": "display_data",
          "data": {
            "image/png": "[encoded data removed]",
            "text/plain": [
              "<Figure size 432x288 with 1 Axes>"
            ]
          },
          "metadata": {
            "tags": []
          }
        },
        {
          "output_type": "display_data",
          "data": {
            "image/png": "[encoded data removed]",
            "text/plain": [
              "<Figure size 432x288 with 1 Axes>"
            ]
          },
          "metadata": {
            "tags": []
          }
        },
        {
          "output_type": "display_data",
          "data": {
            "image/png": "[encoded data removed]",
            "text/plain": [
              "<Figure size 432x288 with 1 Axes>"
            ]
          },
          "metadata": {
            "tags": []
          }
        }
      ]
    },
    {
      "cell_type": "markdown",
      "metadata": {
        "id": "mrFIwfBwZuCA",
        "colab_type": "text"
      },
      "source": [
        "Кажется, life status оказывал влияние на то, взяли человека или нет."
      ]
    },
    {
      "cell_type": "code",
      "metadata": {
        "id": "dOnojTu1Vu9R",
        "colab_type": "code",
        "colab": {}
      },
      "source": [
        "train_data['Heard about school from'].fillna('No info', inplace=True)"
      ],
      "execution_count": 0,
      "outputs": []
    },
    {
      "cell_type": "code",
      "metadata": {
        "id": "4G8LeL5qamba",
        "colab_type": "code",
        "colab": {
          "base_uri": "https://localhost:8080/",
          "height": 1000
        },
        "outputId": "d3194ebe-4475-4b90-932c-cbffd3c8f83f"
      },
      "source": [
        "for status in train_data['Heard about school from'].unique():\n",
        "    current_data = train_data[train_data['Heard about school from'] == status]\n",
        "    plt.title('Heard about school from: %s!' % status)\n",
        "    plt.hist(current_data['contract_status'], bins=np.linspace(0, 1))\n",
        "    plt.show()"
      ],
      "execution_count": 14,
      "outputs": [
        {
          "output_type": "display_data",
          "data": {
            "image/png": "[encoded data removed]",
            "text/plain": [
              "<Figure size 432x288 with 1 Axes>"
            ]
          },
          "metadata": {
            "tags": []
          }
        },
        {
          "output_type": "display_data",
          "data": {
            "image/png": "[encoded data removed]",
            "text/plain": [
              "<Figure size 432x288 with 1 Axes>"
            ]
          },
          "metadata": {
            "tags": []
          }
        },
        {
          "output_type": "display_data",
          "data": {
            "image/png": "[encoded data removed]",
            "text/plain": [
              "<Figure size 432x288 with 1 Axes>"
            ]
          },
          "metadata": {
            "tags": []
          }
        },
        {
          "output_type": "display_data",
          "data": {
            "image/png": "[encoded data removed]",
            "text/plain": [
              "<Figure size 432x288 with 1 Axes>"
            ]
          },
          "metadata": {
            "tags": []
          }
        },
        {
          "output_type": "display_data",
          "data": {
            "image/png": "[encoded data removed]",
            "text/plain": [
              "<Figure size 432x288 with 1 Axes>"
            ]
          },
          "metadata": {
            "tags": []
          }
        },
        {
          "output_type": "display_data",
          "data": {
            "image/png": "[encoded data removed]",
            "text/plain": [
              "<Figure size 432x288 with 1 Axes>"
            ]
          },
          "metadata": {
            "tags": []
          }
        },
        {
          "output_type": "display_data",
          "data": {
            "image/png": "[encoded data removed]",
            "text/plain": [
              "<Figure size 432x288 with 1 Axes>"
            ]
          },
          "metadata": {
            "tags": []
          }
        },
        {
          "output_type": "display_data",
          "data": {
            "image/png": "[encoded data removed]",
            "text/plain": [
              "<Figure size 432x288 with 1 Axes>"
            ]
          },
          "metadata": {
            "tags": []
          }
        },
        {
          "output_type": "display_data",
          "data": {
            "image/png": "[encoded data removed]",
            "text/plain": [
              "<Figure size 432x288 with 1 Axes>"
            ]
          },
          "metadata": {
            "tags": []
          }
        },
        {
          "output_type": "display_data",
          "data": {
            "image/png": "[encoded data removed]",
            "text/plain": [
              "<Figure size 432x288 with 1 Axes>"
            ]
          },
          "metadata": {
            "tags": []
          }
        }
      ]
    },
    {
      "cell_type": "code",
      "metadata": {
        "id": "AP6JorXsatot",
        "colab_type": "code",
        "colab": {}
      },
      "source": [
        "for i in np.arange(8, train_data.shape[1]):\n",
        "  train_data.iloc[:,i].fillna(0, inplace=True)"
      ],
      "execution_count": 0,
      "outputs": []
    },
    {
      "cell_type": "code",
      "metadata": {
        "id": "H7cSk4SydrFI",
        "colab_type": "code",
        "colab": {}
      },
      "source": [
        "del train_data['Contract termination date'] # ваще самый бесполезный признак"
      ],
      "execution_count": 0,
      "outputs": []
    },
    {
      "cell_type": "code",
      "metadata": {
        "id": "f91W7pyhgQUa",
        "colab_type": "code",
        "colab": {}
      },
      "source": [
        "del train_data['Native city'] # предполагаю, что это не самый важный признак и его можно удалить. "
      ],
      "execution_count": 0,
      "outputs": []
    },
    {
      "cell_type": "code",
      "metadata": {
        "id": "avfsn88wdrdO",
        "colab_type": "code",
        "colab": {
          "base_uri": "https://localhost:8080/",
          "height": 612
        },
        "outputId": "d9d34e78-8f92-405e-ddec-a53c781149b3"
      },
      "source": [
        "train_data.isnull().sum()"
      ],
      "execution_count": 18,
      "outputs": [
        {
          "output_type": "execute_result",
          "data": {
            "text/plain": [
              "id                         0\n",
              "Birth date                 0\n",
              "Gender                     0\n",
              "Wave id                    0\n",
              "Level                      0\n",
              "Heard about school from    0\n",
              "Life status                0\n",
              "day_00                     0\n",
              "day_01                     0\n",
              "day_02                     0\n",
              "day_03                     0\n",
              "day_04                     0\n",
              "day_05                     0\n",
              "day_06                     0\n",
              "day_07                     0\n",
              "day_08                     0\n",
              "day_09                     0\n",
              "day_10                     0\n",
              "day_11                     0\n",
              "day_12                     0\n",
              "day_13                     0\n",
              "evalexpr                   0\n",
              "match_n_match              0\n",
              "bsq                        0\n",
              "rush_00                    0\n",
              "rush_01                    0\n",
              "rush_02                    0\n",
              "exam_00                    0\n",
              "exam_01                    0\n",
              "exam_02                    0\n",
              "exam_final                 0\n",
              "Memory entrance game       0\n",
              "Logic entrance game        0\n",
              "contract_status            0\n",
              "dtype: int64"
            ]
          },
          "metadata": {
            "tags": []
          },
          "execution_count": 18
        }
      ]
    },
    {
      "cell_type": "code",
      "metadata": {
        "id": "G5MY_ZzOgK79",
        "colab_type": "code",
        "colab": {}
      },
      "source": [
        "train_data['contract_status'] = [str(train_data['contract_status'][i]) for i in np.arange(train_data.shape[0])] # приведение таргета к str"
      ],
      "execution_count": 0,
      "outputs": []
    },
    {
      "cell_type": "code",
      "metadata": {
        "id": "rWZmc90lm22j",
        "colab_type": "code",
        "colab": {
          "base_uri": "https://localhost:8080/",
          "height": 680
        },
        "outputId": "c2c1d720-3c1a-445c-c3df-51d59da463f2"
      },
      "source": [
        "train_data.info()"
      ],
      "execution_count": 20,
      "outputs": [
        {
          "output_type": "stream",
          "text": [
            "<class 'pandas.core.frame.DataFrame'>\n",
            "RangeIndex: 1060 entries, 0 to 1059\n",
            "Data columns (total 34 columns):\n",
            "id                         1060 non-null int64\n",
            "Birth date                 1060 non-null object\n",
            "Gender                     1060 non-null object\n",
            "Wave id                    1060 non-null int64\n",
            "Level                      1060 non-null float64\n",
            "Heard about school from    1060 non-null object\n",
            "Life status                1060 non-null object\n",
            "day_00                     1060 non-null int64\n",
            "day_01                     1060 non-null float64\n",
            "day_02                     1060 non-null float64\n",
            "day_03                     1060 non-null float64\n",
            "day_04                     1060 non-null float64\n",
            "day_05                     1060 non-null float64\n",
            "day_06                     1060 non-null float64\n",
            "day_07                     1060 non-null float64\n",
            "day_08                     1060 non-null float64\n",
            "day_09                     1060 non-null float64\n",
            "day_10                     1060 non-null float64\n",
            "day_11                     1060 non-null float64\n",
            "day_12                     1060 non-null float64\n",
            "day_13                     1060 non-null float64\n",
            "evalexpr                   1060 non-null float64\n",
            "match_n_match              1060 non-null float64\n",
            "bsq                        1060 non-null float64\n",
            "rush_00                    1060 non-null float64\n",
            "rush_01                    1060 non-null float64\n",
            "rush_02                    1060 non-null float64\n",
            "exam_00                    1060 non-null float64\n",
            "exam_01                    1060 non-null float64\n",
            "exam_02                    1060 non-null float64\n",
            "exam_final                 1060 non-null float64\n",
            "Memory entrance game       1060 non-null int64\n",
            "Logic entrance game        1060 non-null int64\n",
            "contract_status            1060 non-null object\n",
            "dtypes: float64(24), int64(5), object(5)\n",
            "memory usage: 281.7+ KB\n"
          ],
          "name": "stdout"
        }
      ]
    },
    {
      "cell_type": "code",
      "metadata": {
        "id": "NSU18OvWr3Id",
        "colab_type": "code",
        "colab": {}
      },
      "source": [
        "gender = {\n",
        "    'male': 1,\n",
        "    'female':0\n",
        "}"
      ],
      "execution_count": 0,
      "outputs": []
    },
    {
      "cell_type": "code",
      "metadata": {
        "id": "rkBBzra2ruex",
        "colab_type": "code",
        "colab": {}
      },
      "source": [
        "del train_data['Heard about school from']\n",
        "del train_data['Life status']"
      ],
      "execution_count": 0,
      "outputs": []
    },
    {
      "cell_type": "code",
      "metadata": {
        "id": "j_9BoGe4tw4r",
        "colab_type": "code",
        "colab": {}
      },
      "source": [
        "del train_data['id']"
      ],
      "execution_count": 0,
      "outputs": []
    },
    {
      "cell_type": "code",
      "metadata": {
        "id": "rjar0zYFsCi0",
        "colab_type": "code",
        "colab": {
          "base_uri": "https://localhost:8080/",
          "height": 122
        },
        "outputId": "f21292f3-9051-4857-f2c2-3b4fb7d22c52"
      },
      "source": [
        "for i in np.arange(train_data.shape[0]):\n",
        "  train_data['Gender'][i] = gender[train_data['Gender'][i]]"
      ],
      "execution_count": 24,
      "outputs": [
        {
          "output_type": "stream",
          "text": [
            "/usr/local/lib/python3.6/dist-packages/ipykernel_launcher.py:2: SettingWithCopyWarning: \n",
            "A value is trying to be set on a copy of a slice from a DataFrame\n",
            "\n",
            "See the caveats in the documentation: http://pandas.pydata.org/pandas-docs/stable/user_guide/indexing.html#returning-a-view-versus-a-copy\n",
            "  \n"
          ],
          "name": "stderr"
        }
      ]
    },
    {
      "cell_type": "markdown",
      "metadata": {
        "id": "6HM92uaynBJs",
        "colab_type": "text"
      },
      "source": [
        "### Обучение"
      ]
    },
    {
      "cell_type": "code",
      "metadata": {
        "id": "nIzdZEuLm5tF",
        "colab_type": "code",
        "colab": {}
      },
      "source": [
        "from sklearn.model_selection import train_test_split"
      ],
      "execution_count": 0,
      "outputs": []
    },
    {
      "cell_type": "code",
      "metadata": {
        "id": "ybf-SS39nZz0",
        "colab_type": "code",
        "colab": {}
      },
      "source": [
        "y_pred = train_data['contract_status']\n",
        "del train_data['contract_status']\n",
        "del train_data['Birth date']\n",
        "\n",
        "X_train, X_val, y_train, y_val = train_test_split(train_data, y_pred, train_size=0.7, random_state=42)"
      ],
      "execution_count": 0,
      "outputs": []
    },
    {
      "cell_type": "code",
      "metadata": {
        "id": "-EqmPoy5pDUW",
        "colab_type": "code",
        "colab": {}
      },
      "source": [
        "try:\n",
        "  from catboost import CatBoostClassifier, Pool\n",
        "except ModuleNotFoundError:\n",
        "  !pip install catboost"
      ],
      "execution_count": 0,
      "outputs": []
    },
    {
      "cell_type": "code",
      "metadata": {
        "id": "Jaz8rSf_pVH1",
        "colab_type": "code",
        "colab": {}
      },
      "source": [
        "cat_boost_params = {\n",
        "    'task_type': 'CPU',\n",
        "    'loss_function': 'CrossEntropy',\n",
        "    'eval_metric': 'Logloss',\n",
        "    'iterations': 500,\n",
        "    'od_pval': 1e-5\n",
        "}"
      ],
      "execution_count": 0,
      "outputs": []
    },
    {
      "cell_type": "code",
      "metadata": {
        "id": "pD2OfSMRtMij",
        "colab_type": "code",
        "colab": {
          "base_uri": "https://localhost:8080/",
          "height": 258
        },
        "outputId": "a042d4cf-5311-4730-9ba0-df0c98069f49"
      },
      "source": [
        "train_data.head()"
      ],
      "execution_count": 29,
      "outputs": [
        {
          "output_type": "execute_result",
          "data": {
            "text/html": [
              "<div>\n",
              "<style scoped>\n",
              "    .dataframe tbody tr th:only-of-type {\n",
              "        vertical-align: middle;\n",
              "    }\n",
              "\n",
              "    .dataframe tbody tr th {\n",
              "        vertical-align: top;\n",
              "    }\n",
              "\n",
              "    .dataframe thead th {\n",
              "        text-align: right;\n",
              "    }\n",
              "</style>\n",
              "<table border=\"1\" class=\"dataframe\">\n",
              "  <thead>\n",
              "    <tr style=\"text-align: right;\">\n",
              "      <th></th>\n",
              "      <th>Gender</th>\n",
              "      <th>Wave id</th>\n",
              "      <th>Level</th>\n",
              "      <th>day_00</th>\n",
              "      <th>day_01</th>\n",
              "      <th>day_02</th>\n",
              "      <th>day_03</th>\n",
              "      <th>day_04</th>\n",
              "      <th>day_05</th>\n",
              "      <th>day_06</th>\n",
              "      <th>day_07</th>\n",
              "      <th>day_08</th>\n",
              "      <th>day_09</th>\n",
              "      <th>day_10</th>\n",
              "      <th>day_11</th>\n",
              "      <th>day_12</th>\n",
              "      <th>day_13</th>\n",
              "      <th>evalexpr</th>\n",
              "      <th>match_n_match</th>\n",
              "      <th>bsq</th>\n",
              "      <th>rush_00</th>\n",
              "      <th>rush_01</th>\n",
              "      <th>rush_02</th>\n",
              "      <th>exam_00</th>\n",
              "      <th>exam_01</th>\n",
              "      <th>exam_02</th>\n",
              "      <th>exam_final</th>\n",
              "      <th>Memory entrance game</th>\n",
              "      <th>Logic entrance game</th>\n",
              "    </tr>\n",
              "  </thead>\n",
              "  <tbody>\n",
              "    <tr>\n",
              "      <th>0</th>\n",
              "      <td>1</td>\n",
              "      <td>3</td>\n",
              "      <td>7.463235</td>\n",
              "      <td>5</td>\n",
              "      <td>0.0</td>\n",
              "      <td>0.0</td>\n",
              "      <td>80.0</td>\n",
              "      <td>0.0</td>\n",
              "      <td>1.0</td>\n",
              "      <td>0.0</td>\n",
              "      <td>15.0</td>\n",
              "      <td>10.0</td>\n",
              "      <td>0.0</td>\n",
              "      <td>50.0</td>\n",
              "      <td>21.0</td>\n",
              "      <td>20.0</td>\n",
              "      <td>55.0</td>\n",
              "      <td>81.0</td>\n",
              "      <td>0.0</td>\n",
              "      <td>0.0</td>\n",
              "      <td>0.0</td>\n",
              "      <td>0.0</td>\n",
              "      <td>0.0</td>\n",
              "      <td>75.0</td>\n",
              "      <td>43.0</td>\n",
              "      <td>100.0</td>\n",
              "      <td>44.0</td>\n",
              "      <td>9</td>\n",
              "      <td>11</td>\n",
              "    </tr>\n",
              "    <tr>\n",
              "      <th>1</th>\n",
              "      <td>0</td>\n",
              "      <td>1</td>\n",
              "      <td>8.785714</td>\n",
              "      <td>0</td>\n",
              "      <td>0.0</td>\n",
              "      <td>10.0</td>\n",
              "      <td>45.0</td>\n",
              "      <td>5.0</td>\n",
              "      <td>1.0</td>\n",
              "      <td>35.0</td>\n",
              "      <td>0.0</td>\n",
              "      <td>5.0</td>\n",
              "      <td>16.0</td>\n",
              "      <td>0.0</td>\n",
              "      <td>9.0</td>\n",
              "      <td>0.0</td>\n",
              "      <td>10.0</td>\n",
              "      <td>0.0</td>\n",
              "      <td>0.0</td>\n",
              "      <td>0.0</td>\n",
              "      <td>110.0</td>\n",
              "      <td>0.0</td>\n",
              "      <td>0.0</td>\n",
              "      <td>0.0</td>\n",
              "      <td>16.0</td>\n",
              "      <td>22.0</td>\n",
              "      <td>22.0</td>\n",
              "      <td>7</td>\n",
              "      <td>10</td>\n",
              "    </tr>\n",
              "    <tr>\n",
              "      <th>2</th>\n",
              "      <td>0</td>\n",
              "      <td>2</td>\n",
              "      <td>6.775000</td>\n",
              "      <td>0</td>\n",
              "      <td>0.0</td>\n",
              "      <td>20.0</td>\n",
              "      <td>2.0</td>\n",
              "      <td>0.0</td>\n",
              "      <td>0.0</td>\n",
              "      <td>0.0</td>\n",
              "      <td>0.0</td>\n",
              "      <td>0.0</td>\n",
              "      <td>0.0</td>\n",
              "      <td>15.0</td>\n",
              "      <td>0.0</td>\n",
              "      <td>0.0</td>\n",
              "      <td>0.0</td>\n",
              "      <td>0.0</td>\n",
              "      <td>0.0</td>\n",
              "      <td>0.0</td>\n",
              "      <td>0.0</td>\n",
              "      <td>0.0</td>\n",
              "      <td>0.0</td>\n",
              "      <td>0.0</td>\n",
              "      <td>0.0</td>\n",
              "      <td>16.0</td>\n",
              "      <td>27.0</td>\n",
              "      <td>7</td>\n",
              "      <td>11</td>\n",
              "    </tr>\n",
              "    <tr>\n",
              "      <th>3</th>\n",
              "      <td>0</td>\n",
              "      <td>1</td>\n",
              "      <td>8.146104</td>\n",
              "      <td>5</td>\n",
              "      <td>0.0</td>\n",
              "      <td>35.0</td>\n",
              "      <td>25.0</td>\n",
              "      <td>20.0</td>\n",
              "      <td>2.0</td>\n",
              "      <td>70.0</td>\n",
              "      <td>0.0</td>\n",
              "      <td>0.0</td>\n",
              "      <td>0.0</td>\n",
              "      <td>0.0</td>\n",
              "      <td>7.0</td>\n",
              "      <td>0.0</td>\n",
              "      <td>0.0</td>\n",
              "      <td>0.0</td>\n",
              "      <td>0.0</td>\n",
              "      <td>0.0</td>\n",
              "      <td>0.0</td>\n",
              "      <td>0.0</td>\n",
              "      <td>0.0</td>\n",
              "      <td>0.0</td>\n",
              "      <td>0.0</td>\n",
              "      <td>27.0</td>\n",
              "      <td>27.0</td>\n",
              "      <td>9</td>\n",
              "      <td>6</td>\n",
              "    </tr>\n",
              "    <tr>\n",
              "      <th>4</th>\n",
              "      <td>1</td>\n",
              "      <td>3</td>\n",
              "      <td>4.272727</td>\n",
              "      <td>0</td>\n",
              "      <td>0.0</td>\n",
              "      <td>0.0</td>\n",
              "      <td>5.0</td>\n",
              "      <td>85.0</td>\n",
              "      <td>3.0</td>\n",
              "      <td>50.0</td>\n",
              "      <td>40.0</td>\n",
              "      <td>0.0</td>\n",
              "      <td>12.0</td>\n",
              "      <td>40.0</td>\n",
              "      <td>5.0</td>\n",
              "      <td>0.0</td>\n",
              "      <td>0.0</td>\n",
              "      <td>0.0</td>\n",
              "      <td>60.0</td>\n",
              "      <td>0.0</td>\n",
              "      <td>120.0</td>\n",
              "      <td>0.0</td>\n",
              "      <td>0.0</td>\n",
              "      <td>80.0</td>\n",
              "      <td>38.0</td>\n",
              "      <td>0.0</td>\n",
              "      <td>45.0</td>\n",
              "      <td>7</td>\n",
              "      <td>12</td>\n",
              "    </tr>\n",
              "  </tbody>\n",
              "</table>\n",
              "</div>"
            ],
            "text/plain": [
              "  Gender  Wave id  ...  Memory entrance game  Logic entrance game\n",
              "0      1        3  ...                     9                   11\n",
              "1      0        1  ...                     7                   10\n",
              "2      0        2  ...                     7                   11\n",
              "3      0        1  ...                     9                    6\n",
              "4      1        3  ...                     7                   12\n",
              "\n",
              "[5 rows x 29 columns]"
            ]
          },
          "metadata": {
            "tags": []
          },
          "execution_count": 29
        }
      ]
    },
    {
      "cell_type": "code",
      "metadata": {
        "id": "yz98kf3ipvzA",
        "colab_type": "code",
        "colab": {
          "base_uri": "https://localhost:8080/",
          "height": 1000
        },
        "outputId": "c6c9c463-986a-4b7f-e6bd-ecb019d6a928"
      },
      "source": [
        "train = Pool(X_train, y_train)\n",
        "val = Pool(X_val, y_val)\n",
        "\n",
        "classifier = CatBoostClassifier(**cat_boost_params)\n",
        "\n",
        "basemodel = classifier.fit(train, use_best_model=True, eval_set=val)"
      ],
      "execution_count": 30,
      "outputs": [
        {
          "output_type": "stream",
          "text": [
            "0:\tlearn: 0.6625113\ttest: 0.6622094\tbest: 0.6622094 (0)\ttotal: 49.7ms\tremaining: 24.8s\n",
            "1:\tlearn: 0.6401097\ttest: 0.6385596\tbest: 0.6385596 (1)\ttotal: 51.3ms\tremaining: 12.8s\n",
            "2:\tlearn: 0.6142585\ttest: 0.6135771\tbest: 0.6135771 (2)\ttotal: 52.8ms\tremaining: 8.75s\n",
            "3:\tlearn: 0.5986455\ttest: 0.5974957\tbest: 0.5974957 (3)\ttotal: 54.3ms\tremaining: 6.73s\n",
            "4:\tlearn: 0.5826254\ttest: 0.5799366\tbest: 0.5799366 (4)\ttotal: 55.8ms\tremaining: 5.52s\n",
            "5:\tlearn: 0.5557732\ttest: 0.5512585\tbest: 0.5512585 (5)\ttotal: 57.3ms\tremaining: 4.72s\n",
            "6:\tlearn: 0.5429223\ttest: 0.5369221\tbest: 0.5369221 (6)\ttotal: 58.8ms\tremaining: 4.14s\n",
            "7:\tlearn: 0.5303471\ttest: 0.5234723\tbest: 0.5234723 (7)\ttotal: 60.3ms\tremaining: 3.71s\n",
            "8:\tlearn: 0.5140638\ttest: 0.5055498\tbest: 0.5055498 (8)\ttotal: 61.9ms\tremaining: 3.38s\n",
            "9:\tlearn: 0.5042802\ttest: 0.4944919\tbest: 0.4944919 (9)\ttotal: 63.4ms\tremaining: 3.1s\n",
            "10:\tlearn: 0.4865316\ttest: 0.4772385\tbest: 0.4772385 (10)\ttotal: 64.9ms\tremaining: 2.88s\n",
            "11:\tlearn: 0.4664388\ttest: 0.4563664\tbest: 0.4563664 (11)\ttotal: 66.4ms\tremaining: 2.7s\n",
            "12:\tlearn: 0.4482022\ttest: 0.4361038\tbest: 0.4361038 (12)\ttotal: 68.1ms\tremaining: 2.55s\n",
            "13:\tlearn: 0.4409238\ttest: 0.4294893\tbest: 0.4294893 (13)\ttotal: 69.6ms\tremaining: 2.42s\n",
            "14:\tlearn: 0.4307681\ttest: 0.4188799\tbest: 0.4188799 (14)\ttotal: 71.2ms\tremaining: 2.3s\n",
            "15:\tlearn: 0.4221829\ttest: 0.4090783\tbest: 0.4090783 (15)\ttotal: 72.7ms\tremaining: 2.2s\n",
            "16:\tlearn: 0.4066761\ttest: 0.3929755\tbest: 0.3929755 (16)\ttotal: 74.3ms\tremaining: 2.11s\n",
            "17:\tlearn: 0.3930375\ttest: 0.3787788\tbest: 0.3787788 (17)\ttotal: 75.9ms\tremaining: 2.03s\n",
            "18:\tlearn: 0.3804212\ttest: 0.3637363\tbest: 0.3637363 (18)\ttotal: 77.6ms\tremaining: 1.96s\n",
            "19:\tlearn: 0.3758262\ttest: 0.3593501\tbest: 0.3593501 (19)\ttotal: 79.1ms\tremaining: 1.9s\n",
            "20:\tlearn: 0.3699358\ttest: 0.3529052\tbest: 0.3529052 (20)\ttotal: 80.7ms\tremaining: 1.84s\n",
            "21:\tlearn: 0.3638179\ttest: 0.3462099\tbest: 0.3462099 (21)\ttotal: 82.2ms\tremaining: 1.79s\n",
            "22:\tlearn: 0.3574654\ttest: 0.3412818\tbest: 0.3412818 (22)\ttotal: 83.8ms\tremaining: 1.74s\n",
            "23:\tlearn: 0.3501739\ttest: 0.3328947\tbest: 0.3328947 (23)\ttotal: 85.3ms\tremaining: 1.69s\n",
            "24:\tlearn: 0.3456586\ttest: 0.3272205\tbest: 0.3272205 (24)\ttotal: 86.8ms\tremaining: 1.65s\n",
            "25:\tlearn: 0.3396935\ttest: 0.3212148\tbest: 0.3212148 (25)\ttotal: 88.3ms\tremaining: 1.61s\n",
            "26:\tlearn: 0.3313244\ttest: 0.3122925\tbest: 0.3122925 (26)\ttotal: 89.8ms\tremaining: 1.57s\n",
            "27:\tlearn: 0.3258709\ttest: 0.3075256\tbest: 0.3075256 (27)\ttotal: 91.3ms\tremaining: 1.54s\n",
            "28:\tlearn: 0.3176254\ttest: 0.2986937\tbest: 0.2986937 (28)\ttotal: 92.9ms\tremaining: 1.51s\n",
            "29:\tlearn: 0.3118808\ttest: 0.2921082\tbest: 0.2921082 (29)\ttotal: 94.6ms\tremaining: 1.48s\n",
            "30:\tlearn: 0.3059902\ttest: 0.2858489\tbest: 0.2858489 (30)\ttotal: 96.2ms\tremaining: 1.46s\n",
            "31:\tlearn: 0.3022793\ttest: 0.2823812\tbest: 0.2823812 (31)\ttotal: 97.8ms\tremaining: 1.43s\n",
            "32:\tlearn: 0.2979031\ttest: 0.2778042\tbest: 0.2778042 (32)\ttotal: 99.2ms\tremaining: 1.4s\n",
            "33:\tlearn: 0.2947916\ttest: 0.2745202\tbest: 0.2745202 (33)\ttotal: 101ms\tremaining: 1.38s\n",
            "34:\tlearn: 0.2918891\ttest: 0.2721226\tbest: 0.2721226 (34)\ttotal: 102ms\tremaining: 1.36s\n",
            "35:\tlearn: 0.2884066\ttest: 0.2678919\tbest: 0.2678919 (35)\ttotal: 104ms\tremaining: 1.34s\n",
            "36:\tlearn: 0.2829382\ttest: 0.2617233\tbest: 0.2617233 (36)\ttotal: 105ms\tremaining: 1.32s\n",
            "37:\tlearn: 0.2782943\ttest: 0.2567915\tbest: 0.2567915 (37)\ttotal: 107ms\tremaining: 1.3s\n",
            "38:\tlearn: 0.2749348\ttest: 0.2538397\tbest: 0.2538397 (38)\ttotal: 108ms\tremaining: 1.28s\n",
            "39:\tlearn: 0.2728912\ttest: 0.2525262\tbest: 0.2525262 (39)\ttotal: 110ms\tremaining: 1.26s\n",
            "40:\tlearn: 0.2704693\ttest: 0.2502889\tbest: 0.2502889 (40)\ttotal: 112ms\tremaining: 1.25s\n",
            "41:\tlearn: 0.2663575\ttest: 0.2457303\tbest: 0.2457303 (41)\ttotal: 113ms\tremaining: 1.23s\n",
            "42:\tlearn: 0.2647515\ttest: 0.2439502\tbest: 0.2439502 (42)\ttotal: 115ms\tremaining: 1.22s\n",
            "43:\tlearn: 0.2623374\ttest: 0.2419033\tbest: 0.2419033 (43)\ttotal: 116ms\tremaining: 1.2s\n",
            "44:\tlearn: 0.2598430\ttest: 0.2386164\tbest: 0.2386164 (44)\ttotal: 118ms\tremaining: 1.19s\n",
            "45:\tlearn: 0.2565925\ttest: 0.2351349\tbest: 0.2351349 (45)\ttotal: 119ms\tremaining: 1.18s\n",
            "46:\tlearn: 0.2528364\ttest: 0.2318467\tbest: 0.2318467 (46)\ttotal: 121ms\tremaining: 1.16s\n",
            "47:\tlearn: 0.2507026\ttest: 0.2292533\tbest: 0.2292533 (47)\ttotal: 122ms\tremaining: 1.15s\n",
            "48:\tlearn: 0.2491978\ttest: 0.2283107\tbest: 0.2283107 (48)\ttotal: 124ms\tremaining: 1.14s\n",
            "49:\tlearn: 0.2456750\ttest: 0.2253603\tbest: 0.2253603 (49)\ttotal: 126ms\tremaining: 1.13s\n",
            "50:\tlearn: 0.2430102\ttest: 0.2225314\tbest: 0.2225314 (50)\ttotal: 127ms\tremaining: 1.12s\n",
            "51:\tlearn: 0.2409576\ttest: 0.2205614\tbest: 0.2205614 (51)\ttotal: 129ms\tremaining: 1.11s\n",
            "52:\tlearn: 0.2395335\ttest: 0.2195319\tbest: 0.2195319 (52)\ttotal: 131ms\tremaining: 1.1s\n",
            "53:\tlearn: 0.2385753\ttest: 0.2186284\tbest: 0.2186284 (53)\ttotal: 132ms\tremaining: 1.09s\n",
            "54:\tlearn: 0.2359247\ttest: 0.2159794\tbest: 0.2159794 (54)\ttotal: 134ms\tremaining: 1.08s\n",
            "55:\tlearn: 0.2340794\ttest: 0.2146887\tbest: 0.2146887 (55)\ttotal: 136ms\tremaining: 1.07s\n",
            "56:\tlearn: 0.2334868\ttest: 0.2142132\tbest: 0.2142132 (56)\ttotal: 137ms\tremaining: 1.06s\n",
            "57:\tlearn: 0.2311699\ttest: 0.2130613\tbest: 0.2130613 (57)\ttotal: 139ms\tremaining: 1.06s\n",
            "58:\tlearn: 0.2284034\ttest: 0.2110961\tbest: 0.2110961 (58)\ttotal: 140ms\tremaining: 1.05s\n",
            "59:\tlearn: 0.2264044\ttest: 0.2100453\tbest: 0.2100453 (59)\ttotal: 142ms\tremaining: 1.04s\n",
            "60:\tlearn: 0.2244058\ttest: 0.2088438\tbest: 0.2088438 (60)\ttotal: 143ms\tremaining: 1.03s\n",
            "61:\tlearn: 0.2226084\ttest: 0.2066203\tbest: 0.2066203 (61)\ttotal: 145ms\tremaining: 1.02s\n",
            "62:\tlearn: 0.2212577\ttest: 0.2049175\tbest: 0.2049175 (62)\ttotal: 146ms\tremaining: 1.01s\n",
            "63:\tlearn: 0.2204532\ttest: 0.2047270\tbest: 0.2047270 (63)\ttotal: 148ms\tremaining: 1.01s\n",
            "64:\tlearn: 0.2188735\ttest: 0.2029582\tbest: 0.2029582 (64)\ttotal: 150ms\tremaining: 1s\n",
            "65:\tlearn: 0.2165105\ttest: 0.2007345\tbest: 0.2007345 (65)\ttotal: 151ms\tremaining: 994ms\n",
            "66:\tlearn: 0.2149018\ttest: 0.1999071\tbest: 0.1999071 (66)\ttotal: 153ms\tremaining: 988ms\n",
            "67:\tlearn: 0.2141143\ttest: 0.1993996\tbest: 0.1993996 (67)\ttotal: 155ms\tremaining: 982ms\n",
            "68:\tlearn: 0.2125149\ttest: 0.1984080\tbest: 0.1984080 (68)\ttotal: 156ms\tremaining: 975ms\n",
            "69:\tlearn: 0.2105346\ttest: 0.1962286\tbest: 0.1962286 (69)\ttotal: 158ms\tremaining: 968ms\n",
            "70:\tlearn: 0.2087930\ttest: 0.1946370\tbest: 0.1946370 (70)\ttotal: 159ms\tremaining: 962ms\n",
            "71:\tlearn: 0.2067604\ttest: 0.1923597\tbest: 0.1923597 (71)\ttotal: 161ms\tremaining: 955ms\n",
            "72:\tlearn: 0.2055267\ttest: 0.1916634\tbest: 0.1916634 (72)\ttotal: 162ms\tremaining: 949ms\n",
            "73:\tlearn: 0.2036962\ttest: 0.1898898\tbest: 0.1898898 (73)\ttotal: 164ms\tremaining: 943ms\n",
            "74:\tlearn: 0.2021053\ttest: 0.1886079\tbest: 0.1886079 (74)\ttotal: 165ms\tremaining: 938ms\n",
            "75:\tlearn: 0.2011599\ttest: 0.1878355\tbest: 0.1878355 (75)\ttotal: 167ms\tremaining: 932ms\n",
            "76:\tlearn: 0.2003901\ttest: 0.1875765\tbest: 0.1875765 (76)\ttotal: 169ms\tremaining: 926ms\n",
            "77:\tlearn: 0.1986768\ttest: 0.1871999\tbest: 0.1871999 (77)\ttotal: 170ms\tremaining: 920ms\n",
            "78:\tlearn: 0.1981037\ttest: 0.1872024\tbest: 0.1871999 (77)\ttotal: 172ms\tremaining: 915ms\n",
            "79:\tlearn: 0.1969841\ttest: 0.1866553\tbest: 0.1866553 (79)\ttotal: 173ms\tremaining: 909ms\n",
            "80:\tlearn: 0.1949548\ttest: 0.1838742\tbest: 0.1838742 (80)\ttotal: 175ms\tremaining: 904ms\n",
            "81:\tlearn: 0.1935316\ttest: 0.1830443\tbest: 0.1830443 (81)\ttotal: 176ms\tremaining: 898ms\n",
            "82:\tlearn: 0.1921645\ttest: 0.1818295\tbest: 0.1818295 (82)\ttotal: 178ms\tremaining: 893ms\n",
            "83:\tlearn: 0.1909626\ttest: 0.1814433\tbest: 0.1814433 (83)\ttotal: 179ms\tremaining: 888ms\n",
            "84:\tlearn: 0.1903755\ttest: 0.1815114\tbest: 0.1814433 (83)\ttotal: 181ms\tremaining: 883ms\n",
            "85:\tlearn: 0.1899037\ttest: 0.1816829\tbest: 0.1814433 (83)\ttotal: 182ms\tremaining: 878ms\n",
            "86:\tlearn: 0.1889921\ttest: 0.1813390\tbest: 0.1813390 (86)\ttotal: 184ms\tremaining: 873ms\n",
            "87:\tlearn: 0.1869869\ttest: 0.1783637\tbest: 0.1783637 (87)\ttotal: 186ms\tremaining: 869ms\n",
            "88:\tlearn: 0.1862146\ttest: 0.1782673\tbest: 0.1782673 (88)\ttotal: 187ms\tremaining: 864ms\n",
            "89:\tlearn: 0.1848640\ttest: 0.1774147\tbest: 0.1774147 (89)\ttotal: 189ms\tremaining: 859ms\n",
            "90:\tlearn: 0.1834793\ttest: 0.1769088\tbest: 0.1769088 (90)\ttotal: 190ms\tremaining: 855ms\n",
            "91:\tlearn: 0.1823327\ttest: 0.1769929\tbest: 0.1769088 (90)\ttotal: 192ms\tremaining: 850ms\n",
            "92:\tlearn: 0.1808207\ttest: 0.1771639\tbest: 0.1769088 (90)\ttotal: 193ms\tremaining: 846ms\n",
            "93:\tlearn: 0.1798668\ttest: 0.1774077\tbest: 0.1769088 (90)\ttotal: 195ms\tremaining: 842ms\n",
            "94:\tlearn: 0.1785815\ttest: 0.1768439\tbest: 0.1768439 (94)\ttotal: 196ms\tremaining: 837ms\n",
            "95:\tlearn: 0.1772204\ttest: 0.1755909\tbest: 0.1755909 (95)\ttotal: 198ms\tremaining: 833ms\n",
            "96:\tlearn: 0.1760952\ttest: 0.1744763\tbest: 0.1744763 (96)\ttotal: 199ms\tremaining: 829ms\n",
            "97:\tlearn: 0.1748992\ttest: 0.1727769\tbest: 0.1727769 (97)\ttotal: 201ms\tremaining: 824ms\n",
            "98:\tlearn: 0.1742617\ttest: 0.1722451\tbest: 0.1722451 (98)\ttotal: 203ms\tremaining: 821ms\n",
            "99:\tlearn: 0.1734285\ttest: 0.1723078\tbest: 0.1722451 (98)\ttotal: 204ms\tremaining: 817ms\n",
            "100:\tlearn: 0.1729581\ttest: 0.1722997\tbest: 0.1722451 (98)\ttotal: 206ms\tremaining: 813ms\n",
            "101:\tlearn: 0.1721096\ttest: 0.1722113\tbest: 0.1722113 (101)\ttotal: 207ms\tremaining: 808ms\n",
            "102:\tlearn: 0.1706360\ttest: 0.1716852\tbest: 0.1716852 (102)\ttotal: 209ms\tremaining: 805ms\n",
            "103:\tlearn: 0.1697180\ttest: 0.1708698\tbest: 0.1708698 (103)\ttotal: 210ms\tremaining: 800ms\n",
            "104:\tlearn: 0.1682815\ttest: 0.1693084\tbest: 0.1693084 (104)\ttotal: 212ms\tremaining: 797ms\n",
            "105:\tlearn: 0.1679162\ttest: 0.1694899\tbest: 0.1693084 (104)\ttotal: 213ms\tremaining: 793ms\n",
            "106:\tlearn: 0.1667963\ttest: 0.1690313\tbest: 0.1690313 (106)\ttotal: 215ms\tremaining: 789ms\n",
            "107:\tlearn: 0.1654288\ttest: 0.1677535\tbest: 0.1677535 (107)\ttotal: 216ms\tremaining: 786ms\n",
            "108:\tlearn: 0.1640790\ttest: 0.1680436\tbest: 0.1677535 (107)\ttotal: 218ms\tremaining: 782ms\n",
            "109:\tlearn: 0.1632169\ttest: 0.1675822\tbest: 0.1675822 (109)\ttotal: 220ms\tremaining: 779ms\n",
            "110:\tlearn: 0.1626299\ttest: 0.1676975\tbest: 0.1675822 (109)\ttotal: 221ms\tremaining: 775ms\n",
            "111:\tlearn: 0.1619407\ttest: 0.1679507\tbest: 0.1675822 (109)\ttotal: 223ms\tremaining: 772ms\n",
            "112:\tlearn: 0.1608684\ttest: 0.1670038\tbest: 0.1670038 (112)\ttotal: 224ms\tremaining: 769ms\n",
            "113:\tlearn: 0.1599408\ttest: 0.1662965\tbest: 0.1662965 (113)\ttotal: 226ms\tremaining: 766ms\n",
            "114:\tlearn: 0.1591231\ttest: 0.1664301\tbest: 0.1662965 (113)\ttotal: 228ms\tremaining: 763ms\n",
            "115:\tlearn: 0.1578747\ttest: 0.1663359\tbest: 0.1662965 (113)\ttotal: 229ms\tremaining: 759ms\n",
            "116:\tlearn: 0.1570823\ttest: 0.1660501\tbest: 0.1660501 (116)\ttotal: 231ms\tremaining: 756ms\n",
            "117:\tlearn: 0.1558966\ttest: 0.1659572\tbest: 0.1659572 (117)\ttotal: 233ms\tremaining: 753ms\n",
            "118:\tlearn: 0.1552380\ttest: 0.1659880\tbest: 0.1659572 (117)\ttotal: 234ms\tremaining: 750ms\n",
            "119:\tlearn: 0.1547397\ttest: 0.1660117\tbest: 0.1659572 (117)\ttotal: 236ms\tremaining: 747ms\n",
            "120:\tlearn: 0.1541172\ttest: 0.1653261\tbest: 0.1653261 (120)\ttotal: 241ms\tremaining: 756ms\n",
            "121:\tlearn: 0.1533327\ttest: 0.1653272\tbest: 0.1653261 (120)\ttotal: 243ms\tremaining: 753ms\n",
            "122:\tlearn: 0.1524184\ttest: 0.1653440\tbest: 0.1653261 (120)\ttotal: 244ms\tremaining: 749ms\n",
            "123:\tlearn: 0.1513397\ttest: 0.1636632\tbest: 0.1636632 (123)\ttotal: 246ms\tremaining: 746ms\n",
            "124:\tlearn: 0.1502917\ttest: 0.1638071\tbest: 0.1636632 (123)\ttotal: 248ms\tremaining: 743ms\n",
            "125:\tlearn: 0.1495537\ttest: 0.1635612\tbest: 0.1635612 (125)\ttotal: 249ms\tremaining: 739ms\n",
            "126:\tlearn: 0.1489053\ttest: 0.1637005\tbest: 0.1635612 (125)\ttotal: 251ms\tremaining: 736ms\n",
            "127:\tlearn: 0.1477257\ttest: 0.1625957\tbest: 0.1625957 (127)\ttotal: 252ms\tremaining: 733ms\n",
            "128:\tlearn: 0.1465001\ttest: 0.1623436\tbest: 0.1623436 (128)\ttotal: 254ms\tremaining: 730ms\n",
            "129:\tlearn: 0.1460303\ttest: 0.1622665\tbest: 0.1622665 (129)\ttotal: 255ms\tremaining: 727ms\n",
            "130:\tlearn: 0.1449228\ttest: 0.1612351\tbest: 0.1612351 (130)\ttotal: 257ms\tremaining: 723ms\n",
            "131:\tlearn: 0.1442593\ttest: 0.1611444\tbest: 0.1611444 (131)\ttotal: 258ms\tremaining: 720ms\n",
            "132:\tlearn: 0.1433479\ttest: 0.1610822\tbest: 0.1610822 (132)\ttotal: 260ms\tremaining: 717ms\n",
            "133:\tlearn: 0.1427211\ttest: 0.1609348\tbest: 0.1609348 (133)\ttotal: 261ms\tremaining: 714ms\n",
            "134:\tlearn: 0.1420935\ttest: 0.1603269\tbest: 0.1603269 (134)\ttotal: 263ms\tremaining: 711ms\n",
            "135:\tlearn: 0.1414719\ttest: 0.1602449\tbest: 0.1602449 (135)\ttotal: 265ms\tremaining: 708ms\n",
            "136:\tlearn: 0.1406899\ttest: 0.1598316\tbest: 0.1598316 (136)\ttotal: 266ms\tremaining: 706ms\n",
            "137:\tlearn: 0.1393288\ttest: 0.1593658\tbest: 0.1593658 (137)\ttotal: 268ms\tremaining: 703ms\n",
            "138:\tlearn: 0.1385732\ttest: 0.1592705\tbest: 0.1592705 (138)\ttotal: 269ms\tremaining: 700ms\n",
            "139:\tlearn: 0.1374794\ttest: 0.1583834\tbest: 0.1583834 (139)\ttotal: 271ms\tremaining: 697ms\n",
            "140:\tlearn: 0.1368431\ttest: 0.1579757\tbest: 0.1579757 (140)\ttotal: 273ms\tremaining: 694ms\n",
            "141:\tlearn: 0.1361227\ttest: 0.1572189\tbest: 0.1572189 (141)\ttotal: 274ms\tremaining: 691ms\n",
            "142:\tlearn: 0.1353860\ttest: 0.1574084\tbest: 0.1572189 (141)\ttotal: 276ms\tremaining: 689ms\n",
            "143:\tlearn: 0.1343589\ttest: 0.1572586\tbest: 0.1572189 (141)\ttotal: 277ms\tremaining: 686ms\n",
            "144:\tlearn: 0.1336592\ttest: 0.1569979\tbest: 0.1569979 (144)\ttotal: 279ms\tremaining: 683ms\n",
            "145:\tlearn: 0.1331616\ttest: 0.1569296\tbest: 0.1569296 (145)\ttotal: 281ms\tremaining: 680ms\n",
            "146:\tlearn: 0.1324219\ttest: 0.1566215\tbest: 0.1566215 (146)\ttotal: 282ms\tremaining: 677ms\n",
            "147:\tlearn: 0.1319504\ttest: 0.1565924\tbest: 0.1565924 (147)\ttotal: 284ms\tremaining: 675ms\n",
            "148:\tlearn: 0.1311495\ttest: 0.1554540\tbest: 0.1554540 (148)\ttotal: 285ms\tremaining: 672ms\n",
            "149:\tlearn: 0.1305369\ttest: 0.1552388\tbest: 0.1552388 (149)\ttotal: 287ms\tremaining: 669ms\n",
            "150:\tlearn: 0.1297596\ttest: 0.1548283\tbest: 0.1548283 (150)\ttotal: 288ms\tremaining: 667ms\n",
            "151:\tlearn: 0.1290480\ttest: 0.1547165\tbest: 0.1547165 (151)\ttotal: 290ms\tremaining: 664ms\n",
            "152:\tlearn: 0.1285213\ttest: 0.1544100\tbest: 0.1544100 (152)\ttotal: 292ms\tremaining: 661ms\n",
            "153:\tlearn: 0.1282045\ttest: 0.1542734\tbest: 0.1542734 (153)\ttotal: 293ms\tremaining: 659ms\n",
            "154:\tlearn: 0.1277795\ttest: 0.1544582\tbest: 0.1542734 (153)\ttotal: 295ms\tremaining: 656ms\n",
            "155:\tlearn: 0.1272782\ttest: 0.1538968\tbest: 0.1538968 (155)\ttotal: 297ms\tremaining: 654ms\n",
            "156:\tlearn: 0.1266820\ttest: 0.1539234\tbest: 0.1538968 (155)\ttotal: 298ms\tremaining: 651ms\n",
            "157:\tlearn: 0.1261329\ttest: 0.1541156\tbest: 0.1538968 (155)\ttotal: 300ms\tremaining: 649ms\n",
            "158:\tlearn: 0.1252611\ttest: 0.1538507\tbest: 0.1538507 (158)\ttotal: 302ms\tremaining: 647ms\n",
            "159:\tlearn: 0.1245437\ttest: 0.1538549\tbest: 0.1538507 (158)\ttotal: 303ms\tremaining: 644ms\n",
            "160:\tlearn: 0.1239596\ttest: 0.1532218\tbest: 0.1532218 (160)\ttotal: 305ms\tremaining: 642ms\n",
            "161:\tlearn: 0.1232645\ttest: 0.1522848\tbest: 0.1522848 (161)\ttotal: 306ms\tremaining: 639ms\n",
            "162:\tlearn: 0.1226973\ttest: 0.1517249\tbest: 0.1517249 (162)\ttotal: 308ms\tremaining: 637ms\n",
            "163:\tlearn: 0.1222513\ttest: 0.1515634\tbest: 0.1515634 (163)\ttotal: 310ms\tremaining: 634ms\n",
            "164:\tlearn: 0.1219516\ttest: 0.1515447\tbest: 0.1515447 (164)\ttotal: 311ms\tremaining: 632ms\n",
            "165:\tlearn: 0.1208276\ttest: 0.1517064\tbest: 0.1515447 (164)\ttotal: 313ms\tremaining: 629ms\n",
            "166:\tlearn: 0.1200965\ttest: 0.1516544\tbest: 0.1515447 (164)\ttotal: 314ms\tremaining: 627ms\n",
            "167:\tlearn: 0.1197625\ttest: 0.1513396\tbest: 0.1513396 (167)\ttotal: 316ms\tremaining: 624ms\n",
            "168:\tlearn: 0.1192785\ttest: 0.1510310\tbest: 0.1510310 (168)\ttotal: 318ms\tremaining: 622ms\n",
            "169:\tlearn: 0.1188655\ttest: 0.1512643\tbest: 0.1510310 (168)\ttotal: 319ms\tremaining: 620ms\n",
            "170:\tlearn: 0.1183264\ttest: 0.1511815\tbest: 0.1510310 (168)\ttotal: 321ms\tremaining: 618ms\n",
            "171:\tlearn: 0.1179038\ttest: 0.1515176\tbest: 0.1510310 (168)\ttotal: 323ms\tremaining: 616ms\n",
            "172:\tlearn: 0.1171529\ttest: 0.1512845\tbest: 0.1510310 (168)\ttotal: 325ms\tremaining: 613ms\n",
            "173:\tlearn: 0.1166291\ttest: 0.1508633\tbest: 0.1508633 (173)\ttotal: 326ms\tremaining: 611ms\n",
            "174:\tlearn: 0.1156905\ttest: 0.1505798\tbest: 0.1505798 (174)\ttotal: 328ms\tremaining: 609ms\n",
            "175:\tlearn: 0.1151867\ttest: 0.1506577\tbest: 0.1505798 (174)\ttotal: 330ms\tremaining: 607ms\n",
            "176:\tlearn: 0.1148092\ttest: 0.1503766\tbest: 0.1503766 (176)\ttotal: 331ms\tremaining: 604ms\n",
            "177:\tlearn: 0.1143430\ttest: 0.1501700\tbest: 0.1501700 (177)\ttotal: 333ms\tremaining: 602ms\n",
            "178:\tlearn: 0.1132774\ttest: 0.1500506\tbest: 0.1500506 (178)\ttotal: 334ms\tremaining: 599ms\n",
            "179:\tlearn: 0.1123239\ttest: 0.1500456\tbest: 0.1500456 (179)\ttotal: 336ms\tremaining: 597ms\n",
            "180:\tlearn: 0.1115829\ttest: 0.1502344\tbest: 0.1500456 (179)\ttotal: 337ms\tremaining: 594ms\n",
            "181:\tlearn: 0.1111762\ttest: 0.1503139\tbest: 0.1500456 (179)\ttotal: 339ms\tremaining: 592ms\n",
            "182:\tlearn: 0.1107877\ttest: 0.1505737\tbest: 0.1500456 (179)\ttotal: 340ms\tremaining: 590ms\n",
            "183:\tlearn: 0.1101893\ttest: 0.1501510\tbest: 0.1500456 (179)\ttotal: 342ms\tremaining: 587ms\n",
            "184:\tlearn: 0.1095761\ttest: 0.1499031\tbest: 0.1499031 (184)\ttotal: 344ms\tremaining: 585ms\n",
            "185:\tlearn: 0.1091486\ttest: 0.1497604\tbest: 0.1497604 (185)\ttotal: 345ms\tremaining: 582ms\n",
            "186:\tlearn: 0.1085319\ttest: 0.1497766\tbest: 0.1497604 (185)\ttotal: 347ms\tremaining: 580ms\n",
            "187:\tlearn: 0.1076165\ttest: 0.1490618\tbest: 0.1490618 (187)\ttotal: 348ms\tremaining: 578ms\n",
            "188:\tlearn: 0.1068770\ttest: 0.1486232\tbest: 0.1486232 (188)\ttotal: 350ms\tremaining: 576ms\n",
            "189:\tlearn: 0.1064891\ttest: 0.1485002\tbest: 0.1485002 (189)\ttotal: 351ms\tremaining: 573ms\n",
            "190:\tlearn: 0.1058427\ttest: 0.1484964\tbest: 0.1484964 (190)\ttotal: 353ms\tremaining: 571ms\n",
            "191:\tlearn: 0.1051505\ttest: 0.1474182\tbest: 0.1474182 (191)\ttotal: 354ms\tremaining: 569ms\n",
            "192:\tlearn: 0.1046740\ttest: 0.1470621\tbest: 0.1470621 (192)\ttotal: 356ms\tremaining: 566ms\n",
            "193:\tlearn: 0.1040118\ttest: 0.1467726\tbest: 0.1467726 (193)\ttotal: 358ms\tremaining: 564ms\n",
            "194:\tlearn: 0.1035545\ttest: 0.1469042\tbest: 0.1467726 (193)\ttotal: 359ms\tremaining: 562ms\n",
            "195:\tlearn: 0.1027332\ttest: 0.1461927\tbest: 0.1461927 (195)\ttotal: 361ms\tremaining: 560ms\n",
            "196:\tlearn: 0.1022149\ttest: 0.1463230\tbest: 0.1461927 (195)\ttotal: 362ms\tremaining: 557ms\n",
            "197:\tlearn: 0.1019567\ttest: 0.1463907\tbest: 0.1461927 (195)\ttotal: 364ms\tremaining: 555ms\n",
            "198:\tlearn: 0.1014410\ttest: 0.1462593\tbest: 0.1461927 (195)\ttotal: 365ms\tremaining: 553ms\n",
            "199:\tlearn: 0.1009733\ttest: 0.1460554\tbest: 0.1460554 (199)\ttotal: 367ms\tremaining: 550ms\n",
            "200:\tlearn: 0.1004320\ttest: 0.1455129\tbest: 0.1455129 (200)\ttotal: 368ms\tremaining: 548ms\n",
            "201:\tlearn: 0.1001587\ttest: 0.1458640\tbest: 0.1455129 (200)\ttotal: 370ms\tremaining: 546ms\n",
            "202:\tlearn: 0.0993354\ttest: 0.1456550\tbest: 0.1455129 (200)\ttotal: 372ms\tremaining: 544ms\n",
            "203:\tlearn: 0.0989285\ttest: 0.1457947\tbest: 0.1455129 (200)\ttotal: 373ms\tremaining: 541ms\n",
            "204:\tlearn: 0.0982406\ttest: 0.1452834\tbest: 0.1452834 (204)\ttotal: 375ms\tremaining: 539ms\n",
            "205:\tlearn: 0.0978939\ttest: 0.1448956\tbest: 0.1448956 (205)\ttotal: 376ms\tremaining: 537ms\n",
            "206:\tlearn: 0.0976371\ttest: 0.1449957\tbest: 0.1448956 (205)\ttotal: 378ms\tremaining: 535ms\n",
            "207:\tlearn: 0.0968083\ttest: 0.1445874\tbest: 0.1445874 (207)\ttotal: 380ms\tremaining: 533ms\n",
            "208:\tlearn: 0.0965470\ttest: 0.1444718\tbest: 0.1444718 (208)\ttotal: 382ms\tremaining: 531ms\n",
            "209:\tlearn: 0.0962887\ttest: 0.1444520\tbest: 0.1444520 (209)\ttotal: 383ms\tremaining: 529ms\n",
            "210:\tlearn: 0.0955810\ttest: 0.1435401\tbest: 0.1435401 (210)\ttotal: 385ms\tremaining: 527ms\n",
            "211:\tlearn: 0.0949405\ttest: 0.1435362\tbest: 0.1435362 (211)\ttotal: 386ms\tremaining: 525ms\n",
            "212:\tlearn: 0.0944402\ttest: 0.1437179\tbest: 0.1435362 (211)\ttotal: 388ms\tremaining: 522ms\n",
            "213:\tlearn: 0.0940493\ttest: 0.1436927\tbest: 0.1435362 (211)\ttotal: 389ms\tremaining: 520ms\n",
            "214:\tlearn: 0.0936471\ttest: 0.1434679\tbest: 0.1434679 (214)\ttotal: 391ms\tremaining: 518ms\n",
            "215:\tlearn: 0.0930040\ttest: 0.1434069\tbest: 0.1434069 (215)\ttotal: 392ms\tremaining: 516ms\n",
            "216:\tlearn: 0.0922401\ttest: 0.1435101\tbest: 0.1434069 (215)\ttotal: 394ms\tremaining: 514ms\n",
            "217:\tlearn: 0.0919579\ttest: 0.1436747\tbest: 0.1434069 (215)\ttotal: 396ms\tremaining: 512ms\n",
            "218:\tlearn: 0.0916699\ttest: 0.1434866\tbest: 0.1434069 (215)\ttotal: 397ms\tremaining: 510ms\n",
            "219:\tlearn: 0.0912264\ttest: 0.1436303\tbest: 0.1434069 (215)\ttotal: 399ms\tremaining: 507ms\n",
            "220:\tlearn: 0.0904912\ttest: 0.1432779\tbest: 0.1432779 (220)\ttotal: 400ms\tremaining: 505ms\n",
            "221:\tlearn: 0.0899571\ttest: 0.1434120\tbest: 0.1432779 (220)\ttotal: 402ms\tremaining: 503ms\n",
            "222:\tlearn: 0.0894564\ttest: 0.1434619\tbest: 0.1432779 (220)\ttotal: 404ms\tremaining: 501ms\n",
            "223:\tlearn: 0.0888625\ttest: 0.1430992\tbest: 0.1430992 (223)\ttotal: 405ms\tremaining: 499ms\n",
            "224:\tlearn: 0.0885730\ttest: 0.1431638\tbest: 0.1430992 (223)\ttotal: 407ms\tremaining: 497ms\n",
            "225:\tlearn: 0.0882593\ttest: 0.1431899\tbest: 0.1430992 (223)\ttotal: 408ms\tremaining: 495ms\n",
            "226:\tlearn: 0.0879622\ttest: 0.1429703\tbest: 0.1429703 (226)\ttotal: 410ms\tremaining: 493ms\n",
            "227:\tlearn: 0.0871664\ttest: 0.1431518\tbest: 0.1429703 (226)\ttotal: 411ms\tremaining: 491ms\n",
            "228:\tlearn: 0.0865527\ttest: 0.1431699\tbest: 0.1429703 (226)\ttotal: 413ms\tremaining: 489ms\n",
            "229:\tlearn: 0.0859057\ttest: 0.1433233\tbest: 0.1429703 (226)\ttotal: 415ms\tremaining: 487ms\n",
            "230:\tlearn: 0.0855949\ttest: 0.1433555\tbest: 0.1429703 (226)\ttotal: 417ms\tremaining: 485ms\n",
            "231:\tlearn: 0.0848093\ttest: 0.1426160\tbest: 0.1426160 (231)\ttotal: 418ms\tremaining: 483ms\n",
            "232:\tlearn: 0.0843622\ttest: 0.1421588\tbest: 0.1421588 (232)\ttotal: 420ms\tremaining: 481ms\n",
            "233:\tlearn: 0.0837026\ttest: 0.1422792\tbest: 0.1421588 (232)\ttotal: 421ms\tremaining: 479ms\n",
            "234:\tlearn: 0.0833062\ttest: 0.1417716\tbest: 0.1417716 (234)\ttotal: 423ms\tremaining: 477ms\n",
            "235:\tlearn: 0.0825308\ttest: 0.1406852\tbest: 0.1406852 (235)\ttotal: 425ms\tremaining: 475ms\n",
            "236:\tlearn: 0.0822097\ttest: 0.1408598\tbest: 0.1406852 (235)\ttotal: 426ms\tremaining: 473ms\n",
            "237:\tlearn: 0.0817621\ttest: 0.1408730\tbest: 0.1406852 (235)\ttotal: 428ms\tremaining: 471ms\n",
            "238:\tlearn: 0.0812048\ttest: 0.1402945\tbest: 0.1402945 (238)\ttotal: 431ms\tremaining: 471ms\n",
            "239:\tlearn: 0.0809434\ttest: 0.1401559\tbest: 0.1401559 (239)\ttotal: 434ms\tremaining: 470ms\n",
            "240:\tlearn: 0.0804603\ttest: 0.1400332\tbest: 0.1400332 (240)\ttotal: 436ms\tremaining: 468ms\n",
            "241:\tlearn: 0.0800919\ttest: 0.1397802\tbest: 0.1397802 (241)\ttotal: 437ms\tremaining: 466ms\n",
            "242:\tlearn: 0.0794822\ttest: 0.1397365\tbest: 0.1397365 (242)\ttotal: 439ms\tremaining: 464ms\n",
            "243:\tlearn: 0.0787126\ttest: 0.1389189\tbest: 0.1389189 (243)\ttotal: 441ms\tremaining: 462ms\n",
            "244:\tlearn: 0.0783890\ttest: 0.1390400\tbest: 0.1389189 (243)\ttotal: 442ms\tremaining: 460ms\n",
            "245:\tlearn: 0.0781089\ttest: 0.1388113\tbest: 0.1388113 (245)\ttotal: 444ms\tremaining: 458ms\n",
            "246:\tlearn: 0.0775765\ttest: 0.1388097\tbest: 0.1388097 (246)\ttotal: 445ms\tremaining: 456ms\n",
            "247:\tlearn: 0.0773606\ttest: 0.1388549\tbest: 0.1388097 (246)\ttotal: 447ms\tremaining: 454ms\n",
            "248:\tlearn: 0.0768388\ttest: 0.1384220\tbest: 0.1384220 (248)\ttotal: 448ms\tremaining: 452ms\n",
            "249:\tlearn: 0.0762712\ttest: 0.1380636\tbest: 0.1380636 (249)\ttotal: 450ms\tremaining: 450ms\n",
            "250:\tlearn: 0.0759110\ttest: 0.1379266\tbest: 0.1379266 (250)\ttotal: 452ms\tremaining: 448ms\n",
            "251:\tlearn: 0.0755123\ttest: 0.1376157\tbest: 0.1376157 (251)\ttotal: 453ms\tremaining: 446ms\n",
            "252:\tlearn: 0.0749446\ttest: 0.1368203\tbest: 0.1368203 (252)\ttotal: 455ms\tremaining: 444ms\n",
            "253:\tlearn: 0.0744742\ttest: 0.1364489\tbest: 0.1364489 (253)\ttotal: 456ms\tremaining: 442ms\n",
            "254:\tlearn: 0.0739852\ttest: 0.1357466\tbest: 0.1357466 (254)\ttotal: 458ms\tremaining: 440ms\n",
            "255:\tlearn: 0.0736322\ttest: 0.1359390\tbest: 0.1357466 (254)\ttotal: 459ms\tremaining: 438ms\n",
            "256:\tlearn: 0.0732807\ttest: 0.1358980\tbest: 0.1357466 (254)\ttotal: 461ms\tremaining: 436ms\n",
            "257:\tlearn: 0.0729514\ttest: 0.1359431\tbest: 0.1357466 (254)\ttotal: 462ms\tremaining: 434ms\n",
            "258:\tlearn: 0.0725974\ttest: 0.1359729\tbest: 0.1357466 (254)\ttotal: 464ms\tremaining: 432ms\n",
            "259:\tlearn: 0.0722885\ttest: 0.1361870\tbest: 0.1357466 (254)\ttotal: 466ms\tremaining: 430ms\n",
            "260:\tlearn: 0.0721661\ttest: 0.1362015\tbest: 0.1357466 (254)\ttotal: 467ms\tremaining: 428ms\n",
            "261:\tlearn: 0.0718064\ttest: 0.1360568\tbest: 0.1357466 (254)\ttotal: 469ms\tremaining: 426ms\n",
            "262:\tlearn: 0.0713627\ttest: 0.1361961\tbest: 0.1357466 (254)\ttotal: 470ms\tremaining: 424ms\n",
            "263:\tlearn: 0.0709430\ttest: 0.1356949\tbest: 0.1356949 (263)\ttotal: 472ms\tremaining: 422ms\n",
            "264:\tlearn: 0.0705814\ttest: 0.1355122\tbest: 0.1355122 (264)\ttotal: 474ms\tremaining: 420ms\n",
            "265:\tlearn: 0.0701493\ttest: 0.1354265\tbest: 0.1354265 (265)\ttotal: 476ms\tremaining: 418ms\n",
            "266:\tlearn: 0.0697774\ttest: 0.1353355\tbest: 0.1353355 (266)\ttotal: 481ms\tremaining: 420ms\n",
            "267:\tlearn: 0.0691289\ttest: 0.1353088\tbest: 0.1353088 (267)\ttotal: 484ms\tremaining: 419ms\n",
            "268:\tlearn: 0.0687384\ttest: 0.1347394\tbest: 0.1347394 (268)\ttotal: 486ms\tremaining: 417ms\n",
            "269:\tlearn: 0.0683257\ttest: 0.1347191\tbest: 0.1347191 (269)\ttotal: 487ms\tremaining: 415ms\n",
            "270:\tlearn: 0.0680069\ttest: 0.1348933\tbest: 0.1347191 (269)\ttotal: 489ms\tremaining: 413ms\n",
            "271:\tlearn: 0.0678124\ttest: 0.1348020\tbest: 0.1347191 (269)\ttotal: 490ms\tremaining: 411ms\n",
            "272:\tlearn: 0.0676061\ttest: 0.1348905\tbest: 0.1347191 (269)\ttotal: 492ms\tremaining: 409ms\n",
            "273:\tlearn: 0.0672363\ttest: 0.1345841\tbest: 0.1345841 (273)\ttotal: 493ms\tremaining: 407ms\n",
            "274:\tlearn: 0.0667932\ttest: 0.1341268\tbest: 0.1341268 (274)\ttotal: 495ms\tremaining: 405ms\n",
            "275:\tlearn: 0.0661763\ttest: 0.1332247\tbest: 0.1332247 (275)\ttotal: 497ms\tremaining: 403ms\n",
            "276:\tlearn: 0.0657837\ttest: 0.1332194\tbest: 0.1332194 (276)\ttotal: 498ms\tremaining: 401ms\n",
            "277:\tlearn: 0.0655899\ttest: 0.1330329\tbest: 0.1330329 (277)\ttotal: 500ms\tremaining: 399ms\n",
            "278:\tlearn: 0.0652115\ttest: 0.1329045\tbest: 0.1329045 (278)\ttotal: 501ms\tremaining: 397ms\n",
            "279:\tlearn: 0.0650310\ttest: 0.1329961\tbest: 0.1329045 (278)\ttotal: 503ms\tremaining: 395ms\n",
            "280:\tlearn: 0.0646775\ttest: 0.1332025\tbest: 0.1329045 (278)\ttotal: 504ms\tremaining: 393ms\n",
            "281:\tlearn: 0.0643532\ttest: 0.1333846\tbest: 0.1329045 (278)\ttotal: 506ms\tremaining: 391ms\n",
            "282:\tlearn: 0.0641155\ttest: 0.1333728\tbest: 0.1329045 (278)\ttotal: 508ms\tremaining: 389ms\n",
            "283:\tlearn: 0.0638170\ttest: 0.1329595\tbest: 0.1329045 (278)\ttotal: 509ms\tremaining: 387ms\n",
            "284:\tlearn: 0.0635993\ttest: 0.1331268\tbest: 0.1329045 (278)\ttotal: 511ms\tremaining: 386ms\n",
            "285:\tlearn: 0.0631993\ttest: 0.1330743\tbest: 0.1329045 (278)\ttotal: 513ms\tremaining: 384ms\n",
            "286:\tlearn: 0.0630550\ttest: 0.1330477\tbest: 0.1329045 (278)\ttotal: 514ms\tremaining: 382ms\n",
            "287:\tlearn: 0.0626990\ttest: 0.1329120\tbest: 0.1329045 (278)\ttotal: 516ms\tremaining: 380ms\n",
            "288:\tlearn: 0.0624133\ttest: 0.1328762\tbest: 0.1328762 (288)\ttotal: 517ms\tremaining: 378ms\n",
            "289:\tlearn: 0.0618520\ttest: 0.1322084\tbest: 0.1322084 (289)\ttotal: 519ms\tremaining: 376ms\n",
            "290:\tlearn: 0.0615963\ttest: 0.1322066\tbest: 0.1322066 (290)\ttotal: 521ms\tremaining: 374ms\n",
            "291:\tlearn: 0.0612515\ttest: 0.1316711\tbest: 0.1316711 (291)\ttotal: 522ms\tremaining: 372ms\n",
            "292:\tlearn: 0.0608300\ttest: 0.1316677\tbest: 0.1316677 (292)\ttotal: 524ms\tremaining: 370ms\n",
            "293:\tlearn: 0.0604649\ttest: 0.1315527\tbest: 0.1315527 (293)\ttotal: 525ms\tremaining: 368ms\n",
            "294:\tlearn: 0.0601943\ttest: 0.1316529\tbest: 0.1315527 (293)\ttotal: 527ms\tremaining: 366ms\n",
            "295:\tlearn: 0.0600632\ttest: 0.1317572\tbest: 0.1315527 (293)\ttotal: 528ms\tremaining: 364ms\n",
            "296:\tlearn: 0.0599057\ttest: 0.1318620\tbest: 0.1315527 (293)\ttotal: 530ms\tremaining: 362ms\n",
            "297:\tlearn: 0.0595494\ttest: 0.1317136\tbest: 0.1315527 (293)\ttotal: 531ms\tremaining: 360ms\n",
            "298:\tlearn: 0.0593155\ttest: 0.1318861\tbest: 0.1315527 (293)\ttotal: 533ms\tremaining: 358ms\n",
            "299:\tlearn: 0.0589644\ttest: 0.1315512\tbest: 0.1315512 (299)\ttotal: 535ms\tremaining: 356ms\n",
            "300:\tlearn: 0.0586349\ttest: 0.1311649\tbest: 0.1311649 (300)\ttotal: 536ms\tremaining: 355ms\n",
            "301:\tlearn: 0.0583892\ttest: 0.1313444\tbest: 0.1311649 (300)\ttotal: 538ms\tremaining: 353ms\n",
            "302:\tlearn: 0.0580680\ttest: 0.1315412\tbest: 0.1311649 (300)\ttotal: 539ms\tremaining: 351ms\n",
            "303:\tlearn: 0.0577151\ttest: 0.1315305\tbest: 0.1311649 (300)\ttotal: 541ms\tremaining: 349ms\n",
            "304:\tlearn: 0.0574780\ttest: 0.1316238\tbest: 0.1311649 (300)\ttotal: 542ms\tremaining: 347ms\n",
            "305:\tlearn: 0.0570994\ttest: 0.1311267\tbest: 0.1311267 (305)\ttotal: 544ms\tremaining: 345ms\n",
            "306:\tlearn: 0.0570162\ttest: 0.1311106\tbest: 0.1311106 (306)\ttotal: 545ms\tremaining: 343ms\n",
            "307:\tlearn: 0.0569173\ttest: 0.1312257\tbest: 0.1311106 (306)\ttotal: 547ms\tremaining: 341ms\n",
            "308:\tlearn: 0.0566967\ttest: 0.1313762\tbest: 0.1311106 (306)\ttotal: 549ms\tremaining: 339ms\n",
            "309:\tlearn: 0.0563659\ttest: 0.1316325\tbest: 0.1311106 (306)\ttotal: 550ms\tremaining: 337ms\n",
            "310:\tlearn: 0.0560166\ttest: 0.1317469\tbest: 0.1311106 (306)\ttotal: 552ms\tremaining: 335ms\n",
            "311:\tlearn: 0.0556624\ttest: 0.1315014\tbest: 0.1311106 (306)\ttotal: 553ms\tremaining: 333ms\n",
            "312:\tlearn: 0.0552145\ttest: 0.1313778\tbest: 0.1311106 (306)\ttotal: 555ms\tremaining: 332ms\n",
            "313:\tlearn: 0.0550010\ttest: 0.1314104\tbest: 0.1311106 (306)\ttotal: 557ms\tremaining: 330ms\n",
            "314:\tlearn: 0.0546700\ttest: 0.1311917\tbest: 0.1311106 (306)\ttotal: 558ms\tremaining: 328ms\n",
            "315:\tlearn: 0.0544063\ttest: 0.1311709\tbest: 0.1311106 (306)\ttotal: 560ms\tremaining: 326ms\n",
            "316:\tlearn: 0.0542853\ttest: 0.1312957\tbest: 0.1311106 (306)\ttotal: 561ms\tremaining: 324ms\n",
            "317:\tlearn: 0.0539101\ttest: 0.1311046\tbest: 0.1311046 (317)\ttotal: 563ms\tremaining: 322ms\n",
            "318:\tlearn: 0.0536189\ttest: 0.1311305\tbest: 0.1311046 (317)\ttotal: 564ms\tremaining: 320ms\n",
            "319:\tlearn: 0.0534883\ttest: 0.1311213\tbest: 0.1311046 (317)\ttotal: 566ms\tremaining: 318ms\n",
            "320:\tlearn: 0.0531427\ttest: 0.1309366\tbest: 0.1309366 (320)\ttotal: 567ms\tremaining: 316ms\n",
            "321:\tlearn: 0.0528271\ttest: 0.1307181\tbest: 0.1307181 (321)\ttotal: 569ms\tremaining: 314ms\n",
            "322:\tlearn: 0.0524099\ttest: 0.1301508\tbest: 0.1301508 (322)\ttotal: 570ms\tremaining: 313ms\n",
            "323:\tlearn: 0.0522389\ttest: 0.1301609\tbest: 0.1301508 (322)\ttotal: 572ms\tremaining: 311ms\n",
            "324:\tlearn: 0.0519916\ttest: 0.1300446\tbest: 0.1300446 (324)\ttotal: 574ms\tremaining: 309ms\n",
            "325:\tlearn: 0.0518468\ttest: 0.1299013\tbest: 0.1299013 (325)\ttotal: 575ms\tremaining: 307ms\n",
            "326:\tlearn: 0.0515308\ttest: 0.1297096\tbest: 0.1297096 (326)\ttotal: 577ms\tremaining: 305ms\n",
            "327:\tlearn: 0.0513268\ttest: 0.1296345\tbest: 0.1296345 (327)\ttotal: 579ms\tremaining: 303ms\n",
            "328:\tlearn: 0.0512204\ttest: 0.1296311\tbest: 0.1296311 (328)\ttotal: 580ms\tremaining: 302ms\n",
            "329:\tlearn: 0.0509950\ttest: 0.1294999\tbest: 0.1294999 (329)\ttotal: 582ms\tremaining: 300ms\n",
            "330:\tlearn: 0.0506614\ttest: 0.1292444\tbest: 0.1292444 (330)\ttotal: 583ms\tremaining: 298ms\n",
            "331:\tlearn: 0.0503489\ttest: 0.1289464\tbest: 0.1289464 (331)\ttotal: 585ms\tremaining: 296ms\n",
            "332:\tlearn: 0.0499911\ttest: 0.1287874\tbest: 0.1287874 (332)\ttotal: 586ms\tremaining: 294ms\n",
            "333:\tlearn: 0.0498252\ttest: 0.1288012\tbest: 0.1287874 (332)\ttotal: 588ms\tremaining: 292ms\n",
            "334:\tlearn: 0.0496723\ttest: 0.1289407\tbest: 0.1287874 (332)\ttotal: 590ms\tremaining: 290ms\n",
            "335:\tlearn: 0.0493454\ttest: 0.1290187\tbest: 0.1287874 (332)\ttotal: 591ms\tremaining: 289ms\n",
            "336:\tlearn: 0.0492257\ttest: 0.1291774\tbest: 0.1287874 (332)\ttotal: 593ms\tremaining: 287ms\n",
            "337:\tlearn: 0.0491416\ttest: 0.1293187\tbest: 0.1287874 (332)\ttotal: 594ms\tremaining: 285ms\n",
            "338:\tlearn: 0.0489751\ttest: 0.1292634\tbest: 0.1287874 (332)\ttotal: 596ms\tremaining: 283ms\n",
            "339:\tlearn: 0.0488764\ttest: 0.1293766\tbest: 0.1287874 (332)\ttotal: 597ms\tremaining: 281ms\n",
            "340:\tlearn: 0.0486505\ttest: 0.1292673\tbest: 0.1287874 (332)\ttotal: 599ms\tremaining: 279ms\n",
            "341:\tlearn: 0.0484443\ttest: 0.1289636\tbest: 0.1287874 (332)\ttotal: 601ms\tremaining: 277ms\n",
            "342:\tlearn: 0.0482816\ttest: 0.1287798\tbest: 0.1287798 (342)\ttotal: 602ms\tremaining: 276ms\n",
            "343:\tlearn: 0.0479519\ttest: 0.1289726\tbest: 0.1287798 (342)\ttotal: 604ms\tremaining: 274ms\n",
            "344:\tlearn: 0.0477123\ttest: 0.1289079\tbest: 0.1287798 (342)\ttotal: 605ms\tremaining: 272ms\n",
            "345:\tlearn: 0.0475617\ttest: 0.1286563\tbest: 0.1286563 (345)\ttotal: 607ms\tremaining: 270ms\n",
            "346:\tlearn: 0.0473349\ttest: 0.1283913\tbest: 0.1283913 (346)\ttotal: 608ms\tremaining: 268ms\n",
            "347:\tlearn: 0.0471333\ttest: 0.1284812\tbest: 0.1283913 (346)\ttotal: 610ms\tremaining: 266ms\n",
            "348:\tlearn: 0.0468876\ttest: 0.1285593\tbest: 0.1283913 (346)\ttotal: 611ms\tremaining: 265ms\n",
            "349:\tlearn: 0.0465328\ttest: 0.1280669\tbest: 0.1280669 (349)\ttotal: 613ms\tremaining: 263ms\n",
            "350:\tlearn: 0.0464296\ttest: 0.1280655\tbest: 0.1280655 (350)\ttotal: 615ms\tremaining: 261ms\n",
            "351:\tlearn: 0.0463148\ttest: 0.1280426\tbest: 0.1280426 (351)\ttotal: 616ms\tremaining: 259ms\n",
            "352:\tlearn: 0.0460825\ttest: 0.1279716\tbest: 0.1279716 (352)\ttotal: 618ms\tremaining: 257ms\n",
            "353:\tlearn: 0.0457948\ttest: 0.1277939\tbest: 0.1277939 (353)\ttotal: 621ms\tremaining: 256ms\n",
            "354:\tlearn: 0.0455107\ttest: 0.1276366\tbest: 0.1276366 (354)\ttotal: 624ms\tremaining: 255ms\n",
            "355:\tlearn: 0.0454102\ttest: 0.1277980\tbest: 0.1276366 (354)\ttotal: 626ms\tremaining: 253ms\n",
            "356:\tlearn: 0.0451978\ttest: 0.1279896\tbest: 0.1276366 (354)\ttotal: 628ms\tremaining: 251ms\n",
            "357:\tlearn: 0.0449786\ttest: 0.1278876\tbest: 0.1276366 (354)\ttotal: 629ms\tremaining: 250ms\n",
            "358:\tlearn: 0.0447122\ttest: 0.1277212\tbest: 0.1276366 (354)\ttotal: 631ms\tremaining: 248ms\n",
            "359:\tlearn: 0.0446206\ttest: 0.1277526\tbest: 0.1276366 (354)\ttotal: 633ms\tremaining: 246ms\n",
            "360:\tlearn: 0.0444352\ttest: 0.1276873\tbest: 0.1276366 (354)\ttotal: 634ms\tremaining: 244ms\n",
            "361:\tlearn: 0.0442031\ttest: 0.1275545\tbest: 0.1275545 (361)\ttotal: 636ms\tremaining: 242ms\n",
            "362:\tlearn: 0.0438606\ttest: 0.1272589\tbest: 0.1272589 (362)\ttotal: 637ms\tremaining: 240ms\n",
            "363:\tlearn: 0.0437788\ttest: 0.1273130\tbest: 0.1272589 (362)\ttotal: 639ms\tremaining: 239ms\n",
            "364:\tlearn: 0.0436110\ttest: 0.1272067\tbest: 0.1272067 (364)\ttotal: 640ms\tremaining: 237ms\n",
            "365:\tlearn: 0.0434209\ttest: 0.1273495\tbest: 0.1272067 (364)\ttotal: 642ms\tremaining: 235ms\n",
            "366:\tlearn: 0.0432265\ttest: 0.1271168\tbest: 0.1271168 (366)\ttotal: 643ms\tremaining: 233ms\n",
            "367:\tlearn: 0.0431226\ttest: 0.1270530\tbest: 0.1270530 (367)\ttotal: 645ms\tremaining: 231ms\n",
            "368:\tlearn: 0.0428761\ttest: 0.1272083\tbest: 0.1270530 (367)\ttotal: 647ms\tremaining: 230ms\n",
            "369:\tlearn: 0.0427503\ttest: 0.1271490\tbest: 0.1270530 (367)\ttotal: 648ms\tremaining: 228ms\n",
            "370:\tlearn: 0.0426099\ttest: 0.1272903\tbest: 0.1270530 (367)\ttotal: 650ms\tremaining: 226ms\n",
            "371:\tlearn: 0.0423892\ttest: 0.1272069\tbest: 0.1270530 (367)\ttotal: 651ms\tremaining: 224ms\n",
            "372:\tlearn: 0.0421815\ttest: 0.1268859\tbest: 0.1268859 (372)\ttotal: 653ms\tremaining: 222ms\n",
            "373:\tlearn: 0.0420099\ttest: 0.1268959\tbest: 0.1268859 (372)\ttotal: 654ms\tremaining: 220ms\n",
            "374:\tlearn: 0.0418993\ttest: 0.1269975\tbest: 0.1268859 (372)\ttotal: 656ms\tremaining: 219ms\n",
            "375:\tlearn: 0.0417770\ttest: 0.1270314\tbest: 0.1268859 (372)\ttotal: 657ms\tremaining: 217ms\n",
            "376:\tlearn: 0.0415429\ttest: 0.1268874\tbest: 0.1268859 (372)\ttotal: 659ms\tremaining: 215ms\n",
            "377:\tlearn: 0.0414609\ttest: 0.1270502\tbest: 0.1268859 (372)\ttotal: 661ms\tremaining: 213ms\n",
            "378:\tlearn: 0.0411509\ttest: 0.1267260\tbest: 0.1267260 (378)\ttotal: 662ms\tremaining: 211ms\n",
            "379:\tlearn: 0.0409122\ttest: 0.1264890\tbest: 0.1264890 (379)\ttotal: 664ms\tremaining: 210ms\n",
            "380:\tlearn: 0.0407068\ttest: 0.1262657\tbest: 0.1262657 (380)\ttotal: 666ms\tremaining: 208ms\n",
            "381:\tlearn: 0.0404317\ttest: 0.1261969\tbest: 0.1261969 (381)\ttotal: 667ms\tremaining: 206ms\n",
            "382:\tlearn: 0.0402978\ttest: 0.1260759\tbest: 0.1260759 (382)\ttotal: 669ms\tremaining: 204ms\n",
            "383:\tlearn: 0.0400811\ttest: 0.1260315\tbest: 0.1260315 (383)\ttotal: 671ms\tremaining: 203ms\n",
            "384:\tlearn: 0.0399709\ttest: 0.1259312\tbest: 0.1259312 (384)\ttotal: 672ms\tremaining: 201ms\n",
            "385:\tlearn: 0.0397996\ttest: 0.1258241\tbest: 0.1258241 (385)\ttotal: 674ms\tremaining: 199ms\n",
            "386:\tlearn: 0.0396283\ttest: 0.1258453\tbest: 0.1258241 (385)\ttotal: 675ms\tremaining: 197ms\n",
            "387:\tlearn: 0.0393625\ttest: 0.1260702\tbest: 0.1258241 (385)\ttotal: 677ms\tremaining: 195ms\n",
            "388:\tlearn: 0.0391013\ttest: 0.1256753\tbest: 0.1256753 (388)\ttotal: 678ms\tremaining: 194ms\n",
            "389:\tlearn: 0.0389930\ttest: 0.1258353\tbest: 0.1256753 (388)\ttotal: 680ms\tremaining: 192ms\n",
            "390:\tlearn: 0.0388530\ttest: 0.1257366\tbest: 0.1256753 (388)\ttotal: 682ms\tremaining: 190ms\n",
            "391:\tlearn: 0.0387765\ttest: 0.1257122\tbest: 0.1256753 (388)\ttotal: 683ms\tremaining: 188ms\n",
            "392:\tlearn: 0.0385697\ttest: 0.1255907\tbest: 0.1255907 (392)\ttotal: 685ms\tremaining: 186ms\n",
            "393:\tlearn: 0.0382899\ttest: 0.1254401\tbest: 0.1254401 (393)\ttotal: 686ms\tremaining: 185ms\n",
            "394:\tlearn: 0.0381346\ttest: 0.1253825\tbest: 0.1253825 (394)\ttotal: 688ms\tremaining: 183ms\n",
            "395:\tlearn: 0.0379220\ttest: 0.1252116\tbest: 0.1252116 (395)\ttotal: 689ms\tremaining: 181ms\n",
            "396:\tlearn: 0.0376468\ttest: 0.1249464\tbest: 0.1249464 (396)\ttotal: 691ms\tremaining: 179ms\n",
            "397:\tlearn: 0.0374706\ttest: 0.1247545\tbest: 0.1247545 (397)\ttotal: 693ms\tremaining: 178ms\n",
            "398:\tlearn: 0.0373548\ttest: 0.1247047\tbest: 0.1247047 (398)\ttotal: 694ms\tremaining: 176ms\n",
            "399:\tlearn: 0.0372529\ttest: 0.1248639\tbest: 0.1247047 (398)\ttotal: 696ms\tremaining: 174ms\n",
            "400:\tlearn: 0.0371794\ttest: 0.1250285\tbest: 0.1247047 (398)\ttotal: 698ms\tremaining: 172ms\n",
            "401:\tlearn: 0.0370904\ttest: 0.1249396\tbest: 0.1247047 (398)\ttotal: 699ms\tremaining: 170ms\n",
            "402:\tlearn: 0.0369283\ttest: 0.1251739\tbest: 0.1247047 (398)\ttotal: 701ms\tremaining: 169ms\n",
            "403:\tlearn: 0.0366974\ttest: 0.1252341\tbest: 0.1247047 (398)\ttotal: 703ms\tremaining: 167ms\n",
            "404:\tlearn: 0.0366108\ttest: 0.1253450\tbest: 0.1247047 (398)\ttotal: 704ms\tremaining: 165ms\n",
            "405:\tlearn: 0.0364296\ttest: 0.1250981\tbest: 0.1247047 (398)\ttotal: 706ms\tremaining: 163ms\n",
            "406:\tlearn: 0.0363490\ttest: 0.1250317\tbest: 0.1247047 (398)\ttotal: 707ms\tremaining: 162ms\n",
            "407:\tlearn: 0.0362212\ttest: 0.1249437\tbest: 0.1247047 (398)\ttotal: 709ms\tremaining: 160ms\n",
            "408:\tlearn: 0.0361372\ttest: 0.1249820\tbest: 0.1247047 (398)\ttotal: 710ms\tremaining: 158ms\n",
            "409:\tlearn: 0.0360371\ttest: 0.1249508\tbest: 0.1247047 (398)\ttotal: 712ms\tremaining: 156ms\n",
            "410:\tlearn: 0.0358735\ttest: 0.1247322\tbest: 0.1247047 (398)\ttotal: 713ms\tremaining: 154ms\n",
            "411:\tlearn: 0.0357502\ttest: 0.1247341\tbest: 0.1247047 (398)\ttotal: 715ms\tremaining: 153ms\n",
            "412:\tlearn: 0.0356886\ttest: 0.1246714\tbest: 0.1246714 (412)\ttotal: 716ms\tremaining: 151ms\n",
            "413:\tlearn: 0.0356370\ttest: 0.1248184\tbest: 0.1246714 (412)\ttotal: 718ms\tremaining: 149ms\n",
            "414:\tlearn: 0.0355681\ttest: 0.1247229\tbest: 0.1246714 (412)\ttotal: 720ms\tremaining: 147ms\n",
            "415:\tlearn: 0.0354088\ttest: 0.1244573\tbest: 0.1244573 (415)\ttotal: 721ms\tremaining: 146ms\n",
            "416:\tlearn: 0.0352845\ttest: 0.1244763\tbest: 0.1244573 (415)\ttotal: 723ms\tremaining: 144ms\n",
            "417:\tlearn: 0.0351149\ttest: 0.1244554\tbest: 0.1244554 (417)\ttotal: 724ms\tremaining: 142ms\n",
            "418:\tlearn: 0.0349791\ttest: 0.1244236\tbest: 0.1244236 (418)\ttotal: 726ms\tremaining: 140ms\n",
            "419:\tlearn: 0.0348972\ttest: 0.1245836\tbest: 0.1244236 (418)\ttotal: 728ms\tremaining: 139ms\n",
            "420:\tlearn: 0.0348267\ttest: 0.1245520\tbest: 0.1244236 (418)\ttotal: 729ms\tremaining: 137ms\n",
            "421:\tlearn: 0.0347065\ttest: 0.1243828\tbest: 0.1243828 (421)\ttotal: 731ms\tremaining: 135ms\n",
            "422:\tlearn: 0.0346357\ttest: 0.1243853\tbest: 0.1243828 (421)\ttotal: 732ms\tremaining: 133ms\n",
            "423:\tlearn: 0.0344514\ttest: 0.1244322\tbest: 0.1243828 (421)\ttotal: 734ms\tremaining: 132ms\n",
            "424:\tlearn: 0.0342824\ttest: 0.1241556\tbest: 0.1241556 (424)\ttotal: 735ms\tremaining: 130ms\n",
            "425:\tlearn: 0.0341799\ttest: 0.1241233\tbest: 0.1241233 (425)\ttotal: 737ms\tremaining: 128ms\n",
            "426:\tlearn: 0.0340601\ttest: 0.1241326\tbest: 0.1241233 (425)\ttotal: 738ms\tremaining: 126ms\n",
            "427:\tlearn: 0.0339320\ttest: 0.1241078\tbest: 0.1241078 (427)\ttotal: 740ms\tremaining: 124ms\n",
            "428:\tlearn: 0.0337671\ttest: 0.1241379\tbest: 0.1241078 (427)\ttotal: 742ms\tremaining: 123ms\n",
            "429:\tlearn: 0.0336177\ttest: 0.1239763\tbest: 0.1239763 (429)\ttotal: 743ms\tremaining: 121ms\n",
            "430:\tlearn: 0.0334125\ttest: 0.1240307\tbest: 0.1239763 (429)\ttotal: 745ms\tremaining: 119ms\n",
            "431:\tlearn: 0.0332816\ttest: 0.1242365\tbest: 0.1239763 (429)\ttotal: 746ms\tremaining: 117ms\n",
            "432:\tlearn: 0.0332128\ttest: 0.1243196\tbest: 0.1239763 (429)\ttotal: 748ms\tremaining: 116ms\n",
            "433:\tlearn: 0.0330423\ttest: 0.1241812\tbest: 0.1239763 (429)\ttotal: 749ms\tremaining: 114ms\n",
            "434:\tlearn: 0.0329542\ttest: 0.1241872\tbest: 0.1239763 (429)\ttotal: 751ms\tremaining: 112ms\n",
            "435:\tlearn: 0.0328868\ttest: 0.1242890\tbest: 0.1239763 (429)\ttotal: 752ms\tremaining: 110ms\n",
            "436:\tlearn: 0.0328266\ttest: 0.1242139\tbest: 0.1239763 (429)\ttotal: 754ms\tremaining: 109ms\n",
            "437:\tlearn: 0.0327325\ttest: 0.1241899\tbest: 0.1239763 (429)\ttotal: 756ms\tremaining: 107ms\n",
            "438:\tlearn: 0.0326650\ttest: 0.1241341\tbest: 0.1239763 (429)\ttotal: 757ms\tremaining: 105ms\n",
            "439:\tlearn: 0.0324813\ttest: 0.1240858\tbest: 0.1239763 (429)\ttotal: 759ms\tremaining: 103ms\n",
            "440:\tlearn: 0.0323617\ttest: 0.1240552\tbest: 0.1239763 (429)\ttotal: 760ms\tremaining: 102ms\n",
            "441:\tlearn: 0.0323225\ttest: 0.1241473\tbest: 0.1239763 (429)\ttotal: 762ms\tremaining: 100ms\n",
            "442:\tlearn: 0.0321831\ttest: 0.1241659\tbest: 0.1239763 (429)\ttotal: 763ms\tremaining: 98.2ms\n",
            "443:\tlearn: 0.0319667\ttest: 0.1239374\tbest: 0.1239374 (443)\ttotal: 765ms\tremaining: 96.5ms\n",
            "444:\tlearn: 0.0318172\ttest: 0.1241898\tbest: 0.1239374 (443)\ttotal: 766ms\tremaining: 94.7ms\n",
            "445:\tlearn: 0.0316113\ttest: 0.1239714\tbest: 0.1239374 (443)\ttotal: 768ms\tremaining: 93ms\n",
            "446:\tlearn: 0.0315286\ttest: 0.1240390\tbest: 0.1239374 (443)\ttotal: 770ms\tremaining: 91.3ms\n",
            "447:\tlearn: 0.0313757\ttest: 0.1241810\tbest: 0.1239374 (443)\ttotal: 771ms\tremaining: 89.5ms\n",
            "448:\tlearn: 0.0312614\ttest: 0.1242324\tbest: 0.1239374 (443)\ttotal: 773ms\tremaining: 87.8ms\n",
            "449:\tlearn: 0.0311240\ttest: 0.1240532\tbest: 0.1239374 (443)\ttotal: 774ms\tremaining: 86ms\n",
            "450:\tlearn: 0.0310088\ttest: 0.1240385\tbest: 0.1239374 (443)\ttotal: 776ms\tremaining: 84.3ms\n",
            "451:\tlearn: 0.0309338\ttest: 0.1241978\tbest: 0.1239374 (443)\ttotal: 777ms\tremaining: 82.6ms\n",
            "452:\tlearn: 0.0308867\ttest: 0.1241618\tbest: 0.1239374 (443)\ttotal: 779ms\tremaining: 80.8ms\n",
            "453:\tlearn: 0.0307833\ttest: 0.1240889\tbest: 0.1239374 (443)\ttotal: 780ms\tremaining: 79.1ms\n",
            "454:\tlearn: 0.0306498\ttest: 0.1241607\tbest: 0.1239374 (443)\ttotal: 782ms\tremaining: 77.3ms\n",
            "455:\tlearn: 0.0305352\ttest: 0.1239490\tbest: 0.1239374 (443)\ttotal: 784ms\tremaining: 75.6ms\n",
            "456:\tlearn: 0.0303932\ttest: 0.1238383\tbest: 0.1238383 (456)\ttotal: 785ms\tremaining: 73.9ms\n",
            "457:\tlearn: 0.0302293\ttest: 0.1237901\tbest: 0.1237901 (457)\ttotal: 787ms\tremaining: 72.1ms\n",
            "458:\tlearn: 0.0301611\ttest: 0.1237018\tbest: 0.1237018 (458)\ttotal: 788ms\tremaining: 70.4ms\n",
            "459:\tlearn: 0.0300727\ttest: 0.1238699\tbest: 0.1237018 (458)\ttotal: 790ms\tremaining: 68.7ms\n",
            "460:\tlearn: 0.0300292\ttest: 0.1238362\tbest: 0.1237018 (458)\ttotal: 792ms\tremaining: 67ms\n",
            "461:\tlearn: 0.0299090\ttest: 0.1240395\tbest: 0.1237018 (458)\ttotal: 793ms\tremaining: 65.3ms\n",
            "462:\tlearn: 0.0297805\ttest: 0.1239717\tbest: 0.1237018 (458)\ttotal: 795ms\tremaining: 63.5ms\n",
            "463:\tlearn: 0.0296696\ttest: 0.1240595\tbest: 0.1237018 (458)\ttotal: 796ms\tremaining: 61.8ms\n",
            "464:\tlearn: 0.0294730\ttest: 0.1238636\tbest: 0.1237018 (458)\ttotal: 798ms\tremaining: 60.1ms\n",
            "465:\tlearn: 0.0293135\ttest: 0.1235573\tbest: 0.1235573 (465)\ttotal: 799ms\tremaining: 58.3ms\n",
            "466:\tlearn: 0.0292295\ttest: 0.1235563\tbest: 0.1235563 (466)\ttotal: 801ms\tremaining: 56.6ms\n",
            "467:\tlearn: 0.0290618\ttest: 0.1233698\tbest: 0.1233698 (467)\ttotal: 803ms\tremaining: 54.9ms\n",
            "468:\tlearn: 0.0289348\ttest: 0.1234017\tbest: 0.1233698 (467)\ttotal: 804ms\tremaining: 53.2ms\n",
            "469:\tlearn: 0.0287586\ttest: 0.1232026\tbest: 0.1232026 (469)\ttotal: 806ms\tremaining: 51.4ms\n",
            "470:\tlearn: 0.0286207\ttest: 0.1231267\tbest: 0.1231267 (470)\ttotal: 807ms\tremaining: 49.7ms\n",
            "471:\tlearn: 0.0285054\ttest: 0.1229652\tbest: 0.1229652 (471)\ttotal: 813ms\tremaining: 48.2ms\n",
            "472:\tlearn: 0.0284392\ttest: 0.1231186\tbest: 0.1229652 (471)\ttotal: 815ms\tremaining: 46.5ms\n",
            "473:\tlearn: 0.0283976\ttest: 0.1231582\tbest: 0.1229652 (471)\ttotal: 816ms\tremaining: 44.8ms\n",
            "474:\tlearn: 0.0283537\ttest: 0.1232310\tbest: 0.1229652 (471)\ttotal: 818ms\tremaining: 43ms\n",
            "475:\tlearn: 0.0281988\ttest: 0.1233373\tbest: 0.1229652 (471)\ttotal: 819ms\tremaining: 41.3ms\n",
            "476:\tlearn: 0.0281366\ttest: 0.1234885\tbest: 0.1229652 (471)\ttotal: 821ms\tremaining: 39.6ms\n",
            "477:\tlearn: 0.0280554\ttest: 0.1233290\tbest: 0.1229652 (471)\ttotal: 822ms\tremaining: 37.8ms\n",
            "478:\tlearn: 0.0279510\ttest: 0.1232532\tbest: 0.1229652 (471)\ttotal: 824ms\tremaining: 36.1ms\n",
            "479:\tlearn: 0.0278305\ttest: 0.1232074\tbest: 0.1229652 (471)\ttotal: 825ms\tremaining: 34.4ms\n",
            "480:\tlearn: 0.0277116\ttest: 0.1230326\tbest: 0.1229652 (471)\ttotal: 827ms\tremaining: 32.7ms\n",
            "481:\tlearn: 0.0276012\ttest: 0.1230554\tbest: 0.1229652 (471)\ttotal: 829ms\tremaining: 30.9ms\n",
            "482:\tlearn: 0.0274988\ttest: 0.1231191\tbest: 0.1229652 (471)\ttotal: 830ms\tremaining: 29.2ms\n",
            "483:\tlearn: 0.0274286\ttest: 0.1230904\tbest: 0.1229652 (471)\ttotal: 832ms\tremaining: 27.5ms\n",
            "484:\tlearn: 0.0273478\ttest: 0.1229701\tbest: 0.1229652 (471)\ttotal: 833ms\tremaining: 25.8ms\n",
            "485:\tlearn: 0.0273091\ttest: 0.1230073\tbest: 0.1229652 (471)\ttotal: 835ms\tremaining: 24ms\n",
            "486:\tlearn: 0.0272123\ttest: 0.1232338\tbest: 0.1229652 (471)\ttotal: 836ms\tremaining: 22.3ms\n",
            "487:\tlearn: 0.0271115\ttest: 0.1234288\tbest: 0.1229652 (471)\ttotal: 838ms\tremaining: 20.6ms\n",
            "488:\tlearn: 0.0270452\ttest: 0.1234158\tbest: 0.1229652 (471)\ttotal: 839ms\tremaining: 18.9ms\n",
            "489:\tlearn: 0.0268877\ttest: 0.1232234\tbest: 0.1229652 (471)\ttotal: 841ms\tremaining: 17.2ms\n",
            "490:\tlearn: 0.0268340\ttest: 0.1231544\tbest: 0.1229652 (471)\ttotal: 843ms\tremaining: 15.4ms\n",
            "491:\tlearn: 0.0267180\ttest: 0.1229079\tbest: 0.1229079 (491)\ttotal: 844ms\tremaining: 13.7ms\n",
            "492:\tlearn: 0.0266031\ttest: 0.1227663\tbest: 0.1227663 (492)\ttotal: 846ms\tremaining: 12ms\n",
            "493:\tlearn: 0.0264951\ttest: 0.1227553\tbest: 0.1227553 (493)\ttotal: 847ms\tremaining: 10.3ms\n",
            "494:\tlearn: 0.0264522\ttest: 0.1229033\tbest: 0.1227553 (493)\ttotal: 849ms\tremaining: 8.57ms\n",
            "495:\tlearn: 0.0264151\ttest: 0.1230217\tbest: 0.1227553 (493)\ttotal: 851ms\tremaining: 6.86ms\n",
            "496:\tlearn: 0.0262645\ttest: 0.1227367\tbest: 0.1227367 (496)\ttotal: 852ms\tremaining: 5.14ms\n",
            "497:\tlearn: 0.0261178\ttest: 0.1227417\tbest: 0.1227367 (496)\ttotal: 854ms\tremaining: 3.43ms\n",
            "498:\tlearn: 0.0260605\ttest: 0.1228186\tbest: 0.1227367 (496)\ttotal: 855ms\tremaining: 1.71ms\n",
            "499:\tlearn: 0.0259508\ttest: 0.1227544\tbest: 0.1227367 (496)\ttotal: 857ms\tremaining: 0us\n",
            "\n",
            "bestTest = 0.1227366941\n",
            "bestIteration = 496\n",
            "\n",
            "Shrink model to first 497 iterations.\n"
          ],
          "name": "stdout"
        }
      ]
    },
    {
      "cell_type": "code",
      "metadata": {
        "id": "TUwDhBFnzkfw",
        "colab_type": "code",
        "colab": {}
      },
      "source": [
        "predict_proba = basemodel.predict_proba(X_train)"
      ],
      "execution_count": 0,
      "outputs": []
    },
    {
      "cell_type": "code",
      "metadata": {
        "id": "6HNcYo1Azun9",
        "colab_type": "code",
        "colab": {}
      },
      "source": [
        "for i in range(len(predict_proba)):\n",
        "  predict_proba[i] = list(predict_proba[i]).index(max(predict_proba[i]))"
      ],
      "execution_count": 0,
      "outputs": []
    },
    {
      "cell_type": "code",
      "metadata": {
        "id": "OeKwuqSqGKKl",
        "colab_type": "code",
        "colab": {
          "base_uri": "https://localhost:8080/",
          "height": 34
        },
        "outputId": "2f81ba2f-3687-475f-9839-35f7f6bd6587"
      },
      "source": [
        "list(predict_proba[0]).index(max(predict_proba[0]))"
      ],
      "execution_count": 56,
      "outputs": [
        {
          "output_type": "execute_result",
          "data": {
            "text/plain": [
              "0"
            ]
          },
          "metadata": {
            "tags": []
          },
          "execution_count": 56
        }
      ]
    },
    {
      "cell_type": "code",
      "metadata": {
        "id": "O0gbsiK23dSI",
        "colab_type": "code",
        "colab": {}
      },
      "source": [
        "predict_proba = [predict_proba[i][0] for i in range(len(predict_proba))]"
      ],
      "execution_count": 0,
      "outputs": []
    },
    {
      "cell_type": "code",
      "metadata": {
        "id": "HYw3_oMLHECP",
        "colab_type": "code",
        "colab": {}
      },
      "source": [
        "y_pred = [int(i) for i in range(len(y_pred))]\n",
        "\n",
        "rmse = (sum((y_pred[:len(predict_proba)] - np.array(predict_proba) ** 2)/len(predict_proba)))** 0.5"
      ],
      "execution_count": 0,
      "outputs": []
    },
    {
      "cell_type": "code",
      "metadata": {
        "id": "OOJt6jQeIZxH",
        "colab_type": "code",
        "colab": {
          "base_uri": "https://localhost:8080/",
          "height": 34
        },
        "outputId": "08a40ee8-a069-47a3-9c8b-5afb6555f767"
      },
      "source": [
        "rmse"
      ],
      "execution_count": 60,
      "outputs": [
        {
          "output_type": "execute_result",
          "data": {
            "text/plain": [
              "19.226168431610255"
            ]
          },
          "metadata": {
            "tags": []
          },
          "execution_count": 60
        }
      ]
    },
    {
      "cell_type": "markdown",
      "metadata": {
        "id": "Xw2JNCsVw1TL",
        "colab_type": "text"
      },
      "source": [
        "### Предсказание"
      ]
    },
    {
      "cell_type": "code",
      "metadata": {
        "id": "lw3rxV2drMyZ",
        "colab_type": "code",
        "colab": {
          "base_uri": "https://localhost:8080/",
          "height": 258
        },
        "outputId": "7deabe91-c975-48d2-bb45-3c81c7f72295"
      },
      "source": [
        "test_data.head()"
      ],
      "execution_count": 62,
      "outputs": [
        {
          "output_type": "execute_result",
          "data": {
            "text/html": [
              "<div>\n",
              "<style scoped>\n",
              "    .dataframe tbody tr th:only-of-type {\n",
              "        vertical-align: middle;\n",
              "    }\n",
              "\n",
              "    .dataframe tbody tr th {\n",
              "        vertical-align: top;\n",
              "    }\n",
              "\n",
              "    .dataframe thead th {\n",
              "        text-align: right;\n",
              "    }\n",
              "</style>\n",
              "<table border=\"1\" class=\"dataframe\">\n",
              "  <thead>\n",
              "    <tr style=\"text-align: right;\">\n",
              "      <th></th>\n",
              "      <th>Gender</th>\n",
              "      <th>Wave id</th>\n",
              "      <th>Level</th>\n",
              "      <th>day_00</th>\n",
              "      <th>day_01</th>\n",
              "      <th>day_02</th>\n",
              "      <th>day_03</th>\n",
              "      <th>day_04</th>\n",
              "      <th>day_05</th>\n",
              "      <th>day_06</th>\n",
              "      <th>day_07</th>\n",
              "      <th>day_08</th>\n",
              "      <th>day_09</th>\n",
              "      <th>day_10</th>\n",
              "      <th>day_11</th>\n",
              "      <th>day_12</th>\n",
              "      <th>day_13</th>\n",
              "      <th>evalexpr</th>\n",
              "      <th>match_n_match</th>\n",
              "      <th>bsq</th>\n",
              "      <th>rush_00</th>\n",
              "      <th>rush_01</th>\n",
              "      <th>rush_02</th>\n",
              "      <th>exam_00</th>\n",
              "      <th>exam_01</th>\n",
              "      <th>exam_02</th>\n",
              "      <th>exam_final</th>\n",
              "      <th>Memory entrance game</th>\n",
              "      <th>Logic entrance game</th>\n",
              "    </tr>\n",
              "  </thead>\n",
              "  <tbody>\n",
              "    <tr>\n",
              "      <th>0</th>\n",
              "      <td>male</td>\n",
              "      <td>3</td>\n",
              "      <td>8.834416</td>\n",
              "      <td>10</td>\n",
              "      <td>NaN</td>\n",
              "      <td>80.0</td>\n",
              "      <td>40.0</td>\n",
              "      <td>30.0</td>\n",
              "      <td>5.0</td>\n",
              "      <td>70.0</td>\n",
              "      <td>10.0</td>\n",
              "      <td>40.0</td>\n",
              "      <td>0.0</td>\n",
              "      <td>85.0</td>\n",
              "      <td>21.0</td>\n",
              "      <td>0.0</td>\n",
              "      <td>20.0</td>\n",
              "      <td>100.0</td>\n",
              "      <td>0.0</td>\n",
              "      <td>100.0</td>\n",
              "      <td>120.0</td>\n",
              "      <td>0.0</td>\n",
              "      <td>0.0</td>\n",
              "      <td>75.0</td>\n",
              "      <td>43.0</td>\n",
              "      <td>64.0</td>\n",
              "      <td>45.0</td>\n",
              "      <td>10</td>\n",
              "      <td>12</td>\n",
              "    </tr>\n",
              "    <tr>\n",
              "      <th>1</th>\n",
              "      <td>male</td>\n",
              "      <td>2</td>\n",
              "      <td>2.172414</td>\n",
              "      <td>7</td>\n",
              "      <td>0.0</td>\n",
              "      <td>0.0</td>\n",
              "      <td>50.0</td>\n",
              "      <td>0.0</td>\n",
              "      <td>5.0</td>\n",
              "      <td>20.0</td>\n",
              "      <td>0.0</td>\n",
              "      <td>0.0</td>\n",
              "      <td>0.0</td>\n",
              "      <td>25.0</td>\n",
              "      <td>0.0</td>\n",
              "      <td>0.0</td>\n",
              "      <td>0.0</td>\n",
              "      <td>0.0</td>\n",
              "      <td>0.0</td>\n",
              "      <td>0.0</td>\n",
              "      <td>0.0</td>\n",
              "      <td>0.0</td>\n",
              "      <td>NaN</td>\n",
              "      <td>80.0</td>\n",
              "      <td>22.0</td>\n",
              "      <td>33.0</td>\n",
              "      <td>36.0</td>\n",
              "      <td>7</td>\n",
              "      <td>6</td>\n",
              "    </tr>\n",
              "    <tr>\n",
              "      <th>2</th>\n",
              "      <td>male</td>\n",
              "      <td>3</td>\n",
              "      <td>4.310160</td>\n",
              "      <td>5</td>\n",
              "      <td>0.0</td>\n",
              "      <td>0.0</td>\n",
              "      <td>5.0</td>\n",
              "      <td>10.0</td>\n",
              "      <td>-42.0</td>\n",
              "      <td>35.0</td>\n",
              "      <td>20.0</td>\n",
              "      <td>5.0</td>\n",
              "      <td>9.0</td>\n",
              "      <td>35.0</td>\n",
              "      <td>21.0</td>\n",
              "      <td>10.0</td>\n",
              "      <td>10.0</td>\n",
              "      <td>0.0</td>\n",
              "      <td>60.0</td>\n",
              "      <td>0.0</td>\n",
              "      <td>0.0</td>\n",
              "      <td>0.0</td>\n",
              "      <td>75.0</td>\n",
              "      <td>0.0</td>\n",
              "      <td>6.0</td>\n",
              "      <td>33.0</td>\n",
              "      <td>9.0</td>\n",
              "      <td>7</td>\n",
              "      <td>10</td>\n",
              "    </tr>\n",
              "    <tr>\n",
              "      <th>3</th>\n",
              "      <td>female</td>\n",
              "      <td>2</td>\n",
              "      <td>6.295833</td>\n",
              "      <td>20</td>\n",
              "      <td>0.0</td>\n",
              "      <td>30.0</td>\n",
              "      <td>0.0</td>\n",
              "      <td>10.0</td>\n",
              "      <td>0.0</td>\n",
              "      <td>20.0</td>\n",
              "      <td>0.0</td>\n",
              "      <td>0.0</td>\n",
              "      <td>NaN</td>\n",
              "      <td>10.0</td>\n",
              "      <td>0.0</td>\n",
              "      <td>0.0</td>\n",
              "      <td>0.0</td>\n",
              "      <td>0.0</td>\n",
              "      <td>0.0</td>\n",
              "      <td>0.0</td>\n",
              "      <td>100.0</td>\n",
              "      <td>0.0</td>\n",
              "      <td>0.0</td>\n",
              "      <td>15.0</td>\n",
              "      <td>1.0</td>\n",
              "      <td>16.0</td>\n",
              "      <td>22.0</td>\n",
              "      <td>9</td>\n",
              "      <td>8</td>\n",
              "    </tr>\n",
              "    <tr>\n",
              "      <th>4</th>\n",
              "      <td>male</td>\n",
              "      <td>1</td>\n",
              "      <td>7.110294</td>\n",
              "      <td>100</td>\n",
              "      <td>100.0</td>\n",
              "      <td>80.0</td>\n",
              "      <td>30.0</td>\n",
              "      <td>0.0</td>\n",
              "      <td>2.0</td>\n",
              "      <td>0.0</td>\n",
              "      <td>40.0</td>\n",
              "      <td>10.0</td>\n",
              "      <td>6.0</td>\n",
              "      <td>0.0</td>\n",
              "      <td>-42.0</td>\n",
              "      <td>0.0</td>\n",
              "      <td>15.0</td>\n",
              "      <td>0.0</td>\n",
              "      <td>60.0</td>\n",
              "      <td>100.0</td>\n",
              "      <td>0.0</td>\n",
              "      <td>0.0</td>\n",
              "      <td>0.0</td>\n",
              "      <td>65.0</td>\n",
              "      <td>65.0</td>\n",
              "      <td>54.0</td>\n",
              "      <td>36.0</td>\n",
              "      <td>9</td>\n",
              "      <td>15</td>\n",
              "    </tr>\n",
              "  </tbody>\n",
              "</table>\n",
              "</div>"
            ],
            "text/plain": [
              "   Gender  Wave id  ...  Memory entrance game  Logic entrance game\n",
              "0    male        3  ...                    10                   12\n",
              "1    male        2  ...                     7                    6\n",
              "2    male        3  ...                     7                   10\n",
              "3  female        2  ...                     9                    8\n",
              "4    male        1  ...                     9                   15\n",
              "\n",
              "[5 rows x 29 columns]"
            ]
          },
          "metadata": {
            "tags": []
          },
          "execution_count": 62
        }
      ]
    },
    {
      "cell_type": "code",
      "metadata": {
        "id": "Eiw6mmpvxWFw",
        "colab_type": "code",
        "colab": {}
      },
      "source": [
        "id_student = test_data['id']\n",
        "\n",
        "for i in ['id', 'Birth date', 'Native city', 'Heard about school from', 'Life status', 'Contract termination date']:\n",
        "  del test_data[i]"
      ],
      "execution_count": 0,
      "outputs": []
    },
    {
      "cell_type": "code",
      "metadata": {
        "id": "nhBu5UJFxpC0",
        "colab_type": "code",
        "colab": {}
      },
      "source": [
        "test_data['Gender'] = [gender[test_data['Gender'][i]] for i in np.arange(test_data.shape[0])]"
      ],
      "execution_count": 0,
      "outputs": []
    },
    {
      "cell_type": "code",
      "metadata": {
        "id": "YvehYvCLyKW0",
        "colab_type": "code",
        "colab": {}
      },
      "source": [
        "for i in np.arange(test_data.shape[1]):\n",
        "  test_data.iloc[:, i].fillna(0, inplace=True)"
      ],
      "execution_count": 0,
      "outputs": []
    },
    {
      "cell_type": "code",
      "metadata": {
        "id": "K3FaNs_lyXNq",
        "colab_type": "code",
        "colab": {
          "base_uri": "https://localhost:8080/",
          "height": 258
        },
        "outputId": "7ee10849-efb1-4555-dbbd-b39c3cc0a6d6"
      },
      "source": [
        "test_data.head()"
      ],
      "execution_count": 65,
      "outputs": [
        {
          "output_type": "execute_result",
          "data": {
            "text/html": [
              "<div>\n",
              "<style scoped>\n",
              "    .dataframe tbody tr th:only-of-type {\n",
              "        vertical-align: middle;\n",
              "    }\n",
              "\n",
              "    .dataframe tbody tr th {\n",
              "        vertical-align: top;\n",
              "    }\n",
              "\n",
              "    .dataframe thead th {\n",
              "        text-align: right;\n",
              "    }\n",
              "</style>\n",
              "<table border=\"1\" class=\"dataframe\">\n",
              "  <thead>\n",
              "    <tr style=\"text-align: right;\">\n",
              "      <th></th>\n",
              "      <th>Gender</th>\n",
              "      <th>Wave id</th>\n",
              "      <th>Level</th>\n",
              "      <th>day_00</th>\n",
              "      <th>day_01</th>\n",
              "      <th>day_02</th>\n",
              "      <th>day_03</th>\n",
              "      <th>day_04</th>\n",
              "      <th>day_05</th>\n",
              "      <th>day_06</th>\n",
              "      <th>day_07</th>\n",
              "      <th>day_08</th>\n",
              "      <th>day_09</th>\n",
              "      <th>day_10</th>\n",
              "      <th>day_11</th>\n",
              "      <th>day_12</th>\n",
              "      <th>day_13</th>\n",
              "      <th>evalexpr</th>\n",
              "      <th>match_n_match</th>\n",
              "      <th>bsq</th>\n",
              "      <th>rush_00</th>\n",
              "      <th>rush_01</th>\n",
              "      <th>rush_02</th>\n",
              "      <th>exam_00</th>\n",
              "      <th>exam_01</th>\n",
              "      <th>exam_02</th>\n",
              "      <th>exam_final</th>\n",
              "      <th>Memory entrance game</th>\n",
              "      <th>Logic entrance game</th>\n",
              "    </tr>\n",
              "  </thead>\n",
              "  <tbody>\n",
              "    <tr>\n",
              "      <th>0</th>\n",
              "      <td>1</td>\n",
              "      <td>3</td>\n",
              "      <td>8.834416</td>\n",
              "      <td>10</td>\n",
              "      <td>0.0</td>\n",
              "      <td>80.0</td>\n",
              "      <td>40.0</td>\n",
              "      <td>30.0</td>\n",
              "      <td>5.0</td>\n",
              "      <td>70.0</td>\n",
              "      <td>10.0</td>\n",
              "      <td>40.0</td>\n",
              "      <td>0.0</td>\n",
              "      <td>85.0</td>\n",
              "      <td>21.0</td>\n",
              "      <td>0.0</td>\n",
              "      <td>20.0</td>\n",
              "      <td>100.0</td>\n",
              "      <td>0.0</td>\n",
              "      <td>100.0</td>\n",
              "      <td>120.0</td>\n",
              "      <td>0.0</td>\n",
              "      <td>0.0</td>\n",
              "      <td>75.0</td>\n",
              "      <td>43.0</td>\n",
              "      <td>64.0</td>\n",
              "      <td>45.0</td>\n",
              "      <td>10</td>\n",
              "      <td>12</td>\n",
              "    </tr>\n",
              "    <tr>\n",
              "      <th>1</th>\n",
              "      <td>1</td>\n",
              "      <td>2</td>\n",
              "      <td>2.172414</td>\n",
              "      <td>7</td>\n",
              "      <td>0.0</td>\n",
              "      <td>0.0</td>\n",
              "      <td>50.0</td>\n",
              "      <td>0.0</td>\n",
              "      <td>5.0</td>\n",
              "      <td>20.0</td>\n",
              "      <td>0.0</td>\n",
              "      <td>0.0</td>\n",
              "      <td>0.0</td>\n",
              "      <td>25.0</td>\n",
              "      <td>0.0</td>\n",
              "      <td>0.0</td>\n",
              "      <td>0.0</td>\n",
              "      <td>0.0</td>\n",
              "      <td>0.0</td>\n",
              "      <td>0.0</td>\n",
              "      <td>0.0</td>\n",
              "      <td>0.0</td>\n",
              "      <td>0.0</td>\n",
              "      <td>80.0</td>\n",
              "      <td>22.0</td>\n",
              "      <td>33.0</td>\n",
              "      <td>36.0</td>\n",
              "      <td>7</td>\n",
              "      <td>6</td>\n",
              "    </tr>\n",
              "    <tr>\n",
              "      <th>2</th>\n",
              "      <td>1</td>\n",
              "      <td>3</td>\n",
              "      <td>4.310160</td>\n",
              "      <td>5</td>\n",
              "      <td>0.0</td>\n",
              "      <td>0.0</td>\n",
              "      <td>5.0</td>\n",
              "      <td>10.0</td>\n",
              "      <td>-42.0</td>\n",
              "      <td>35.0</td>\n",
              "      <td>20.0</td>\n",
              "      <td>5.0</td>\n",
              "      <td>9.0</td>\n",
              "      <td>35.0</td>\n",
              "      <td>21.0</td>\n",
              "      <td>10.0</td>\n",
              "      <td>10.0</td>\n",
              "      <td>0.0</td>\n",
              "      <td>60.0</td>\n",
              "      <td>0.0</td>\n",
              "      <td>0.0</td>\n",
              "      <td>0.0</td>\n",
              "      <td>75.0</td>\n",
              "      <td>0.0</td>\n",
              "      <td>6.0</td>\n",
              "      <td>33.0</td>\n",
              "      <td>9.0</td>\n",
              "      <td>7</td>\n",
              "      <td>10</td>\n",
              "    </tr>\n",
              "    <tr>\n",
              "      <th>3</th>\n",
              "      <td>0</td>\n",
              "      <td>2</td>\n",
              "      <td>6.295833</td>\n",
              "      <td>20</td>\n",
              "      <td>0.0</td>\n",
              "      <td>30.0</td>\n",
              "      <td>0.0</td>\n",
              "      <td>10.0</td>\n",
              "      <td>0.0</td>\n",
              "      <td>20.0</td>\n",
              "      <td>0.0</td>\n",
              "      <td>0.0</td>\n",
              "      <td>0.0</td>\n",
              "      <td>10.0</td>\n",
              "      <td>0.0</td>\n",
              "      <td>0.0</td>\n",
              "      <td>0.0</td>\n",
              "      <td>0.0</td>\n",
              "      <td>0.0</td>\n",
              "      <td>0.0</td>\n",
              "      <td>100.0</td>\n",
              "      <td>0.0</td>\n",
              "      <td>0.0</td>\n",
              "      <td>15.0</td>\n",
              "      <td>1.0</td>\n",
              "      <td>16.0</td>\n",
              "      <td>22.0</td>\n",
              "      <td>9</td>\n",
              "      <td>8</td>\n",
              "    </tr>\n",
              "    <tr>\n",
              "      <th>4</th>\n",
              "      <td>1</td>\n",
              "      <td>1</td>\n",
              "      <td>7.110294</td>\n",
              "      <td>100</td>\n",
              "      <td>100.0</td>\n",
              "      <td>80.0</td>\n",
              "      <td>30.0</td>\n",
              "      <td>0.0</td>\n",
              "      <td>2.0</td>\n",
              "      <td>0.0</td>\n",
              "      <td>40.0</td>\n",
              "      <td>10.0</td>\n",
              "      <td>6.0</td>\n",
              "      <td>0.0</td>\n",
              "      <td>-42.0</td>\n",
              "      <td>0.0</td>\n",
              "      <td>15.0</td>\n",
              "      <td>0.0</td>\n",
              "      <td>60.0</td>\n",
              "      <td>100.0</td>\n",
              "      <td>0.0</td>\n",
              "      <td>0.0</td>\n",
              "      <td>0.0</td>\n",
              "      <td>65.0</td>\n",
              "      <td>65.0</td>\n",
              "      <td>54.0</td>\n",
              "      <td>36.0</td>\n",
              "      <td>9</td>\n",
              "      <td>15</td>\n",
              "    </tr>\n",
              "  </tbody>\n",
              "</table>\n",
              "</div>"
            ],
            "text/plain": [
              "   Gender  Wave id  ...  Memory entrance game  Logic entrance game\n",
              "0       1        3  ...                    10                   12\n",
              "1       1        2  ...                     7                    6\n",
              "2       1        3  ...                     7                   10\n",
              "3       0        2  ...                     9                    8\n",
              "4       1        1  ...                     9                   15\n",
              "\n",
              "[5 rows x 29 columns]"
            ]
          },
          "metadata": {
            "tags": []
          },
          "execution_count": 65
        }
      ]
    },
    {
      "cell_type": "code",
      "metadata": {
        "id": "sCKzbcywybc9",
        "colab_type": "code",
        "colab": {}
      },
      "source": [
        "pred = basemodel.predict(test_data)"
      ],
      "execution_count": 0,
      "outputs": []
    },
    {
      "cell_type": "code",
      "metadata": {
        "id": "_v97fid_zS1a",
        "colab_type": "code",
        "colab": {}
      },
      "source": [
        "ans = pd.DataFrame()\n",
        "\n",
        "ans['id'] = id_student\n",
        "ans['contract_status'] = pred"
      ],
      "execution_count": 0,
      "outputs": []
    },
    {
      "cell_type": "code",
      "metadata": {
        "id": "gxbkxfkXJJz0",
        "colab_type": "code",
        "colab": {
          "base_uri": "https://localhost:8080/",
          "height": 204
        },
        "outputId": "263fca7f-2382-4205-9c21-7d895cb3f221"
      },
      "source": [
        "ans.head()"
      ],
      "execution_count": 85,
      "outputs": [
        {
          "output_type": "execute_result",
          "data": {
            "text/html": [
              "<div>\n",
              "<style scoped>\n",
              "    .dataframe tbody tr th:only-of-type {\n",
              "        vertical-align: middle;\n",
              "    }\n",
              "\n",
              "    .dataframe tbody tr th {\n",
              "        vertical-align: top;\n",
              "    }\n",
              "\n",
              "    .dataframe thead th {\n",
              "        text-align: right;\n",
              "    }\n",
              "</style>\n",
              "<table border=\"1\" class=\"dataframe\">\n",
              "  <thead>\n",
              "    <tr style=\"text-align: right;\">\n",
              "      <th></th>\n",
              "      <th>id</th>\n",
              "      <th>contract_status</th>\n",
              "    </tr>\n",
              "  </thead>\n",
              "  <tbody>\n",
              "    <tr>\n",
              "      <th>0</th>\n",
              "      <td>685512434</td>\n",
              "      <td>1</td>\n",
              "    </tr>\n",
              "    <tr>\n",
              "      <th>1</th>\n",
              "      <td>157712083</td>\n",
              "      <td>1</td>\n",
              "    </tr>\n",
              "    <tr>\n",
              "      <th>2</th>\n",
              "      <td>672158583</td>\n",
              "      <td>1</td>\n",
              "    </tr>\n",
              "    <tr>\n",
              "      <th>3</th>\n",
              "      <td>1205321261</td>\n",
              "      <td>1</td>\n",
              "    </tr>\n",
              "    <tr>\n",
              "      <th>4</th>\n",
              "      <td>621191476</td>\n",
              "      <td>1</td>\n",
              "    </tr>\n",
              "  </tbody>\n",
              "</table>\n",
              "</div>"
            ],
            "text/plain": [
              "           id  contract_status\n",
              "0   685512434                1\n",
              "1   157712083                1\n",
              "2   672158583                1\n",
              "3  1205321261                1\n",
              "4   621191476                1"
            ]
          },
          "metadata": {
            "tags": []
          },
          "execution_count": 85
        }
      ]
    },
    {
      "cell_type": "code",
      "metadata": {
        "id": "53v8jkuPKUZo",
        "colab_type": "code",
        "colab": {
          "base_uri": "https://localhost:8080/",
          "height": 204
        },
        "outputId": "27faefd6-841f-4b89-cc02-6fc3a1135a6b"
      },
      "source": [
        "sample_submission.head()"
      ],
      "execution_count": 82,
      "outputs": [
        {
          "output_type": "execute_result",
          "data": {
            "text/html": [
              "<div>\n",
              "<style scoped>\n",
              "    .dataframe tbody tr th:only-of-type {\n",
              "        vertical-align: middle;\n",
              "    }\n",
              "\n",
              "    .dataframe tbody tr th {\n",
              "        vertical-align: top;\n",
              "    }\n",
              "\n",
              "    .dataframe thead th {\n",
              "        text-align: right;\n",
              "    }\n",
              "</style>\n",
              "<table border=\"1\" class=\"dataframe\">\n",
              "  <thead>\n",
              "    <tr style=\"text-align: right;\">\n",
              "      <th></th>\n",
              "      <th>id</th>\n",
              "      <th>contract_status</th>\n",
              "    </tr>\n",
              "  </thead>\n",
              "  <tbody>\n",
              "    <tr>\n",
              "      <th>0</th>\n",
              "      <td>685512434</td>\n",
              "      <td>0</td>\n",
              "    </tr>\n",
              "    <tr>\n",
              "      <th>1</th>\n",
              "      <td>157712083</td>\n",
              "      <td>0</td>\n",
              "    </tr>\n",
              "    <tr>\n",
              "      <th>2</th>\n",
              "      <td>672158583</td>\n",
              "      <td>0</td>\n",
              "    </tr>\n",
              "    <tr>\n",
              "      <th>3</th>\n",
              "      <td>1205321261</td>\n",
              "      <td>0</td>\n",
              "    </tr>\n",
              "    <tr>\n",
              "      <th>4</th>\n",
              "      <td>621191476</td>\n",
              "      <td>0</td>\n",
              "    </tr>\n",
              "  </tbody>\n",
              "</table>\n",
              "</div>"
            ],
            "text/plain": [
              "           id  contract_status\n",
              "0   685512434                0\n",
              "1   157712083                0\n",
              "2   672158583                0\n",
              "3  1205321261                0\n",
              "4   621191476                0"
            ]
          },
          "metadata": {
            "tags": []
          },
          "execution_count": 82
        }
      ]
    },
    {
      "cell_type": "code",
      "metadata": {
        "id": "kZVG8pyaJm4V",
        "colab_type": "code",
        "colab": {
          "base_uri": "https://localhost:8080/",
          "height": 34
        },
        "outputId": "9c9f23a2-2df1-4a8a-839c-b5b41ae6c9c6"
      },
      "source": [
        "from collections import Counter\n",
        "\n",
        "Counter(ans['contract_status'])"
      ],
      "execution_count": 87,
      "outputs": [
        {
          "output_type": "execute_result",
          "data": {
            "text/plain": [
              "Counter({0: 49, 1: 657})"
            ]
          },
          "metadata": {
            "tags": []
          },
          "execution_count": 87
        }
      ]
    },
    {
      "cell_type": "code",
      "metadata": {
        "id": "L0ktFz5QJpuD",
        "colab_type": "code",
        "colab": {}
      },
      "source": [
        "ans.to_csv('prediction2.csv')"
      ],
      "execution_count": 0,
      "outputs": []
    },
    {
      "cell_type": "code",
      "metadata": {
        "id": "aZv1WbDkKEqH",
        "colab_type": "code",
        "colab": {}
      },
      "source": [
        ""
      ],
      "execution_count": 0,
      "outputs": []
    }
  ]
}